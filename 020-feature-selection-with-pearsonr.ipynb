{
 "cells": [
  {
   "cell_type": "code",
   "execution_count": 1,
   "metadata": {},
   "outputs": [],
   "source": [
    "import pandas as pd\n",
    "import numpy as np\n",
    "\n",
    "from sklearn.metrics import roc_auc_score, precision_recall_curve, roc_curve, average_precision_score\n",
    "from sklearn.model_selection import KFold\n",
    "from sklearn.datasets import load_iris\n",
    "from lightgbm import LGBMClassifier\n",
    "\n",
    "import matplotlib.pyplot as plt\n",
    "import seaborn as sns\n",
    "import gc\n",
    "import os\n",
    "import sys\n",
    "import time\n",
    "\n",
    "from scipy.stats import pearsonr"
   ]
  },
  {
   "cell_type": "code",
   "execution_count": 2,
   "metadata": {},
   "outputs": [],
   "source": [
    "import warnings\n",
    "warnings.filterwarnings(\"ignore\")"
   ]
  },
  {
   "cell_type": "code",
   "execution_count": 3,
   "metadata": {},
   "outputs": [],
   "source": [
    "def save_dataframe(path, dataframe):\n",
    "    np.save(path + \".data\", dataframe.values)\n",
    "    np.save(path + \".header\", dataframe.columns)\n",
    "    \n",
    "def load_dataframe(path):\n",
    "    data = np.load(path + \".data.npy\")\n",
    "    header = np.load(path + \".header.npy\")\n",
    "    return pd.DataFrame(data=data, columns=header)\n",
    "\n",
    "def save_dataframe32(path, dataframe, keep=[]):\n",
    "    col64 = [col_ for col_ in dataframe.columns if col_ in keep]\n",
    "    col32 = [col_ for col_ in dataframe.columns if col_ not in keep]\n",
    "    dataframe64 = dataframe[col64]\n",
    "    dataframe32 = dataframe[col32]\n",
    "    np.save(path + \".data64\", dataframe64.values)\n",
    "    np.save(path + \".header64\", col64)\n",
    "    np.save(path + \".data32\", dataframe32.values.astype(np.float32))\n",
    "    np.save(path + \".header32\", col32)\n",
    "\n",
    "def load_dataframe32(path):\n",
    "    path_data32 = path + \".data32.npy\"\n",
    "    path_header32 = path + \".header32.npy\"\n",
    "    path_data64 = path + \".data64.npy\"\n",
    "    path_header64 = path + \".header64.npy\"\n",
    "    result = pd.DataFrame()\n",
    "    if os.path.exists(path_data32):\n",
    "        data32 = np.load(path_data32)\n",
    "        header32 = np.load(path_header32)\n",
    "        df32 = pd.DataFrame(data=data32, columns=header32)\n",
    "        result = pd.concat([result, df32], axis=1)\n",
    "    if os.path.exists(path_data64):\n",
    "        data64 = np.load(path_data64)\n",
    "        header64 = np.load(path_header64)\n",
    "        df64 = pd.DataFrame(data=data64, columns=header64)\n",
    "        result = pd.concat([result, df64], axis=1)\n",
    "    return result"
   ]
  },
  {
   "cell_type": "code",
   "execution_count": 4,
   "metadata": {},
   "outputs": [],
   "source": [
    "import xgboost as xgb\n",
    "\n",
    "class XgbWrapper:\n",
    "    def __init__(self, seed=0, params=None):\n",
    "        self.param = params\n",
    "        self.param['seed'] = seed\n",
    "        self.nrounds = params.pop('nrounds', 250)\n",
    "\n",
    "    def train(self, x_train, y_train):\n",
    "        dtrain = xgb.DMatrix(x_train, label=y_train)\n",
    "        self.gbdt = xgb.train(self.param, dtrain, self.nrounds)\n",
    "\n",
    "    def predict(self, x):\n",
    "        return self.gbdt.predict(xgb.DMatrix(x))\n",
    "\n",
    "class SklearnWrapper:\n",
    "    def __init__(self, clf, seed=0, params=None):\n",
    "        params['random_state'] = seed\n",
    "        self.clf = clf(**params)\n",
    "\n",
    "    def train(self, x_train, y_train):\n",
    "        self.clf.fit(x_train, y_train)\n",
    "\n",
    "    def predict(self, x):\n",
    "        return self.clf.predict_proba(x)[:,1]\n",
    "\n",
    "class CatboostWrapper:\n",
    "    def __init__(self, clf, seed=0, params=None):\n",
    "        params['random_seed'] = seed\n",
    "        self.clf = clf(**params)\n",
    "\n",
    "    def train(self, x_train, y_train):\n",
    "        self.clf.fit(x_train, y_train)\n",
    "\n",
    "    def predict(self, x):\n",
    "        return self.clf.predict_proba(x)[:,1]\n",
    "        \n",
    "class LightGBMWrapper:\n",
    "    def __init__(self, clf, seed=0, params=None):\n",
    "        params['feature_fraction_seed'] = seed\n",
    "        params['bagging_seed'] = seed\n",
    "        self.clf = clf(**params)\n",
    "\n",
    "    def train(self, x_train, y_train):\n",
    "        self.clf.fit(x_train, y_train)\n",
    "\n",
    "    def predict(self, x):\n",
    "        return self.clf.predict_proba(x)[:,1]"
   ]
  },
  {
   "cell_type": "markdown",
   "metadata": {},
   "source": [
    "## try scipy.stats.pearsonr"
   ]
  },
  {
   "cell_type": "code",
   "execution_count": 7,
   "metadata": {},
   "outputs": [
    {
     "name": "stdout",
     "output_type": "stream",
     "text": [
      "(0.9626907, 8.103413702351178e-06)\n",
      "(-1.0, 0.0)\n",
      "(1.0, 0.0)\n",
      "(nan, 1.0)\n",
      "(nan, 1.0)\n",
      "(nan, 1.0)\n"
     ]
    }
   ],
   "source": [
    "x = np.arange(10).astype(np.float32)\n",
    "\n",
    "print(pearsonr(x, x ** 2))\n",
    "print(pearsonr(x, -x))\n",
    "print(pearsonr(x, 2 * x))\n",
    "\n",
    "x[0] = np.NaN\n",
    "\n",
    "print(pearsonr(x, x ** 2))\n",
    "print(pearsonr(x, -x))\n",
    "print(pearsonr(x, 2 * x))"
   ]
  },
  {
   "cell_type": "code",
   "execution_count": 8,
   "metadata": {},
   "outputs": [
    {
     "name": "stdout",
     "output_type": "stream",
     "text": [
      "0.9626907\n",
      "1.0\n",
      "1.0\n",
      "0.9626907\n",
      "1.0\n",
      "1.0\n"
     ]
    }
   ],
   "source": [
    "def corr(x, y):\n",
    "    x, y = x.copy(), y.copy()\n",
    "    x[np.isnan(x)] = 0.0\n",
    "    y[np.isnan(y)] = 0.0\n",
    "    return np.abs(pearsonr(x, y)[0])\n",
    "\n",
    "x = np.arange(10).astype(np.float32)\n",
    "\n",
    "print(corr(x, x ** 2))\n",
    "print(corr(x, -x))\n",
    "print(corr(x, 2 * x))\n",
    "\n",
    "x[0] = np.NaN\n",
    "\n",
    "print(corr(x, x ** 2))\n",
    "print(corr(x, -x))\n",
    "print(corr(x, 2 * x))"
   ]
  },
  {
   "cell_type": "markdown",
   "metadata": {},
   "source": [
    "## data & test"
   ]
  },
  {
   "cell_type": "code",
   "execution_count": 9,
   "metadata": {},
   "outputs": [],
   "source": [
    "data = load_dataframe32(\"./bindata/data_013\")\n",
    "data[\"SK_ID_CURR\"] = data.SK_ID_CURR.astype(\"int\")\n",
    "\n",
    "test = load_dataframe32(\"./bindata/test_013\")\n",
    "test[\"SK_ID_CURR\"] = test.SK_ID_CURR.astype(\"int\")\n",
    "\n",
    "y = load_dataframe32(\"./bindata/y_013\")\n",
    "y[\"SK_ID_CURR\"] = y.SK_ID_CURR.astype(\"int\")\n",
    "\n",
    "features_selected = list(np.load(\"./models/features-selected-016.npy\"))"
   ]
  },
  {
   "cell_type": "code",
   "execution_count": 10,
   "metadata": {},
   "outputs": [],
   "source": [
    "for source_name in (\n",
    "    \"buro_wide_013\",\n",
    "    \"buro_full_wide_013\",\n",
    "    \"pos_bal_wide_013\",\n",
    "    \"cc_bal_wide_013\",\n",
    "    \"buro_bal_timestep1_013\",\n",
    "    \"buro_bal_timestep2_013\",\n",
    "    \"pos_bal_timestep1_013\",\n",
    "    \"pos_bal_timestep2_013\",\n",
    "    \"cc_bal_timestep1_013\",\n",
    "    \"cc_bal_timestep2_013\"\n",
    "):\n",
    "    target_name = \"./bindata/\" + source_name + \"_nmf5\"\n",
    "    nmf_data = load_dataframe32(target_name)\n",
    "    nmf_data[\"SK_ID_CURR\"] = nmf_data.SK_ID_CURR.astype(\"int\")\n",
    "    nmf_data.columns = [\"{}_{}\".format(source_name, col_) if col_ != \"SK_ID_CURR\" else col_ for col_ in nmf_data.columns]\n",
    "    data = data.merge(right=nmf_data, how=\"left\", on=\"SK_ID_CURR\")\n",
    "    test = test.merge(right=nmf_data, how=\"left\", on=\"SK_ID_CURR\")\n",
    "    del nmf_data\n",
    "    gc.collect()\n",
    "    \n",
    "buro_wide = load_dataframe32(\"./bindata/buro_wide_013\")\n",
    "buro_full_wide = load_dataframe32(\"./bindata/buro_full_wide_013\")\n",
    "pos_bal_wide = load_dataframe32(\"./bindata/pos_bal_wide_013\")\n",
    "cc_bal_wide = load_dataframe32(\"./bindata/cc_bal_wide_013\")\n",
    "\n",
    "buro_wide[\"SK_ID_CURR\"] = buro_wide.SK_ID_CURR.astype(\"int\")\n",
    "buro_full_wide[\"SK_ID_CURR\"] = buro_full_wide.SK_ID_CURR.astype(\"int\")\n",
    "pos_bal_wide[\"SK_ID_CURR\"] = pos_bal_wide.SK_ID_CURR.astype(\"int\")\n",
    "cc_bal_wide[\"SK_ID_CURR\"] = cc_bal_wide.SK_ID_CURR.astype(\"int\")\n",
    "\n",
    "for wi, data_ in enumerate((buro_wide, buro_full_wide, pos_bal_wide, cc_bal_wide)):\n",
    "    # data_.columns = [\"w{}_{}\".format(wi, col_) for col_ in data_.columns]\n",
    "    data = data.merge(right=data_, how=\"left\", on=\"SK_ID_CURR\")\n",
    "    test = test.merge(right=data_, how=\"left\", on=\"SK_ID_CURR\")\n",
    "    del data_\n",
    "    gc.collect()\n",
    "    \n",
    "for name in (\n",
    "    \"./bindata/bureau_and_balance_015\",\n",
    "    \"./bindata/previous_applications_015\",\n",
    "    \"./bindata/pos_cash_015\",\n",
    "    \"./bindata/installments_payments_015\",\n",
    "    \"./bindata/credit_card_balance_015\",\n",
    "):\n",
    "    data_ = load_dataframe32(name)\n",
    "    data_[\"SK_ID_CURR\"] = data_.SK_ID_CURR.astype(\"int\")\n",
    "    data = data.merge(right=data_, how=\"left\", on=\"SK_ID_CURR\")\n",
    "    test = test.merge(right=data_, how=\"left\", on=\"SK_ID_CURR\")\n",
    "    del data_\n",
    "    gc.collect()"
   ]
  },
  {
   "cell_type": "code",
   "execution_count": 11,
   "metadata": {},
   "outputs": [],
   "source": [
    "X = data[features_selected].values"
   ]
  },
  {
   "cell_type": "code",
   "execution_count": 12,
   "metadata": {},
   "outputs": [
    {
     "data": {
      "text/plain": [
       "(112, (307507, 1250))"
      ]
     },
     "execution_count": 12,
     "metadata": {},
     "output_type": "execute_result"
    }
   ],
   "source": [
    "sys.getsizeof(X), X.shape"
   ]
  },
  {
   "cell_type": "code",
   "execution_count": null,
   "metadata": {},
   "outputs": [],
   "source": [
    "def select_by_corr(X, th):\n",
    "    keep = [0]\n",
    "    remove_map = {0: []}\n",
    "    corr_mat = {}\n",
    "    for i, ftr_ in enumerate(features_selected):\n",
    "        if i in keep:\n",
    "            continue\n",
    "\n",
    "        keep_flag = True\n",
    "        for j in keep:\n",
    "            corr_ij = corr(X[:, i], X[:, j])\n",
    "            corr_mat[(i, j)] = corr_ij\n",
    "\n",
    "            if corr_ij > th:\n",
    "                keep_flag = False\n",
    "                remove_map[j].append(i)\n",
    "                break\n",
    "\n",
    "        if keep_flag:\n",
    "            keep.append(i)\n",
    "            remove_map[i] = []\n",
    "    return keep, remove_map, corr_mat"
   ]
  },
  {
   "cell_type": "markdown",
   "metadata": {},
   "source": [
    "## do selection on data[features_selected]"
   ]
  },
  {
   "cell_type": "code",
   "execution_count": null,
   "metadata": {},
   "outputs": [],
   "source": [
    "keep, remove_map, corr_mat = select_by_corr(X, .8)"
   ]
  },
  {
   "cell_type": "code",
   "execution_count": null,
   "metadata": {},
   "outputs": [],
   "source": [
    "max(corr_mat.values())"
   ]
  },
  {
   "cell_type": "code",
   "execution_count": null,
   "metadata": {},
   "outputs": [],
   "source": [
    "sum(v == 1 for v in corr_mat.values())"
   ]
  },
  {
   "cell_type": "code",
   "execution_count": null,
   "metadata": {},
   "outputs": [],
   "source": [
    "len(keep)"
   ]
  },
  {
   "cell_type": "code",
   "execution_count": 33,
   "metadata": {},
   "outputs": [],
   "source": [
    "features_selected_20 = np.array(features_selected)[keep]\n",
    "np.save(\"./models/features-selected-020\", features_selected_20)"
   ]
  },
  {
   "cell_type": "markdown",
   "metadata": {},
   "source": [
    "## remove less"
   ]
  },
  {
   "cell_type": "code",
   "execution_count": null,
   "metadata": {},
   "outputs": [],
   "source": [
    "dup = [key[0] for key, val in corr_mat.items() if val == 1.0]\n",
    "\n",
    "features_selected_20_less = [col_ for i, col_ in enumerate(features_selected) if i not in dup]\n",
    "np.save(\"./models/features-selected-0201\", features_selected_20_less)"
   ]
  },
  {
   "cell_type": "markdown",
   "metadata": {},
   "source": [
    "## train & validate"
   ]
  },
  {
   "cell_type": "code",
   "execution_count": 35,
   "metadata": {},
   "outputs": [],
   "source": [
    "data_train = data[data.SK_ID_CURR < 130000]\n",
    "data_val = data[(data.SK_ID_CURR >= 130000) & (data.SK_ID_CURR < 150000)]\n",
    "\n",
    "ydata_train = y[y.SK_ID_CURR < 130000]\n",
    "ydata_val = y[(y.SK_ID_CURR >= 130000) & (y.SK_ID_CURR < 150000)]"
   ]
  },
  {
   "cell_type": "code",
   "execution_count": 36,
   "metadata": {},
   "outputs": [
    {
     "data": {
      "text/plain": [
       "(25803, 2030)"
      ]
     },
     "execution_count": 36,
     "metadata": {},
     "output_type": "execute_result"
    }
   ],
   "source": [
    "data_train.shape"
   ]
  },
  {
   "cell_type": "code",
   "execution_count": 39,
   "metadata": {},
   "outputs": [
    {
     "data": {
      "text/plain": [
       "0.7676246095871037"
      ]
     },
     "execution_count": 39,
     "metadata": {},
     "output_type": "execute_result"
    }
   ],
   "source": [
    "X_num_train = data_train[features_selected_20].values\n",
    "X_num_val = data_val[features_selected_20].values\n",
    "\n",
    "y_train = ydata_train.TARGET.values\n",
    "y_val = ydata_val.TARGET.values\n",
    "\n",
    "lgb_params =  {\n",
    "    \"nthread\": 8,\n",
    "    \"n_estimators\": 250, # 10000,\n",
    "    \"learning_rate\": 0.02,\n",
    "    \"num_leaves\": 34,\n",
    "    \"colsample_bytree\": 0.9497036,\n",
    "    \"subsample\": 0.8715623,\n",
    "    \"subsample_freq\": 1,\n",
    "    \"max_depth\": 8,\n",
    "    \"reg_alpha\": 0.041545473,\n",
    "    \"reg_lambda\": 0.0735294,\n",
    "    \"min_split_gain\": 0.0222415,\n",
    "    \"min_child_weight\": 39.3259775,\n",
    "    \"random_state\": 0,\n",
    "    \"silent\": -1,\n",
    "    \"verbose\": -1\n",
    "}\n",
    "\n",
    "lg_clf = LightGBMWrapper(clf=LGBMClassifier, seed=0, params=lgb_params)\n",
    "lg_clf.train(X_num_train, y_train)\n",
    "pred_val = lg_clf.predict(X_num_val)\n",
    "roc_auc_score(y_val, pred_val)"
   ]
  },
  {
   "cell_type": "code",
   "execution_count": 48,
   "metadata": {},
   "outputs": [
    {
     "data": {
      "text/plain": [
       "0.7680950455454033"
      ]
     },
     "execution_count": 48,
     "metadata": {},
     "output_type": "execute_result"
    }
   ],
   "source": [
    "dup = [key[0] for key, val in corr_mat.items() if val == 1.0]\n",
    "features_selected_20_less = [col_ for i, col_ in enumerate(features_selected) if i not in dup]\n",
    "\n",
    "X_num_train = data_train[features_selected_20_less].values\n",
    "X_num_val = data_val[features_selected_20_less].values\n",
    "\n",
    "y_train = ydata_train.TARGET.values\n",
    "y_val = ydata_val.TARGET.values\n",
    "\n",
    "lgb_params =  {\n",
    "    \"nthread\": 8,\n",
    "    \"n_estimators\": 250, # 10000,\n",
    "    \"learning_rate\": 0.02,\n",
    "    \"num_leaves\": 34,\n",
    "    \"colsample_bytree\": 0.9497036,\n",
    "    \"subsample\": 0.8715623,\n",
    "    \"subsample_freq\": 1,\n",
    "    \"max_depth\": 8,\n",
    "    \"reg_alpha\": 0.041545473,\n",
    "    \"reg_lambda\": 0.0735294,\n",
    "    \"min_split_gain\": 0.0222415,\n",
    "    \"min_child_weight\": 39.3259775,\n",
    "    \"random_state\": 0,\n",
    "    \"silent\": -1,\n",
    "    \"verbose\": -1\n",
    "}\n",
    "\n",
    "lg_clf = LightGBMWrapper(clf=LGBMClassifier, seed=0, params=lgb_params)\n",
    "lg_clf.train(X_num_train, y_train)\n",
    "pred_val = lg_clf.predict(X_num_val)\n",
    "roc_auc_score(y_val, pred_val)"
   ]
  },
  {
   "cell_type": "markdown",
   "metadata": {},
   "source": [
    "## make submission"
   ]
  },
  {
   "cell_type": "code",
   "execution_count": 41,
   "metadata": {},
   "outputs": [
    {
     "name": "stdout",
     "output_type": "stream",
     "text": [
      "seed 0\n",
      "(307507, 775) (48744, 775)\n",
      "0.016750959555308025\n",
      "15.479918734232585\n",
      "0.07988790671030681\n"
     ]
    }
   ],
   "source": [
    "a = time.time()\n",
    "\n",
    "features_selected_20 = list(np.load(\"./models/features-selected-020.npy\"))\n",
    "seed = 0\n",
    "\n",
    "\n",
    "X_data = data[features_selected_20].values\n",
    "X_test = test[features_selected_20].values\n",
    "gc.collect()\n",
    "\n",
    "print(\"seed\", seed)\n",
    "print(X_data.shape, X_test.shape)\n",
    "\n",
    "y_data = y.TARGET.values\n",
    "\n",
    "\n",
    "lgb_params =  {\n",
    "    \"nthread\": 8,\n",
    "    \"n_estimators\": 2000,\n",
    "    \"learning_rate\": 0.02,\n",
    "    \"num_leaves\": 34,\n",
    "    \"colsample_bytree\": 0.9497036,\n",
    "    \"subsample\": 0.8715623,\n",
    "    \"subsample_freq\": 1,\n",
    "    \"max_depth\": 8,\n",
    "    \"reg_alpha\": 0.041545473,\n",
    "    \"reg_lambda\": 0.0735294,\n",
    "    \"min_split_gain\": 0.0222415,\n",
    "    \"min_child_weight\": 39.3259775,\n",
    "    \"random_state\": 0,\n",
    "    \"silent\": -1,\n",
    "    \"verbose\": -1\n",
    "}\n",
    "\n",
    "b = time.time()\n",
    "\n",
    "print((b - a) / 60)\n",
    "\n",
    "lg_clf = LightGBMWrapper(clf=LGBMClassifier, seed=0, params=lgb_params)\n",
    "lg_clf.train(X_data, y_data)\n",
    "\n",
    "c = time.time()\n",
    "print((time.time() - b) / 60)\n",
    "\n",
    "pred_test = lg_clf.predict(X_test)\n",
    "print((time.time() - c) / 60)\n",
    "\n",
    "import pickle\n",
    "\n",
    "with open(\"./models/lgb-020-nround2000-fs20-rd{}\".format(seed), \"wb\") as ofile:\n",
    "    pickle.dump(lg_clf, ofile, 0)\n",
    "\n",
    "np.save(\"./result/submission-020-lgb2000-fs20-rd{}\".format(seed), pred_test)\n",
    "\n",
    "test[\"TARGET\"] = pred_test\n",
    "test[[\"SK_ID_CURR\", \"TARGET\"]].to_csv(\"./result/submission-020-lgb2000-fs20-rd{}.csv\".format(seed), index=False)"
   ]
  },
  {
   "cell_type": "code",
   "execution_count": 49,
   "metadata": {},
   "outputs": [
    {
     "name": "stdout",
     "output_type": "stream",
     "text": [
      "seed 0\n",
      "(307507, 1150) (48744, 1150)\n",
      "0.02630150318145752\n",
      "25.026764782269797\n",
      "0.11103968620300293\n"
     ]
    }
   ],
   "source": [
    "a = time.time()\n",
    "\n",
    "dup = [key[0] for key, val in corr_mat.items() if val == 1.0]\n",
    "features_selected_20_less = [col_ for i, col_ in enumerate(features_selected) if i not in dup]\n",
    "seed = 0\n",
    "\n",
    "X_data = data[features_selected_20_less].values\n",
    "X_test = test[features_selected_20_less].values\n",
    "gc.collect()\n",
    "\n",
    "print(\"seed\", seed)\n",
    "print(X_data.shape, X_test.shape)\n",
    "\n",
    "y_data = y.TARGET.values\n",
    "\n",
    "\n",
    "lgb_params =  {\n",
    "    \"nthread\": 8,\n",
    "    \"n_estimators\": 2000,\n",
    "    \"learning_rate\": 0.02,\n",
    "    \"num_leaves\": 34,\n",
    "    \"colsample_bytree\": 0.9497036,\n",
    "    \"subsample\": 0.8715623,\n",
    "    \"subsample_freq\": 1,\n",
    "    \"max_depth\": 8,\n",
    "    \"reg_alpha\": 0.041545473,\n",
    "    \"reg_lambda\": 0.0735294,\n",
    "    \"min_split_gain\": 0.0222415,\n",
    "    \"min_child_weight\": 39.3259775,\n",
    "    \"random_state\": 0,\n",
    "    \"silent\": -1,\n",
    "    \"verbose\": -1\n",
    "}\n",
    "\n",
    "b = time.time()\n",
    "\n",
    "print((b - a) / 60)\n",
    "\n",
    "lg_clf = LightGBMWrapper(clf=LGBMClassifier, seed=0, params=lgb_params)\n",
    "lg_clf.train(X_data, y_data)\n",
    "\n",
    "c = time.time()\n",
    "print((time.time() - b) / 60)\n",
    "\n",
    "pred_test = lg_clf.predict(X_test)\n",
    "print((time.time() - c) / 60)\n",
    "\n",
    "import pickle\n",
    "\n",
    "with open(\"./models/lgb-020-nround2000-fs201-rd{}\".format(seed), \"wb\") as ofile:\n",
    "    pickle.dump(lg_clf, ofile, 0)\n",
    "\n",
    "np.save(\"./result/submission-020-lgb2000-fs201-rd{}\".format(seed), pred_test)\n",
    "\n",
    "test[\"TARGET\"] = pred_test\n",
    "test[[\"SK_ID_CURR\", \"TARGET\"]].to_csv(\"./result/submission-020-lgb2000-fs201-rd{}.csv\".format(seed), index=False)"
   ]
  },
  {
   "cell_type": "markdown",
   "metadata": {},
   "source": [
    "## bayesian optimization --subset"
   ]
  },
  {
   "cell_type": "code",
   "execution_count": 52,
   "metadata": {},
   "outputs": [],
   "source": [
    "import lightgbm as lgb\n",
    "\n",
    "from bayes_opt import BayesianOptimization"
   ]
  },
  {
   "cell_type": "code",
   "execution_count": 65,
   "metadata": {},
   "outputs": [],
   "source": [
    "train_data = lgb.Dataset(data=X_num_train, label=y_train)\n",
    "n_folds = 2\n",
    "random_seed = 0\n",
    "\n",
    "def target_function(num_leaves,\n",
    "                    colsample_bytree,\n",
    "                    subsample,\n",
    "                    subsample_freq,\n",
    "                    max_depth,\n",
    "                    reg_alpha,\n",
    "                    reg_lambda,\n",
    "                    min_split_gain,\n",
    "                    min_child_weight):\n",
    "    global train_data, nfolds, random_seed\n",
    "    params = {\n",
    "        \"nthread\": 8,\n",
    "        \"n_estimators\": 250, # 2000,\n",
    "        \"learning_rate\": 0.02,\n",
    "        \"random_state\": 0,\n",
    "        'metric':'auc',\n",
    "        \"silent\": -1,\n",
    "        \"verbose\": -1,\n",
    "        # \"num_leaves\": 34,\n",
    "        # \"colsample_bytree\": 0.9497036,\n",
    "        # \"subsample\": 0.8715623,\n",
    "        # \"subsample_freq\": 1,\n",
    "        # \"max_depth\": 8,\n",
    "        # \"reg_alpha\": 0.041545473,\n",
    "        # \"reg_lambda\": 0.0735294,\n",
    "        # \"min_split_gain\": 0.0222415,\n",
    "        # \"min_child_weight\": 39.3259775,\n",
    "    }\n",
    "    params[\"num_leaves\"] = int(round(num_leaves))\n",
    "    params['colsample_bytree'] = max(min(colsample_bytree, 1), 0.1)\n",
    "    params['subsample'] = max(min(subsample, 1), 0.1)\n",
    "    params['subsample_freq'] = int(round(subsample_freq))\n",
    "    params['max_depth'] = int(round(max_depth))\n",
    "    params['reg_alpha'] = max(reg_alpha, 0)\n",
    "    params['reg_lambda'] = max(reg_lambda, 0)\n",
    "    params['min_split_gain'] = min_split_gain\n",
    "    params['min_child_weight'] = min_child_weight\n",
    "    cv_result = lgb.cv(params, train_data, nfold=n_folds, seed=random_seed, stratified=True, verbose_eval =50, metrics=['auc'])\n",
    "    return max(cv_result['auc-mean'])"
   ]
  },
  {
   "cell_type": "code",
   "execution_count": 66,
   "metadata": {},
   "outputs": [],
   "source": [
    "lgbBO = BayesianOptimization(\n",
    "    target_function,\n",
    "    {\n",
    "        \"num_leaves\": (30, 45),\n",
    "        \"colsample_bytree\": (.7, .99),\n",
    "        \"subsample\": (.7, .99),\n",
    "        \"subsample_freq\": (1, 5),\n",
    "        \"max_depth\": (6, 10),\n",
    "        \"reg_alpha\": (.0, .1),\n",
    "        \"reg_lambda\": (.0, .1),\n",
    "        \"min_split_gain\": (.0, .1),\n",
    "        \"min_child_weight\": (30, 45),\n",
    "    },\n",
    "    random_state=0)"
   ]
  },
  {
   "cell_type": "code",
   "execution_count": 67,
   "metadata": {
    "scrolled": false
   },
   "outputs": [
    {
     "name": "stdout",
     "output_type": "stream",
     "text": [
      "\u001b[31mInitialization\u001b[0m\n",
      "\u001b[94m-------------------------------------------------------------------------------------------------------------------------------------------------------------------------------------\u001b[0m\n",
      " Step |   Time |      Value |   colsample_bytree |   max_depth |   min_child_weight |   min_split_gain |   num_leaves |   reg_alpha |   reg_lambda |   subsample |   subsample_freq | \n",
      "[50]\tcv_agg's auc: 0.737465 + 0.00471036\n",
      "[100]\tcv_agg's auc: 0.741807 + 0.00502509\n",
      "[150]\tcv_agg's auc: 0.745825 + 0.00457703\n",
      "[200]\tcv_agg's auc: 0.747252 + 0.00340129\n",
      "[250]\tcv_agg's auc: 0.746426 + 0.00357624\n",
      "    1 | 00m51s | \u001b[35m   0.74758\u001b[0m | \u001b[32m            0.9296\u001b[0m | \u001b[32m     7.4380\u001b[0m | \u001b[32m           34.7697\u001b[0m | \u001b[32m          0.0976\u001b[0m | \u001b[32m     38.2322\u001b[0m | \u001b[32m     0.0570\u001b[0m | \u001b[32m      0.0159\u001b[0m | \u001b[32m     0.9838\u001b[0m | \u001b[32m          2.0582\u001b[0m | \n",
      "[50]\tcv_agg's auc: 0.737889 + 0.00804477\n",
      "[100]\tcv_agg's auc: 0.742806 + 0.00890373\n",
      "[150]\tcv_agg's auc: 0.747109 + 0.00750601\n",
      "[200]\tcv_agg's auc: 0.748414 + 0.00677344\n",
      "[250]\tcv_agg's auc: 0.746824 + 0.00538624\n",
      "    2 | 01m00s | \u001b[35m   0.74863\u001b[0m | \u001b[32m            0.8534\u001b[0m | \u001b[32m     7.7481\u001b[0m | \u001b[32m           36.2139\u001b[0m | \u001b[32m          0.0469\u001b[0m | \u001b[32m     40.7278\u001b[0m | \u001b[32m     0.0439\u001b[0m | \u001b[32m      0.0110\u001b[0m | \u001b[32m     0.9318\u001b[0m | \u001b[32m          4.0969\u001b[0m | \n",
      "[50]\tcv_agg's auc: 0.737017 + 0.00710263\n",
      "[100]\tcv_agg's auc: 0.744228 + 0.00572318\n",
      "[150]\tcv_agg's auc: 0.746391 + 0.00593095\n",
      "[200]\tcv_agg's auc: 0.747996 + 0.00546863\n",
      "[250]\tcv_agg's auc: 0.747496 + 0.00590015\n",
      "    3 | 00m40s |    0.74829 |             0.8647 |      8.7905 |            30.9622 |           0.0977 |      39.0415 |      0.0988 |       0.0656 |      0.8338 |           2.8246 | \n",
      "[50]\tcv_agg's auc: 0.733096 + 0.00768602\n",
      "[100]\tcv_agg's auc: 0.740742 + 0.0075683\n",
      "[150]\tcv_agg's auc: 0.745306 + 0.00662337\n",
      "[200]\tcv_agg's auc: 0.74582 + 0.00747098\n",
      "[250]\tcv_agg's auc: 0.746529 + 0.0076867\n",
      "    4 | 00m38s |    0.74653 |             0.9684 |      6.2409 |            40.3871 |           0.0605 |      38.1732 |      0.0102 |       0.0138 |      0.9264 |           3.2737 | \n",
      "[50]\tcv_agg's auc: 0.740466 + 0.00836015\n",
      "[100]\tcv_agg's auc: 0.744324 + 0.00643337\n",
      "[150]\tcv_agg's auc: 0.747544 + 0.00561261\n",
      "[200]\tcv_agg's auc: 0.747498 + 0.00540987\n",
      "[250]\tcv_agg's auc: 0.747609 + 0.0034706\n",
      "    5 | 00m37s |    0.74800 |             0.7206 |      8.6671 |            38.4990 |           0.0739 |      36.3548 |      0.0209 |       0.0197 |      0.7343 |           1.0752 | \n",
      "[50]\tcv_agg's auc: 0.741461 + 0.00600387\n",
      "[100]\tcv_agg's auc: 0.745643 + 0.00591338\n",
      "[150]\tcv_agg's auc: 0.74757 + 0.00679592\n",
      "[200]\tcv_agg's auc: 0.747936 + 0.00589416\n",
      "[250]\tcv_agg's auc: 0.746913 + 0.00495898\n",
      "    6 | 00m58s |    0.74843 |             0.7253 |      8.6826 |            33.9808 |           0.0039 |      39.6884 |      0.0161 |       0.0369 |      0.8856 |           3.4705 | \n",
      "[50]\tcv_agg's auc: 0.74058 + 0.00644528\n",
      "[100]\tcv_agg's auc: 0.744448 + 0.00663967\n",
      "[150]\tcv_agg's auc: 0.745814 + 0.00736567\n",
      "[200]\tcv_agg's auc: 0.745184 + 0.00678074\n",
      "[250]\tcv_agg's auc: 0.745746 + 0.00423895\n",
      "    7 | 00m45s |    0.74625 |             0.7059 |      6.8415 |            37.8487 |           0.0283 |      36.5638 |      0.0653 |       0.0821 |      0.7416 |           3.4484 | \n",
      "[50]\tcv_agg's auc: 0.735075 + 0.00644024\n",
      "[100]\tcv_agg's auc: 0.740859 + 0.00693815\n",
      "[150]\tcv_agg's auc: 0.744296 + 0.00591272\n",
      "[200]\tcv_agg's auc: 0.744904 + 0.00611261\n",
      "[250]\tcv_agg's auc: 0.744516 + 0.00605166\n",
      "    8 | 00m58s |    0.74559 |             0.9415 |      6.5157 |            31.4091 |           0.0120 |      43.3766 |      0.0253 |       0.0097 |      0.9740 |           3.4677 | \n",
      "[50]\tcv_agg's auc: 0.736107 + 0.00521746\n",
      "[100]\tcv_agg's auc: 0.740742 + 0.00487411\n",
      "[150]\tcv_agg's auc: 0.744171 + 0.00524705\n",
      "[200]\tcv_agg's auc: 0.744345 + 0.0041278\n",
      "[250]\tcv_agg's auc: 0.744174 + 0.00404477\n",
      "    9 | 01m06s |    0.74491 |             0.9257 |      7.2617 |            38.6392 |           0.0296 |      44.4549 |      0.0466 |       0.0838 |      0.8513 |           4.7750 | \n",
      "[50]\tcv_agg's auc: 0.739409 + 0.00933097\n",
      "[100]\tcv_agg's auc: 0.74315 + 0.00768466\n",
      "[150]\tcv_agg's auc: 0.74539 + 0.00594323\n",
      "[200]\tcv_agg's auc: 0.746435 + 0.0057081\n",
      "[250]\tcv_agg's auc: 0.746792 + 0.00481659\n",
      "   10 | 00m51s |    0.74740 |             0.9523 |      7.4548 |            43.9394 |           0.0119 |      35.7516 |      0.0244 |       0.0096 |      0.8203 |           3.7273 | \n",
      "\u001b[31mBayesian Optimization\u001b[0m\n",
      "\u001b[94m-------------------------------------------------------------------------------------------------------------------------------------------------------------------------------------\u001b[0m\n",
      " Step |   Time |      Value |   colsample_bytree |   max_depth |   min_child_weight |   min_split_gain |   num_leaves |   reg_alpha |   reg_lambda |   subsample |   subsample_freq | \n",
      "[50]\tcv_agg's auc: 0.733584 + 0.00735614\n",
      "[100]\tcv_agg's auc: 0.743047 + 0.00811719\n",
      "[150]\tcv_agg's auc: 0.74607 + 0.00695404\n",
      "[200]\tcv_agg's auc: 0.746972 + 0.00503507\n",
      "[250]\tcv_agg's auc: 0.746633 + 0.00472011\n",
      "   11 | 01m18s |    0.74734 |             0.9897 |      9.8981 |            37.8914 |           0.0647 |      30.2367 |      0.0643 |       0.0223 |      0.9213 |           4.9615 | \n",
      "[50]\tcv_agg's auc: 0.734201 + 0.00834459\n",
      "[100]\tcv_agg's auc: 0.743663 + 0.00450528\n",
      "[150]\tcv_agg's auc: 0.746718 + 0.0047301\n",
      "[200]\tcv_agg's auc: 0.747093 + 0.00438492\n",
      "[250]\tcv_agg's auc: 0.745038 + 0.00246558\n",
      "   12 | 01m30s |    0.74712 |             0.9708 |      9.9638 |            39.4751 |           0.0175 |      36.3763 |      0.0290 |       0.0628 |      0.7097 |           4.9498 | \n",
      "[50]\tcv_agg's auc: 0.737667 + 0.00640164\n",
      "[100]\tcv_agg's auc: 0.744566 + 0.0055225\n",
      "[150]\tcv_agg's auc: 0.748035 + 0.00525922\n",
      "[200]\tcv_agg's auc: 0.748885 + 0.00511083\n",
      "[250]\tcv_agg's auc: 0.749183 + 0.00536823\n",
      "   13 | 01m06s | \u001b[35m   0.74955\u001b[0m | \u001b[32m            0.8825\u001b[0m | \u001b[32m     6.1379\u001b[0m | \u001b[32m           44.8429\u001b[0m | \u001b[32m          0.0305\u001b[0m | \u001b[32m     30.0336\u001b[0m | \u001b[32m     0.0833\u001b[0m | \u001b[32m      0.0426\u001b[0m | \u001b[32m     0.9550\u001b[0m | \u001b[32m          1.1003\u001b[0m | \n",
      "[50]\tcv_agg's auc: 0.738666 + 0.00707773\n",
      "[100]\tcv_agg's auc: 0.74394 + 0.00781364\n",
      "[150]\tcv_agg's auc: 0.746559 + 0.00784682\n",
      "[200]\tcv_agg's auc: 0.747811 + 0.0071334\n",
      "[250]\tcv_agg's auc: 0.747792 + 0.00620554\n",
      "   14 | 01m15s |    0.74847 |             0.7355 |      9.9084 |            44.9498 |           0.0307 |      30.1849 |      0.0789 |       0.0890 |      0.9504 |           1.0529 | \n",
      "[50]\tcv_agg's auc: 0.738096 + 0.00659782\n",
      "[100]\tcv_agg's auc: 0.744238 + 0.0081326\n",
      "[150]\tcv_agg's auc: 0.748347 + 0.00781664\n",
      "[200]\tcv_agg's auc: 0.74809 + 0.00843479\n",
      "[250]\tcv_agg's auc: 0.746969 + 0.00799976\n",
      "   15 | 01m14s |    0.74871 |             0.7552 |      9.9729 |            31.3503 |           0.0749 |      44.7259 |      0.0834 |       0.0245 |      0.9048 |           1.7708 | \n",
      "[50]\tcv_agg's auc: 0.740974 + 0.00413552\n",
      "[100]\tcv_agg's auc: 0.744047 + 0.00452967\n",
      "[150]\tcv_agg's auc: 0.748919 + 0.00504702\n",
      "[200]\tcv_agg's auc: 0.750114 + 0.00539709\n",
      "[250]\tcv_agg's auc: 0.750337 + 0.00540751\n",
      "   16 | 00m59s | \u001b[35m   0.75063\u001b[0m | \u001b[32m            0.7188\u001b[0m | \u001b[32m     6.0130\u001b[0m | \u001b[32m           30.0176\u001b[0m | \u001b[32m          0.0672\u001b[0m | \u001b[32m     30.1655\u001b[0m | \u001b[32m     0.0569\u001b[0m | \u001b[32m      0.0371\u001b[0m | \u001b[32m     0.8590\u001b[0m | \u001b[32m          4.9576\u001b[0m | \n",
      "[50]\tcv_agg's auc: 0.74211 + 0.00912311\n",
      "[100]\tcv_agg's auc: 0.74793 + 0.00722018\n",
      "[150]\tcv_agg's auc: 0.748711 + 0.00778162\n",
      "[200]\tcv_agg's auc: 0.747545 + 0.00644188\n",
      "[250]\tcv_agg's auc: 0.747431 + 0.00603526\n",
      "   17 | 01m39s |    0.74914 |             0.9132 |      9.8936 |            44.8655 |           0.0099 |      44.8531 |      0.0516 |       0.0141 |      0.8497 |           1.1929 | \n",
      "[50]\tcv_agg's auc: 0.739159 + 0.00514886\n",
      "[100]\tcv_agg's auc: 0.744261 + 0.00586981\n",
      "[150]\tcv_agg's auc: 0.747042 + 0.00482076\n",
      "[200]\tcv_agg's auc: 0.748709 + 0.00532686\n",
      "[250]\tcv_agg's auc: 0.747334 + 0.00381099\n",
      "   18 | 01m14s |    0.74904 |             0.7482 |      9.9423 |            30.4585 |           0.0951 |      44.8813 |      0.0441 |       0.0012 |      0.9544 |           4.9993 | \n"
     ]
    },
    {
     "name": "stdout",
     "output_type": "stream",
     "text": [
      "[50]\tcv_agg's auc: 0.736052 + 0.00472278\n",
      "[100]\tcv_agg's auc: 0.742259 + 0.00649679\n",
      "[150]\tcv_agg's auc: 0.747723 + 0.00509546\n",
      "[200]\tcv_agg's auc: 0.749084 + 0.004445\n",
      "[250]\tcv_agg's auc: 0.748469 + 0.00380065\n",
      "   19 | 01m17s |    0.74997 |             0.7954 |      9.9797 |            30.0023 |           0.0923 |      30.9836 |      0.0652 |       0.0308 |      0.9167 |           4.5956 | \n",
      "[50]\tcv_agg's auc: 0.738202 + 0.00904526\n",
      "[100]\tcv_agg's auc: 0.745058 + 0.00679577\n",
      "[150]\tcv_agg's auc: 0.745904 + 0.00481763\n",
      "[200]\tcv_agg's auc: 0.746007 + 0.00476226\n",
      "[250]\tcv_agg's auc: 0.74627 + 0.00439097\n",
      "   20 | 01m25s |    0.74670 |             0.9275 |      9.9768 |            44.1335 |           0.0663 |      39.5412 |      0.0996 |       0.0193 |      0.9444 |           1.0257 | \n",
      "[50]\tcv_agg's auc: 0.738858 + 0.00798491\n",
      "[100]\tcv_agg's auc: 0.745681 + 0.00678437\n",
      "[150]\tcv_agg's auc: 0.749785 + 0.00605856\n",
      "[200]\tcv_agg's auc: 0.752286 + 0.00561546\n",
      "[250]\tcv_agg's auc: 0.751769 + 0.00361549\n",
      "   21 | 01m01s | \u001b[35m   0.75269\u001b[0m | \u001b[32m            0.7508\u001b[0m | \u001b[32m     9.8763\u001b[0m | \u001b[32m           30.4956\u001b[0m | \u001b[32m          0.0916\u001b[0m | \u001b[32m     30.1288\u001b[0m | \u001b[32m     0.0927\u001b[0m | \u001b[32m      0.0052\u001b[0m | \u001b[32m     0.7027\u001b[0m | \u001b[32m          1.1354\u001b[0m | \n",
      "[50]\tcv_agg's auc: 0.739747 + 0.00742778\n",
      "[100]\tcv_agg's auc: 0.746011 + 0.00580711\n",
      "[150]\tcv_agg's auc: 0.749626 + 0.00616125\n",
      "[200]\tcv_agg's auc: 0.750318 + 0.00469867\n",
      "[250]\tcv_agg's auc: 0.749872 + 0.00387109\n",
      "   22 | 00m55s |    0.75047 |             0.7040 |      6.0902 |            44.1495 |           0.0949 |      30.5139 |      0.0328 |       0.0161 |      0.7467 |           4.7299 | \n",
      "[50]\tcv_agg's auc: 0.740549 + 0.00643449\n",
      "[100]\tcv_agg's auc: 0.744558 + 0.00407054\n",
      "[150]\tcv_agg's auc: 0.748055 + 0.00374111\n",
      "[200]\tcv_agg's auc: 0.748986 + 0.00416932\n",
      "[250]\tcv_agg's auc: 0.749171 + 0.00280022\n",
      "   23 | 01m06s |    0.74918 |             0.9422 |      6.9970 |            30.1044 |           0.0955 |      30.6331 |      0.0021 |       0.0055 |      0.7604 |           1.2759 | \n",
      "[50]\tcv_agg's auc: 0.743839 + 0.00844773\n",
      "[100]\tcv_agg's auc: 0.746551 + 0.00744044\n",
      "[150]\tcv_agg's auc: 0.74656 + 0.0073434\n",
      "[200]\tcv_agg's auc: 0.74567 + 0.00618921\n",
      "[250]\tcv_agg's auc: 0.745227 + 0.00590805\n",
      "   24 | 01m14s |    0.74754 |             0.7252 |      9.8116 |            44.6956 |           0.0989 |      44.4079 |      0.0301 |       0.0164 |      0.7835 |           4.9386 | \n",
      "[50]\tcv_agg's auc: 0.736248 + 0.00742044\n",
      "[100]\tcv_agg's auc: 0.742907 + 0.00477184\n",
      "[150]\tcv_agg's auc: 0.745532 + 0.00531149\n",
      "[200]\tcv_agg's auc: 0.747241 + 0.00528568\n",
      "[250]\tcv_agg's auc: 0.74701 + 0.00541146\n",
      "   25 | 01m07s |    0.74797 |             0.9836 |      6.1713 |            36.3978 |           0.0504 |      30.0009 |      0.0561 |       0.0063 |      0.7089 |           4.9799 | \n",
      "[50]\tcv_agg's auc: 0.737323 + 0.00519801\n",
      "[100]\tcv_agg's auc: 0.742911 + 0.00434977\n",
      "[150]\tcv_agg's auc: 0.746279 + 0.00445353\n",
      "[200]\tcv_agg's auc: 0.748403 + 0.00391889\n",
      "[250]\tcv_agg's auc: 0.747637 + 0.00234872\n",
      "   26 | 01m11s |    0.74900 |             0.7394 |      9.9985 |            30.3375 |           0.0753 |      32.8162 |      0.0954 |       0.0028 |      0.9706 |           1.4239 | \n",
      "[50]\tcv_agg's auc: 0.739648 + 0.00622676\n",
      "[100]\tcv_agg's auc: 0.745608 + 0.00557936\n",
      "[150]\tcv_agg's auc: 0.748529 + 0.00451348\n",
      "[200]\tcv_agg's auc: 0.748707 + 0.00432374\n",
      "[250]\tcv_agg's auc: 0.749141 + 0.00347448\n",
      "   27 | 01m05s |    0.74923 |             0.7055 |      6.4707 |            44.8447 |           0.0621 |      44.8915 |      0.0852 |       0.0136 |      0.7605 |           1.3288 | \n",
      "[50]\tcv_agg's auc: 0.740834 + 0.00710712\n",
      "[100]\tcv_agg's auc: 0.745611 + 0.00773202\n",
      "[150]\tcv_agg's auc: 0.746846 + 0.00594162\n",
      "[200]\tcv_agg's auc: 0.746836 + 0.00577018\n",
      "[250]\tcv_agg's auc: 0.747894 + 0.00401909\n",
      "   28 | 01m04s |    0.74800 |             0.7860 |      9.0988 |            44.8702 |           0.0788 |      30.3217 |      0.0793 |       0.0086 |      0.7048 |           3.9879 | \n",
      "[50]\tcv_agg's auc: 0.739432 + 0.008116\n",
      "[100]\tcv_agg's auc: 0.744918 + 0.00504626\n",
      "[150]\tcv_agg's auc: 0.747232 + 0.00372997\n",
      "[200]\tcv_agg's auc: 0.748228 + 0.00294825\n",
      "[250]\tcv_agg's auc: 0.746507 + 0.00207527\n",
      "   29 | 01m09s |    0.74839 |             0.9620 |      9.7836 |            33.2583 |           0.0968 |      30.0141 |      0.0793 |       0.0632 |      0.7573 |           1.2716 | \n",
      "[50]\tcv_agg's auc: 0.739989 + 0.00790552\n",
      "[100]\tcv_agg's auc: 0.746062 + 0.00660384\n",
      "[150]\tcv_agg's auc: 0.748534 + 0.00525836\n",
      "[200]\tcv_agg's auc: 0.748454 + 0.00496433\n",
      "[250]\tcv_agg's auc: 0.747776 + 0.0043759\n",
      "   30 | 01m04s |    0.74894 |             0.7432 |      9.8329 |            33.0180 |           0.0999 |      41.6338 |      0.0235 |       0.0064 |      0.7088 |           1.0400 | \n"
     ]
    }
   ],
   "source": [
    "lgbBO.maximize(init_points=10, n_iter=20)"
   ]
  },
  {
   "cell_type": "code",
   "execution_count": 70,
   "metadata": {},
   "outputs": [
    {
     "data": {
      "image/png": "[encoded data removed]",
      "text/plain": [
       "<matplotlib.figure.Figure at 0x1c4ff780>"
      ]
     },
     "metadata": {},
     "output_type": "display_data"
    }
   ],
   "source": [
    "plt.plot(lgbBO.res[\"all\"][\"values\"])\n",
    "plt.show()"
   ]
  },
  {
   "cell_type": "code",
   "execution_count": 72,
   "metadata": {},
   "outputs": [
    {
     "data": {
      "text/plain": [
       "{'colsample_bytree': 0.7507521452114979,\n",
       " 'max_depth': 9.876298947569682,\n",
       " 'min_child_weight': 30.49556775046322,\n",
       " 'min_split_gain': 0.09159674279901034,\n",
       " 'num_leaves': 30.128761469018812,\n",
       " 'reg_alpha': 0.09274254633966617,\n",
       " 'reg_lambda': 0.005176611637954099,\n",
       " 'subsample': 0.7027356589192597,\n",
       " 'subsample_freq': 1.1354253892533}"
      ]
     },
     "execution_count": 72,
     "metadata": {},
     "output_type": "execute_result"
    }
   ],
   "source": [
    "lgbBO.res[\"max\"][\"max_params\"]"
   ]
  },
  {
   "cell_type": "code",
   "execution_count": 74,
   "metadata": {},
   "outputs": [
    {
     "data": {
      "text/plain": [
       "0.7699004375001968"
      ]
     },
     "execution_count": 74,
     "metadata": {},
     "output_type": "execute_result"
    }
   ],
   "source": [
    "dup = [key[0] for key, val in corr_mat.items() if val == 1.0]\n",
    "features_selected_20_less = [col_ for i, col_ in enumerate(features_selected) if i not in dup]\n",
    "\n",
    "X_num_train = data_train[features_selected_20_less].values\n",
    "X_num_val = data_val[features_selected_20_less].values\n",
    "\n",
    "y_train = ydata_train.TARGET.values\n",
    "y_val = ydata_val.TARGET.values\n",
    "\n",
    "lgb_params =  {\n",
    "    \"nthread\": 8,\n",
    "    \"n_estimators\": 250, # 10000,\n",
    "    \"learning_rate\": 0.02,\n",
    "    \"num_leaves\": 30,\n",
    "    \"colsample_bytree\": 0.7507521452114979,\n",
    "    \"subsample\": 0.7027356589192597,\n",
    "    \"subsample_freq\": 1,\n",
    "    \"max_depth\": 10,\n",
    "    \"reg_alpha\": 0.09274254633966617,\n",
    "    \"reg_lambda\": 0.0051766116379540994,\n",
    "    \"min_split_gain\": 0.09159674279901034,\n",
    "    \"min_child_weight\": 30.49556775046322,\n",
    "    \"random_state\": 0,\n",
    "    \"silent\": -1,\n",
    "    \"verbose\": -1\n",
    "}\n",
    "\n",
    "lg_clf = LightGBMWrapper(clf=LGBMClassifier, seed=0, params=lgb_params)\n",
    "lg_clf.train(X_num_train, y_train)\n",
    "pred_val = lg_clf.predict(X_num_val)\n",
    "roc_auc_score(y_val, pred_val)"
   ]
  },
  {
   "cell_type": "code",
   "execution_count": 75,
   "metadata": {},
   "outputs": [
    {
     "data": {
      "text/plain": [
       "6037"
      ]
     },
     "execution_count": 75,
     "metadata": {},
     "output_type": "execute_result"
    }
   ],
   "source": [
    "del data_train, data_val, X_num_train, X_num_val\n",
    "gc.collect()"
   ]
  },
  {
   "cell_type": "markdown",
   "metadata": {},
   "source": [
    "## bayesian optimization"
   ]
  },
  {
   "cell_type": "code",
   "execution_count": 79,
   "metadata": {},
   "outputs": [],
   "source": [
    "dup = [key[0] for key, val in corr_mat.items() if val == 1.0]\n",
    "\n",
    "features_selected_20_less = [col_ for i, col_ in enumerate(features_selected) if i not in dup]\n",
    "\n",
    "X = data[features_selected_20_less].values\n",
    "y_data = y.TARGET.values\n",
    "\n",
    "gc.collect()\n",
    "\n",
    "train_data = lgb.Dataset(data=X, label=y_data)\n",
    "n_folds = 5\n",
    "random_seed = 0\n",
    "\n",
    "def target_function(num_leaves,\n",
    "                    colsample_bytree,\n",
    "                    subsample,\n",
    "                    subsample_freq,\n",
    "                    max_depth,\n",
    "                    reg_alpha,\n",
    "                    reg_lambda,\n",
    "                    min_split_gain,\n",
    "                    min_child_weight):\n",
    "    global train_data, nfolds, random_seed\n",
    "    params = {\n",
    "        \"nthread\": 8,\n",
    "        \"n_estimators\": 2000,\n",
    "        \"learning_rate\": 0.02,\n",
    "        \"random_state\": 0,\n",
    "        'metric':'auc',\n",
    "        \"silent\": -1,\n",
    "        \"verbose\": -1\n",
    "    }\n",
    "    params[\"num_leaves\"] = int(round(num_leaves))\n",
    "    params['colsample_bytree'] = max(min(colsample_bytree, 1), 0.1)\n",
    "    params['subsample'] = max(min(subsample, 1), 0.1)\n",
    "    params['subsample_freq'] = int(round(subsample_freq))\n",
    "    params['max_depth'] = int(round(max_depth))\n",
    "    params['reg_alpha'] = max(reg_alpha, 0)\n",
    "    params['reg_lambda'] = max(reg_lambda, 0)\n",
    "    params['min_split_gain'] = min_split_gain\n",
    "    params['min_child_weight'] = min_child_weight\n",
    "    cv_result = lgb.cv(params, train_data, nfold=n_folds, seed=random_seed, stratified=True, verbose_eval =1000, metrics=['auc'])\n",
    "    return max(cv_result['auc-mean'])"
   ]
  },
  {
   "cell_type": "code",
   "execution_count": null,
   "metadata": {},
   "outputs": [
    {
     "name": "stdout",
     "output_type": "stream",
     "text": [
      "\u001b[31mInitialization\u001b[0m\n",
      "\u001b[94m-------------------------------------------------------------------------------------------------------------------------------------------------------------------------------------\u001b[0m\n",
      " Step |   Time |      Value |   colsample_bytree |   max_depth |   min_child_weight |   min_split_gain |   num_leaves |   reg_alpha |   reg_lambda |   subsample |   subsample_freq | \n"
     ]
    }
   ],
   "source": [
    "lgbBO = BayesianOptimization(\n",
    "    target_function,\n",
    "    {\n",
    "        \"num_leaves\": (28, 45),\n",
    "        \"colsample_bytree\": (.65, .99),\n",
    "        \"subsample\": (.65, .99),\n",
    "        \"subsample_freq\": (1, 3),\n",
    "        \"max_depth\": (6, 12),\n",
    "        \"reg_alpha\": (.0, .2),\n",
    "        \"reg_lambda\": (.0, .2),\n",
    "        \"min_split_gain\": (.0, .2),\n",
    "        \"min_child_weight\": (30, 45),\n",
    "    },\n",
    "    random_state=0)\n",
    "\n",
    "lgbBO.maximize(init_points=10, n_iter=50, acq='ei', xi=0.0)"
   ]
  }
 ],
 "metadata": {
  "anaconda-cloud": {},
  "kernelspec": {
   "display_name": "Python [conda env:python3]",
   "language": "python",
   "name": "conda-env-python3-py"
  },
  "language_info": {
   "codemirror_mode": {
    "name": "ipython",
    "version": 3
   },
   "file_extension": ".py",
   "mimetype": "text/x-python",
   "name": "python",
   "nbconvert_exporter": "python",
   "pygments_lexer": "ipython3",
   "version": "3.6.1"
  },
  "toc": {
   "nav_menu": {
    "height": "181px",
    "width": "252px"
   },
   "navigate_menu": true,
   "number_sections": true,
   "sideBar": true,
   "threshold": 4,
   "toc_cell": false,
   "toc_position": {
    "height": "789px",
    "left": "0px",
    "right": "1488px",
    "top": "138px",
    "width": "212px"
   },
   "toc_section_display": "block",
   "toc_window_display": true
  }
 },
 "nbformat": 4,
 "nbformat_minor": 2
}
