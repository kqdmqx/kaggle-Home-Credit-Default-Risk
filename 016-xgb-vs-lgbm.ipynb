{
 "cells": [
  {
   "cell_type": "code",
   "execution_count": 1,
   "metadata": {},
   "outputs": [],
   "source": [
    "import pandas as pd\n",
    "import numpy as np\n",
    "\n",
    "from sklearn.metrics import roc_auc_score, precision_recall_curve, roc_curve, average_precision_score\n",
    "from sklearn.model_selection import KFold\n",
    "from lightgbm import LGBMClassifier\n",
    "\n",
    "import matplotlib.pyplot as plt\n",
    "import seaborn as sns\n",
    "import gc\n",
    "import os\n",
    "import sys"
   ]
  },
  {
   "cell_type": "markdown",
   "metadata": {},
   "source": [
    "## functions"
   ]
  },
  {
   "cell_type": "code",
   "execution_count": 2,
   "metadata": {},
   "outputs": [],
   "source": [
    "def save_dataframe(path, dataframe):\n",
    "    np.save(path + \".data\", dataframe.values)\n",
    "    np.save(path + \".header\", dataframe.columns)\n",
    "    \n",
    "def load_dataframe(path):\n",
    "    data = np.load(path + \".data.npy\")\n",
    "    header = np.load(path + \".header.npy\")\n",
    "    return pd.DataFrame(data=data, columns=header)\n",
    "\n",
    "def save_dataframe32(path, dataframe, keep=[]):\n",
    "    col64 = [col_ for col_ in dataframe.columns if col_ in keep]\n",
    "    col32 = [col_ for col_ in dataframe.columns if col_ not in keep]\n",
    "    dataframe64 = dataframe[col64]\n",
    "    dataframe32 = dataframe[col32]\n",
    "    np.save(path + \".data64\", dataframe64.values)\n",
    "    np.save(path + \".header64\", col64)\n",
    "    np.save(path + \".data32\", dataframe32.values.astype(np.float32))\n",
    "    np.save(path + \".header32\", col32)\n",
    "\n",
    "def load_dataframe32(path):\n",
    "    path_data32 = path + \".data32.npy\"\n",
    "    path_header32 = path + \".header32.npy\"\n",
    "    path_data64 = path + \".data64.npy\"\n",
    "    path_header64 = path + \".header64.npy\"\n",
    "    result = pd.DataFrame()\n",
    "    if os.path.exists(path_data32):\n",
    "        data32 = np.load(path_data32)\n",
    "        header32 = np.load(path_header32)\n",
    "        df32 = pd.DataFrame(data=data32, columns=header32)\n",
    "        result = pd.concat([result, df32], axis=1)\n",
    "    if os.path.exists(path_data64):\n",
    "        data64 = np.load(path_data64)\n",
    "        header64 = np.load(path_header64)\n",
    "        df64 = pd.DataFrame(data=data64, columns=header64)\n",
    "        result = pd.concat([result, df64], axis=1)\n",
    "    return result"
   ]
  },
  {
   "cell_type": "code",
   "execution_count": 3,
   "metadata": {},
   "outputs": [],
   "source": [
    "import xgboost as xgb\n",
    "\n",
    "class XgbWrapper:\n",
    "    def __init__(self, seed=0, params=None):\n",
    "        self.param = params\n",
    "        self.param['seed'] = seed\n",
    "        self.nrounds = params.pop('nrounds', 250)\n",
    "\n",
    "    def train(self, x_train, y_train):\n",
    "        dtrain = xgb.DMatrix(x_train, label=y_train)\n",
    "        self.gbdt = xgb.train(self.param, dtrain, self.nrounds)\n",
    "\n",
    "    def predict(self, x):\n",
    "        return self.gbdt.predict(xgb.DMatrix(x))"
   ]
  },
  {
   "cell_type": "code",
   "execution_count": 4,
   "metadata": {},
   "outputs": [],
   "source": [
    "class SklearnWrapper:\n",
    "    def __init__(self, clf, seed=0, params=None):\n",
    "        params['random_state'] = seed\n",
    "        self.clf = clf(**params)\n",
    "\n",
    "    def train(self, x_train, y_train):\n",
    "        self.clf.fit(x_train, y_train)\n",
    "\n",
    "    def predict(self, x):\n",
    "        return self.clf.predict_proba(x)[:,1]\n",
    "\n",
    "class CatboostWrapper:\n",
    "    def __init__(self, clf, seed=0, params=None):\n",
    "        params['random_seed'] = seed\n",
    "        self.clf = clf(**params)\n",
    "\n",
    "    def train(self, x_train, y_train):\n",
    "        self.clf.fit(x_train, y_train)\n",
    "\n",
    "    def predict(self, x):\n",
    "        return self.clf.predict_proba(x)[:,1]\n",
    "        \n",
    "class LightGBMWrapper:\n",
    "    def __init__(self, clf, seed=0, params=None):\n",
    "        params['feature_fraction_seed'] = seed\n",
    "        params['bagging_seed'] = seed\n",
    "        self.clf = clf(**params)\n",
    "\n",
    "    def train(self, x_train, y_train):\n",
    "        self.clf.fit(x_train, y_train)\n",
    "\n",
    "    def predict(self, x):\n",
    "        return self.clf.predict_proba(x)[:,1]"
   ]
  },
  {
   "cell_type": "markdown",
   "metadata": {},
   "source": [
    "## load data"
   ]
  },
  {
   "cell_type": "code",
   "execution_count": 6,
   "metadata": {},
   "outputs": [],
   "source": [
    "data = load_dataframe32(\"./bindata/data_013\")\n",
    "data[\"SK_ID_CURR\"] = data.SK_ID_CURR.astype(\"int\")\n",
    "\n",
    "test = load_dataframe32(\"./bindata/test_013\")\n",
    "test[\"SK_ID_CURR\"] = test.SK_ID_CURR.astype(\"int\")\n",
    "\n",
    "y = load_dataframe32(\"./bindata/y_013\")\n",
    "y[\"SK_ID_CURR\"] = y.SK_ID_CURR.astype(\"int\")"
   ]
  },
  {
   "cell_type": "code",
   "execution_count": 7,
   "metadata": {},
   "outputs": [],
   "source": [
    "data_train = data[data.SK_ID_CURR < 130000]\n",
    "data_val = data[(data.SK_ID_CURR >= 130000) & (data.SK_ID_CURR < 150000)]\n",
    "\n",
    "ydata_train = y[y.SK_ID_CURR < 130000]\n",
    "ydata_val = y[(y.SK_ID_CURR >= 130000) & (y.SK_ID_CURR < 150000)]"
   ]
  },
  {
   "cell_type": "code",
   "execution_count": 8,
   "metadata": {},
   "outputs": [],
   "source": [
    "for source_name in (\n",
    "    \"buro_wide_013\",\n",
    "    \"buro_full_wide_013\",\n",
    "    \"pos_bal_wide_013\",\n",
    "    \"cc_bal_wide_013\",\n",
    "    \"buro_bal_timestep1_013\",\n",
    "    \"buro_bal_timestep2_013\",\n",
    "    \"pos_bal_timestep1_013\",\n",
    "    \"pos_bal_timestep2_013\",\n",
    "    \"cc_bal_timestep1_013\",\n",
    "    \"cc_bal_timestep2_013\"\n",
    "):\n",
    "    target_name = \"./bindata/\" + source_name + \"_nmf5\"\n",
    "    nmf_data = load_dataframe32(target_name)\n",
    "    nmf_data[\"SK_ID_CURR\"] = nmf_data.SK_ID_CURR.astype(\"int\")\n",
    "    nmf_data.columns = [\"{}_{}\".format(source_name, col_) if col_ != \"SK_ID_CURR\" else col_ for col_ in nmf_data.columns]\n",
    "    data_train = data_train.merge(right=nmf_data, how=\"left\", on=\"SK_ID_CURR\")\n",
    "    data_val = data_val.merge(right=nmf_data, how=\"left\", on=\"SK_ID_CURR\")\n",
    "    del nmf_data\n",
    "    gc.collect()"
   ]
  },
  {
   "cell_type": "code",
   "execution_count": 9,
   "metadata": {},
   "outputs": [],
   "source": [
    "buro_wide = load_dataframe32(\"./bindata/buro_wide_013\")\n",
    "buro_full_wide = load_dataframe32(\"./bindata/buro_full_wide_013\")\n",
    "pos_bal_wide = load_dataframe32(\"./bindata/pos_bal_wide_013\")\n",
    "cc_bal_wide = load_dataframe32(\"./bindata/cc_bal_wide_013\")\n",
    "\n",
    "buro_wide[\"SK_ID_CURR\"] = buro_wide.SK_ID_CURR.astype(\"int\")\n",
    "buro_full_wide[\"SK_ID_CURR\"] = buro_full_wide.SK_ID_CURR.astype(\"int\")\n",
    "pos_bal_wide[\"SK_ID_CURR\"] = pos_bal_wide.SK_ID_CURR.astype(\"int\")\n",
    "cc_bal_wide[\"SK_ID_CURR\"] = cc_bal_wide.SK_ID_CURR.astype(\"int\")\n",
    "\n",
    "for wi, data_ in enumerate((buro_wide, buro_full_wide, pos_bal_wide, cc_bal_wide)):\n",
    "    # data_.columns = [\"w{}_{}\".format(wi, col_) for col_ in data_.columns]\n",
    "    data_train = data_train.merge(right=data_, how=\"left\", on=\"SK_ID_CURR\")\n",
    "    data_val = data_val.merge(right=data_, how=\"left\", on=\"SK_ID_CURR\")\n",
    "    del data_\n",
    "    gc.collect()"
   ]
  },
  {
   "cell_type": "code",
   "execution_count": 10,
   "metadata": {},
   "outputs": [],
   "source": [
    "for name in (\n",
    "    \"./bindata/bureau_and_balance_015\",\n",
    "    \"./bindata/previous_applications_015\",\n",
    "    \"./bindata/pos_cash_015\",\n",
    "    \"./bindata/installments_payments_015\",\n",
    "    \"./bindata/credit_card_balance_015\",\n",
    "):\n",
    "    data_ = load_dataframe32(name)\n",
    "    data_[\"SK_ID_CURR\"] = data_.SK_ID_CURR.astype(\"int\")\n",
    "    data_train = data_train.merge(right=data_, how=\"left\", on=\"SK_ID_CURR\")\n",
    "    data_val = data_val.merge(right=data_, how=\"left\", on=\"SK_ID_CURR\")\n",
    "    del data_\n",
    "    gc.collect()"
   ]
  },
  {
   "cell_type": "code",
   "execution_count": 11,
   "metadata": {},
   "outputs": [
    {
     "name": "stdout",
     "output_type": "stream",
     "text": [
      "2026\n"
     ]
    }
   ],
   "source": [
    "features = [col_ for col_ in data_train.columns if not col_.startswith(\"SK_ID\")]\n",
    "print(len(features))"
   ]
  },
  {
   "cell_type": "code",
   "execution_count": 12,
   "metadata": {},
   "outputs": [
    {
     "data": {
      "text/plain": [
       "2026"
      ]
     },
     "execution_count": 12,
     "metadata": {},
     "output_type": "execute_result"
    }
   ],
   "source": [
    "len(set(features))"
   ]
  },
  {
   "cell_type": "code",
   "execution_count": 13,
   "metadata": {},
   "outputs": [
    {
     "data": {
      "text/plain": [
       "SK_ID_CURR                                    25803\n",
       "NAME_CONTRACT_TYPE                                2\n",
       "CODE_GENDER                                       2\n",
       "FLAG_OWN_CAR                                      2\n",
       "FLAG_OWN_REALTY                                   2\n",
       "CNT_CHILDREN                                     10\n",
       "AMT_INCOME_TOTAL                                557\n",
       "AMT_CREDIT_x                                   2722\n",
       "AMT_ANNUITY_x                                  6835\n",
       "AMT_GOODS_PRICE_x                               437\n",
       "NAME_TYPE_SUITE                                   8\n",
       "NAME_INCOME_TYPE                                  6\n",
       "NAME_EDUCATION_TYPE                               5\n",
       "NAME_FAMILY_STATUS                                5\n",
       "NAME_HOUSING_TYPE                                 6\n",
       "REGION_POPULATION_RELATIVE                       80\n",
       "DAYS_BIRTH                                    12919\n",
       "DAYS_EMPLOYED                                  6419\n",
       "DAYS_REGISTRATION                             10729\n",
       "DAYS_ID_PUBLISH                                5479\n",
       "OWN_CAR_AGE                                      48\n",
       "FLAG_MOBIL                                        2\n",
       "FLAG_EMP_PHONE                                    2\n",
       "FLAG_WORK_PHONE                                   2\n",
       "FLAG_CONT_MOBILE                                  2\n",
       "FLAG_PHONE                                        2\n",
       "FLAG_EMAIL                                        2\n",
       "OCCUPATION_TYPE                                  19\n",
       "CNT_FAM_MEMBERS                                  10\n",
       "REGION_RATING_CLIENT                              3\n",
       "                                              ...  \n",
       "CC_SK_DPD_MEAN                                  684\n",
       "CC_SK_DPD_SUM                                   228\n",
       "CC_SK_DPD_VAR                                   756\n",
       "CC_SK_DPD_DEF_MAX                                19\n",
       "CC_SK_DPD_DEF_MEAN                              445\n",
       "CC_SK_DPD_DEF_SUM                                69\n",
       "CC_SK_DPD_DEF_VAR                               495\n",
       "CC_NAME_CONTRACT_STATUS_Active_MIN                2\n",
       "CC_NAME_CONTRACT_STATUS_Active_MAX                2\n",
       "CC_NAME_CONTRACT_STATUS_Active_MEAN             390\n",
       "CC_NAME_CONTRACT_STATUS_Active_SUM               98\n",
       "CC_NAME_CONTRACT_STATUS_Active_VAR              477\n",
       "CC_NAME_CONTRACT_STATUS_Completed_MAX             2\n",
       "CC_NAME_CONTRACT_STATUS_Completed_MEAN          347\n",
       "CC_NAME_CONTRACT_STATUS_Completed_SUM            34\n",
       "CC_NAME_CONTRACT_STATUS_Completed_VAR           424\n",
       "CC_NAME_CONTRACT_STATUS_Refused_MAX               2\n",
       "CC_NAME_CONTRACT_STATUS_Refused_MEAN              3\n",
       "CC_NAME_CONTRACT_STATUS_Refused_SUM               2\n",
       "CC_NAME_CONTRACT_STATUS_Refused_VAR               3\n",
       "CC_NAME_CONTRACT_STATUS_Sent proposal_MAX         2\n",
       "CC_NAME_CONTRACT_STATUS_Sent proposal_MEAN       25\n",
       "CC_NAME_CONTRACT_STATUS_Sent proposal_SUM         2\n",
       "CC_NAME_CONTRACT_STATUS_Sent proposal_VAR        25\n",
       "CC_NAME_CONTRACT_STATUS_Signed_MIN                2\n",
       "CC_NAME_CONTRACT_STATUS_Signed_MAX                2\n",
       "CC_NAME_CONTRACT_STATUS_Signed_MEAN             116\n",
       "CC_NAME_CONTRACT_STATUS_Signed_SUM               18\n",
       "CC_NAME_CONTRACT_STATUS_Signed_VAR              132\n",
       "CC_COUNT                                        109\n",
       "Length: 1893, dtype: int64"
      ]
     },
     "execution_count": 13,
     "metadata": {},
     "output_type": "execute_result"
    }
   ],
   "source": [
    "vc_train = data_train.nunique()\n",
    "vc_train[vc_train > 1]"
   ]
  },
  {
   "cell_type": "code",
   "execution_count": 14,
   "metadata": {},
   "outputs": [
    {
     "name": "stdout",
     "output_type": "stream",
     "text": [
      "1889 1889\n"
     ]
    }
   ],
   "source": [
    "features = [col_ for col_ in vc_train[vc_train > 1].index if not col_.startswith(\"SK_ID\")]\n",
    "print(len(features), len(set(features)))"
   ]
  },
  {
   "cell_type": "markdown",
   "metadata": {},
   "source": [
    "## train & validate"
   ]
  },
  {
   "cell_type": "markdown",
   "metadata": {},
   "source": [
    "### xgb"
   ]
  },
  {
   "cell_type": "code",
   "execution_count": 36,
   "metadata": {},
   "outputs": [
    {
     "data": {
      "text/plain": [
       "0.77137634072499928"
      ]
     },
     "execution_count": 36,
     "metadata": {},
     "output_type": "execute_result"
    }
   ],
   "source": [
    "X_num_train = data_train[features].values\n",
    "X_num_val = data_val[features].values\n",
    "\n",
    "y_train = ydata_train.TARGET.values\n",
    "y_val = ydata_val.TARGET.values\n",
    "\n",
    "xgb_params = {\n",
    "     \"objective\": \"binary:logistic\",\n",
    "     \"booster\": \"gbtree\",\n",
    "     \"eval_metric\": \"auc\",\n",
    "     \"nthread\": 8,\n",
    "     \"eta\": 0.025,\n",
    "     \"max_depth\": 6,\n",
    "     \"min_child_weight\": 19,\n",
    "     \"gamma\": 0,\n",
    "     \"subsample\": 0.8,\n",
    "     \"colsample_bytree\": 0.632,\n",
    "     \"alpha\": 0,\n",
    "     \"lambda\": 0.05,\n",
    "     \"nrounds\": 250 # 2000\n",
    "}\n",
    "\n",
    "xgb_params = {\n",
    "    \"objective\": \"binary:logistic\",\n",
    "    \"booster\": \"gbtree\",\n",
    "    \"eval_metric\": \"auc\",\n",
    "    \"nthread\": 4,\n",
    "    \"eta\": 0.05,\n",
    "    \"max_depth\": 6,\n",
    "    \"min_child_weight\": 22,\n",
    "    \"gamma\": 0,\n",
    "    \"subsample\": 0.7,\n",
    "    \"colsample_bytree\": 0.7,\n",
    "    \"colsample_bylevel\": 0.7,\n",
    "    \"alpha\": 0,\n",
    "    \"lambda\": 0,\n",
    "    \"nrounds\": 250 #2000\n",
    "}\n",
    "\n",
    "xgb_clf = XgbWrapper(params=xgb_params)\n",
    "xgb_clf.train(X_num_train, y_train)\n",
    "pred_val = xgb_clf.predict(X_num_val)\n",
    "roc_auc_score(y_val, pred_val)"
   ]
  },
  {
   "cell_type": "markdown",
   "metadata": {},
   "source": [
    "1. 0.76450360090667746\n",
    "\n",
    "2. 0.76623731737172618 **lb .792**\n",
    "\n",
    "3. 0.76554654483931239 **get rid of IDs**"
   ]
  },
  {
   "cell_type": "markdown",
   "metadata": {},
   "source": [
    "### lgb"
   ]
  },
  {
   "cell_type": "code",
   "execution_count": 15,
   "metadata": {},
   "outputs": [
    {
     "data": {
      "text/plain": [
       "0.76875957348538315"
      ]
     },
     "execution_count": 15,
     "metadata": {},
     "output_type": "execute_result"
    }
   ],
   "source": [
    "X_num_train = data_train[features].values\n",
    "X_num_val = data_val[features].values\n",
    "\n",
    "y_train = ydata_train.TARGET.values\n",
    "y_val = ydata_val.TARGET.values\n",
    "\n",
    "lgb_params =  {\n",
    "    \"nthread\": 8,\n",
    "    \"n_estimators\": 250, # 10000,\n",
    "    \"learning_rate\": 0.02,\n",
    "    \"num_leaves\": 34,\n",
    "    \"colsample_bytree\": 0.9497036,\n",
    "    \"subsample\": 0.8715623,\n",
    "    \"subsample_freq\": 1,\n",
    "    \"max_depth\": 8,\n",
    "    \"reg_alpha\": 0.041545473,\n",
    "    \"reg_lambda\": 0.0735294,\n",
    "    \"min_split_gain\": 0.0222415,\n",
    "    \"min_child_weight\": 39.3259775,\n",
    "    \"random_state\": 0,\n",
    "    \"silent\": -1,\n",
    "    \"verbose\": -1\n",
    "}\n",
    "\n",
    "lg_clf = LightGBMWrapper(clf=LGBMClassifier, seed=0, params=lgb_params)\n",
    "lg_clf.train(X_num_train, y_train)\n",
    "pred_val = lg_clf.predict(X_num_val)\n",
    "roc_auc_score(y_val, pred_val)"
   ]
  },
  {
   "cell_type": "markdown",
   "metadata": {},
   "source": [
    "1. 0.76213752306289995\n",
    "2. 0.76875957348538315 **current best**"
   ]
  },
  {
   "cell_type": "markdown",
   "metadata": {},
   "source": [
    "1. 0.75816139082616663\n",
    "2. 0.76239002619826557 rlimp1\n",
    "3. 0.76486055795697594 rlimp2\n",
    "4. 0.76319097794387836 imp1"
   ]
  },
  {
   "cell_type": "markdown",
   "metadata": {},
   "source": [
    "## feature selection"
   ]
  },
  {
   "cell_type": "markdown",
   "metadata": {},
   "source": [
    "## submission"
   ]
  },
  {
   "cell_type": "code",
   "execution_count": 17,
   "metadata": {},
   "outputs": [],
   "source": [
    "for source_name in (\n",
    "    \"buro_wide_013\",\n",
    "    \"buro_full_wide_013\",\n",
    "    \"pos_bal_wide_013\",\n",
    "    \"cc_bal_wide_013\",\n",
    "    \"buro_bal_timestep1_013\",\n",
    "    \"buro_bal_timestep2_013\",\n",
    "    \"pos_bal_timestep1_013\",\n",
    "    \"pos_bal_timestep2_013\",\n",
    "    \"cc_bal_timestep1_013\",\n",
    "    \"cc_bal_timestep2_013\"\n",
    "):\n",
    "    target_name = \"./bindata/\" + source_name + \"_nmf5\"\n",
    "    nmf_data = load_dataframe32(target_name)\n",
    "    nmf_data[\"SK_ID_CURR\"] = nmf_data.SK_ID_CURR.astype(\"int\")\n",
    "    nmf_data.columns = [\"{}_{}\".format(source_name, col_) if col_ != \"SK_ID_CURR\" else col_ for col_ in nmf_data.columns]\n",
    "    data = data.merge(right=nmf_data, how=\"left\", on=\"SK_ID_CURR\")\n",
    "    test = test.merge(right=nmf_data, how=\"left\", on=\"SK_ID_CURR\")\n",
    "    del nmf_data\n",
    "    gc.collect()\n",
    "    \n",
    "buro_wide = load_dataframe32(\"./bindata/buro_wide_013\")\n",
    "buro_full_wide = load_dataframe32(\"./bindata/buro_full_wide_013\")\n",
    "pos_bal_wide = load_dataframe32(\"./bindata/pos_bal_wide_013\")\n",
    "cc_bal_wide = load_dataframe32(\"./bindata/cc_bal_wide_013\")\n",
    "\n",
    "buro_wide[\"SK_ID_CURR\"] = buro_wide.SK_ID_CURR.astype(\"int\")\n",
    "buro_full_wide[\"SK_ID_CURR\"] = buro_full_wide.SK_ID_CURR.astype(\"int\")\n",
    "pos_bal_wide[\"SK_ID_CURR\"] = pos_bal_wide.SK_ID_CURR.astype(\"int\")\n",
    "cc_bal_wide[\"SK_ID_CURR\"] = cc_bal_wide.SK_ID_CURR.astype(\"int\")\n",
    "\n",
    "for wi, data_ in enumerate((buro_wide, buro_full_wide, pos_bal_wide, cc_bal_wide)):\n",
    "    # data_.columns = [\"w{}_{}\".format(wi, col_) for col_ in data_.columns]\n",
    "    data = data.merge(right=data_, how=\"left\", on=\"SK_ID_CURR\")\n",
    "    test = test.merge(right=data_, how=\"left\", on=\"SK_ID_CURR\")\n",
    "    del data_\n",
    "    gc.collect()\n",
    "    \n",
    "for name in (\n",
    "    \"./bindata/bureau_and_balance_015\",\n",
    "    \"./bindata/previous_applications_015\",\n",
    "    \"./bindata/pos_cash_015\",\n",
    "    \"./bindata/installments_payments_015\",\n",
    "    \"./bindata/credit_card_balance_015\",\n",
    "):\n",
    "    data_ = load_dataframe32(name)\n",
    "    data_[\"SK_ID_CURR\"] = data_.SK_ID_CURR.astype(\"int\")\n",
    "    data = data.merge(right=data_, how=\"left\", on=\"SK_ID_CURR\")\n",
    "    test = test.merge(right=data_, how=\"left\", on=\"SK_ID_CURR\")\n",
    "    del data_\n",
    "    gc.collect()"
   ]
  },
  {
   "cell_type": "code",
   "execution_count": 20,
   "metadata": {},
   "outputs": [
    {
     "data": {
      "text/plain": [
       "((307507, 2030), (48744, 2030), (307507, 2))"
      ]
     },
     "execution_count": 20,
     "metadata": {},
     "output_type": "execute_result"
    }
   ],
   "source": [
    "data.shape, test.shape, y.shape"
   ]
  },
  {
   "cell_type": "markdown",
   "metadata": {},
   "source": [
    "### xgb"
   ]
  },
  {
   "cell_type": "code",
   "execution_count": 37,
   "metadata": {},
   "outputs": [
    {
     "name": "stdout",
     "output_type": "stream",
     "text": [
      "(307507, 1889) (48744, 1889)\n",
      "0.030668425559997558\n",
      "23.304432932535807\n",
      "0.0616035262743632\n"
     ]
    }
   ],
   "source": [
    "a = time.time()\n",
    "\n",
    "X_data = data[features].values\n",
    "X_test = test[features].values\n",
    "\n",
    "print(X_data.shape, X_test.shape)\n",
    "\n",
    "y_data = y.TARGET.values\n",
    "\n",
    "xgb_params = {\n",
    "    \"objective\": \"binary:logistic\",\n",
    "    \"booster\": \"gbtree\",\n",
    "    \"eval_metric\": \"auc\",\n",
    "    \"nthread\": 4,\n",
    "    \"eta\": 0.05,\n",
    "    \"max_depth\": 6,\n",
    "    \"min_child_weight\": 22,\n",
    "    \"gamma\": 0,\n",
    "    \"subsample\": 0.7,\n",
    "    \"colsample_bytree\": 0.7,\n",
    "    \"colsample_bylevel\": 0.7,\n",
    "    \"alpha\": 0,\n",
    "    \"lambda\": 0,\n",
    "    \"nrounds\": 250 #2000\n",
    "}\n",
    "\n",
    "b = time.time()\n",
    "print((b - a) / 60)\n",
    "\n",
    "xgb_clf = XgbWrapper(params=xgb_params)\n",
    "xgb_clf.train(X_data, y_data)\n",
    "\n",
    "c = time.time()\n",
    "print((c - b) / 60)\n",
    "\n",
    "pred_test = xgb_clf.predict(X_test)\n",
    "print((time.time() - c) / 60)"
   ]
  },
  {
   "cell_type": "code",
   "execution_count": 38,
   "metadata": {},
   "outputs": [],
   "source": [
    "np.save(\"./result/submission-016-xgb2000\", pred_test)"
   ]
  },
  {
   "cell_type": "code",
   "execution_count": 39,
   "metadata": {},
   "outputs": [],
   "source": [
    "test[\"TARGET\"] = pred_test\n",
    "test[[\"SK_ID_CURR\", \"TARGET\"]].to_csv(\"./result/submission-016-xgb2000.csv\", index=False)"
   ]
  },
  {
   "cell_type": "markdown",
   "metadata": {},
   "source": [
    "### lgb"
   ]
  },
  {
   "cell_type": "code",
   "execution_count": 27,
   "metadata": {},
   "outputs": [
    {
     "name": "stdout",
     "output_type": "stream",
     "text": [
      "2.0001144409179688\n"
     ]
    }
   ],
   "source": [
    "import time\n",
    "a = time.time()\n",
    "\n",
    "time.sleep(2)\n",
    "\n",
    "print(time.time() - a)"
   ]
  },
  {
   "cell_type": "code",
   "execution_count": 28,
   "metadata": {},
   "outputs": [
    {
     "name": "stdout",
     "output_type": "stream",
     "text": [
      "(307507, 1889) (48744, 1889)\n",
      "0.033385245005289714\n",
      "41.89827977418899\n",
      "0.13212422132492066\n"
     ]
    }
   ],
   "source": [
    "a = time.time()\n",
    "\n",
    "X_data = data[features].values\n",
    "X_test = test[features].values\n",
    "\n",
    "print(X_data.shape, X_test.shape)\n",
    "\n",
    "y_data = y.TARGET.values\n",
    "\n",
    "lgb_params =  {\n",
    "    \"nthread\": 8,\n",
    "    \"n_estimators\": 2000,\n",
    "    \"learning_rate\": 0.02,\n",
    "    \"num_leaves\": 34,\n",
    "    \"colsample_bytree\": 0.9497036,\n",
    "    \"subsample\": 0.8715623,\n",
    "    \"subsample_freq\": 1,\n",
    "    \"max_depth\": 8,\n",
    "    \"reg_alpha\": 0.041545473,\n",
    "    \"reg_lambda\": 0.0735294,\n",
    "    \"min_split_gain\": 0.0222415,\n",
    "    \"min_child_weight\": 39.3259775,\n",
    "    \"random_state\": 0,\n",
    "    \"silent\": -1,\n",
    "    \"verbose\": -1\n",
    "}\n",
    "\n",
    "b = time.time()\n",
    "\n",
    "print((b - a) / 60)\n",
    "\n",
    "lg_clf = LightGBMWrapper(clf=LGBMClassifier, seed=0, params=lgb_params)\n",
    "lg_clf.train(X_data, y_data)\n",
    "\n",
    "c = time.time()\n",
    "print((time.time() - b) / 60)\n",
    "\n",
    "pred_test = lg_clf.predict(X_test)\n",
    "print((time.time() - c) / 60)"
   ]
  },
  {
   "cell_type": "code",
   "execution_count": 29,
   "metadata": {},
   "outputs": [],
   "source": [
    "np.save(\"./result/submission-016-lgb2000\", pred_test)"
   ]
  },
  {
   "cell_type": "code",
   "execution_count": 30,
   "metadata": {},
   "outputs": [],
   "source": [
    "test[\"TARGET\"] = pred_test\n",
    "test[[\"SK_ID_CURR\", \"TARGET\"]].to_csv(\"./result/submission-016-lgb2000.csv\", index=False)"
   ]
  },
  {
   "cell_type": "code",
   "execution_count": 31,
   "metadata": {},
   "outputs": [],
   "source": [
    "pred_test14 = np.load(\"./result/submission-014.npy\")"
   ]
  },
  {
   "cell_type": "code",
   "execution_count": 35,
   "metadata": {},
   "outputs": [],
   "source": [
    "test[\"TARGET\"] = (pred_test14 + pred_test) / 2\n",
    "test[[\"SK_ID_CURR\", \"TARGET\"]].to_csv(\"./result/submission-016-ensemble.csv\", index=False)"
   ]
  }
 ],
 "metadata": {
  "anaconda-cloud": {},
  "kernelspec": {
   "display_name": "Python [conda env:python3]",
   "language": "python",
   "name": "conda-env-python3-py"
  },
  "language_info": {
   "codemirror_mode": {
    "name": "ipython",
    "version": 3
   },
   "file_extension": ".py",
   "mimetype": "text/x-python",
   "name": "python",
   "nbconvert_exporter": "python",
   "pygments_lexer": "ipython3",
   "version": "3.6.1"
  },
  "toc": {
   "nav_menu": {
    "height": "124px",
    "width": "252px"
   },
   "navigate_menu": true,
   "number_sections": true,
   "sideBar": true,
   "threshold": 4,
   "toc_cell": false,
   "toc_section_display": "block",
   "toc_window_display": true
  }
 },
 "nbformat": 4,
 "nbformat_minor": 2
}
