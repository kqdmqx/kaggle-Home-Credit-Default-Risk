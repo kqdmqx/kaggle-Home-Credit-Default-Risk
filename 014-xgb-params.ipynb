{
 "cells": [
  {
   "cell_type": "code",
   "execution_count": 1,
   "metadata": {},
   "outputs": [],
   "source": [
    "import pandas as pd\n",
    "import numpy as np\n",
    "\n",
    "from sklearn.metrics import roc_auc_score, precision_recall_curve, roc_curve, average_precision_score\n",
    "from sklearn.model_selection import KFold\n",
    "# from lightgbm import LGBMClassifier\n",
    "\n",
    "import matplotlib.pyplot as plt\n",
    "import seaborn as sns\n",
    "import gc\n",
    "import os\n",
    "import sys"
   ]
  },
  {
   "cell_type": "markdown",
   "metadata": {},
   "source": [
    "## functions"
   ]
  },
  {
   "cell_type": "code",
   "execution_count": 2,
   "metadata": {},
   "outputs": [],
   "source": [
    "def save_dataframe(path, dataframe):\n",
    "    np.save(path + \".data\", dataframe.values)\n",
    "    np.save(path + \".header\", dataframe.columns)\n",
    "    \n",
    "def load_dataframe(path):\n",
    "    data = np.load(path + \".data.npy\")\n",
    "    header = np.load(path + \".header.npy\")\n",
    "    return pd.DataFrame(data=data, columns=header)\n",
    "\n",
    "def save_dataframe32(path, dataframe, keep=[]):\n",
    "    col64 = [col_ for col_ in dataframe.columns if col_ in keep]\n",
    "    col32 = [col_ for col_ in dataframe.columns if col_ not in keep]\n",
    "    dataframe64 = dataframe[col64]\n",
    "    dataframe32 = dataframe[col32]\n",
    "    np.save(path + \".data64\", dataframe64.values)\n",
    "    np.save(path + \".header64\", col64)\n",
    "    np.save(path + \".data32\", dataframe32.values.astype(np.float32))\n",
    "    np.save(path + \".header32\", col32)\n",
    "\n",
    "def load_dataframe32(path):\n",
    "    path_data32 = path + \".data32.npy\"\n",
    "    path_header32 = path + \".header32.npy\"\n",
    "    path_data64 = path + \".data64.npy\"\n",
    "    path_header64 = path + \".header64.npy\"\n",
    "    result = pd.DataFrame()\n",
    "    if os.path.exists(path_data32):\n",
    "        data32 = np.load(path_data32)\n",
    "        header32 = np.load(path_header32)\n",
    "        df32 = pd.DataFrame(data=data32, columns=header32)\n",
    "        result = pd.concat([result, df32], axis=1)\n",
    "    if os.path.exists(path_data64):\n",
    "        data64 = np.load(path_data64)\n",
    "        header64 = np.load(path_header64)\n",
    "        df64 = pd.DataFrame(data=data64, columns=header64)\n",
    "        result = pd.concat([result, df64], axis=1)\n",
    "    return result"
   ]
  },
  {
   "cell_type": "code",
   "execution_count": 3,
   "metadata": {},
   "outputs": [],
   "source": [
    "import xgboost as xgb\n",
    "\n",
    "class XgbWrapper:\n",
    "    def __init__(self, seed=0, params=None):\n",
    "        self.param = params\n",
    "        self.param['seed'] = seed\n",
    "        self.nrounds = params.pop('nrounds', 250)\n",
    "\n",
    "    def train(self, x_train, y_train):\n",
    "        dtrain = xgb.DMatrix(x_train, label=y_train)\n",
    "        self.gbdt = xgb.train(self.param, dtrain, self.nrounds)\n",
    "\n",
    "    def predict(self, x):\n",
    "        return self.gbdt.predict(xgb.DMatrix(x))"
   ]
  },
  {
   "cell_type": "markdown",
   "metadata": {},
   "source": [
    "## load data"
   ]
  },
  {
   "cell_type": "code",
   "execution_count": 29,
   "metadata": {},
   "outputs": [],
   "source": [
    "data = load_dataframe32(\"./bindata/data_013\")\n",
    "data[\"SK_ID_CURR\"] = data.SK_ID_CURR.astype(\"int\")\n",
    "\n",
    "test = load_dataframe32(\"./bindata/test_013\")\n",
    "test[\"SK_ID_CURR\"] = test.SK_ID_CURR.astype(\"int\")\n",
    "\n",
    "y = load_dataframe32(\"./bindata/y_013\")\n",
    "y[\"SK_ID_CURR\"] = y.SK_ID_CURR.astype(\"int\")"
   ]
  },
  {
   "cell_type": "code",
   "execution_count": 30,
   "metadata": {},
   "outputs": [],
   "source": [
    "data_train = data[data.SK_ID_CURR < 130000]\n",
    "data_val = data[(data.SK_ID_CURR >= 130000) & (data.SK_ID_CURR < 150000)]\n",
    "\n",
    "ydata_train = y[y.SK_ID_CURR < 130000]\n",
    "ydata_val = y[(y.SK_ID_CURR >= 130000) & (y.SK_ID_CURR < 150000)]"
   ]
  },
  {
   "cell_type": "code",
   "execution_count": 32,
   "metadata": {},
   "outputs": [],
   "source": [
    "for source_name in (\n",
    "    \"buro_wide_013\",\n",
    "    \"buro_full_wide_013\",\n",
    "    \"pos_bal_wide_013\",\n",
    "    \"cc_bal_wide_013\",\n",
    "    \"buro_bal_timestep1_013\",\n",
    "    \"buro_bal_timestep2_013\",\n",
    "    \"pos_bal_timestep1_013\",\n",
    "    \"pos_bal_timestep2_013\",\n",
    "    \"cc_bal_timestep1_013\",\n",
    "    \"cc_bal_timestep2_013\"\n",
    "):\n",
    "    target_name = \"./bindata/\" + source_name + \"_nmf5\"\n",
    "    nmf_data = load_dataframe32(target_name)\n",
    "    nmf_data[\"SK_ID_CURR\"] = nmf_data.SK_ID_CURR.astype(\"int\")\n",
    "    nmf_data.columns = [\"{}_{}\".format(source_name, col_) if col_ != \"SK_ID_CURR\" else col_ for col_ in nmf_data.columns]\n",
    "    data_train = data_train.merge(right=nmf_data, how=\"left\", on=\"SK_ID_CURR\")\n",
    "    data_val = data_val.merge(right=nmf_data, how=\"left\", on=\"SK_ID_CURR\")"
   ]
  },
  {
   "cell_type": "code",
   "execution_count": 33,
   "metadata": {},
   "outputs": [],
   "source": [
    "buro_wide = load_dataframe32(\"./bindata/buro_wide_013\")\n",
    "buro_full_wide = load_dataframe32(\"./bindata/buro_full_wide_013\")\n",
    "pos_bal_wide = load_dataframe32(\"./bindata/pos_bal_wide_013\")\n",
    "cc_bal_wide = load_dataframe32(\"./bindata/cc_bal_wide_013\")\n",
    "\n",
    "buro_wide[\"SK_ID_CURR\"] = buro_wide.SK_ID_CURR.astype(\"int\")\n",
    "buro_full_wide[\"SK_ID_CURR\"] = buro_full_wide.SK_ID_CURR.astype(\"int\")\n",
    "pos_bal_wide[\"SK_ID_CURR\"] = pos_bal_wide.SK_ID_CURR.astype(\"int\")\n",
    "cc_bal_wide[\"SK_ID_CURR\"] = cc_bal_wide.SK_ID_CURR.astype(\"int\")\n",
    "\n",
    "for wi, data_ in enumerate((buro_wide, buro_full_wide, pos_bal_wide, cc_bal_wide)):\n",
    "    # data_.columns = [\"w{}_{}\".format(wi, col_) for col_ in data_.columns]\n",
    "    data_train = data_train.merge(right=data_, how=\"left\", on=\"SK_ID_CURR\")\n",
    "    data_val = data_val.merge(right=data_, how=\"left\", on=\"SK_ID_CURR\")"
   ]
  },
  {
   "cell_type": "code",
   "execution_count": 34,
   "metadata": {},
   "outputs": [
    {
     "name": "stdout",
     "output_type": "stream",
     "text": [
      "1422\n"
     ]
    }
   ],
   "source": [
    "features = list(data_train.columns)\n",
    "features.remove(\"SK_ID_CURR\")\n",
    "print(len(features))"
   ]
  },
  {
   "cell_type": "code",
   "execution_count": 35,
   "metadata": {},
   "outputs": [
    {
     "data": {
      "text/plain": [
       "1422"
      ]
     },
     "execution_count": 35,
     "metadata": {},
     "output_type": "execute_result"
    }
   ],
   "source": [
    "len(set(features))"
   ]
  },
  {
   "cell_type": "markdown",
   "metadata": {},
   "source": [
    "## train & validate"
   ]
  },
  {
   "cell_type": "markdown",
   "metadata": {},
   "source": [
    "### param0"
   ]
  },
  {
   "cell_type": "code",
   "execution_count": 36,
   "metadata": {},
   "outputs": [
    {
     "data": {
      "text/plain": [
       "0.76623731737172618"
      ]
     },
     "execution_count": 36,
     "metadata": {},
     "output_type": "execute_result"
    }
   ],
   "source": [
    "X_num_train = data_train[features].values\n",
    "X_num_val = data_val[features].values\n",
    "\n",
    "y_train = ydata_train.TARGET.values\n",
    "y_val = ydata_val.TARGET.values\n",
    "\n",
    "xgb_params = {\n",
    "     \"objective\": \"binary:logistic\",\n",
    "     \"booster\": \"gbtree\",\n",
    "     \"eval_metric\": \"auc\",\n",
    "     \"nthread\": 8,\n",
    "     \"eta\": 0.025,\n",
    "     \"max_depth\": 6,\n",
    "     \"min_child_weight\": 19,\n",
    "     \"gamma\": 0,\n",
    "     \"subsample\": 0.8,\n",
    "     \"colsample_bytree\": 0.632,\n",
    "     \"alpha\": 0,\n",
    "     \"lambda\": 0.05,\n",
    "     \"nrounds\": 250\n",
    "}\n",
    "\n",
    "xgb_clf = XgbWrapper(params=xgb_params)\n",
    "xgb_clf.train(X_num_train, y_train)\n",
    "pred_val = xgb_clf.predict(X_num_val)\n",
    "roc_auc_score(y_val, pred_val)"
   ]
  },
  {
   "cell_type": "markdown",
   "metadata": {},
   "source": [
    "0.76450360090667746"
   ]
  },
  {
   "cell_type": "markdown",
   "metadata": {},
   "source": [
    "### param1"
   ]
  },
  {
   "cell_type": "code",
   "execution_count": 10,
   "metadata": {},
   "outputs": [],
   "source": [
    "xgb_params = {\n",
    "     \"objective\": \"binary:logistic\",\n",
    "     \"booster\": \"gbtree\",\n",
    "     \"eval_metric\": \"auc\",\n",
    "     \"nthread\": 8,\n",
    "     \"eta\": 0.02,\n",
    "     \"max_depth\": 8,\n",
    "     \"min_child_weight\": 40,\n",
    "     \"gamma\": 0,\n",
    "     \"subsample\": 0.8715623,\n",
    "     \"colsample_bytree\": 0.632,\n",
    "     \"alpha\": 0.041545473,\n",
    "     \"lambda\": 0.0735294,\n",
    "     \"nrounds\": 250\n",
    "}\n",
    "\n",
    "# xgb_clf = XgbWrapper(params=xgb_params)\n",
    "# # xgb_clf.train(X_num_train, y_train)\n",
    "# # pred_val = xgb_clf.predict(X_num_val)\n",
    "# roc_auc_score(y_val, pred_val)"
   ]
  },
  {
   "cell_type": "markdown",
   "metadata": {},
   "source": [
    "0.76213752306289995"
   ]
  },
  {
   "cell_type": "markdown",
   "metadata": {},
   "source": [
    "## feature selection"
   ]
  },
  {
   "cell_type": "code",
   "execution_count": 37,
   "metadata": {},
   "outputs": [
    {
     "data": {
      "text/plain": [
       "<module 'null_importance' from 'D:\\\\git\\\\kaggle-Home-Credit-Default-Risk\\\\null_importance.py'>"
      ]
     },
     "execution_count": 37,
     "metadata": {},
     "output_type": "execute_result"
    }
   ],
   "source": [
    "import null_importance as ni\n",
    "from imp import reload\n",
    "reload(ni)"
   ]
  },
  {
   "cell_type": "code",
   "execution_count": 41,
   "metadata": {},
   "outputs": [],
   "source": [
    "X_num_train = data_train[features].values\n",
    "X_num_val = data_val[features].values\n",
    "\n",
    "y_train = ydata_train.TARGET.values\n",
    "y_val = ydata_val.TARGET.values"
   ]
  },
  {
   "cell_type": "code",
   "execution_count": 42,
   "metadata": {},
   "outputs": [
    {
     "data": {
      "text/plain": [
       "((25803, 3422), (25803, 1422))"
      ]
     },
     "execution_count": 42,
     "metadata": {},
     "output_type": "execute_result"
    }
   ],
   "source": [
    "X_num_train_fillna.shape, X_num_train.shape"
   ]
  },
  {
   "cell_type": "code",
   "execution_count": 23,
   "metadata": {},
   "outputs": [
    {
     "data": {
      "text/plain": [
       "(25803,)"
      ]
     },
     "execution_count": 23,
     "metadata": {},
     "output_type": "execute_result"
    }
   ],
   "source": [
    "y_train.shape"
   ]
  },
  {
   "cell_type": "code",
   "execution_count": 24,
   "metadata": {},
   "outputs": [
    {
     "data": {
      "text/plain": [
       "1422"
      ]
     },
     "execution_count": 24,
     "metadata": {},
     "output_type": "execute_result"
    }
   ],
   "source": [
    "len(features)"
   ]
  },
  {
   "cell_type": "code",
   "execution_count": 43,
   "metadata": {},
   "outputs": [],
   "source": [
    "X_num_train_fillna = X_num_train.copy()\n",
    "X_num_train_fillna[np.isnan(X_num_train_fillna)] = -1\n",
    "actual_imp = ni.nrun_randomforest_importance(X_num_train_fillna, y_train, features, n_run=5)"
   ]
  },
  {
   "cell_type": "code",
   "execution_count": 54,
   "metadata": {},
   "outputs": [],
   "source": [
    "null_imp = ni.nrun_randomforest_importance(X_num_train_fillna, y_train, features, n_run=5, shuffle=True)"
   ]
  },
  {
   "cell_type": "code",
   "execution_count": 57,
   "metadata": {},
   "outputs": [
    {
     "data": {
      "image/png": "[encoded data removed]",
      "text/plain": [
       "<matplotlib.figure.Figure at 0x1dd41d68>"
      ]
     },
     "metadata": {},
     "output_type": "display_data"
    }
   ],
   "source": [
    "actual_imp.groupby(\"feature\").importance.mean().sort_values().tail(10).plot(kind=\"barh\", width=.9)\n",
    "plt.show()"
   ]
  },
  {
   "cell_type": "code",
   "execution_count": 66,
   "metadata": {},
   "outputs": [
    {
     "data": {
      "image/png": "[encoded data removed]",
      "text/plain": [
       "<matplotlib.figure.Figure at 0x1aa03b38>"
      ]
     },
     "metadata": {},
     "output_type": "display_data"
    }
   ],
   "source": [
    "(actual_imp.groupby(\"feature\").importance.mean() - null_imp.groupby(\"feature\").importance.mean()).sort_values().tail(10).plot(kind=\"barh\", width=.9)\n",
    "plt.show()"
   ]
  },
  {
   "cell_type": "code",
   "execution_count": 58,
   "metadata": {},
   "outputs": [
    {
     "data": {
      "image/png": "[encoded data removed]",
      "text/plain": [
       "<matplotlib.figure.Figure at 0x1dd90a20>"
      ]
     },
     "metadata": {},
     "output_type": "display_data"
    }
   ],
   "source": [
    "null_imp.groupby(\"feature\").importance.mean().sort_values().tail(10).plot(kind=\"barh\", width=.9)\n",
    "plt.show()"
   ]
  },
  {
   "cell_type": "code",
   "execution_count": 72,
   "metadata": {},
   "outputs": [],
   "source": [
    "rlimp1 = ni.relative_importance(actual_imp, null_imp)\n",
    "rlimp2 = ni.relative_importance2(actual_imp, null_imp)"
   ]
  },
  {
   "cell_type": "code",
   "execution_count": 80,
   "metadata": {},
   "outputs": [
    {
     "data": {
      "text/plain": [
       "0.56000000000000005"
      ]
     },
     "execution_count": 80,
     "metadata": {},
     "output_type": "execute_result"
    }
   ],
   "source": [
    "rlimp1.loc[\"SK_ID_PREV_x\"]"
   ]
  },
  {
   "cell_type": "code",
   "execution_count": 84,
   "metadata": {},
   "outputs": [
    {
     "name": "stdout",
     "output_type": "stream",
     "text": [
      "656\n"
     ]
    }
   ],
   "source": [
    "features_selected = [col_ for col_ in list(rlimp1[rlimp1 > .2].index)]\n",
    "print(len(features_selected))"
   ]
  },
  {
   "cell_type": "code",
   "execution_count": 93,
   "metadata": {},
   "outputs": [
    {
     "name": "stdout",
     "output_type": "stream",
     "text": [
      "1283\n"
     ]
    }
   ],
   "source": [
    "features_selected = [col_ for col_ in list(rlimp2[rlimp2 > .0].index) if not col_.startswith(\"SK_ID\")]\n",
    "print(len(features_selected))"
   ]
  },
  {
   "cell_type": "code",
   "execution_count": 96,
   "metadata": {},
   "outputs": [
    {
     "name": "stdout",
     "output_type": "stream",
     "text": [
      "1348\n"
     ]
    }
   ],
   "source": [
    "features_selected = [col_ for col_ in list(imp1[imp1 > .0].index) if not col_.startswith(\"SK_ID\")]\n",
    "print(len(features_selected))"
   ]
  },
  {
   "cell_type": "code",
   "execution_count": 99,
   "metadata": {},
   "outputs": [
    {
     "name": "stdout",
     "output_type": "stream",
     "text": [
      "1419\n"
     ]
    }
   ],
   "source": [
    "features_selected = [col_ for col_ in features if not col_.startswith(\"SK_ID\")]\n",
    "print(len(features_selected))"
   ]
  },
  {
   "cell_type": "code",
   "execution_count": 92,
   "metadata": {},
   "outputs": [
    {
     "data": {
      "image/png": "[encoded data removed]",
      "text/plain": [
       "<matplotlib.figure.Figure at 0x2ea719b0>"
      ]
     },
     "metadata": {},
     "output_type": "display_data"
    }
   ],
   "source": [
    "rlimp2.sort_values().plot()\n",
    "plt.show()"
   ]
  },
  {
   "cell_type": "code",
   "execution_count": 100,
   "metadata": {},
   "outputs": [
    {
     "data": {
      "text/plain": [
       "0.76515851384193556"
      ]
     },
     "execution_count": 100,
     "metadata": {},
     "output_type": "execute_result"
    }
   ],
   "source": [
    "X_num_train = data_train[features_selected].values\n",
    "X_num_val = data_val[features_selected].values\n",
    "\n",
    "y_train = ydata_train.TARGET.values\n",
    "y_val = ydata_val.TARGET.values\n",
    "\n",
    "xgb_params = {\n",
    "     \"objective\": \"binary:logistic\",\n",
    "     \"booster\": \"gbtree\",\n",
    "     \"eval_metric\": \"auc\",\n",
    "     \"nthread\": 8,\n",
    "     \"eta\": 0.025,\n",
    "     \"max_depth\": 6,\n",
    "     \"min_child_weight\": 19,\n",
    "     \"gamma\": 0,\n",
    "     \"subsample\": 0.8,\n",
    "     \"colsample_bytree\": 0.632,\n",
    "     \"alpha\": 0,\n",
    "     \"lambda\": 0.05,\n",
    "     \"nrounds\": 250\n",
    "}\n",
    "\n",
    "xgb_clf = XgbWrapper(params=xgb_params)\n",
    "xgb_clf.train(X_num_train, y_train)\n",
    "pred_val = xgb_clf.predict(X_num_val)\n",
    "roc_auc_score(y_val, pred_val)"
   ]
  },
  {
   "cell_type": "markdown",
   "metadata": {},
   "source": [
    "1. 0.75816139082616663\n",
    "2. 0.76239002619826557 rlimp1\n",
    "3. 0.76486055795697594 rlimp2\n",
    "4. 0.76319097794387836 imp1"
   ]
  },
  {
   "cell_type": "markdown",
   "metadata": {},
   "source": [
    "## submission"
   ]
  },
  {
   "cell_type": "code",
   "execution_count": 101,
   "metadata": {},
   "outputs": [],
   "source": [
    "for source_name in (\n",
    "    \"buro_wide_013\",\n",
    "    \"buro_full_wide_013\",\n",
    "    \"pos_bal_wide_013\",\n",
    "    \"cc_bal_wide_013\",\n",
    "    \"buro_bal_timestep1_013\",\n",
    "    \"buro_bal_timestep2_013\",\n",
    "    \"pos_bal_timestep1_013\",\n",
    "    \"pos_bal_timestep2_013\",\n",
    "    \"cc_bal_timestep1_013\",\n",
    "    \"cc_bal_timestep2_013\"\n",
    "):\n",
    "    target_name = \"./bindata/\" + source_name + \"_nmf5\"\n",
    "    nmf_data = load_dataframe32(target_name)\n",
    "    nmf_data[\"SK_ID_CURR\"] = nmf_data.SK_ID_CURR.astype(\"int\")\n",
    "    nmf_data.columns = [\"{}_{}\".format(source_name, col_) if col_ != \"SK_ID_CURR\" else col_ for col_ in nmf_data.columns]\n",
    "    data = data.merge(right=nmf_data, how=\"left\", on=\"SK_ID_CURR\")\n",
    "    test = test.merge(right=nmf_data, how=\"left\", on=\"SK_ID_CURR\")\n",
    "    \n",
    "buro_wide = load_dataframe32(\"./bindata/buro_wide_013\")\n",
    "buro_full_wide = load_dataframe32(\"./bindata/buro_full_wide_013\")\n",
    "pos_bal_wide = load_dataframe32(\"./bindata/pos_bal_wide_013\")\n",
    "cc_bal_wide = load_dataframe32(\"./bindata/cc_bal_wide_013\")\n",
    "\n",
    "buro_wide[\"SK_ID_CURR\"] = buro_wide.SK_ID_CURR.astype(\"int\")\n",
    "buro_full_wide[\"SK_ID_CURR\"] = buro_full_wide.SK_ID_CURR.astype(\"int\")\n",
    "pos_bal_wide[\"SK_ID_CURR\"] = pos_bal_wide.SK_ID_CURR.astype(\"int\")\n",
    "cc_bal_wide[\"SK_ID_CURR\"] = cc_bal_wide.SK_ID_CURR.astype(\"int\")\n",
    "\n",
    "for data_ in (buro_wide, buro_full_wide, pos_bal_wide, cc_bal_wide):\n",
    "    data = data.merge(right=data_, how=\"left\", on=\"SK_ID_CURR\")\n",
    "    test = test.merge(right=data_, how=\"left\", on=\"SK_ID_CURR\")"
   ]
  },
  {
   "cell_type": "code",
   "execution_count": 103,
   "metadata": {},
   "outputs": [
    {
     "name": "stdout",
     "output_type": "stream",
     "text": [
      "(307507, 1423) (48744, 1423)\n"
     ]
    }
   ],
   "source": [
    "print(data.shape, test.shape)"
   ]
  },
  {
   "cell_type": "code",
   "execution_count": 104,
   "metadata": {},
   "outputs": [
    {
     "name": "stdout",
     "output_type": "stream",
     "text": [
      "1422\n"
     ]
    }
   ],
   "source": [
    "features = list(data.columns)\n",
    "features.remove(\"SK_ID_CURR\")\n",
    "print(len(features))"
   ]
  },
  {
   "cell_type": "code",
   "execution_count": 105,
   "metadata": {},
   "outputs": [
    {
     "data": {
      "text/plain": [
       "7"
      ]
     },
     "execution_count": 105,
     "metadata": {},
     "output_type": "execute_result"
    }
   ],
   "source": [
    "gc.collect()"
   ]
  },
  {
   "cell_type": "code",
   "execution_count": 106,
   "metadata": {},
   "outputs": [
    {
     "name": "stdout",
     "output_type": "stream",
     "text": [
      "(307507, 1422)\n",
      "(48744, 1422)\n"
     ]
    }
   ],
   "source": [
    "X_data = data[features].values\n",
    "y_data = y.TARGET.values\n",
    "del data, y\n",
    "gc.collect()\n",
    "\n",
    "print(X_data.shape)\n",
    "\n",
    "xgb_params = {\n",
    "     \"objective\": \"binary:logistic\",\n",
    "     \"booster\": \"gbtree\",\n",
    "     \"eval_metric\": \"auc\",\n",
    "     \"nthread\": 8,\n",
    "     \"eta\": 0.025,\n",
    "     \"max_depth\": 6,\n",
    "     \"min_child_weight\": 19,\n",
    "     \"gamma\": 0,\n",
    "     \"subsample\": 0.8,\n",
    "     \"colsample_bytree\": 0.632,\n",
    "     \"alpha\": 0,\n",
    "     \"lambda\": 0.05,\n",
    "     \"nrounds\": 2000\n",
    "}\n",
    "\n",
    "\n",
    "\n",
    "xgb_clf = XgbWrapper(params=xgb_params)\n",
    "xgb_clf.train(X_data, y_data)\n",
    "\n",
    "del X_data\n",
    "gc.collect()\n",
    "\n",
    "X_test = test[features].values\n",
    "print(X_test.shape)\n",
    "pred_test = xgb_clf.predict(X_test)"
   ]
  },
  {
   "cell_type": "code",
   "execution_count": 113,
   "metadata": {},
   "outputs": [
    {
     "name": "stdout",
     "output_type": "stream",
     "text": [
      "Help on Booster in module xgboost.core object:\n",
      "\n",
      "class Booster(builtins.object)\n",
      " |  A Booster of of XGBoost.\n",
      " |  \n",
      " |  Booster is the model of xgboost, that contains low level routines for\n",
      " |  training, prediction and evaluation.\n",
      " |  \n",
      " |  Methods defined here:\n",
      " |  \n",
      " |  __copy__(self)\n",
      " |  \n",
      " |  __deepcopy__(self, _)\n",
      " |  \n",
      " |  __del__(self)\n",
      " |  \n",
      " |  __getstate__(self)\n",
      " |  \n",
      " |  __init__(self, params=None, cache=(), model_file=None)\n",
      " |      Parameters\n",
      " |      ----------\n",
      " |      params : dict\n",
      " |          Parameters for boosters.\n",
      " |      cache : list\n",
      " |          List of cache items.\n",
      " |      model_file : string\n",
      " |          Path to the model file.\n",
      " |  \n",
      " |  __setstate__(self, state)\n",
      " |  \n",
      " |  attr(self, key)\n",
      " |      Get attribute string from the Booster.\n",
      " |      \n",
      " |      Parameters\n",
      " |      ----------\n",
      " |      key : str\n",
      " |          The key to get attribute from.\n",
      " |      \n",
      " |      Returns\n",
      " |      -------\n",
      " |      value : str\n",
      " |          The attribute value of the key, returns None if attribute do not exist.\n",
      " |  \n",
      " |  attributes(self)\n",
      " |      Get attributes stored in the Booster as a dictionary.\n",
      " |      \n",
      " |      Returns\n",
      " |      -------\n",
      " |      result : dictionary of  attribute_name: attribute_value pairs of strings.\n",
      " |          Returns an empty dict if there's no attributes.\n",
      " |  \n",
      " |  boost(self, dtrain, grad, hess)\n",
      " |      Boost the booster for one iteration, with customized gradient statistics.\n",
      " |      \n",
      " |      Parameters\n",
      " |      ----------\n",
      " |      dtrain : DMatrix\n",
      " |          The training DMatrix.\n",
      " |      grad : list\n",
      " |          The first order of gradient.\n",
      " |      hess : list\n",
      " |          The second order of gradient.\n",
      " |  \n",
      " |  copy(self)\n",
      " |      Copy the booster object.\n",
      " |      \n",
      " |      Returns\n",
      " |      -------\n",
      " |      booster: `Booster`\n",
      " |          a copied booster model\n",
      " |  \n",
      " |  dump_model(self, fout, fmap='', with_stats=False)\n",
      " |      Dump model into a text file.\n",
      " |      \n",
      " |      Parameters\n",
      " |      ----------\n",
      " |      foout : string\n",
      " |          Output file name.\n",
      " |      fmap : string, optional\n",
      " |          Name of the file containing feature map names.\n",
      " |      with_stats : bool (optional)\n",
      " |          Controls whether the split statistics are output.\n",
      " |  \n",
      " |  eval(self, data, name='eval', iteration=0)\n",
      " |      Evaluate the model on mat.\n",
      " |      \n",
      " |      Parameters\n",
      " |      ----------\n",
      " |      data : DMatrix\n",
      " |          The dmatrix storing the input.\n",
      " |      \n",
      " |      name : str, optional\n",
      " |          The name of the dataset.\n",
      " |      \n",
      " |      iteration : int, optional\n",
      " |          The current iteration number.\n",
      " |      \n",
      " |      Returns\n",
      " |      -------\n",
      " |      result: str\n",
      " |          Evaluation result string.\n",
      " |  \n",
      " |  eval_set(self, evals, iteration=0, feval=None)\n",
      " |      Evaluate a set of data.\n",
      " |      \n",
      " |      Parameters\n",
      " |      ----------\n",
      " |      evals : list of tuples (DMatrix, string)\n",
      " |          List of items to be evaluated.\n",
      " |      iteration : int\n",
      " |          Current iteration.\n",
      " |      feval : function\n",
      " |          Custom evaluation function.\n",
      " |      \n",
      " |      Returns\n",
      " |      -------\n",
      " |      result: str\n",
      " |          Evaluation result string.\n",
      " |  \n",
      " |  get_dump(self, fmap='', with_stats=False, dump_format='text')\n",
      " |      Returns the dump the model as a list of strings.\n",
      " |  \n",
      " |  get_fscore(self, fmap='')\n",
      " |      Get feature importance of each feature.\n",
      " |      \n",
      " |      Parameters\n",
      " |      ----------\n",
      " |      fmap: str (optional)\n",
      " |         The name of feature map file\n",
      " |  \n",
      " |  get_score(self, fmap='', importance_type='weight')\n",
      " |      Get feature importance of each feature.\n",
      " |      Importance type can be defined as:\n",
      " |          'weight' - the number of times a feature is used to split the data across all trees.\n",
      " |          'gain' - the average gain of the feature when it is used in trees\n",
      " |          'cover' - the average coverage of the feature when it is used in trees\n",
      " |      \n",
      " |      Parameters\n",
      " |      ----------\n",
      " |      fmap: str (optional)\n",
      " |         The name of feature map file\n",
      " |  \n",
      " |  get_split_value_histogram(self, feature, fmap='', bins=None, as_pandas=True)\n",
      " |      Get split value histogram of a feature\n",
      " |      Parameters\n",
      " |      ----------\n",
      " |      feature: str\n",
      " |          The name of the feature.\n",
      " |      fmap: str (optional)\n",
      " |          The name of feature map file.\n",
      " |      bin: int, default None\n",
      " |          The maximum number of bins.\n",
      " |          Number of bins equals number of unique split values n_unique,\n",
      " |          if bins == None or bins > n_unique.\n",
      " |      as_pandas : bool, default True\n",
      " |          Return pd.DataFrame when pandas is installed.\n",
      " |          If False or pandas is not installed, return numpy ndarray.\n",
      " |      \n",
      " |      Returns\n",
      " |      -------\n",
      " |      a histogram of used splitting values for the specified feature\n",
      " |      either as numpy array or pandas DataFrame.\n",
      " |  \n",
      " |  load_model(self, fname)\n",
      " |      Load the model from a file.\n",
      " |      \n",
      " |      Parameters\n",
      " |      ----------\n",
      " |      fname : string or a memory buffer\n",
      " |          Input file name or memory buffer(see also save_raw)\n",
      " |  \n",
      " |  load_rabit_checkpoint(self)\n",
      " |      Initialize the model by load from rabit checkpoint.\n",
      " |      \n",
      " |      Returns\n",
      " |      -------\n",
      " |      version: integer\n",
      " |          The version number of the model.\n",
      " |  \n",
      " |  predict(self, data, output_margin=False, ntree_limit=0, pred_leaf=False, pred_contribs=False, approx_contribs=False, pred_interactions=False, validate_features=True)\n",
      " |      Predict with data.\n",
      " |      \n",
      " |      NOTE: This function is not thread safe.\n",
      " |            For each booster object, predict can only be called from one thread.\n",
      " |            If you want to run prediction using multiple thread, call bst.copy() to make copies\n",
      " |            of model object and then call predict\n",
      " |      \n",
      " |      Parameters\n",
      " |      ----------\n",
      " |      data : DMatrix\n",
      " |          The dmatrix storing the input.\n",
      " |      \n",
      " |      output_margin : bool\n",
      " |          Whether to output the raw untransformed margin value.\n",
      " |      \n",
      " |      ntree_limit : int\n",
      " |          Limit number of trees in the prediction; defaults to 0 (use all trees).\n",
      " |      \n",
      " |      pred_leaf : bool\n",
      " |          When this option is on, the output will be a matrix of (nsample, ntrees)\n",
      " |          with each record indicating the predicted leaf index of each sample in each tree.\n",
      " |          Note that the leaf index of a tree is unique per tree, so you may find leaf 1\n",
      " |          in both tree 1 and tree 0.\n",
      " |      \n",
      " |      pred_contribs : bool\n",
      " |          When this is True the output will be a matrix of size (nsample, nfeats + 1)\n",
      " |          with each record indicating the feature contributions (SHAP values) for that\n",
      " |          prediction. The sum of all feature contributions is equal to the raw untransformed\n",
      " |          margin value of the prediction. Note the final column is the bias term.\n",
      " |      \n",
      " |      approx_contribs : bool\n",
      " |          Approximate the contributions of each feature\n",
      " |      \n",
      " |      pred_interactions : bool\n",
      " |          When this is True the output will be a matrix of size (nsample, nfeats + 1, nfeats + 1)\n",
      " |          indicating the SHAP interaction values for each pair of features. The sum of each\n",
      " |          row (or column) of the interaction values equals the corresponding SHAP value (from\n",
      " |          pred_contribs), and the sum of the entire matrix equals the raw untransformed margin\n",
      " |          value of the prediction. Note the last row and column correspond to the bias term.\n",
      " |      \n",
      " |      validate_features : bool\n",
      " |          When this is True, validate that the Booster's and data's feature_names are identical.\n",
      " |          Otherwise, it is assumed that the feature_names are the same.\n",
      " |      \n",
      " |      Returns\n",
      " |      -------\n",
      " |      prediction : numpy array\n",
      " |  \n",
      " |  save_model(self, fname)\n",
      " |      Save the model to a file.\n",
      " |      \n",
      " |      Parameters\n",
      " |      ----------\n",
      " |      fname : string\n",
      " |          Output file name\n",
      " |  \n",
      " |  save_rabit_checkpoint(self)\n",
      " |      Save the current booster to rabit checkpoint.\n",
      " |  \n",
      " |  save_raw(self)\n",
      " |      Save the model to a in memory buffer representation\n",
      " |      \n",
      " |      Returns\n",
      " |      -------\n",
      " |      a in memory buffer representation of the model\n",
      " |  \n",
      " |  set_attr(self, **kwargs)\n",
      " |      Set the attribute of the Booster.\n",
      " |      \n",
      " |      Parameters\n",
      " |      ----------\n",
      " |      **kwargs\n",
      " |          The attributes to set. Setting a value to None deletes an attribute.\n",
      " |  \n",
      " |  set_param(self, params, value=None)\n",
      " |      Set parameters into the Booster.\n",
      " |      \n",
      " |      Parameters\n",
      " |      ----------\n",
      " |      params: dict/list/str\n",
      " |         list of key,value pairs, dict of key to value or simply str key\n",
      " |      value: optional\n",
      " |         value of the specified parameter, when params is str key\n",
      " |  \n",
      " |  update(self, dtrain, iteration, fobj=None)\n",
      " |      Update for one iteration, with objective function calculated internally.\n",
      " |      \n",
      " |      Parameters\n",
      " |      ----------\n",
      " |      dtrain : DMatrix\n",
      " |          Training data.\n",
      " |      iteration : int\n",
      " |          Current iteration number.\n",
      " |      fobj : function\n",
      " |          Customized objective function.\n",
      " |  \n",
      " |  ----------------------------------------------------------------------\n",
      " |  Data descriptors defined here:\n",
      " |  \n",
      " |  __dict__\n",
      " |      dictionary for instance variables (if defined)\n",
      " |  \n",
      " |  __weakref__\n",
      " |      list of weak references to the object (if defined)\n",
      " |  \n",
      " |  ----------------------------------------------------------------------\n",
      " |  Data and other attributes defined here:\n",
      " |  \n",
      " |  feature_names = None\n",
      "\n"
     ]
    }
   ],
   "source": [
    "help(xgb_clf.gbdt)"
   ]
  },
  {
   "cell_type": "code",
   "execution_count": 107,
   "metadata": {},
   "outputs": [],
   "source": [
    "np.save(\"./result/submission-014\", pred_test)"
   ]
  },
  {
   "cell_type": "code",
   "execution_count": 108,
   "metadata": {},
   "outputs": [],
   "source": [
    "import pickle"
   ]
  },
  {
   "cell_type": "code",
   "execution_count": 110,
   "metadata": {},
   "outputs": [],
   "source": [
    "with open(\"./models/xgb-014-a\", \"wb\") as ofile:\n",
    "    pickle.dump(xgb_clf, ofile, 0)"
   ]
  },
  {
   "cell_type": "code",
   "execution_count": 111,
   "metadata": {},
   "outputs": [],
   "source": [
    "test[\"TARGET\"] = pred_test\n",
    "test[[\"SK_ID_CURR\", \"TARGET\"]].to_csv(\"./result/submission-014-A.csv\", index=False)"
   ]
  }
 ],
 "metadata": {
  "anaconda-cloud": {},
  "kernelspec": {
   "display_name": "Python [conda env:python3]",
   "language": "python",
   "name": "conda-env-python3-py"
  },
  "language_info": {
   "codemirror_mode": {
    "name": "ipython",
    "version": 3
   },
   "file_extension": ".py",
   "mimetype": "text/x-python",
   "name": "python",
   "nbconvert_exporter": "python",
   "pygments_lexer": "ipython3",
   "version": "3.6.1"
  },
  "toc": {
   "nav_menu": {
    "height": "124px",
    "width": "252px"
   },
   "navigate_menu": true,
   "number_sections": true,
   "sideBar": true,
   "threshold": 4,
   "toc_cell": false,
   "toc_section_display": "block",
   "toc_window_display": true
  }
 },
 "nbformat": 4,
 "nbformat_minor": 2
}
