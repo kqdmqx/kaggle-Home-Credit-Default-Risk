{
 "cells": [
  {
   "cell_type": "code",
   "execution_count": 1,
   "metadata": {},
   "outputs": [],
   "source": [
    "import pandas as pd\n",
    "import numpy as np\n",
    "\n",
    "from sklearn.metrics import roc_auc_score, precision_recall_curve, roc_curve, average_precision_score\n",
    "from sklearn.model_selection import KFold\n",
    "from lightgbm import LGBMClassifier\n",
    "\n",
    "import matplotlib.pyplot as plt\n",
    "import seaborn as sns\n",
    "import gc\n",
    "import os\n",
    "import sys"
   ]
  },
  {
   "cell_type": "markdown",
   "metadata": {},
   "source": [
    "## functions"
   ]
  },
  {
   "cell_type": "code",
   "execution_count": 2,
   "metadata": {},
   "outputs": [],
   "source": [
    "def save_dataframe(path, dataframe):\n",
    "    np.save(path + \".data\", dataframe.values)\n",
    "    np.save(path + \".header\", dataframe.columns)\n",
    "    \n",
    "def load_dataframe(path):\n",
    "    data = np.load(path + \".data.npy\")\n",
    "    header = np.load(path + \".header.npy\")\n",
    "    return pd.DataFrame(data=data, columns=header)\n",
    "\n",
    "def save_dataframe32(path, dataframe, keep=[]):\n",
    "    col64 = [col_ for col_ in dataframe.columns if col_ in keep]\n",
    "    col32 = [col_ for col_ in dataframe.columns if col_ not in keep]\n",
    "    dataframe64 = dataframe[col64]\n",
    "    dataframe32 = dataframe[col32]\n",
    "    np.save(path + \".data64\", dataframe64.values)\n",
    "    np.save(path + \".header64\", col64)\n",
    "    np.save(path + \".data32\", dataframe32.values.astype(np.float32))\n",
    "    np.save(path + \".header32\", col32)\n",
    "\n",
    "def load_dataframe32(path):\n",
    "    path_data32 = path + \".data32.npy\"\n",
    "    path_header32 = path + \".header32.npy\"\n",
    "    path_data64 = path + \".data64.npy\"\n",
    "    path_header64 = path + \".header64.npy\"\n",
    "    result = pd.DataFrame()\n",
    "    if os.path.exists(path_data32):\n",
    "        data32 = np.load(path_data32)\n",
    "        header32 = np.load(path_header32)\n",
    "        df32 = pd.DataFrame(data=data32, columns=header32)\n",
    "        result = pd.concat([result, df32], axis=1)\n",
    "    if os.path.exists(path_data64):\n",
    "        data64 = np.load(path_data64)\n",
    "        header64 = np.load(path_header64)\n",
    "        df64 = pd.DataFrame(data=data64, columns=header64)\n",
    "        result = pd.concat([result, df64], axis=1)\n",
    "    return result"
   ]
  },
  {
   "cell_type": "code",
   "execution_count": 3,
   "metadata": {},
   "outputs": [],
   "source": [
    "import xgboost as xgb\n",
    "\n",
    "class XgbWrapper:\n",
    "    def __init__(self, seed=0, params=None):\n",
    "        self.param = params\n",
    "        self.param['seed'] = seed\n",
    "        self.nrounds = params.pop('nrounds', 250)\n",
    "\n",
    "    def train(self, x_train, y_train):\n",
    "        dtrain = xgb.DMatrix(x_train, label=y_train)\n",
    "        self.gbdt = xgb.train(self.param, dtrain, self.nrounds)\n",
    "\n",
    "    def predict(self, x):\n",
    "        return self.gbdt.predict(xgb.DMatrix(x))\n",
    "\n",
    "class SklearnWrapper:\n",
    "    def __init__(self, clf, seed=0, params=None):\n",
    "        params['random_state'] = seed\n",
    "        self.clf = clf(**params)\n",
    "\n",
    "    def train(self, x_train, y_train):\n",
    "        self.clf.fit(x_train, y_train)\n",
    "\n",
    "    def predict(self, x):\n",
    "        return self.clf.predict_proba(x)[:,1]\n",
    "\n",
    "class CatboostWrapper:\n",
    "    def __init__(self, clf, seed=0, params=None):\n",
    "        params['random_seed'] = seed\n",
    "        self.clf = clf(**params)\n",
    "\n",
    "    def train(self, x_train, y_train):\n",
    "        self.clf.fit(x_train, y_train)\n",
    "\n",
    "    def predict(self, x):\n",
    "        return self.clf.predict_proba(x)[:,1]\n",
    "        \n",
    "class LightGBMWrapper:\n",
    "    def __init__(self, clf, seed=0, params=None):\n",
    "        params['feature_fraction_seed'] = seed\n",
    "        params['bagging_seed'] = seed\n",
    "        self.clf = clf(**params)\n",
    "\n",
    "    def train(self, x_train, y_train):\n",
    "        self.clf.fit(x_train, y_train)\n",
    "\n",
    "    def predict(self, x):\n",
    "        return self.clf.predict_proba(x)[:,1]"
   ]
  },
  {
   "cell_type": "markdown",
   "metadata": {},
   "source": [
    "## load data"
   ]
  },
  {
   "cell_type": "code",
   "execution_count": 5,
   "metadata": {},
   "outputs": [],
   "source": [
    "data = load_dataframe32(\"./bindata/data_013\")\n",
    "data[\"SK_ID_CURR\"] = data.SK_ID_CURR.astype(\"int\")\n",
    "\n",
    "test = load_dataframe32(\"./bindata/test_013\")\n",
    "test[\"SK_ID_CURR\"] = test.SK_ID_CURR.astype(\"int\")\n",
    "\n",
    "y = load_dataframe32(\"./bindata/y_013\")\n",
    "y[\"SK_ID_CURR\"] = y.SK_ID_CURR.astype(\"int\")"
   ]
  },
  {
   "cell_type": "code",
   "execution_count": 57,
   "metadata": {},
   "outputs": [],
   "source": [
    "data_train = data[data.SK_ID_CURR < 130000]\n",
    "data_val = data[(data.SK_ID_CURR >= 130000) & (data.SK_ID_CURR < 150000)]\n",
    "\n",
    "ydata_train = y[y.SK_ID_CURR < 130000]\n",
    "ydata_val = y[(y.SK_ID_CURR >= 130000) & (y.SK_ID_CURR < 150000)]"
   ]
  },
  {
   "cell_type": "code",
   "execution_count": 7,
   "metadata": {},
   "outputs": [],
   "source": [
    "for source_name in (\n",
    "    \"buro_wide_013\",\n",
    "    \"buro_full_wide_013\",\n",
    "    \"pos_bal_wide_013\",\n",
    "    \"cc_bal_wide_013\",\n",
    "    \"buro_bal_timestep1_013\",\n",
    "    \"buro_bal_timestep2_013\",\n",
    "    \"pos_bal_timestep1_013\",\n",
    "    \"pos_bal_timestep2_013\",\n",
    "    \"cc_bal_timestep1_013\",\n",
    "    \"cc_bal_timestep2_013\"\n",
    "):\n",
    "    target_name = \"./bindata/\" + source_name + \"_nmf5\"\n",
    "    nmf_data = load_dataframe32(target_name)\n",
    "    nmf_data[\"SK_ID_CURR\"] = nmf_data.SK_ID_CURR.astype(\"int\")\n",
    "    nmf_data.columns = [\"{}_{}\".format(source_name, col_) if col_ != \"SK_ID_CURR\" else col_ for col_ in nmf_data.columns]\n",
    "    data_train = data_train.merge(right=nmf_data, how=\"left\", on=\"SK_ID_CURR\")\n",
    "    data_val = data_val.merge(right=nmf_data, how=\"left\", on=\"SK_ID_CURR\")\n",
    "    del nmf_data\n",
    "    gc.collect()\n",
    "\n",
    "buro_wide = load_dataframe32(\"./bindata/buro_wide_013\")\n",
    "buro_full_wide = load_dataframe32(\"./bindata/buro_full_wide_013\")\n",
    "pos_bal_wide = load_dataframe32(\"./bindata/pos_bal_wide_013\")\n",
    "cc_bal_wide = load_dataframe32(\"./bindata/cc_bal_wide_013\")\n",
    "\n",
    "buro_wide[\"SK_ID_CURR\"] = buro_wide.SK_ID_CURR.astype(\"int\")\n",
    "buro_full_wide[\"SK_ID_CURR\"] = buro_full_wide.SK_ID_CURR.astype(\"int\")\n",
    "pos_bal_wide[\"SK_ID_CURR\"] = pos_bal_wide.SK_ID_CURR.astype(\"int\")\n",
    "cc_bal_wide[\"SK_ID_CURR\"] = cc_bal_wide.SK_ID_CURR.astype(\"int\")\n",
    "\n",
    "for wi, data_ in enumerate((buro_wide, buro_full_wide, pos_bal_wide, cc_bal_wide)):\n",
    "    # data_.columns = [\"w{}_{}\".format(wi, col_) for col_ in data_.columns]\n",
    "    data_train = data_train.merge(right=data_, how=\"left\", on=\"SK_ID_CURR\")\n",
    "    data_val = data_val.merge(right=data_, how=\"left\", on=\"SK_ID_CURR\")\n",
    "    del data_\n",
    "    gc.collect()\n",
    "\n",
    "for name in (\n",
    "    \"./bindata/bureau_and_balance_015\",\n",
    "    \"./bindata/previous_applications_015\",\n",
    "    \"./bindata/pos_cash_015\",\n",
    "    \"./bindata/installments_payments_015\",\n",
    "    \"./bindata/credit_card_balance_015\",\n",
    "):\n",
    "    data_ = load_dataframe32(name)\n",
    "    data_[\"SK_ID_CURR\"] = data_.SK_ID_CURR.astype(\"int\")\n",
    "    data_train = data_train.merge(right=data_, how=\"left\", on=\"SK_ID_CURR\")\n",
    "    data_val = data_val.merge(right=data_, how=\"left\", on=\"SK_ID_CURR\")\n",
    "    del data_\n",
    "    gc.collect()"
   ]
  },
  {
   "cell_type": "code",
   "execution_count": 58,
   "metadata": {},
   "outputs": [
    {
     "name": "stdout",
     "output_type": "stream",
     "text": [
      "2026\n"
     ]
    }
   ],
   "source": [
    "features = [col_ for col_ in data_train.columns if not col_.startswith(\"SK_ID\")]\n",
    "print(len(features))"
   ]
  },
  {
   "cell_type": "code",
   "execution_count": 11,
   "metadata": {},
   "outputs": [
    {
     "data": {
      "text/plain": [
       "2026"
      ]
     },
     "execution_count": 11,
     "metadata": {},
     "output_type": "execute_result"
    }
   ],
   "source": [
    "len(set(features))"
   ]
  },
  {
   "cell_type": "code",
   "execution_count": 12,
   "metadata": {},
   "outputs": [
    {
     "data": {
      "text/plain": [
       "SK_ID_CURR                                    25803\n",
       "NAME_CONTRACT_TYPE                                2\n",
       "CODE_GENDER                                       2\n",
       "FLAG_OWN_CAR                                      2\n",
       "FLAG_OWN_REALTY                                   2\n",
       "CNT_CHILDREN                                     10\n",
       "AMT_INCOME_TOTAL                                557\n",
       "AMT_CREDIT_x                                   2722\n",
       "AMT_ANNUITY_x                                  6835\n",
       "AMT_GOODS_PRICE_x                               437\n",
       "NAME_TYPE_SUITE                                   8\n",
       "NAME_INCOME_TYPE                                  6\n",
       "NAME_EDUCATION_TYPE                               5\n",
       "NAME_FAMILY_STATUS                                5\n",
       "NAME_HOUSING_TYPE                                 6\n",
       "REGION_POPULATION_RELATIVE                       80\n",
       "DAYS_BIRTH                                    12919\n",
       "DAYS_EMPLOYED                                  6419\n",
       "DAYS_REGISTRATION                             10729\n",
       "DAYS_ID_PUBLISH                                5479\n",
       "OWN_CAR_AGE                                      48\n",
       "FLAG_MOBIL                                        2\n",
       "FLAG_EMP_PHONE                                    2\n",
       "FLAG_WORK_PHONE                                   2\n",
       "FLAG_CONT_MOBILE                                  2\n",
       "FLAG_PHONE                                        2\n",
       "FLAG_EMAIL                                        2\n",
       "OCCUPATION_TYPE                                  19\n",
       "CNT_FAM_MEMBERS                                  10\n",
       "REGION_RATING_CLIENT                              3\n",
       "                                              ...  \n",
       "CC_SK_DPD_MEAN                                  684\n",
       "CC_SK_DPD_SUM                                   228\n",
       "CC_SK_DPD_VAR                                   756\n",
       "CC_SK_DPD_DEF_MAX                                19\n",
       "CC_SK_DPD_DEF_MEAN                              445\n",
       "CC_SK_DPD_DEF_SUM                                69\n",
       "CC_SK_DPD_DEF_VAR                               495\n",
       "CC_NAME_CONTRACT_STATUS_Active_MIN                2\n",
       "CC_NAME_CONTRACT_STATUS_Active_MAX                2\n",
       "CC_NAME_CONTRACT_STATUS_Active_MEAN             390\n",
       "CC_NAME_CONTRACT_STATUS_Active_SUM               98\n",
       "CC_NAME_CONTRACT_STATUS_Active_VAR              477\n",
       "CC_NAME_CONTRACT_STATUS_Completed_MAX             2\n",
       "CC_NAME_CONTRACT_STATUS_Completed_MEAN          347\n",
       "CC_NAME_CONTRACT_STATUS_Completed_SUM            34\n",
       "CC_NAME_CONTRACT_STATUS_Completed_VAR           424\n",
       "CC_NAME_CONTRACT_STATUS_Refused_MAX               2\n",
       "CC_NAME_CONTRACT_STATUS_Refused_MEAN              3\n",
       "CC_NAME_CONTRACT_STATUS_Refused_SUM               2\n",
       "CC_NAME_CONTRACT_STATUS_Refused_VAR               3\n",
       "CC_NAME_CONTRACT_STATUS_Sent proposal_MAX         2\n",
       "CC_NAME_CONTRACT_STATUS_Sent proposal_MEAN       25\n",
       "CC_NAME_CONTRACT_STATUS_Sent proposal_SUM         2\n",
       "CC_NAME_CONTRACT_STATUS_Sent proposal_VAR        25\n",
       "CC_NAME_CONTRACT_STATUS_Signed_MIN                2\n",
       "CC_NAME_CONTRACT_STATUS_Signed_MAX                2\n",
       "CC_NAME_CONTRACT_STATUS_Signed_MEAN             116\n",
       "CC_NAME_CONTRACT_STATUS_Signed_SUM               18\n",
       "CC_NAME_CONTRACT_STATUS_Signed_VAR              132\n",
       "CC_COUNT                                        109\n",
       "Length: 1893, dtype: int64"
      ]
     },
     "execution_count": 12,
     "metadata": {},
     "output_type": "execute_result"
    }
   ],
   "source": [
    "vc_train = data_train.nunique()\n",
    "vc_train[vc_train > 1]"
   ]
  },
  {
   "cell_type": "code",
   "execution_count": 13,
   "metadata": {},
   "outputs": [
    {
     "name": "stdout",
     "output_type": "stream",
     "text": [
      "1889 1889\n"
     ]
    }
   ],
   "source": [
    "features = [col_ for col_ in vc_train[vc_train > 1].index if not col_.startswith(\"SK_ID\")]\n",
    "print(len(features), len(set(features)))"
   ]
  },
  {
   "cell_type": "markdown",
   "metadata": {},
   "source": [
    "## train & validate"
   ]
  },
  {
   "cell_type": "markdown",
   "metadata": {},
   "source": [
    "### xgb -reorder"
   ]
  },
  {
   "cell_type": "code",
   "execution_count": 59,
   "metadata": {},
   "outputs": [
    {
     "data": {
      "text/plain": [
       "0.7667830562988245"
      ]
     },
     "execution_count": 59,
     "metadata": {},
     "output_type": "execute_result"
    }
   ],
   "source": [
    "X_num_train = data_train[features].values\n",
    "X_num_val = data_val[features].values\n",
    "\n",
    "y_train = ydata_train.TARGET.values\n",
    "y_val = ydata_val.TARGET.values\n",
    "\n",
    "xgb_params = {\n",
    "     \"objective\": \"binary:logistic\",\n",
    "     \"booster\": \"gbtree\",\n",
    "     \"eval_metric\": \"auc\",\n",
    "     \"nthread\": 8,\n",
    "     \"eta\": 0.025,\n",
    "     \"max_depth\": 6,\n",
    "     \"min_child_weight\": 19,\n",
    "     \"gamma\": 0,\n",
    "     \"subsample\": 0.8,\n",
    "     \"colsample_bytree\": 0.632,\n",
    "     \"alpha\": 0,\n",
    "     \"lambda\": 0.05,\n",
    "     \"nrounds\": 250 # 2000\n",
    "}\n",
    "\n",
    "xgb_params = {\n",
    "    \"objective\": \"binary:logistic\",\n",
    "    \"booster\": \"gbtree\",\n",
    "    \"eval_metric\": \"auc\",\n",
    "    \"nthread\": 4,\n",
    "    \"eta\": 0.025, # 0.05,\n",
    "    \"max_depth\": 6,\n",
    "    \"min_child_weight\": 22,\n",
    "    \"gamma\": 0,\n",
    "    \"subsample\": 0.7,\n",
    "    \"colsample_bytree\": 0.7,\n",
    "    \"colsample_bylevel\": 0.675,\n",
    "    \"alpha\": 0,\n",
    "    \"lambda\": 0,\n",
    "    \"nrounds\": 250 #2000\n",
    "}\n",
    "\n",
    "xgb_clf = XgbWrapper(params=xgb_params)\n",
    "xgb_clf.train(X_num_train, y_train)\n",
    "pred_val = xgb_clf.predict(X_num_val)\n",
    "roc_auc_score(y_val, pred_val)"
   ]
  },
  {
   "cell_type": "code",
   "execution_count": 61,
   "metadata": {},
   "outputs": [],
   "source": [
    "pred_val_xgb_origin = pred_val"
   ]
  },
  {
   "cell_type": "markdown",
   "metadata": {},
   "source": [
    "1. 0.76450360090667746\n",
    "\n",
    "2. 0.76623731737172618 **lb .792 with IDs, param0**\n",
    "\n",
    "3. 0.76554654483931239 **get rid of IDs, param1 **\n",
    "\n",
    "4. 0.76608406730783019 **get rid of IDs, param1 **"
   ]
  },
  {
   "cell_type": "code",
   "execution_count": 62,
   "metadata": {},
   "outputs": [
    {
     "data": {
      "text/plain": [
       "0.7645436998468242"
      ]
     },
     "execution_count": 62,
     "metadata": {},
     "output_type": "execute_result"
    }
   ],
   "source": [
    "features = [col_ for col_ in vc_train[vc_train > 1].index if not col_.startswith(\"SK_ID\")]\n",
    "np.random.seed(0)\n",
    "np.random.shuffle(features)\n",
    "\n",
    "X_num_train = data_train[features].values\n",
    "X_num_val = data_val[features].values\n",
    "\n",
    "y_train = ydata_train.TARGET.values\n",
    "y_val = ydata_val.TARGET.values\n",
    "\n",
    "xgb_params = {\n",
    "    \"objective\": \"binary:logistic\",\n",
    "    \"booster\": \"gbtree\",\n",
    "    \"eval_metric\": \"auc\",\n",
    "    \"nthread\": 4,\n",
    "    \"eta\": 0.025, # 0.05,\n",
    "    \"max_depth\": 6,\n",
    "    \"min_child_weight\": 22,\n",
    "    \"gamma\": 0,\n",
    "    \"subsample\": 0.7,\n",
    "    \"colsample_bytree\": 0.7,\n",
    "    \"colsample_bylevel\": 0.675,\n",
    "    \"alpha\": 0,\n",
    "    \"lambda\": 0,\n",
    "    \"nrounds\": 250 #2000\n",
    "}\n",
    "\n",
    "xgb_clf = XgbWrapper(params=xgb_params)\n",
    "xgb_clf.train(X_num_train, y_train)\n",
    "pred_val = xgb_clf.predict(X_num_val)\n",
    "roc_auc_score(y_val, pred_val)"
   ]
  },
  {
   "cell_type": "code",
   "execution_count": 63,
   "metadata": {},
   "outputs": [],
   "source": [
    "pred_val_xgb_reorder0 = pred_val"
   ]
  },
  {
   "cell_type": "code",
   "execution_count": 68,
   "metadata": {},
   "outputs": [
    {
     "data": {
      "text/plain": [
       "0.766684283977591"
      ]
     },
     "execution_count": 68,
     "metadata": {},
     "output_type": "execute_result"
    }
   ],
   "source": [
    "features = [col_ for col_ in vc_train[vc_train > 1].index if not col_.startswith(\"SK_ID\")]\n",
    "np.random.seed(1)\n",
    "np.random.shuffle(features)\n",
    "\n",
    "X_num_train = data_train[features].values\n",
    "X_num_val = data_val[features].values\n",
    "\n",
    "y_train = ydata_train.TARGET.values\n",
    "y_val = ydata_val.TARGET.values\n",
    "\n",
    "xgb_params = {\n",
    "    \"objective\": \"binary:logistic\",\n",
    "    \"booster\": \"gbtree\",\n",
    "    \"eval_metric\": \"auc\",\n",
    "    \"nthread\": 4,\n",
    "    \"eta\": 0.025, # 0.05,\n",
    "    \"max_depth\": 6,\n",
    "    \"min_child_weight\": 22,\n",
    "    \"gamma\": 0,\n",
    "    \"subsample\": 0.7,\n",
    "    \"colsample_bytree\": 0.7,\n",
    "    \"colsample_bylevel\": 0.675,\n",
    "    \"alpha\": 0,\n",
    "    \"lambda\": 0,\n",
    "    \"nrounds\": 250 #2000\n",
    "}\n",
    "\n",
    "xgb_clf = XgbWrapper(params=xgb_params)\n",
    "xgb_clf.train(X_num_train, y_train)\n",
    "pred_val = xgb_clf.predict(X_num_val)\n",
    "roc_auc_score(y_val, pred_val)"
   ]
  },
  {
   "cell_type": "code",
   "execution_count": 69,
   "metadata": {},
   "outputs": [],
   "source": [
    "pred_val_xgb_reorder1 = pred_val"
   ]
  },
  {
   "cell_type": "code",
   "execution_count": 70,
   "metadata": {},
   "outputs": [
    {
     "data": {
      "image/png": "[encoded data removed]",
      "text/plain": [
       "<matplotlib.figure.Figure at 0x1582aef0>"
      ]
     },
     "metadata": {},
     "output_type": "display_data"
    }
   ],
   "source": [
    "plt.scatter(pred_val_xgb_origin, pred_val_xgb_reorder1, alpha=.1)\n",
    "plt.show()"
   ]
  },
  {
   "cell_type": "code",
   "execution_count": 71,
   "metadata": {},
   "outputs": [
    {
     "data": {
      "text/plain": [
       "0.7676853807874024"
      ]
     },
     "execution_count": 71,
     "metadata": {},
     "output_type": "execute_result"
    }
   ],
   "source": [
    "roc_auc_score(y_val, pd.Series(pred_val_xgb_origin).rank().values + pd.Series(pred_val_xgb_reorder1).rank().values)"
   ]
  },
  {
   "cell_type": "markdown",
   "metadata": {},
   "source": [
    "### lgb -reorder"
   ]
  },
  {
   "cell_type": "code",
   "execution_count": 15,
   "metadata": {},
   "outputs": [
    {
     "data": {
      "text/plain": [
       "0.76875957348538315"
      ]
     },
     "execution_count": 15,
     "metadata": {},
     "output_type": "execute_result"
    }
   ],
   "source": [
    "X_num_train = data_train[features].values\n",
    "X_num_val = data_val[features].values\n",
    "\n",
    "y_train = ydata_train.TARGET.values\n",
    "y_val = ydata_val.TARGET.values\n",
    "\n",
    "lgb_params =  {\n",
    "    \"nthread\": 8,\n",
    "    \"n_estimators\": 250, # 10000,\n",
    "    \"learning_rate\": 0.02,\n",
    "    \"num_leaves\": 34,\n",
    "    \"colsample_bytree\": 0.9497036,\n",
    "    \"subsample\": 0.8715623,\n",
    "    \"subsample_freq\": 1,\n",
    "    \"max_depth\": 8,\n",
    "    \"reg_alpha\": 0.041545473,\n",
    "    \"reg_lambda\": 0.0735294,\n",
    "    \"min_split_gain\": 0.0222415,\n",
    "    \"min_child_weight\": 39.3259775,\n",
    "    \"random_state\": 0,\n",
    "    \"silent\": -1,\n",
    "    \"verbose\": -1\n",
    "}\n",
    "\n",
    "lg_clf = LightGBMWrapper(clf=LGBMClassifier, seed=0, params=lgb_params)\n",
    "lg_clf.train(X_num_train, y_train)\n",
    "pred_val = lg_clf.predict(X_num_val)\n",
    "roc_auc_score(y_val, pred_val)"
   ]
  },
  {
   "cell_type": "markdown",
   "metadata": {},
   "source": [
    "1. 0.76213752306289995\n",
    "2. 0.76875957348538315 **current best**"
   ]
  },
  {
   "cell_type": "markdown",
   "metadata": {},
   "source": [
    "1. 0.75816139082616663\n",
    "2. 0.76239002619826557 rlimp1\n",
    "3. 0.76486055795697594 rlimp2\n",
    "4. 0.76319097794387836 imp1"
   ]
  },
  {
   "cell_type": "code",
   "execution_count": 18,
   "metadata": {},
   "outputs": [
    {
     "data": {
      "text/plain": [
       "0.76848598289648"
      ]
     },
     "execution_count": 18,
     "metadata": {},
     "output_type": "execute_result"
    }
   ],
   "source": [
    "features = [col_ for col_ in vc_train[vc_train > 1].index if not col_.startswith(\"SK_ID\")]\n",
    "np.random.seed(0)\n",
    "np.random.shuffle(features)\n",
    "\n",
    "X_num_train = data_train[features].values\n",
    "X_num_val = data_val[features].values\n",
    "\n",
    "y_train = ydata_train.TARGET.values\n",
    "y_val = ydata_val.TARGET.values\n",
    "\n",
    "lgb_params =  {\n",
    "    \"nthread\": 8,\n",
    "    \"n_estimators\": 250, # 10000,\n",
    "    \"learning_rate\": 0.02,\n",
    "    \"num_leaves\": 34,\n",
    "    \"colsample_bytree\": 0.9497036,\n",
    "    \"subsample\": 0.8715623,\n",
    "    \"subsample_freq\": 1,\n",
    "    \"max_depth\": 8,\n",
    "    \"reg_alpha\": 0.041545473,\n",
    "    \"reg_lambda\": 0.0735294,\n",
    "    \"min_split_gain\": 0.0222415,\n",
    "    \"min_child_weight\": 39.3259775,\n",
    "    \"random_state\": 0,\n",
    "    \"silent\": -1,\n",
    "    \"verbose\": -1\n",
    "}\n",
    "\n",
    "lg_clf = LightGBMWrapper(clf=LGBMClassifier, seed=0, params=lgb_params)\n",
    "lg_clf.train(X_num_train, y_train)\n",
    "pred_val = lg_clf.predict(X_num_val)\n",
    "roc_auc_score(y_val, pred_val)"
   ]
  },
  {
   "cell_type": "code",
   "execution_count": 19,
   "metadata": {},
   "outputs": [],
   "source": [
    "pred_val_reorder0 = pred_val "
   ]
  },
  {
   "cell_type": "code",
   "execution_count": 15,
   "metadata": {},
   "outputs": [
    {
     "data": {
      "text/plain": [
       "0.7682122174893091"
      ]
     },
     "execution_count": 15,
     "metadata": {},
     "output_type": "execute_result"
    }
   ],
   "source": [
    "features = [col_ for col_ in vc_train[vc_train > 1].index if not col_.startswith(\"SK_ID\")]\n",
    "np.random.seed(123)\n",
    "np.random.shuffle(features)\n",
    "\n",
    "X_num_train = data_train[features].values\n",
    "X_num_val = data_val[features].values\n",
    "\n",
    "y_train = ydata_train.TARGET.values\n",
    "y_val = ydata_val.TARGET.values\n",
    "\n",
    "lgb_params =  {\n",
    "    \"nthread\": 8,\n",
    "    \"n_estimators\": 250, # 10000,\n",
    "    \"learning_rate\": 0.02,\n",
    "    \"num_leaves\": 34,\n",
    "    \"colsample_bytree\": 0.9497036,\n",
    "    \"subsample\": 0.8715623,\n",
    "    \"subsample_freq\": 1,\n",
    "    \"max_depth\": 8,\n",
    "    \"reg_alpha\": 0.041545473,\n",
    "    \"reg_lambda\": 0.0735294,\n",
    "    \"min_split_gain\": 0.0222415,\n",
    "    \"min_child_weight\": 39.3259775,\n",
    "    \"random_state\": 0,\n",
    "    \"silent\": -1,\n",
    "    \"verbose\": -1\n",
    "}\n",
    "\n",
    "lg_clf = LightGBMWrapper(clf=LGBMClassifier, seed=0, params=lgb_params)\n",
    "lg_clf.train(X_num_train, y_train)\n",
    "pred_val = lg_clf.predict(X_num_val)\n",
    "roc_auc_score(y_val, pred_val)"
   ]
  },
  {
   "cell_type": "code",
   "execution_count": 17,
   "metadata": {},
   "outputs": [],
   "source": [
    "pred_val_reorder123 = pred_val "
   ]
  },
  {
   "cell_type": "code",
   "execution_count": 21,
   "metadata": {},
   "outputs": [
    {
     "data": {
      "image/png": "[encoded data removed]",
      "text/plain": [
       "<matplotlib.figure.Figure at 0x184244e0>"
      ]
     },
     "metadata": {},
     "output_type": "display_data"
    }
   ],
   "source": [
    "plt.scatter(pred_val_reorder0, pred_val_reorder123, alpha=.1)\n",
    "plt.show()"
   ]
  },
  {
   "cell_type": "code",
   "execution_count": 23,
   "metadata": {},
   "outputs": [
    {
     "data": {
      "text/plain": [
       "0.7688095278053699"
      ]
     },
     "execution_count": 23,
     "metadata": {},
     "output_type": "execute_result"
    }
   ],
   "source": [
    "roc_auc_score(y_val, pred_val_reorder0 + pred_val_reorder123)"
   ]
  },
  {
   "cell_type": "markdown",
   "metadata": {},
   "source": [
    "### cat"
   ]
  },
  {
   "cell_type": "code",
   "execution_count": 32,
   "metadata": {
    "scrolled": true
   },
   "outputs": [
    {
     "name": "stdout",
     "output_type": "stream",
     "text": [
      "0:\tlearn: 0.6058575\ttotal: 442ms\tremaining: 1m 50s\n",
      "25:\tlearn: 0.2516039\ttotal: 11.5s\tremaining: 1m 38s\n",
      "50:\tlearn: 0.2386017\ttotal: 22.2s\tremaining: 1m 26s\n",
      "75:\tlearn: 0.2310656\ttotal: 33.4s\tremaining: 1m 16s\n",
      "100:\tlearn: 0.2245440\ttotal: 44.3s\tremaining: 1m 5s\n",
      "125:\tlearn: 0.2186605\ttotal: 55.2s\tremaining: 54.4s\n",
      "150:\tlearn: 0.2121879\ttotal: 1m 6s\tremaining: 43.3s\n",
      "175:\tlearn: 0.2066957\ttotal: 1m 16s\tremaining: 32.3s\n",
      "200:\tlearn: 0.2014628\ttotal: 1m 27s\tremaining: 21.3s\n",
      "225:\tlearn: 0.1955981\ttotal: 1m 38s\tremaining: 10.5s\n"
     ]
    },
    {
     "data": {
      "text/plain": [
       "0.7642867606979165"
      ]
     },
     "execution_count": 32,
     "metadata": {},
     "output_type": "execute_result"
    }
   ],
   "source": [
    "import catboost\n",
    "\n",
    "features_selected = list(np.load(\"./models/features-selected-016.npy\"))\n",
    "\n",
    "X_num_train = data_train[features_selected].values\n",
    "X_num_val = data_val[features_selected].values\n",
    "\n",
    "y_train = ydata_train.TARGET.values\n",
    "y_val = ydata_val.TARGET.values\n",
    "\n",
    "cb_params = {\n",
    "    \"iterations\": 250, # 1600,\n",
    "    \"learning_rate\": 0.09,\n",
    "    \"depth\": 6,\n",
    "    \"bagging_temperature\": 0.5,\n",
    "    \"loss_function\":'Logloss',\n",
    "    \"eval_metric\": 'CrossEntropy',\n",
    "    \"metric_period\": 25,\n",
    "    \"rsm\": .7,\n",
    "    \"one_hot_max_size\": 25,\n",
    "    \"od_type\":'Iter',\n",
    "    \"od_wait\": 200,\n",
    "    \"random_seed\":17,\n",
    "    \"allow_writing_files\":False\n",
    "}\n",
    "\n",
    "cb_clf = CatboostWrapper(clf=catboost.CatBoostClassifier, params=cb_params)\n",
    "cb_clf.train(X_num_train, y_train)\n",
    "pred_val = cb_clf.predict(X_num_val)\n",
    "roc_auc_score(y_val, pred_val)"
   ]
  },
  {
   "cell_type": "markdown",
   "metadata": {},
   "source": [
    "1. 0.6974227722820742\n",
    "2. 0.7628054381068161\n",
    "3. 0.7642867606979165"
   ]
  },
  {
   "cell_type": "markdown",
   "metadata": {},
   "source": [
    "## submission"
   ]
  },
  {
   "cell_type": "code",
   "execution_count": 24,
   "metadata": {},
   "outputs": [],
   "source": [
    "for source_name in (\n",
    "    \"buro_wide_013\",\n",
    "    \"buro_full_wide_013\",\n",
    "    \"pos_bal_wide_013\",\n",
    "    \"cc_bal_wide_013\",\n",
    "    \"buro_bal_timestep1_013\",\n",
    "    \"buro_bal_timestep2_013\",\n",
    "    \"pos_bal_timestep1_013\",\n",
    "    \"pos_bal_timestep2_013\",\n",
    "    \"cc_bal_timestep1_013\",\n",
    "    \"cc_bal_timestep2_013\"\n",
    "):\n",
    "    target_name = \"./bindata/\" + source_name + \"_nmf5\"\n",
    "    nmf_data = load_dataframe32(target_name)\n",
    "    nmf_data[\"SK_ID_CURR\"] = nmf_data.SK_ID_CURR.astype(\"int\")\n",
    "    nmf_data.columns = [\"{}_{}\".format(source_name, col_) if col_ != \"SK_ID_CURR\" else col_ for col_ in nmf_data.columns]\n",
    "    data = data.merge(right=nmf_data, how=\"left\", on=\"SK_ID_CURR\")\n",
    "    test = test.merge(right=nmf_data, how=\"left\", on=\"SK_ID_CURR\")\n",
    "    del nmf_data\n",
    "    gc.collect()\n",
    "    \n",
    "buro_wide = load_dataframe32(\"./bindata/buro_wide_013\")\n",
    "buro_full_wide = load_dataframe32(\"./bindata/buro_full_wide_013\")\n",
    "pos_bal_wide = load_dataframe32(\"./bindata/pos_bal_wide_013\")\n",
    "cc_bal_wide = load_dataframe32(\"./bindata/cc_bal_wide_013\")\n",
    "\n",
    "buro_wide[\"SK_ID_CURR\"] = buro_wide.SK_ID_CURR.astype(\"int\")\n",
    "buro_full_wide[\"SK_ID_CURR\"] = buro_full_wide.SK_ID_CURR.astype(\"int\")\n",
    "pos_bal_wide[\"SK_ID_CURR\"] = pos_bal_wide.SK_ID_CURR.astype(\"int\")\n",
    "cc_bal_wide[\"SK_ID_CURR\"] = cc_bal_wide.SK_ID_CURR.astype(\"int\")\n",
    "\n",
    "for wi, data_ in enumerate((buro_wide, buro_full_wide, pos_bal_wide, cc_bal_wide)):\n",
    "    # data_.columns = [\"w{}_{}\".format(wi, col_) for col_ in data_.columns]\n",
    "    data = data.merge(right=data_, how=\"left\", on=\"SK_ID_CURR\")\n",
    "    test = test.merge(right=data_, how=\"left\", on=\"SK_ID_CURR\")\n",
    "    del data_\n",
    "    gc.collect()\n",
    "    \n",
    "for name in (\n",
    "    \"./bindata/bureau_and_balance_015\",\n",
    "    \"./bindata/previous_applications_015\",\n",
    "    \"./bindata/pos_cash_015\",\n",
    "    \"./bindata/installments_payments_015\",\n",
    "    \"./bindata/credit_card_balance_015\",\n",
    "):\n",
    "    data_ = load_dataframe32(name)\n",
    "    data_[\"SK_ID_CURR\"] = data_.SK_ID_CURR.astype(\"int\")\n",
    "    data = data.merge(right=data_, how=\"left\", on=\"SK_ID_CURR\")\n",
    "    test = test.merge(right=data_, how=\"left\", on=\"SK_ID_CURR\")\n",
    "    del data_\n",
    "    gc.collect()"
   ]
  },
  {
   "cell_type": "code",
   "execution_count": 25,
   "metadata": {},
   "outputs": [
    {
     "data": {
      "text/plain": [
       "((307507, 2030), (48744, 2030), (307507, 2))"
      ]
     },
     "execution_count": 25,
     "metadata": {},
     "output_type": "execute_result"
    }
   ],
   "source": [
    "data.shape, test.shape, y.shape"
   ]
  },
  {
   "cell_type": "markdown",
   "metadata": {},
   "source": [
    "### xgb -reorder * 5"
   ]
  },
  {
   "cell_type": "code",
   "execution_count": 42,
   "metadata": {},
   "outputs": [
    {
     "name": "stdout",
     "output_type": "stream",
     "text": [
      "(307507, 1889) (48744, 1889)\n",
      "0.0356520414352417\n",
      "176.6426033814748\n",
      "0.09988904396692912\n"
     ]
    }
   ],
   "source": [
    "a = time.time()\n",
    "\n",
    "X_data = data[features].values\n",
    "X_test = test[features].values\n",
    "\n",
    "print(X_data.shape, X_test.shape)\n",
    "\n",
    "y_data = y.TARGET.values\n",
    "\n",
    "xgb_params = {\n",
    "    \"objective\": \"binary:logistic\",\n",
    "    \"booster\": \"gbtree\",\n",
    "    \"eval_metric\": \"auc\",\n",
    "    \"nthread\": 4,\n",
    "    \"eta\": 0.025,\n",
    "    \"max_depth\": 6,\n",
    "    \"min_child_weight\": 22,\n",
    "    \"gamma\": 0,\n",
    "    \"subsample\": 0.7,\n",
    "    \"colsample_bytree\": 0.7,\n",
    "    \"colsample_bylevel\": 0.7,\n",
    "    \"alpha\": 0,\n",
    "    \"lambda\": 0,\n",
    "    \"nrounds\": 2000\n",
    "}\n",
    "\n",
    "b = time.time()\n",
    "print((b - a) / 60)\n",
    "\n",
    "xgb_clf = XgbWrapper(params=xgb_params)\n",
    "xgb_clf.train(X_data, y_data)\n",
    "\n",
    "c = time.time()\n",
    "print((c - b) / 60)\n",
    "\n",
    "pred_test = xgb_clf.predict(X_test)\n",
    "print((time.time() - c) / 60)"
   ]
  },
  {
   "cell_type": "code",
   "execution_count": 76,
   "metadata": {},
   "outputs": [
    {
     "name": "stdout",
     "output_type": "stream",
     "text": [
      "(307507, 1250) (48744, 1250)\n",
      "0.02158457040786743\n",
      "146.03246924479802\n",
      "0.5533149798711141\n"
     ]
    }
   ],
   "source": [
    "features_selected = list(np.load(\"./models/features-selected-016.npy\"))\n",
    "\n",
    "a = time.time()\n",
    "\n",
    "X_data = data[features_selected].values\n",
    "X_test = test[features_selected].values\n",
    "\n",
    "print(X_data.shape, X_test.shape)\n",
    "\n",
    "y_data = y.TARGET.values\n",
    "\n",
    "xgb_params = {\n",
    "    \"objective\": \"binary:logistic\",\n",
    "    \"booster\": \"gbtree\",\n",
    "    \"eval_metric\": \"auc\",\n",
    "    \"nthread\": 4,\n",
    "    \"eta\": 0.02,\n",
    "    \"max_depth\": 6,\n",
    "    \"min_child_weight\": 22,\n",
    "    \"gamma\": 0,\n",
    "    \"subsample\": 0.7,\n",
    "    \"colsample_bytree\": 0.7,\n",
    "    \"colsample_bylevel\": 0.675,\n",
    "    \"alpha\": 0,\n",
    "    \"lambda\": 0,\n",
    "    \"nrounds\": 2000\n",
    "}\n",
    "\n",
    "b = time.time()\n",
    "print((b - a) / 60)\n",
    "\n",
    "xgb_clf = XgbWrapper(params=xgb_params)\n",
    "xgb_clf.train(X_data, y_data)\n",
    "\n",
    "c = time.time()\n",
    "print((c - b) / 60)\n",
    "\n",
    "pred_test = xgb_clf.predict(X_test)\n",
    "print((time.time() - c) / 60)\n",
    "\n",
    "import pickle\n",
    "\n",
    "with open(\"./models/xgb-017-xgb200-eta2-sel\", \"wb\") as ofile:\n",
    "    pickle.dump(xgb_clf, ofile, 0)\n",
    "     \n",
    "np.save(\"./result/submission-017-xgb2000-eta2-sel\", pred_test)\n",
    "\n",
    "test[\"TARGET\"] = pred_test\n",
    "test[[\"SK_ID_CURR\", \"TARGET\"]].to_csv(\"./result/submission-017-xgb2000-eta2-sel.csv\", index=False)"
   ]
  },
  {
   "cell_type": "code",
   "execution_count": 69,
   "metadata": {},
   "outputs": [],
   "source": [
    "import pickle\n",
    "\n",
    "with open(\"./models/xgb-017-xgb200-eta25\", \"wb\") as ofile:\n",
    "    pickle.dump(xgb_clf, ofile, 0)"
   ]
  },
  {
   "cell_type": "code",
   "execution_count": 43,
   "metadata": {},
   "outputs": [],
   "source": [
    "np.save(\"./result/submission-017-xgb2000-eta25\", pred_test)"
   ]
  },
  {
   "cell_type": "code",
   "execution_count": 44,
   "metadata": {},
   "outputs": [],
   "source": [
    "test[\"TARGET\"] = pred_test\n",
    "test[[\"SK_ID_CURR\", \"TARGET\"]].to_csv(\"./result/submission-017-xgb2000-eta25.csv\", index=False)"
   ]
  },
  {
   "cell_type": "code",
   "execution_count": 74,
   "metadata": {},
   "outputs": [
    {
     "data": {
      "text/plain": [
       "254"
      ]
     },
     "execution_count": 74,
     "metadata": {},
     "output_type": "execute_result"
    }
   ],
   "source": [
    "del X_num_train, X_num_val, data_train, data_val\n",
    "gc.collect()"
   ]
  },
  {
   "cell_type": "code",
   "execution_count": 77,
   "metadata": {},
   "outputs": [
    {
     "name": "stdout",
     "output_type": "stream",
     "text": [
      "seed 10000\n",
      "(307507, 1250) (48744, 1250)\n",
      "1.2331538677215577\n",
      "145.4629200021426\n",
      "0.07858782609303792\n",
      "seed 10001\n",
      "(307507, 1250) (48744, 1250)\n",
      "0.5095791459083557\n",
      "143.98351871967316\n",
      "0.07027068535486856\n",
      "seed 10002\n",
      "(307507, 1250) (48744, 1250)\n",
      "0.017184317111968994\n",
      "144.26760163704554\n",
      "0.06942063570022583\n",
      "seed 10003\n",
      "(307507, 1250) (48744, 1250)\n",
      "0.017451000213623048\n",
      "143.97178471485773\n",
      "0.07065403858820597\n",
      "seed 10004\n",
      "(307507, 1250) (48744, 1250)\n",
      "0.017050973574320474\n",
      "144.2359498302142\n",
      "0.08143798510233562\n"
     ]
    }
   ],
   "source": [
    "for seed in range(10000, 10005):\n",
    "    a = time.time()\n",
    "\n",
    "    features_selected = list(np.load(\"./models/features-selected-016.npy\"))\n",
    "    np.random.seed(seed)\n",
    "    np.random.shuffle(features_selected)\n",
    "\n",
    "    X_data = data[features_selected].values\n",
    "    X_test = test[features_selected].values\n",
    "    gc.collect()\n",
    "\n",
    "    print(\"seed\", seed)\n",
    "    print(X_data.shape, X_test.shape)\n",
    "\n",
    "    y_data = y.TARGET.values\n",
    "\n",
    "    xgb_params = {\n",
    "        \"objective\": \"binary:logistic\",\n",
    "        \"booster\": \"gbtree\",\n",
    "        \"eval_metric\": \"auc\",\n",
    "        \"nthread\": 4,\n",
    "        \"eta\": 0.02, # 0.05,\n",
    "        \"max_depth\": 6,\n",
    "        \"min_child_weight\": 22,\n",
    "        \"gamma\": 0,\n",
    "        \"subsample\": 0.7,\n",
    "        \"colsample_bytree\": 0.7,\n",
    "        \"colsample_bylevel\": 0.675,\n",
    "        \"alpha\": 0,\n",
    "        \"lambda\": 0,\n",
    "        \"nrounds\": 2000\n",
    "    }\n",
    "\n",
    "    b = time.time()\n",
    "\n",
    "    print((b - a) / 60)\n",
    "\n",
    "    xgb_clf = XgbWrapper(params=xgb_params)\n",
    "    xgb_clf.train(X_data, y_data)\n",
    "\n",
    "    c = time.time()\n",
    "    print((time.time() - b) / 60)\n",
    "\n",
    "    pred_test = xgb_clf.predict(X_test)\n",
    "    print((time.time() - c) / 60)\n",
    "\n",
    "    import pickle\n",
    "\n",
    "    with open(\"./models/xgb-017-nround2000-seed{}\".format(seed), \"wb\") as ofile:\n",
    "        pickle.dump(xgb_clf, ofile, 0)\n",
    "\n",
    "    np.save(\"./result/submission-017-xgb2000-seed{}\".format(seed), pred_test)\n",
    "\n",
    "    test[\"TARGET\"] = pred_test\n",
    "    test[[\"SK_ID_CURR\", \"TARGET\"]].to_csv(\"./result/submission-017-xgb2000-seed{}.csv\".format(seed), index=False)"
   ]
  },
  {
   "cell_type": "markdown",
   "metadata": {},
   "source": [
    "### lgb -reorder * 5 -> 20"
   ]
  },
  {
   "cell_type": "code",
   "execution_count": 37,
   "metadata": {},
   "outputs": [
    {
     "name": "stdout",
     "output_type": "stream",
     "text": [
      "2.0011143684387207\n"
     ]
    }
   ],
   "source": [
    "import time\n",
    "a = time.time()\n",
    "\n",
    "time.sleep(2)\n",
    "\n",
    "print(time.time() - a)"
   ]
  },
  {
   "cell_type": "code",
   "execution_count": 43,
   "metadata": {},
   "outputs": [
    {
     "data": {
      "text/plain": [
       "1668"
      ]
     },
     "execution_count": 43,
     "metadata": {},
     "output_type": "execute_result"
    }
   ],
   "source": [
    "del data_train, data_val\n",
    "gc.collect()"
   ]
  },
  {
   "cell_type": "code",
   "execution_count": 44,
   "metadata": {},
   "outputs": [
    {
     "name": "stdout",
     "output_type": "stream",
     "text": [
      "(307507, 1889) (48744, 1889)\n",
      "0.25668134689331057\n",
      "38.41253041028976\n",
      "0.1339076558748881\n"
     ]
    }
   ],
   "source": [
    "a = time.time()\n",
    "\n",
    "features = [col_ for col_ in vc_train[vc_train > 1].index if not col_.startswith(\"SK_ID\")]\n",
    "seed = 0\n",
    "np.random.seed(seed)\n",
    "np.random.shuffle(features)\n",
    "\n",
    "X_data = data[features].values\n",
    "X_test = test[features].values\n",
    "gc.collect()\n",
    "\n",
    "print(X_data.shape, X_test.shape)\n",
    "\n",
    "y_data = y.TARGET.values\n",
    "\n",
    "lgb_params =  {\n",
    "    \"nthread\": 8,\n",
    "    \"n_estimators\": 2000,\n",
    "    \"learning_rate\": 0.02,\n",
    "    \"num_leaves\": 34,\n",
    "    \"colsample_bytree\": 0.9497036,\n",
    "    \"subsample\": 0.8715623,\n",
    "    \"subsample_freq\": 1,\n",
    "    \"max_depth\": 8,\n",
    "    \"reg_alpha\": 0.041545473,\n",
    "    \"reg_lambda\": 0.0735294,\n",
    "    \"min_split_gain\": 0.0222415,\n",
    "    \"min_child_weight\": 39.3259775,\n",
    "    \"random_state\": 0,\n",
    "    \"silent\": -1,\n",
    "    \"verbose\": -1\n",
    "}\n",
    "\n",
    "b = time.time()\n",
    "\n",
    "print((b - a) / 60)\n",
    "\n",
    "lg_clf = LightGBMWrapper(clf=LGBMClassifier, seed=0, params=lgb_params)\n",
    "lg_clf.train(X_data, y_data)\n",
    "\n",
    "c = time.time()\n",
    "print((time.time() - b) / 60)\n",
    "\n",
    "pred_test = lg_clf.predict(X_test)\n",
    "print((time.time() - c) / 60)\n",
    "\n",
    "import pickle\n",
    "\n",
    "with open(\"./models/lgb-017-nround2000-seed{}\".format(seed), \"wb\") as ofile:\n",
    "    pickle.dump(lg_clf, ofile, 0)\n",
    "\n",
    "np.save(\"./result/submission-017-lgb2000-seed{}\".format(seed), pred_test)\n",
    "\n",
    "test[\"TARGET\"] = pred_test\n",
    "test[[\"SK_ID_CURR\", \"TARGET\"]].to_csv(\"./result/submission-017-lgb2000-seed{}.csv\".format(seed), index=False)"
   ]
  },
  {
   "cell_type": "code",
   "execution_count": 45,
   "metadata": {},
   "outputs": [
    {
     "name": "stdout",
     "output_type": "stream",
     "text": [
      "(307507, 1889) (48744, 1889)\n",
      "0.022817973295847574\n",
      "42.64078891277313\n",
      "0.1344576915105184\n"
     ]
    }
   ],
   "source": [
    "a = time.time()\n",
    "\n",
    "features = [col_ for col_ in vc_train[vc_train > 1].index if not col_.startswith(\"SK_ID\")]\n",
    "seed = 1\n",
    "np.random.seed(seed)\n",
    "np.random.shuffle(features)\n",
    "\n",
    "X_data = data[features].values\n",
    "X_test = test[features].values\n",
    "gc.collect()\n",
    "\n",
    "print(X_data.shape, X_test.shape)\n",
    "\n",
    "y_data = y.TARGET.values\n",
    "\n",
    "lgb_params =  {\n",
    "    \"nthread\": 8,\n",
    "    \"n_estimators\": 2000,\n",
    "    \"learning_rate\": 0.02,\n",
    "    \"num_leaves\": 34,\n",
    "    \"colsample_bytree\": 0.9497036,\n",
    "    \"subsample\": 0.8715623,\n",
    "    \"subsample_freq\": 1,\n",
    "    \"max_depth\": 8,\n",
    "    \"reg_alpha\": 0.041545473,\n",
    "    \"reg_lambda\": 0.0735294,\n",
    "    \"min_split_gain\": 0.0222415,\n",
    "    \"min_child_weight\": 39.3259775,\n",
    "    \"random_state\": 0,\n",
    "    \"silent\": -1,\n",
    "    \"verbose\": -1\n",
    "}\n",
    "\n",
    "b = time.time()\n",
    "\n",
    "print((b - a) / 60)\n",
    "\n",
    "lg_clf = LightGBMWrapper(clf=LGBMClassifier, seed=0, params=lgb_params)\n",
    "lg_clf.train(X_data, y_data)\n",
    "\n",
    "c = time.time()\n",
    "print((time.time() - b) / 60)\n",
    "\n",
    "pred_test = lg_clf.predict(X_test)\n",
    "print((time.time() - c) / 60)\n",
    "\n",
    "import pickle\n",
    "\n",
    "with open(\"./models/lgb-017-nround2000-seed{}\".format(seed), \"wb\") as ofile:\n",
    "    pickle.dump(lg_clf, ofile, 0)\n",
    "\n",
    "np.save(\"./result/submission-017-lgb2000-seed{}\".format(seed), pred_test)\n",
    "\n",
    "test[\"TARGET\"] = pred_test\n",
    "test[[\"SK_ID_CURR\", \"TARGET\"]].to_csv(\"./result/submission-017-lgb2000-seed{}.csv\".format(seed), index=False)"
   ]
  },
  {
   "cell_type": "code",
   "execution_count": 46,
   "metadata": {},
   "outputs": [
    {
     "name": "stdout",
     "output_type": "stream",
     "text": [
      "(307507, 1889) (48744, 1889)\n",
      "0.023151326179504394\n",
      "42.97455800374349\n",
      "0.13469103574752808\n"
     ]
    }
   ],
   "source": [
    "a = time.time()\n",
    "\n",
    "features = [col_ for col_ in vc_train[vc_train > 1].index if not col_.startswith(\"SK_ID\")]\n",
    "seed = 233\n",
    "np.random.seed(seed)\n",
    "np.random.shuffle(features)\n",
    "\n",
    "X_data = data[features].values\n",
    "X_test = test[features].values\n",
    "gc.collect()\n",
    "\n",
    "print(X_data.shape, X_test.shape)\n",
    "\n",
    "y_data = y.TARGET.values\n",
    "\n",
    "lgb_params =  {\n",
    "    \"nthread\": 8,\n",
    "    \"n_estimators\": 2000,\n",
    "    \"learning_rate\": 0.02,\n",
    "    \"num_leaves\": 34,\n",
    "    \"colsample_bytree\": 0.9497036,\n",
    "    \"subsample\": 0.8715623,\n",
    "    \"subsample_freq\": 1,\n",
    "    \"max_depth\": 8,\n",
    "    \"reg_alpha\": 0.041545473,\n",
    "    \"reg_lambda\": 0.0735294,\n",
    "    \"min_split_gain\": 0.0222415,\n",
    "    \"min_child_weight\": 39.3259775,\n",
    "    \"random_state\": 0,\n",
    "    \"silent\": -1,\n",
    "    \"verbose\": -1\n",
    "}\n",
    "\n",
    "b = time.time()\n",
    "\n",
    "print((b - a) / 60)\n",
    "\n",
    "lg_clf = LightGBMWrapper(clf=LGBMClassifier, seed=0, params=lgb_params)\n",
    "lg_clf.train(X_data, y_data)\n",
    "\n",
    "c = time.time()\n",
    "print((time.time() - b) / 60)\n",
    "\n",
    "pred_test = lg_clf.predict(X_test)\n",
    "print((time.time() - c) / 60)\n",
    "\n",
    "import pickle\n",
    "\n",
    "with open(\"./models/lgb-017-nround2000-seed{}\".format(seed), \"wb\") as ofile:\n",
    "    pickle.dump(lg_clf, ofile, 0)\n",
    "\n",
    "np.save(\"./result/submission-017-lgb2000-seed{}\".format(seed), pred_test)\n",
    "\n",
    "test[\"TARGET\"] = pred_test\n",
    "test[[\"SK_ID_CURR\", \"TARGET\"]].to_csv(\"./result/submission-017-lgb2000-seed{}.csv\".format(seed), index=False)"
   ]
  },
  {
   "cell_type": "code",
   "execution_count": 48,
   "metadata": {},
   "outputs": [
    {
     "name": "stdout",
     "output_type": "stream",
     "text": [
      "(307507, 1889) (48744, 1889)\n",
      "0.023117987314860027\n",
      "45.88269100983938\n",
      "0.13819123506546022\n"
     ]
    }
   ],
   "source": [
    "a = time.time()\n",
    "\n",
    "features = [col_ for col_ in vc_train[vc_train > 1].index if not col_.startswith(\"SK_ID\")]\n",
    "seed = 666\n",
    "np.random.seed(seed)\n",
    "np.random.shuffle(features)\n",
    "\n",
    "X_data = data[features].values\n",
    "X_test = test[features].values\n",
    "gc.collect()\n",
    "\n",
    "print(X_data.shape, X_test.shape)\n",
    "\n",
    "y_data = y.TARGET.values\n",
    "\n",
    "lgb_params =  {\n",
    "    \"nthread\": 8,\n",
    "    \"n_estimators\": 2000,\n",
    "    \"learning_rate\": 0.02,\n",
    "    \"num_leaves\": 34,\n",
    "    \"colsample_bytree\": 0.9497036,\n",
    "    \"subsample\": 0.8715623,\n",
    "    \"subsample_freq\": 1,\n",
    "    \"max_depth\": 8,\n",
    "    \"reg_alpha\": 0.041545473,\n",
    "    \"reg_lambda\": 0.0735294,\n",
    "    \"min_split_gain\": 0.0222415,\n",
    "    \"min_child_weight\": 39.3259775,\n",
    "    \"random_state\": 0,\n",
    "    \"silent\": -1,\n",
    "    \"verbose\": -1\n",
    "}\n",
    "\n",
    "b = time.time()\n",
    "\n",
    "print((b - a) / 60)\n",
    "\n",
    "lg_clf = LightGBMWrapper(clf=LGBMClassifier, seed=0, params=lgb_params)\n",
    "lg_clf.train(X_data, y_data)\n",
    "\n",
    "c = time.time()\n",
    "print((time.time() - b) / 60)\n",
    "\n",
    "pred_test = lg_clf.predict(X_test)\n",
    "print((time.time() - c) / 60)\n",
    "\n",
    "import pickle\n",
    "\n",
    "with open(\"./models/lgb-017-nround2000-seed{}\".format(seed), \"wb\") as ofile:\n",
    "    pickle.dump(lg_clf, ofile, 0)\n",
    "\n",
    "np.save(\"./result/submission-017-lgb2000-seed{}\".format(seed), pred_test)\n",
    "\n",
    "test[\"TARGET\"] = pred_test\n",
    "test[[\"SK_ID_CURR\", \"TARGET\"]].to_csv(\"./result/submission-017-lgb2000-seed{}.csv\".format(seed), index=False)"
   ]
  },
  {
   "cell_type": "code",
   "execution_count": 47,
   "metadata": {},
   "outputs": [
    {
     "name": "stdout",
     "output_type": "stream",
     "text": [
      "(307507, 1889) (48744, 1889)\n",
      "0.02348467508951823\n",
      "42.58193554878235\n",
      "0.1338743209838867\n"
     ]
    }
   ],
   "source": [
    "a = time.time()\n",
    "\n",
    "features = [col_ for col_ in vc_train[vc_train > 1].index if not col_.startswith(\"SK_ID\")]\n",
    "seed = 67373\n",
    "np.random.seed(seed)\n",
    "np.random.shuffle(features)\n",
    "\n",
    "X_data = data[features].values\n",
    "X_test = test[features].values\n",
    "gc.collect()\n",
    "\n",
    "print(X_data.shape, X_test.shape)\n",
    "\n",
    "y_data = y.TARGET.values\n",
    "\n",
    "lgb_params =  {\n",
    "    \"nthread\": 8,\n",
    "    \"n_estimators\": 2000,\n",
    "    \"learning_rate\": 0.02,\n",
    "    \"num_leaves\": 34,\n",
    "    \"colsample_bytree\": 0.9497036,\n",
    "    \"subsample\": 0.8715623,\n",
    "    \"subsample_freq\": 1,\n",
    "    \"max_depth\": 8,\n",
    "    \"reg_alpha\": 0.041545473,\n",
    "    \"reg_lambda\": 0.0735294,\n",
    "    \"min_split_gain\": 0.0222415,\n",
    "    \"min_child_weight\": 39.3259775,\n",
    "    \"random_state\": 0,\n",
    "    \"silent\": -1,\n",
    "    \"verbose\": -1\n",
    "}\n",
    "\n",
    "b = time.time()\n",
    "\n",
    "print((b - a) / 60)\n",
    "\n",
    "lg_clf = LightGBMWrapper(clf=LGBMClassifier, seed=0, params=lgb_params)\n",
    "lg_clf.train(X_data, y_data)\n",
    "\n",
    "c = time.time()\n",
    "print((time.time() - b) / 60)\n",
    "\n",
    "pred_test = lg_clf.predict(X_test)\n",
    "print((time.time() - c) / 60)\n",
    "\n",
    "import pickle\n",
    "\n",
    "with open(\"./models/lgb-017-nround2000-seed{}\".format(seed), \"wb\") as ofile:\n",
    "    pickle.dump(lg_clf, ofile, 0)\n",
    "\n",
    "np.save(\"./result/submission-017-lgb2000-seed{}\".format(seed), pred_test)\n",
    "\n",
    "test[\"TARGET\"] = pred_test\n",
    "test[[\"SK_ID_CURR\", \"TARGET\"]].to_csv(\"./result/submission-017-lgb2000-seed{}.csv\".format(seed), index=False)"
   ]
  },
  {
   "cell_type": "code",
   "execution_count": 49,
   "metadata": {},
   "outputs": [
    {
     "name": "stdout",
     "output_type": "stream",
     "text": [
      "(307507, 1889) (48744, 1889)\n",
      "0.0243180513381958\n",
      "44.07910451889038\n",
      "0.13480770985285442\n"
     ]
    }
   ],
   "source": [
    "a = time.time()\n",
    "\n",
    "features = [col_ for col_ in vc_train[vc_train > 1].index if not col_.startswith(\"SK_ID\")]\n",
    "seed = 418094\n",
    "np.random.seed(seed)\n",
    "np.random.shuffle(features)\n",
    "\n",
    "X_data = data[features].values\n",
    "X_test = test[features].values\n",
    "gc.collect()\n",
    "\n",
    "print(X_data.shape, X_test.shape)\n",
    "\n",
    "y_data = y.TARGET.values\n",
    "\n",
    "lgb_params =  {\n",
    "    \"nthread\": 8,\n",
    "    \"n_estimators\": 2000,\n",
    "    \"learning_rate\": 0.02,\n",
    "    \"num_leaves\": 34,\n",
    "    \"colsample_bytree\": 0.9497036,\n",
    "    \"subsample\": 0.8715623,\n",
    "    \"subsample_freq\": 1,\n",
    "    \"max_depth\": 8,\n",
    "    \"reg_alpha\": 0.041545473,\n",
    "    \"reg_lambda\": 0.0735294,\n",
    "    \"min_split_gain\": 0.0222415,\n",
    "    \"min_child_weight\": 39.3259775,\n",
    "    \"random_state\": 0,\n",
    "    \"silent\": -1,\n",
    "    \"verbose\": -1\n",
    "}\n",
    "\n",
    "b = time.time()\n",
    "\n",
    "print((b - a) / 60)\n",
    "\n",
    "lg_clf = LightGBMWrapper(clf=LGBMClassifier, seed=0, params=lgb_params)\n",
    "lg_clf.train(X_data, y_data)\n",
    "\n",
    "c = time.time()\n",
    "print((time.time() - b) / 60)\n",
    "\n",
    "pred_test = lg_clf.predict(X_test)\n",
    "print((time.time() - c) / 60)\n",
    "\n",
    "import pickle\n",
    "\n",
    "with open(\"./models/lgb-017-nround2000-seed{}\".format(seed), \"wb\") as ofile:\n",
    "    pickle.dump(lg_clf, ofile, 0)\n",
    "\n",
    "np.save(\"./result/submission-017-lgb2000-seed{}\".format(seed), pred_test)\n",
    "\n",
    "test[\"TARGET\"] = pred_test\n",
    "test[[\"SK_ID_CURR\", \"TARGET\"]].to_csv(\"./result/submission-017-lgb2000-seed{}.csv\".format(seed), index=False)"
   ]
  },
  {
   "cell_type": "code",
   "execution_count": 50,
   "metadata": {},
   "outputs": [
    {
     "name": "stdout",
     "output_type": "stream",
     "text": [
      "(307507, 1889) (48744, 1889)\n",
      "0.024218050638834636\n",
      "42.479963048299155\n",
      "0.13582443793614704\n"
     ]
    }
   ],
   "source": [
    "a = time.time()\n",
    "\n",
    "features = [col_ for col_ in vc_train[vc_train > 1].index if not col_.startswith(\"SK_ID\")]\n",
    "seed = 79\n",
    "np.random.seed(seed)\n",
    "np.random.shuffle(features)\n",
    "\n",
    "X_data = data[features].values\n",
    "X_test = test[features].values\n",
    "gc.collect()\n",
    "\n",
    "print(X_data.shape, X_test.shape)\n",
    "\n",
    "y_data = y.TARGET.values\n",
    "\n",
    "lgb_params =  {\n",
    "    \"nthread\": 8,\n",
    "    \"n_estimators\": 2000,\n",
    "    \"learning_rate\": 0.02,\n",
    "    \"num_leaves\": 34,\n",
    "    \"colsample_bytree\": 0.9497036,\n",
    "    \"subsample\": 0.8715623,\n",
    "    \"subsample_freq\": 1,\n",
    "    \"max_depth\": 8,\n",
    "    \"reg_alpha\": 0.041545473,\n",
    "    \"reg_lambda\": 0.0735294,\n",
    "    \"min_split_gain\": 0.0222415,\n",
    "    \"min_child_weight\": 39.3259775,\n",
    "    \"random_state\": 0,\n",
    "    \"silent\": -1,\n",
    "    \"verbose\": -1\n",
    "}\n",
    "\n",
    "b = time.time()\n",
    "\n",
    "print((b - a) / 60)\n",
    "\n",
    "lg_clf = LightGBMWrapper(clf=LGBMClassifier, seed=0, params=lgb_params)\n",
    "lg_clf.train(X_data, y_data)\n",
    "\n",
    "c = time.time()\n",
    "print((time.time() - b) / 60)\n",
    "\n",
    "pred_test = lg_clf.predict(X_test)\n",
    "print((time.time() - c) / 60)\n",
    "\n",
    "import pickle\n",
    "\n",
    "with open(\"./models/lgb-017-nround2000-seed{}\".format(seed), \"wb\") as ofile:\n",
    "    pickle.dump(lg_clf, ofile, 0)\n",
    "\n",
    "np.save(\"./result/submission-017-lgb2000-seed{}\".format(seed), pred_test)\n",
    "\n",
    "test[\"TARGET\"] = pred_test\n",
    "test[[\"SK_ID_CURR\", \"TARGET\"]].to_csv(\"./result/submission-017-lgb2000-seed{}.csv\".format(seed), index=False)"
   ]
  },
  {
   "cell_type": "code",
   "execution_count": 51,
   "metadata": {},
   "outputs": [
    {
     "name": "stdout",
     "output_type": "stream",
     "text": [
      "(307507, 1889) (48744, 1889)\n",
      "0.02360135316848755\n",
      "42.09935794274012\n",
      "0.13264092206954955\n"
     ]
    }
   ],
   "source": [
    "a = time.time()\n",
    "\n",
    "features = [col_ for col_ in vc_train[vc_train > 1].index if not col_.startswith(\"SK_ID\")]\n",
    "seed = 81\n",
    "np.random.seed(seed)\n",
    "np.random.shuffle(features)\n",
    "\n",
    "X_data = data[features].values\n",
    "X_test = test[features].values\n",
    "gc.collect()\n",
    "\n",
    "print(X_data.shape, X_test.shape)\n",
    "\n",
    "y_data = y.TARGET.values\n",
    "\n",
    "lgb_params =  {\n",
    "    \"nthread\": 8,\n",
    "    \"n_estimators\": 2000,\n",
    "    \"learning_rate\": 0.02,\n",
    "    \"num_leaves\": 34,\n",
    "    \"colsample_bytree\": 0.9497036,\n",
    "    \"subsample\": 0.8715623,\n",
    "    \"subsample_freq\": 1,\n",
    "    \"max_depth\": 8,\n",
    "    \"reg_alpha\": 0.041545473,\n",
    "    \"reg_lambda\": 0.0735294,\n",
    "    \"min_split_gain\": 0.0222415,\n",
    "    \"min_child_weight\": 39.3259775,\n",
    "    \"random_state\": 0,\n",
    "    \"silent\": -1,\n",
    "    \"verbose\": -1\n",
    "}\n",
    "\n",
    "b = time.time()\n",
    "\n",
    "print((b - a) / 60)\n",
    "\n",
    "lg_clf = LightGBMWrapper(clf=LGBMClassifier, seed=0, params=lgb_params)\n",
    "lg_clf.train(X_data, y_data)\n",
    "\n",
    "c = time.time()\n",
    "print((time.time() - b) / 60)\n",
    "\n",
    "pred_test = lg_clf.predict(X_test)\n",
    "print((time.time() - c) / 60)\n",
    "\n",
    "import pickle\n",
    "\n",
    "with open(\"./models/lgb-017-nround2000-seed{}\".format(seed), \"wb\") as ofile:\n",
    "    pickle.dump(lg_clf, ofile, 0)\n",
    "\n",
    "np.save(\"./result/submission-017-lgb2000-seed{}\".format(seed), pred_test)\n",
    "\n",
    "test[\"TARGET\"] = pred_test\n",
    "test[[\"SK_ID_CURR\", \"TARGET\"]].to_csv(\"./result/submission-017-lgb2000-seed{}.csv\".format(seed), index=False)"
   ]
  },
  {
   "cell_type": "code",
   "execution_count": 52,
   "metadata": {},
   "outputs": [
    {
     "name": "stdout",
     "output_type": "stream",
     "text": [
      "(307507, 1889) (48744, 1889)\n",
      "0.02383469740549723\n",
      "42.149077455202736\n",
      "0.13494105339050294\n"
     ]
    }
   ],
   "source": [
    "a = time.time()\n",
    "\n",
    "features = [col_ for col_ in vc_train[vc_train > 1].index if not col_.startswith(\"SK_ID\")]\n",
    "seed = 101\n",
    "np.random.seed(seed)\n",
    "np.random.shuffle(features)\n",
    "\n",
    "X_data = data[features].values\n",
    "X_test = test[features].values\n",
    "gc.collect()\n",
    "\n",
    "print(X_data.shape, X_test.shape)\n",
    "\n",
    "y_data = y.TARGET.values\n",
    "\n",
    "lgb_params =  {\n",
    "    \"nthread\": 8,\n",
    "    \"n_estimators\": 2000,\n",
    "    \"learning_rate\": 0.02,\n",
    "    \"num_leaves\": 34,\n",
    "    \"colsample_bytree\": 0.9497036,\n",
    "    \"subsample\": 0.8715623,\n",
    "    \"subsample_freq\": 1,\n",
    "    \"max_depth\": 8,\n",
    "    \"reg_alpha\": 0.041545473,\n",
    "    \"reg_lambda\": 0.0735294,\n",
    "    \"min_split_gain\": 0.0222415,\n",
    "    \"min_child_weight\": 39.3259775,\n",
    "    \"random_state\": 0,\n",
    "    \"silent\": -1,\n",
    "    \"verbose\": -1\n",
    "}\n",
    "\n",
    "b = time.time()\n",
    "\n",
    "print((b - a) / 60)\n",
    "\n",
    "lg_clf = LightGBMWrapper(clf=LGBMClassifier, seed=0, params=lgb_params)\n",
    "lg_clf.train(X_data, y_data)\n",
    "\n",
    "c = time.time()\n",
    "print((time.time() - b) / 60)\n",
    "\n",
    "pred_test = lg_clf.predict(X_test)\n",
    "print((time.time() - c) / 60)\n",
    "\n",
    "import pickle\n",
    "\n",
    "with open(\"./models/lgb-017-nround2000-seed{}\".format(seed), \"wb\") as ofile:\n",
    "    pickle.dump(lg_clf, ofile, 0)\n",
    "\n",
    "np.save(\"./result/submission-017-lgb2000-seed{}\".format(seed), pred_test)\n",
    "\n",
    "test[\"TARGET\"] = pred_test\n",
    "test[[\"SK_ID_CURR\", \"TARGET\"]].to_csv(\"./result/submission-017-lgb2000-seed{}.csv\".format(seed), index=False)"
   ]
  },
  {
   "cell_type": "code",
   "execution_count": 53,
   "metadata": {},
   "outputs": [
    {
     "name": "stdout",
     "output_type": "stream",
     "text": [
      "(307507, 1889) (48744, 1889)\n",
      "0.02376802364985148\n",
      "43.20292106866837\n",
      "0.13270758787790934\n"
     ]
    }
   ],
   "source": [
    "a = time.time()\n",
    "\n",
    "features = [col_ for col_ in vc_train[vc_train > 1].index if not col_.startswith(\"SK_ID\")]\n",
    "seed = 998\n",
    "np.random.seed(seed)\n",
    "np.random.shuffle(features)\n",
    "\n",
    "X_data = data[features].values\n",
    "X_test = test[features].values\n",
    "gc.collect()\n",
    "\n",
    "print(X_data.shape, X_test.shape)\n",
    "\n",
    "y_data = y.TARGET.values\n",
    "\n",
    "lgb_params =  {\n",
    "    \"nthread\": 8,\n",
    "    \"n_estimators\": 2000,\n",
    "    \"learning_rate\": 0.02,\n",
    "    \"num_leaves\": 34,\n",
    "    \"colsample_bytree\": 0.9497036,\n",
    "    \"subsample\": 0.8715623,\n",
    "    \"subsample_freq\": 1,\n",
    "    \"max_depth\": 8,\n",
    "    \"reg_alpha\": 0.041545473,\n",
    "    \"reg_lambda\": 0.0735294,\n",
    "    \"min_split_gain\": 0.0222415,\n",
    "    \"min_child_weight\": 39.3259775,\n",
    "    \"random_state\": 0,\n",
    "    \"silent\": -1,\n",
    "    \"verbose\": -1\n",
    "}\n",
    "\n",
    "b = time.time()\n",
    "\n",
    "print((b - a) / 60)\n",
    "\n",
    "lg_clf = LightGBMWrapper(clf=LGBMClassifier, seed=0, params=lgb_params)\n",
    "lg_clf.train(X_data, y_data)\n",
    "\n",
    "c = time.time()\n",
    "print((time.time() - b) / 60)\n",
    "\n",
    "pred_test = lg_clf.predict(X_test)\n",
    "print((time.time() - c) / 60)\n",
    "\n",
    "import pickle\n",
    "\n",
    "with open(\"./models/lgb-017-nround2000-seed{}\".format(seed), \"wb\") as ofile:\n",
    "    pickle.dump(lg_clf, ofile, 0)\n",
    "\n",
    "np.save(\"./result/submission-017-lgb2000-seed{}\".format(seed), pred_test)\n",
    "\n",
    "test[\"TARGET\"] = pred_test\n",
    "test[[\"SK_ID_CURR\", \"TARGET\"]].to_csv(\"./result/submission-017-lgb2000-seed{}.csv\".format(seed), index=False)"
   ]
  },
  {
   "cell_type": "code",
   "execution_count": 54,
   "metadata": {},
   "outputs": [
    {
     "name": "stdout",
     "output_type": "stream",
     "text": [
      "(307507, 1889) (48744, 1889)\n",
      "0.024268054962158205\n",
      "42.62407129208247\n",
      "0.13359097242355347\n"
     ]
    }
   ],
   "source": [
    "a = time.time()\n",
    "\n",
    "features = [col_ for col_ in vc_train[vc_train > 1].index if not col_.startswith(\"SK_ID\")]\n",
    "seed = 10001\n",
    "np.random.seed(seed)\n",
    "np.random.shuffle(features)\n",
    "\n",
    "X_data = data[features].values\n",
    "X_test = test[features].values\n",
    "gc.collect()\n",
    "\n",
    "print(X_data.shape, X_test.shape)\n",
    "\n",
    "y_data = y.TARGET.values\n",
    "\n",
    "lgb_params =  {\n",
    "    \"nthread\": 8,\n",
    "    \"n_estimators\": 2000,\n",
    "    \"learning_rate\": 0.02,\n",
    "    \"num_leaves\": 34,\n",
    "    \"colsample_bytree\": 0.9497036,\n",
    "    \"subsample\": 0.8715623,\n",
    "    \"subsample_freq\": 1,\n",
    "    \"max_depth\": 8,\n",
    "    \"reg_alpha\": 0.041545473,\n",
    "    \"reg_lambda\": 0.0735294,\n",
    "    \"min_split_gain\": 0.0222415,\n",
    "    \"min_child_weight\": 39.3259775,\n",
    "    \"random_state\": 0,\n",
    "    \"silent\": -1,\n",
    "    \"verbose\": -1\n",
    "}\n",
    "\n",
    "b = time.time()\n",
    "\n",
    "print((b - a) / 60)\n",
    "\n",
    "lg_clf = LightGBMWrapper(clf=LGBMClassifier, seed=0, params=lgb_params)\n",
    "lg_clf.train(X_data, y_data)\n",
    "\n",
    "c = time.time()\n",
    "print((time.time() - b) / 60)\n",
    "\n",
    "pred_test = lg_clf.predict(X_test)\n",
    "print((time.time() - c) / 60)\n",
    "\n",
    "import pickle\n",
    "\n",
    "with open(\"./models/lgb-017-nround2000-seed{}\".format(seed), \"wb\") as ofile:\n",
    "    pickle.dump(lg_clf, ofile, 0)\n",
    "\n",
    "np.save(\"./result/submission-017-lgb2000-seed{}\".format(seed), pred_test)\n",
    "\n",
    "test[\"TARGET\"] = pred_test\n",
    "test[[\"SK_ID_CURR\", \"TARGET\"]].to_csv(\"./result/submission-017-lgb2000-seed{}.csv\".format(seed), index=False)"
   ]
  },
  {
   "cell_type": "code",
   "execution_count": 55,
   "metadata": {},
   "outputs": [
    {
     "name": "stdout",
     "output_type": "stream",
     "text": [
      "seed 10000\n",
      "(307507, 1889) (48744, 1889)\n",
      "0.024284716447194418\n",
      "42.47986304759979\n",
      "0.13719118038813274\n",
      "seed 10001\n",
      "(307507, 1889) (48744, 1889)\n",
      "0.02425138552983602\n",
      "43.10776562690735\n",
      "0.1361744523048401\n",
      "seed 10002\n",
      "(307507, 1889) (48744, 1889)\n",
      "0.02415138085683187\n",
      "42.486930112044014\n",
      "0.13649113972981772\n",
      "seed 10003\n",
      "(307507, 1889) (48744, 1889)\n",
      "0.023984710375467937\n",
      "42.73541098833084\n",
      "0.13565775950749714\n",
      "seed 10004\n",
      "(307507, 1889) (48744, 1889)\n",
      "0.024101380507151285\n",
      "41.824508889516196\n",
      "0.13502439260482788\n",
      "seed 10005\n",
      "(307507, 1889) (48744, 1889)\n",
      "0.02401803731918335\n",
      "43.09564826488495\n",
      "0.14500829378763835\n",
      "seed 10006\n",
      "(307507, 1889) (48744, 1889)\n",
      "0.023918036619822183\n",
      "43.03636153936386\n",
      "0.13419100840886433\n",
      "seed 10007\n",
      "(307507, 1889) (48744, 1889)\n",
      "0.024418063958485923\n",
      "42.73064405123393\n",
      "0.14115807215372722\n",
      "seed 10008\n",
      "(307507, 1889) (48744, 1889)\n",
      "0.024518068631490073\n",
      "42.44442768096924\n",
      "0.13494105339050294\n",
      "seed 10009\n",
      "(307507, 1889) (48744, 1889)\n",
      "0.024084711074829103\n",
      "42.5939195672671\n",
      "0.13552441596984863\n"
     ]
    }
   ],
   "source": [
    "for seed in range(10000, 10010):\n",
    "    a = time.time()\n",
    "\n",
    "    features = [col_ for col_ in vc_train[vc_train > 1].index if not col_.startswith(\"SK_ID\")]\n",
    "    np.random.seed(seed)\n",
    "    np.random.shuffle(features)\n",
    "\n",
    "    X_data = data[features].values\n",
    "    X_test = test[features].values\n",
    "    gc.collect()\n",
    "\n",
    "    print(\"seed\", seed)\n",
    "    print(X_data.shape, X_test.shape)\n",
    "\n",
    "    y_data = y.TARGET.values\n",
    "\n",
    "    lgb_params =  {\n",
    "        \"nthread\": 8,\n",
    "        \"n_estimators\": 2000,\n",
    "        \"learning_rate\": 0.02,\n",
    "        \"num_leaves\": 34,\n",
    "        \"colsample_bytree\": 0.9497036,\n",
    "        \"subsample\": 0.8715623,\n",
    "        \"subsample_freq\": 1,\n",
    "        \"max_depth\": 8,\n",
    "        \"reg_alpha\": 0.041545473,\n",
    "        \"reg_lambda\": 0.0735294,\n",
    "        \"min_split_gain\": 0.0222415,\n",
    "        \"min_child_weight\": 39.3259775,\n",
    "        \"random_state\": 0,\n",
    "        \"silent\": -1,\n",
    "        \"verbose\": -1\n",
    "    }\n",
    "\n",
    "    b = time.time()\n",
    "\n",
    "    print((b - a) / 60)\n",
    "\n",
    "    lg_clf = LightGBMWrapper(clf=LGBMClassifier, seed=0, params=lgb_params)\n",
    "    lg_clf.train(X_data, y_data)\n",
    "\n",
    "    c = time.time()\n",
    "    print((time.time() - b) / 60)\n",
    "\n",
    "    pred_test = lg_clf.predict(X_test)\n",
    "    print((time.time() - c) / 60)\n",
    "\n",
    "    import pickle\n",
    "\n",
    "    with open(\"./models/lgb-017-nround2000-seed{}\".format(seed), \"wb\") as ofile:\n",
    "        pickle.dump(lg_clf, ofile, 0)\n",
    "\n",
    "    np.save(\"./result/submission-017-lgb2000-seed{}\".format(seed), pred_test)\n",
    "\n",
    "    test[\"TARGET\"] = pred_test\n",
    "    test[[\"SK_ID_CURR\", \"TARGET\"]].to_csv(\"./result/submission-017-lgb2000-seed{}.csv\".format(seed), index=False)"
   ]
  },
  {
   "cell_type": "markdown",
   "metadata": {},
   "source": [
    "### lgb -fs"
   ]
  },
  {
   "cell_type": "code",
   "execution_count": 78,
   "metadata": {},
   "outputs": [
    {
     "name": "stdout",
     "output_type": "stream",
     "text": [
      "seed 0\n",
      "(307507, 1250) (48744, 1250)\n",
      "0.02930167516072591\n",
      "24.239969778060914\n",
      "0.10718946854273478\n"
     ]
    }
   ],
   "source": [
    "a = time.time()\n",
    "\n",
    "features_selected = list(np.load(\"./models/features-selected-016.npy\"))\n",
    "seed = 0\n",
    "\n",
    "\n",
    "X_data = data[features_selected].values\n",
    "X_test = test[features_selected].values\n",
    "gc.collect()\n",
    "\n",
    "print(\"seed\", seed)\n",
    "print(X_data.shape, X_test.shape)\n",
    "\n",
    "y_data = y.TARGET.values\n",
    "\n",
    "\n",
    "lgb_params =  {\n",
    "    \"nthread\": 8,\n",
    "    \"n_estimators\": 2000,\n",
    "    \"learning_rate\": 0.02,\n",
    "    \"num_leaves\": 34,\n",
    "    \"colsample_bytree\": 0.9497036,\n",
    "    \"subsample\": 0.8715623,\n",
    "    \"subsample_freq\": 1,\n",
    "    \"max_depth\": 8,\n",
    "    \"reg_alpha\": 0.041545473,\n",
    "    \"reg_lambda\": 0.0735294,\n",
    "    \"min_split_gain\": 0.0222415,\n",
    "    \"min_child_weight\": 39.3259775,\n",
    "    \"random_state\": 0,\n",
    "    \"silent\": -1,\n",
    "    \"verbose\": -1\n",
    "}\n",
    "\n",
    "b = time.time()\n",
    "\n",
    "print((b - a) / 60)\n",
    "\n",
    "lg_clf = LightGBMWrapper(clf=LGBMClassifier, seed=0, params=lgb_params)\n",
    "lg_clf.train(X_data, y_data)\n",
    "\n",
    "c = time.time()\n",
    "print((time.time() - b) / 60)\n",
    "\n",
    "pred_test = lg_clf.predict(X_test)\n",
    "print((time.time() - c) / 60)\n",
    "\n",
    "import pickle\n",
    "\n",
    "with open(\"./models/lgb-017-nround2000-fs{}\".format(seed), \"wb\") as ofile:\n",
    "    pickle.dump(lg_clf, ofile, 0)\n",
    "\n",
    "np.save(\"./result/submission-017-lgb2000-fs{}\".format(seed), pred_test)\n",
    "\n",
    "test[\"TARGET\"] = pred_test\n",
    "test[[\"SK_ID_CURR\", \"TARGET\"]].to_csv(\"./result/submission-017-lgb2000-fs{}.csv\".format(seed), index=False)"
   ]
  },
  {
   "cell_type": "code",
   "execution_count": 79,
   "metadata": {},
   "outputs": [
    {
     "name": "stdout",
     "output_type": "stream",
     "text": [
      "seed 10000\n",
      "(307507, 1250) (48744, 1250)\n",
      "0.017751018206278484\n",
      "24.18558333714803\n",
      "0.11123969554901122\n",
      "seed 10001\n",
      "(307507, 1250) (48744, 1250)\n",
      "0.016084253787994385\n",
      "23.66760370731354\n",
      "0.11190640131632487\n",
      "seed 10002\n",
      "(307507, 1250) (48744, 1250)\n",
      "0.015484221776326497\n",
      "23.99932268063227\n",
      "0.12199030717213949\n",
      "seed 10003\n",
      "(307507, 1250) (48744, 1250)\n",
      "0.015667561690012613\n",
      "24.067993275324504\n",
      "0.11959017515182495\n",
      "seed 10004\n",
      "(307507, 1250) (48744, 1250)\n",
      "0.015500887235005697\n",
      "23.9698543270429\n",
      "0.11160638729731241\n",
      "seed 10005\n",
      "(307507, 1250) (48744, 1250)\n",
      "0.01565089225769043\n",
      "23.99047217766444\n",
      "0.11425653298695883\n",
      "seed 10006\n",
      "(307507, 1250) (48744, 1250)\n",
      "0.0159009059270223\n",
      "23.85713121891022\n",
      "0.11168972253799439\n",
      "seed 10007\n",
      "(307507, 1250) (48744, 1250)\n",
      "0.016050918896993\n",
      "23.960703806082407\n",
      "0.1096062699953715\n",
      "seed 10008\n",
      "(307507, 1250) (48744, 1250)\n",
      "0.015884240468343098\n",
      "24.39902888139089\n",
      "0.11067299445470175\n",
      "seed 10009\n",
      "(307507, 1250) (48744, 1250)\n",
      "0.01658428112665812\n",
      "25.67258505423864\n",
      "0.11320647001266479\n"
     ]
    }
   ],
   "source": [
    "for seed in range(10000, 10010):\n",
    "    a = time.time()\n",
    "\n",
    "    features_selected = list(np.load(\"./models/features-selected-016.npy\"))\n",
    "    np.random.seed(seed)\n",
    "    np.random.shuffle(features)\n",
    "\n",
    "    X_data = data[features_selected].values\n",
    "    X_test = test[features_selected].values\n",
    "    gc.collect()\n",
    "\n",
    "    print(\"seed\", seed)\n",
    "    print(X_data.shape, X_test.shape)\n",
    "\n",
    "    y_data = y.TARGET.values\n",
    "\n",
    "\n",
    "    lgb_params =  {\n",
    "        \"nthread\": 8,\n",
    "        \"n_estimators\": 2000,\n",
    "        \"learning_rate\": 0.02,\n",
    "        \"num_leaves\": 34,\n",
    "        \"colsample_bytree\": 0.9497036,\n",
    "        \"subsample\": 0.8715623,\n",
    "        \"subsample_freq\": 1,\n",
    "        \"max_depth\": 8,\n",
    "        \"reg_alpha\": 0.041545473,\n",
    "        \"reg_lambda\": 0.0735294,\n",
    "        \"min_split_gain\": 0.0222415,\n",
    "        \"min_child_weight\": 39.3259775,\n",
    "        \"random_state\": 0,\n",
    "        \"silent\": -1,\n",
    "        \"verbose\": -1\n",
    "    }\n",
    "\n",
    "    b = time.time()\n",
    "\n",
    "    print((b - a) / 60)\n",
    "\n",
    "    lg_clf = LightGBMWrapper(clf=LGBMClassifier, seed=0, params=lgb_params)\n",
    "    lg_clf.train(X_data, y_data)\n",
    "\n",
    "    c = time.time()\n",
    "    print((time.time() - b) / 60)\n",
    "\n",
    "    pred_test = lg_clf.predict(X_test)\n",
    "    print((time.time() - c) / 60)\n",
    "\n",
    "    import pickle\n",
    "\n",
    "    with open(\"./models/lgb-017-nround2000-fs{}\".format(seed), \"wb\") as ofile:\n",
    "        pickle.dump(lg_clf, ofile, 0)\n",
    "\n",
    "    np.save(\"./result/submission-017-lgb2000-fs{}\".format(seed), pred_test)\n",
    "\n",
    "    test[\"TARGET\"] = pred_test\n",
    "    test[[\"SK_ID_CURR\", \"TARGET\"]].to_csv(\"./result/submission-017-lgb2000-fs{}.csv\".format(seed), index=False)"
   ]
  },
  {
   "cell_type": "markdown",
   "metadata": {},
   "source": [
    "### cat"
   ]
  },
  {
   "cell_type": "code",
   "execution_count": 27,
   "metadata": {},
   "outputs": [
    {
     "name": "stdout",
     "output_type": "stream",
     "text": [
      "(307507, 1889) (48744, 1889)\n",
      "0:\tlearn: 0.6701972\ttotal: 2.09s\tremaining: 1h 9m 38s\n",
      "25:\tlearn: 0.3677380\ttotal: 57.6s\tremaining: 1h 12m 53s\n",
      "50:\tlearn: 0.2868992\ttotal: 1m 52s\tremaining: 1h 11m 36s\n",
      "75:\tlearn: 0.2617818\ttotal: 2m 45s\tremaining: 1h 10m\n",
      "100:\tlearn: 0.2525575\ttotal: 3m 41s\tremaining: 1h 9m 33s\n",
      "125:\tlearn: 0.2484336\ttotal: 4m 35s\tremaining: 1h 8m 16s\n",
      "150:\tlearn: 0.2461474\ttotal: 5m 28s\tremaining: 1h 7m 7s\n",
      "175:\tlearn: 0.2445893\ttotal: 6m 22s\tremaining: 1h 6m 3s\n",
      "200:\tlearn: 0.2434715\ttotal: 7m 15s\tremaining: 1h 5m\n",
      "225:\tlearn: 0.2425717\ttotal: 8m 9s\tremaining: 1h 3m 59s\n",
      "250:\tlearn: 0.2417619\ttotal: 9m 2s\tremaining: 1h 2m 58s\n",
      "275:\tlearn: 0.2410468\ttotal: 9m 56s\tremaining: 1h 2m 4s\n",
      "300:\tlearn: 0.2404033\ttotal: 10m 49s\tremaining: 1h 1m 5s\n",
      "325:\tlearn: 0.2397610\ttotal: 11m 42s\tremaining: 1h 9s\n",
      "350:\tlearn: 0.2392366\ttotal: 12m 36s\tremaining: 59m 13s\n",
      "375:\tlearn: 0.2387255\ttotal: 13m 29s\tremaining: 58m 17s\n",
      "400:\tlearn: 0.2382566\ttotal: 14m 22s\tremaining: 57m 19s\n",
      "425:\tlearn: 0.2378166\ttotal: 15m 15s\tremaining: 56m 24s\n",
      "450:\tlearn: 0.2373950\ttotal: 16m 9s\tremaining: 55m 28s\n",
      "475:\tlearn: 0.2369638\ttotal: 17m 2s\tremaining: 54m 34s\n",
      "500:\tlearn: 0.2365608\ttotal: 17m 56s\tremaining: 53m 39s\n",
      "525:\tlearn: 0.2362216\ttotal: 18m 49s\tremaining: 52m 44s\n",
      "550:\tlearn: 0.2358671\ttotal: 19m 43s\tremaining: 51m 52s\n",
      "575:\tlearn: 0.2355290\ttotal: 20m 37s\tremaining: 50m 58s\n",
      "600:\tlearn: 0.2352339\ttotal: 21m 33s\tremaining: 50m 10s\n",
      "625:\tlearn: 0.2349475\ttotal: 22m 29s\tremaining: 49m 21s\n",
      "650:\tlearn: 0.2346487\ttotal: 23m 29s\tremaining: 48m 40s\n",
      "675:\tlearn: 0.2343750\ttotal: 24m 27s\tremaining: 47m 53s\n",
      "700:\tlearn: 0.2340929\ttotal: 25m 24s\tremaining: 47m 5s\n",
      "725:\tlearn: 0.2337787\ttotal: 26m 18s\tremaining: 46m 10s\n",
      "750:\tlearn: 0.2335120\ttotal: 27m 14s\tremaining: 45m 17s\n",
      "775:\tlearn: 0.2332464\ttotal: 28m 10s\tremaining: 44m 25s\n",
      "800:\tlearn: 0.2330121\ttotal: 29m 8s\tremaining: 43m 37s\n",
      "825:\tlearn: 0.2327705\ttotal: 30m 4s\tremaining: 42m 44s\n",
      "850:\tlearn: 0.2325398\ttotal: 31m\tremaining: 41m 51s\n",
      "875:\tlearn: 0.2323027\ttotal: 31m 56s\tremaining: 40m 59s\n",
      "900:\tlearn: 0.2320774\ttotal: 32m 54s\tremaining: 40m 8s\n",
      "925:\tlearn: 0.2318496\ttotal: 33m 48s\tremaining: 39m 12s\n",
      "950:\tlearn: 0.2316447\ttotal: 34m 42s\tremaining: 38m 17s\n",
      "975:\tlearn: 0.2314279\ttotal: 35m 36s\tremaining: 37m 22s\n",
      "1000:\tlearn: 0.2312075\ttotal: 36m 31s\tremaining: 36m 26s\n",
      "1025:\tlearn: 0.2310007\ttotal: 37m 25s\tremaining: 35m 31s\n",
      "1050:\tlearn: 0.2307654\ttotal: 38m 18s\tremaining: 34m 35s\n",
      "1075:\tlearn: 0.2305602\ttotal: 39m 13s\tremaining: 33m 40s\n",
      "1100:\tlearn: 0.2303704\ttotal: 40m 8s\tremaining: 32m 46s\n",
      "1125:\tlearn: 0.2301788\ttotal: 41m 3s\tremaining: 31m 52s\n",
      "1150:\tlearn: 0.2299909\ttotal: 41m 58s\tremaining: 30m 57s\n",
      "1175:\tlearn: 0.2297967\ttotal: 42m 51s\tremaining: 30m 1s\n",
      "1200:\tlearn: 0.2295975\ttotal: 43m 45s\tremaining: 29m 6s\n",
      "1225:\tlearn: 0.2294206\ttotal: 44m 39s\tremaining: 28m 11s\n",
      "1250:\tlearn: 0.2292377\ttotal: 45m 33s\tremaining: 27m 16s\n",
      "1275:\tlearn: 0.2290647\ttotal: 46m 27s\tremaining: 26m 21s\n",
      "1300:\tlearn: 0.2288780\ttotal: 47m 21s\tremaining: 25m 26s\n",
      "1325:\tlearn: 0.2286901\ttotal: 48m 15s\tremaining: 24m 31s\n",
      "1350:\tlearn: 0.2285091\ttotal: 49m 9s\tremaining: 23m 36s\n",
      "1375:\tlearn: 0.2283474\ttotal: 50m 4s\tremaining: 22m 42s\n",
      "1400:\tlearn: 0.2281858\ttotal: 50m 59s\tremaining: 21m 48s\n",
      "1425:\tlearn: 0.2280015\ttotal: 51m 52s\tremaining: 20m 52s\n",
      "1450:\tlearn: 0.2278132\ttotal: 52m 46s\tremaining: 19m 58s\n",
      "1475:\tlearn: 0.2276293\ttotal: 53m 40s\tremaining: 19m 3s\n",
      "1500:\tlearn: 0.2274649\ttotal: 54m 34s\tremaining: 18m 8s\n",
      "1525:\tlearn: 0.2272982\ttotal: 55m 28s\tremaining: 17m 13s\n",
      "1550:\tlearn: 0.2271131\ttotal: 56m 22s\tremaining: 16m 19s\n",
      "1575:\tlearn: 0.2269568\ttotal: 57m 17s\tremaining: 15m 24s\n",
      "1600:\tlearn: 0.2267929\ttotal: 58m 11s\tremaining: 14m 30s\n",
      "1625:\tlearn: 0.2266376\ttotal: 59m 5s\tremaining: 13m 35s\n",
      "1650:\tlearn: 0.2264635\ttotal: 1h 1s\tremaining: 12m 41s\n",
      "1675:\tlearn: 0.2263162\ttotal: 1h 55s\tremaining: 11m 46s\n",
      "1700:\tlearn: 0.2261627\ttotal: 1h 1m 49s\tremaining: 10m 52s\n",
      "1725:\tlearn: 0.2260038\ttotal: 1h 2m 43s\tremaining: 9m 57s\n",
      "1750:\tlearn: 0.2258434\ttotal: 1h 3m 37s\tremaining: 9m 2s\n",
      "1775:\tlearn: 0.2256808\ttotal: 1h 4m 31s\tremaining: 8m 8s\n",
      "1800:\tlearn: 0.2255364\ttotal: 1h 5m 26s\tremaining: 7m 13s\n",
      "1825:\tlearn: 0.2253875\ttotal: 1h 6m 19s\tremaining: 6m 19s\n",
      "1850:\tlearn: 0.2252467\ttotal: 1h 7m 14s\tremaining: 5m 24s\n",
      "1875:\tlearn: 0.2250909\ttotal: 1h 8m 8s\tremaining: 4m 30s\n",
      "1900:\tlearn: 0.2249196\ttotal: 1h 9m 1s\tremaining: 3m 35s\n",
      "1925:\tlearn: 0.2247659\ttotal: 1h 9m 56s\tremaining: 2m 41s\n",
      "1950:\tlearn: 0.2246006\ttotal: 1h 10m 50s\tremaining: 1m 46s\n",
      "1975:\tlearn: 0.2244475\ttotal: 1h 11m 44s\tremaining: 52.3s\n"
     ]
    }
   ],
   "source": [
    "import catboost\n",
    "\n",
    "X_data = data[features].values\n",
    "X_test = test[features].values\n",
    "\n",
    "print(X_data.shape, X_test.shape)\n",
    "\n",
    "y_data = y.TARGET.values\n",
    "\n",
    "cb_params = {\n",
    "    \"iterations\": 2000, # 1600,\n",
    "    \"learning_rate\": 0.02,\n",
    "    \"depth\": 6,\n",
    "    \"bagging_temperature\": 0.5,\n",
    "    \"loss_function\":'Logloss',\n",
    "    \"eval_metric\": 'CrossEntropy',\n",
    "    \"metric_period\": 25,\n",
    "    \"rsm\": .7,\n",
    "    \"od_type\":'Iter',\n",
    "    \"od_wait\": 200,\n",
    "    \"random_seed\":17,\n",
    "    \"allow_writing_files\":False\n",
    "}\n",
    "\n",
    "cb_clf = CatboostWrapper(clf=catboost.CatBoostClassifier, params=cb_params)\n",
    "cb_clf.train(X_data, y_data)\n",
    "pred_test = cb_clf.predict(X_test)"
   ]
  },
  {
   "cell_type": "code",
   "execution_count": 28,
   "metadata": {},
   "outputs": [],
   "source": [
    "import pickle\n",
    "\n",
    "with open(\"./models/xgb-017-cat2000\", \"wb\") as ofile:\n",
    "    pickle.dump(cb_clf, ofile, 0)"
   ]
  },
  {
   "cell_type": "code",
   "execution_count": 29,
   "metadata": {},
   "outputs": [],
   "source": [
    "np.save(\"./result/submission-017-cat2000\", pred_test)"
   ]
  },
  {
   "cell_type": "code",
   "execution_count": 30,
   "metadata": {},
   "outputs": [],
   "source": [
    "test[\"TARGET\"] = pred_test\n",
    "test[[\"SK_ID_CURR\", \"TARGET\"]].to_csv(\"./result/submission-017-cat2000.csv\", index=False)"
   ]
  },
  {
   "cell_type": "markdown",
   "metadata": {},
   "source": [
    "### ensemble"
   ]
  },
  {
   "cell_type": "code",
   "execution_count": 31,
   "metadata": {},
   "outputs": [],
   "source": [
    "pred_test14 = np.load(\"./result/submission-014.npy\")"
   ]
  },
  {
   "cell_type": "code",
   "execution_count": 35,
   "metadata": {},
   "outputs": [],
   "source": [
    "test[\"TARGET\"] = (pred_test14 + pred_test) / 2\n",
    "test[[\"SK_ID_CURR\", \"TARGET\"]].to_csv(\"./result/submission-016-ensemble.csv\", index=False)"
   ]
  },
  {
   "cell_type": "code",
   "execution_count": 45,
   "metadata": {},
   "outputs": [],
   "source": [
    "pred_test16lgb = np.load(\"./result/submission-016-lgb2000.npy\")\n",
    "pred_test16xgb = np.load(\"./result/submission-016-xgb2000-eta25.npy\")"
   ]
  },
  {
   "cell_type": "code",
   "execution_count": 46,
   "metadata": {},
   "outputs": [],
   "source": [
    "test[\"TARGET\"] = (pred_test16lgb + pred_test16xgb) / 2\n",
    "test[[\"SK_ID_CURR\", \"TARGET\"]].to_csv(\"./result/submission-016-ensemble-eta25.csv\", index=False)"
   ]
  },
  {
   "cell_type": "code",
   "execution_count": 48,
   "metadata": {},
   "outputs": [],
   "source": [
    "pred_test16lgb = np.load(\"./result/submission-016-lgb2000.npy\")\n",
    "pred_test16xgb = np.load(\"./result/submission-016-xgb2000-eta25.npy\")\n",
    "\n",
    "a = pd.Series(pred_test16lgb).rank().values\n",
    "b = pd.Series(pred_test16xgb).rank().values"
   ]
  },
  {
   "cell_type": "code",
   "execution_count": 52,
   "metadata": {},
   "outputs": [],
   "source": [
    "test[\"TARGET\"] = (a + b) / (a.max() + b.max())\n",
    "test[[\"SK_ID_CURR\", \"TARGET\"]].to_csv(\"./result/submission-016-rank-eta25.csv\", index=False)"
   ]
  },
  {
   "cell_type": "code",
   "execution_count": 50,
   "metadata": {},
   "outputs": [
    {
     "data": {
      "image/png": "[encoded data removed]",
      "text/plain": [
       "<matplotlib.figure.Figure at 0x1a0df0b8>"
      ]
     },
     "metadata": {},
     "output_type": "display_data"
    }
   ],
   "source": [
    "plt.scatter(a, b, alpha=.1)\n",
    "plt.show()"
   ]
  },
  {
   "cell_type": "markdown",
   "metadata": {},
   "source": [
    "#### mix 3"
   ]
  },
  {
   "cell_type": "code",
   "execution_count": 31,
   "metadata": {},
   "outputs": [],
   "source": [
    "pred_test16lgb = np.load(\"./result/submission-016-lgb2000.npy\")\n",
    "pred_test16xgb = np.load(\"./result/submission-016-xgb2000-eta25.npy\")\n",
    "pred_test16cat = np.load(\"./result/submission-016-cat1600.npy\")\n",
    "\n",
    "a = pd.Series(pred_test16lgb).rank().values\n",
    "b = pd.Series(pred_test16xgb).rank().values\n",
    "c = pd.Series(pred_test16cat).rank().values"
   ]
  },
  {
   "cell_type": "code",
   "execution_count": 35,
   "metadata": {},
   "outputs": [],
   "source": [
    "test[\"TARGET\"] = (a + b + c) / (a.max() + b.max() + c.max())\n",
    "test[[\"SK_ID_CURR\", \"TARGET\"]].to_csv(\"./result/submission-016-rank-mix3.csv\", index=False)"
   ]
  },
  {
   "cell_type": "code",
   "execution_count": 36,
   "metadata": {},
   "outputs": [],
   "source": [
    "test[\"TARGET\"] = (4 * a + 3 * b + 1 * c) / (4 * a.max() + 3 * b.max() + 1 * c.max())\n",
    "test[[\"SK_ID_CURR\", \"TARGET\"]].to_csv(\"./result/submission-016-rank-weighted.csv\", index=False)"
   ]
  },
  {
   "cell_type": "code",
   "execution_count": 34,
   "metadata": {},
   "outputs": [
    {
     "data": {
      "image/png": "[encoded data removed]",
      "text/plain": [
       "<matplotlib.figure.Figure at 0x68d7b38>"
      ]
     },
     "metadata": {},
     "output_type": "display_data"
    }
   ],
   "source": [
    "plt.scatter(a, c, alpha=.1)\n",
    "plt.show()"
   ]
  },
  {
   "cell_type": "code",
   "execution_count": 62,
   "metadata": {},
   "outputs": [
    {
     "data": {
      "text/plain": [
       "(307507, 2030)"
      ]
     },
     "execution_count": 62,
     "metadata": {},
     "output_type": "execute_result"
    }
   ],
   "source": [
    "data.shape"
   ]
  },
  {
   "cell_type": "code",
   "execution_count": 63,
   "metadata": {},
   "outputs": [],
   "source": [
    "datanull_vc = data.isnull().sum()"
   ]
  },
  {
   "cell_type": "code",
   "execution_count": 64,
   "metadata": {},
   "outputs": [
    {
     "data": {
      "text/plain": [
       "230630.25"
      ]
     },
     "execution_count": 64,
     "metadata": {},
     "output_type": "execute_result"
    }
   ],
   "source": [
    "data.shape[0] * .75"
   ]
  },
  {
   "cell_type": "code",
   "execution_count": 67,
   "metadata": {},
   "outputs": [
    {
     "data": {
      "text/plain": [
       "(440,)"
      ]
     },
     "execution_count": 67,
     "metadata": {},
     "output_type": "execute_result"
    }
   ],
   "source": [
    "datanull_vc[datanull_vc > data.shape[0] * .75].shape"
   ]
  },
  {
   "cell_type": "code",
   "execution_count": 59,
   "metadata": {},
   "outputs": [
    {
     "data": {
      "text/plain": [
       "0      445\n",
       "1       99\n",
       "2       64\n",
       "3       43\n",
       "4       34\n",
       "11      31\n",
       "12      28\n",
       "7       28\n",
       "18      27\n",
       "14      27\n",
       "19      26\n",
       "16      26\n",
       "22      26\n",
       "10      26\n",
       "25      24\n",
       "20      24\n",
       "17      24\n",
       "9       24\n",
       "6       24\n",
       "15      23\n",
       "21      23\n",
       "5       22\n",
       "13      22\n",
       "24      20\n",
       "23      19\n",
       "27      18\n",
       "28      18\n",
       "50      18\n",
       "30      16\n",
       "8       16\n",
       "      ... \n",
       "141      1\n",
       "181      1\n",
       "133      1\n",
       "757      1\n",
       "93       1\n",
       "106      1\n",
       "110      1\n",
       "123      1\n",
       "124      1\n",
       "64       1\n",
       "128      1\n",
       "129      1\n",
       "130      1\n",
       "131      1\n",
       "132      1\n",
       "137      1\n",
       "175      1\n",
       "142      1\n",
       "144      1\n",
       "147      1\n",
       "150      1\n",
       "151      1\n",
       "157      1\n",
       "158      1\n",
       "161      1\n",
       "162      1\n",
       "163      1\n",
       "168      1\n",
       "170      1\n",
       "876      1\n",
       "Length: 189, dtype: int64"
      ]
     },
     "execution_count": 59,
     "metadata": {},
     "output_type": "execute_result"
    }
   ],
   "source": [
    "pd.Series(lg_clf.clf.feature_importances_).value_counts()"
   ]
  },
  {
   "cell_type": "markdown",
   "metadata": {},
   "source": [
    "#### mix with kernel"
   ]
  },
  {
   "cell_type": "code",
   "execution_count": 32,
   "metadata": {},
   "outputs": [
    {
     "data": {
      "text/html": [
       "<div>\n",
       "<style scoped>\n",
       "    .dataframe tbody tr th:only-of-type {\n",
       "        vertical-align: middle;\n",
       "    }\n",
       "\n",
       "    .dataframe tbody tr th {\n",
       "        vertical-align: top;\n",
       "    }\n",
       "\n",
       "    .dataframe thead th {\n",
       "        text-align: right;\n",
       "    }\n",
       "</style>\n",
       "<table border=\"1\" class=\"dataframe\">\n",
       "  <thead>\n",
       "    <tr style=\"text-align: right;\">\n",
       "      <th></th>\n",
       "      <th>SK_ID_CURR</th>\n",
       "      <th>TARGET</th>\n",
       "    </tr>\n",
       "  </thead>\n",
       "  <tbody>\n",
       "    <tr>\n",
       "      <th>0</th>\n",
       "      <td>100001</td>\n",
       "      <td>0.033167</td>\n",
       "    </tr>\n",
       "    <tr>\n",
       "      <th>1</th>\n",
       "      <td>100005</td>\n",
       "      <td>0.119856</td>\n",
       "    </tr>\n",
       "    <tr>\n",
       "      <th>2</th>\n",
       "      <td>100013</td>\n",
       "      <td>0.025908</td>\n",
       "    </tr>\n",
       "    <tr>\n",
       "      <th>3</th>\n",
       "      <td>100028</td>\n",
       "      <td>0.037410</td>\n",
       "    </tr>\n",
       "    <tr>\n",
       "      <th>4</th>\n",
       "      <td>100038</td>\n",
       "      <td>0.140051</td>\n",
       "    </tr>\n",
       "  </tbody>\n",
       "</table>\n",
       "</div>"
      ],
      "text/plain": [
       "   SK_ID_CURR    TARGET\n",
       "0      100001  0.033167\n",
       "1      100005  0.119856\n",
       "2      100013  0.025908\n",
       "3      100028  0.037410\n",
       "4      100038  0.140051"
      ]
     },
     "execution_count": 32,
     "metadata": {},
     "output_type": "execute_result"
    }
   ],
   "source": [
    "submission_kernel = pd.read_csv(\"./result/submission_kernel02.csv\")\n",
    "submission_kernel.head()"
   ]
  },
  {
   "cell_type": "code",
   "execution_count": 33,
   "metadata": {},
   "outputs": [],
   "source": [
    "d = pd.Series(submission_kernel.TARGET.values).rank().values"
   ]
  },
  {
   "cell_type": "code",
   "execution_count": 42,
   "metadata": {},
   "outputs": [
    {
     "data": {
      "image/png": "[encoded data removed]",
      "text/plain": [
       "<matplotlib.figure.Figure at 0x6b94828>"
      ]
     },
     "metadata": {},
     "output_type": "display_data"
    },
    {
     "data": {
      "image/png": "[encoded data removed]",
      "text/plain": [
       "<matplotlib.figure.Figure at 0x68fff60>"
      ]
     },
     "metadata": {},
     "output_type": "display_data"
    },
    {
     "data": {
      "image/png": "[encoded data removed]",
      "text/plain": [
       "<matplotlib.figure.Figure at 0x17fcce80>"
      ]
     },
     "metadata": {},
     "output_type": "display_data"
    }
   ],
   "source": [
    "for pred_ in (\n",
    "    pred_test16lgb,\n",
    "    pred_test16xgb,\n",
    "    pred_test16cat,\n",
    "):\n",
    "    plt.scatter(pred_, d, alpha=.1)\n",
    "    plt.show()"
   ]
  },
  {
   "cell_type": "code",
   "execution_count": 44,
   "metadata": {},
   "outputs": [],
   "source": [
    "test[\"TARGET\"] = (4 * a + 3 * b + 1 * c + 5 * d) / (4 * a.max() + 3 * b.max() + 1 * c.max() + 5 * d.max())\n",
    "test[[\"SK_ID_CURR\", \"TARGET\"]].to_csv(\"./result/submission-016-rank-kernel.csv\", index=False)"
   ]
  },
  {
   "cell_type": "markdown",
   "metadata": {},
   "source": [
    "#### mix with kernel2"
   ]
  },
  {
   "cell_type": "code",
   "execution_count": 35,
   "metadata": {},
   "outputs": [],
   "source": [
    "test[\"TARGET\"] = (4 * a + 1 * b + 5 * d) / (4 * a.max() + 1 * b.max() + 5 * d.max())\n",
    "test[[\"SK_ID_CURR\", \"TARGET\"]].to_csv(\"./result/submission-017-rank-kernel2.csv\", index=False)"
   ]
  },
  {
   "cell_type": "markdown",
   "metadata": {},
   "source": [
    "## feature selection"
   ]
  },
  {
   "cell_type": "code",
   "execution_count": 74,
   "metadata": {},
   "outputs": [
    {
     "data": {
      "text/plain": [
       "(1889,)"
      ]
     },
     "execution_count": 74,
     "metadata": {},
     "output_type": "execute_result"
    }
   ],
   "source": [
    "lg_clf.clf.feature_importances_.shape"
   ]
  },
  {
   "cell_type": "code",
   "execution_count": 81,
   "metadata": {},
   "outputs": [
    {
     "name": "stdout",
     "output_type": "stream",
     "text": [
      "1250\n"
     ]
    }
   ],
   "source": [
    "features_selected = []\n",
    "for ftr_, (null_cnt_, imp_) in zip(features,zip(datanull_vc[features].values, lg_clf.clf.feature_importances_)):\n",
    "    if null_cnt_ >= data.shape[0] * .75 or imp_ <= 0:\n",
    "        continue\n",
    "    features_selected.append(ftr_)\n",
    "print(len(features_selected))"
   ]
  },
  {
   "cell_type": "code",
   "execution_count": 82,
   "metadata": {},
   "outputs": [],
   "source": [
    "np.save(\"./models/features-selected-016\", features_selected)"
   ]
  },
  {
   "cell_type": "markdown",
   "metadata": {},
   "source": [
    "### lgb -selected"
   ]
  },
  {
   "cell_type": "code",
   "execution_count": 84,
   "metadata": {},
   "outputs": [
    {
     "data": {
      "text/plain": [
       "0.7685096270671824"
      ]
     },
     "execution_count": 84,
     "metadata": {},
     "output_type": "execute_result"
    }
   ],
   "source": [
    "X_num_train = data_train[features_selected].values\n",
    "X_num_val = data_val[features_selected].values\n",
    "\n",
    "y_train = ydata_train.TARGET.values\n",
    "y_val = ydata_val.TARGET.values\n",
    "\n",
    "lgb_params =  {\n",
    "    \"nthread\": 8,\n",
    "    \"n_estimators\": 250, # 10000,\n",
    "    \"learning_rate\": 0.02,\n",
    "    \"num_leaves\": 34,\n",
    "    \"colsample_bytree\": 0.9497036,\n",
    "    \"subsample\": 0.8715623,\n",
    "    \"subsample_freq\": 1,\n",
    "    \"max_depth\": 8,\n",
    "    \"reg_alpha\": 0.041545473,\n",
    "    \"reg_lambda\": 0.0735294,\n",
    "    \"min_split_gain\": 0.0222415,\n",
    "    \"min_child_weight\": 39.3259775,\n",
    "    \"random_state\": 0,\n",
    "    \"silent\": -1,\n",
    "    \"verbose\": -1\n",
    "}\n",
    "\n",
    "lg_clf = LightGBMWrapper(clf=LGBMClassifier, seed=0, params=lgb_params)\n",
    "lg_clf.train(X_num_train, y_train)\n",
    "pred_val = lg_clf.predict(X_num_val)\n",
    "roc_auc_score(y_val, pred_val)"
   ]
  },
  {
   "cell_type": "markdown",
   "metadata": {},
   "source": [
    "### et -selected"
   ]
  },
  {
   "cell_type": "code",
   "execution_count": 85,
   "metadata": {},
   "outputs": [],
   "source": [
    "from sklearn.ensemble import ExtraTreesClassifier"
   ]
  },
  {
   "cell_type": "code",
   "execution_count": 100,
   "metadata": {},
   "outputs": [
    {
     "name": "stderr",
     "output_type": "stream",
     "text": [
      "C:\\Anaconda2\\envs\\python3\\lib\\site-packages\\ipykernel\\__main__.py:5: RuntimeWarning: invalid value encountered in less\n",
      "C:\\Anaconda2\\envs\\python3\\lib\\site-packages\\ipykernel\\__main__.py:5: RuntimeWarning: invalid value encountered in greater\n"
     ]
    },
    {
     "data": {
      "text/plain": [
       "(3.6449999e+11, -3913034.0)"
      ]
     },
     "execution_count": 100,
     "metadata": {},
     "output_type": "execute_result"
    }
   ],
   "source": [
    "X_num_train = data_train[features_selected].values.astype(np.float32)\n",
    "X_num_val = data_val[features_selected].values.astype(np.float32)\n",
    "\n",
    "X_num_train[X_num_train < np.Inf].max(), X_num_train[X_num_train > -np.Inf].min()"
   ]
  },
  {
   "cell_type": "code",
   "execution_count": 103,
   "metadata": {},
   "outputs": [
    {
     "name": "stdout",
     "output_type": "stream",
     "text": [
      "0 3.645e+11 -3.91303e+06\n",
      "0 3.645e+11 -3.91303e+06\n"
     ]
    },
    {
     "data": {
      "text/plain": [
       "0.74009269913461462"
      ]
     },
     "execution_count": 103,
     "metadata": {},
     "output_type": "execute_result"
    }
   ],
   "source": [
    "X_num_train = data_train[features_selected].values.astype(np.float32)\n",
    "X_num_val = data_val[features_selected].values.astype(np.float32)\n",
    "\n",
    "X_num_train[np.isnan(X_num_train)] = -1\n",
    "X_num_train[X_num_train > 3.6449999e+11] = 3.6449999e+11\n",
    "X_num_train[X_num_train < -3913034] = -3913034\n",
    "\n",
    "X_num_val[np.isnan(X_num_val)] = -1\n",
    "X_num_val[X_num_val > 3.6449999e+11] = 3.6449999e+11\n",
    "X_num_val[X_num_val < -3913034] = -3913034\n",
    "\n",
    "\n",
    "y_train = ydata_train.TARGET.values\n",
    "y_val = ydata_val.TARGET.values\n",
    "\n",
    "\n",
    "et_params = {\n",
    "    'n_jobs': 8,\n",
    "    'n_estimators': 200,\n",
    "    'max_features': 0.5,\n",
    "    'max_depth': 10,\n",
    "    'min_samples_leaf': 100,\n",
    "}\n",
    "\n",
    "print(np.isnan(X_num_train).sum(), X_num_train.max(), X_num_train.min())\n",
    "print(np.isnan(X_num_val).sum(), X_num_val.max(), X_num_val.min())\n",
    "\n",
    "et_clf = SklearnWrapper(clf=ExtraTreesClassifier, params=et_params)\n",
    "et_clf.train(X_num_train, y_train)\n",
    "pred_val = et_clf.predict(X_num_val)\n",
    "roc_auc_score(y_val, pred_val)"
   ]
  },
  {
   "cell_type": "markdown",
   "metadata": {},
   "source": [
    "### rf -selected"
   ]
  },
  {
   "cell_type": "code",
   "execution_count": 104,
   "metadata": {},
   "outputs": [],
   "source": [
    "from sklearn.ensemble import RandomForestClassifier"
   ]
  },
  {
   "cell_type": "code",
   "execution_count": 107,
   "metadata": {},
   "outputs": [
    {
     "name": "stdout",
     "output_type": "stream",
     "text": [
      "0 3.645e+11 -3.91303e+06\n",
      "0 3.645e+11 -3.91303e+06\n"
     ]
    },
    {
     "data": {
      "text/plain": [
       "0.73890424084642814"
      ]
     },
     "execution_count": 107,
     "metadata": {},
     "output_type": "execute_result"
    }
   ],
   "source": [
    "X_num_train = data_train[features_selected].values.astype(np.float32)\n",
    "X_num_val = data_val[features_selected].values.astype(np.float32)\n",
    "\n",
    "X_num_train[np.isnan(X_num_train)] = -1\n",
    "X_num_train[X_num_train > 3.6449999e+11] = 3.6449999e+11\n",
    "X_num_train[X_num_train < -3913034] = -3913034\n",
    "\n",
    "X_num_val[np.isnan(X_num_val)] = -1\n",
    "X_num_val[X_num_val > 3.6449999e+11] = 3.6449999e+11\n",
    "X_num_val[X_num_val < -3913034] = -3913034\n",
    "\n",
    "y_train = ydata_train.TARGET.values\n",
    "y_val = ydata_val.TARGET.values\n",
    "\n",
    "rf_params = {\n",
    "    'n_jobs': 8,\n",
    "    'n_estimators': 200,\n",
    "    'max_features': 0.2,\n",
    "    'max_depth': 8,\n",
    "    'min_samples_leaf': 40,\n",
    "}\n",
    "\n",
    "print(np.isnan(X_num_train).sum(), X_num_train.max(), X_num_train.min())\n",
    "print(np.isnan(X_num_val).sum(), X_num_val.max(), X_num_val.min())\n",
    "\n",
    "et_clf = SklearnWrapper(clf=RandomForestClassifier, params=rf_params)\n",
    "et_clf.train(X_num_train, y_train)\n",
    "pred_val = et_clf.predict(X_num_val)\n",
    "roc_auc_score(y_val, pred_val)"
   ]
  }
 ],
 "metadata": {
  "anaconda-cloud": {},
  "kernelspec": {
   "display_name": "Python [conda env:python3]",
   "language": "python",
   "name": "conda-env-python3-py"
  },
  "language_info": {
   "codemirror_mode": {
    "name": "ipython",
    "version": 3
   },
   "file_extension": ".py",
   "mimetype": "text/x-python",
   "name": "python",
   "nbconvert_exporter": "python",
   "pygments_lexer": "ipython3",
   "version": "3.6.6"
  },
  "toc": {
   "nav_menu": {
    "height": "370px",
    "width": "252px"
   },
   "navigate_menu": true,
   "number_sections": true,
   "sideBar": true,
   "threshold": 4,
   "toc_cell": false,
   "toc_position": {
    "height": "789px",
    "left": "0px",
    "right": "1488px",
    "top": "138px",
    "width": "212px"
   },
   "toc_section_display": "block",
   "toc_window_display": true
  }
 },
 "nbformat": 4,
 "nbformat_minor": 2
}
