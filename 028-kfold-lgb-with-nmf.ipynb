{
 "cells": [
  {
   "cell_type": "markdown",
   "metadata": {},
   "source": [
    "## functions"
   ]
  },
  {
   "cell_type": "code",
   "execution_count": 1,
   "metadata": {},
   "outputs": [],
   "source": [
    "import pandas as pd\n",
    "import numpy as np\n",
    "import os\n",
    "import gc\n",
    "\n",
    "import addict\n",
    "import lightgbm as lgb\n",
    "\n",
    "def save_dataframe(path, dataframe):\n",
    "    np.save(path + \".data\", dataframe.values)\n",
    "    np.save(path + \".header\", dataframe.columns)\n",
    "\n",
    "\n",
    "def load_dataframe(path):\n",
    "    data = np.load(path + \".data.npy\")\n",
    "    header = np.load(path + \".header.npy\")\n",
    "    return pd.DataFrame(data=data, columns=header)\n",
    "\n",
    "\n",
    "def save_dataframe32(path, dataframe, keep=[]):\n",
    "    col64 = [col_ for col_ in dataframe.columns if col_ in keep]\n",
    "    col32 = [col_ for col_ in dataframe.columns if col_ not in keep]\n",
    "    dataframe64 = dataframe[col64]\n",
    "    dataframe32 = dataframe[col32]\n",
    "    np.save(path + \".data64\", dataframe64.values)\n",
    "    np.save(path + \".header64\", col64)\n",
    "    np.save(path + \".data32\", dataframe32.values.astype(np.float32))\n",
    "    np.save(path + \".header32\", col32)\n",
    "\n",
    "\n",
    "def load_dataframe32(path, nrows=None):\n",
    "    path_data32 = path + \".data32.npy\"\n",
    "    path_header32 = path + \".header32.npy\"\n",
    "    path_data64 = path + \".data64.npy\"\n",
    "    path_header64 = path + \".header64.npy\"\n",
    "    result = pd.DataFrame()\n",
    "    if os.path.exists(path_data32):\n",
    "        data32 = np.load(path_data32)\n",
    "        header32 = np.load(path_header32)\n",
    "        df32 = pd.DataFrame(data=data32, columns=header32)\n",
    "        result = pd.concat([result, df32], axis=1)\n",
    "    if os.path.exists(path_data64):\n",
    "        data64 = np.load(path_data64)\n",
    "        header64 = np.load(path_header64)\n",
    "        df64 = pd.DataFrame(data=data64, columns=header64)\n",
    "        result = pd.concat([result, df64], axis=1)\n",
    "    if nrows and nrows > 0:\n",
    "        return result.head(nrows)\n",
    "    return result"
   ]
  },
  {
   "cell_type": "code",
   "execution_count": 2,
   "metadata": {},
   "outputs": [],
   "source": [
    "from sklearn.metrics import roc_auc_score"
   ]
  },
  {
   "cell_type": "markdown",
   "metadata": {},
   "source": [
    "## check data"
   ]
  },
  {
   "cell_type": "code",
   "execution_count": 5,
   "metadata": {},
   "outputs": [
    {
     "name": "stdout",
     "output_type": "stream",
     "text": [
      "./neptune-features/train_idx_0.npy ./neptune-features/valid_idx_0.npy\n",
      "(246008,) (61503,)\n",
      "./neptune-features/data_246008_1174_0 (246008, 1174)\n",
      "./neptune-features/data_61503_1174_1 (61503, 1174)\n",
      "./neptune-features/data_48744_1174_3 (48744, 1174)\n",
      "./nmf-features/nmf_246008_1174_0 (246008, 492)\n",
      "./nmf-features/nmf_61503_1174_1 (61503, 492)\n",
      "./nmf-features/nmf_48744_1174_3 (48744, 492)\n",
      "(246008, 1666) (246008,)\n",
      "(61503, 1666) (61503,)\n",
      "(48744, 1666)\n",
      "./neptune-features/train_idx_1.npy ./neptune-features/valid_idx_1.npy\n",
      "(246009,) (61502,)\n",
      "./neptune-features/data_246009_1174_4 (246009, 1174)\n",
      "./neptune-features/data_61502_1174_5 (61502, 1174)\n",
      "./neptune-features/data_48744_1174_7 (48744, 1174)\n",
      "./nmf-features/nmf_246009_1174_4 (246009, 492)\n",
      "./nmf-features/nmf_61502_1174_5 (61502, 492)\n",
      "./nmf-features/nmf_48744_1174_7 (48744, 492)\n",
      "(246009, 1666) (246009,)\n",
      "(61502, 1666) (61502,)\n",
      "(48744, 1666)\n",
      "./neptune-features/train_idx_2.npy ./neptune-features/valid_idx_2.npy\n",
      "(246009,) (61502,)\n",
      "./neptune-features/data_246009_1174_8 (246009, 1174)\n",
      "./neptune-features/data_61502_1174_9 (61502, 1174)\n",
      "./neptune-features/data_48744_1174_11 (48744, 1174)\n",
      "./nmf-features/nmf_246009_1174_8 (246009, 492)\n",
      "./nmf-features/nmf_61502_1174_9 (61502, 492)\n",
      "./nmf-features/nmf_48744_1174_11 (48744, 492)\n",
      "(246009, 1666) (246009,)\n",
      "(61502, 1666) (61502,)\n",
      "(48744, 1666)\n",
      "./neptune-features/train_idx_3.npy ./neptune-features/valid_idx_3.npy\n",
      "(246009,) (61502,)\n",
      "./neptune-features/data_246009_1174_12 (246009, 1174)\n",
      "./neptune-features/data_61502_1174_13 (61502, 1174)\n",
      "./neptune-features/data_48744_1174_15 (48744, 1174)\n",
      "./nmf-features/nmf_246009_1174_12 (246009, 492)\n",
      "./nmf-features/nmf_61502_1174_13 (61502, 492)\n",
      "./nmf-features/nmf_48744_1174_15 (48744, 492)\n",
      "(246009, 1666) (246009,)\n",
      "(61502, 1666) (61502,)\n",
      "(48744, 1666)\n",
      "./neptune-features/train_idx_4.npy ./neptune-features/valid_idx_4.npy\n",
      "(246009,) (61502,)\n",
      "./neptune-features/data_246009_1174_16 (246009, 1174)\n",
      "./neptune-features/data_61502_1174_17 (61502, 1174)\n",
      "./neptune-features/data_48744_1174_19 (48744, 1174)\n",
      "./nmf-features/nmf_246009_1174_16 (246009, 492)\n",
      "./nmf-features/nmf_61502_1174_17 (61502, 492)\n",
      "./nmf-features/nmf_48744_1174_19 (48744, 492)\n",
      "(246009, 1666) (246009,)\n",
      "(61502, 1666) (61502,)\n",
      "(48744, 1666)\n"
     ]
    }
   ],
   "source": [
    "# nrows = None  \n",
    "nrows = None\n",
    "\n",
    "features = list(np.load('./neptune-features/features_246008_1174_0.npy'))\n",
    "features_nmf = list(np.load('./nmf-features/features-part2.npy'))\n",
    "\n",
    "train_app = load_dataframe32(\"./bindata/application_train\")\n",
    "auc_valid_stack = []\n",
    "pred_valid_stack = []\n",
    "pred_test_stack = []\n",
    "\n",
    "for i in range(5):\n",
    "    train_idx_fn = \"./neptune-features/train_idx_{}.npy\".format(i)\n",
    "    valid_idx_fn = \"./neptune-features/valid_idx_{}.npy\".format(i)\n",
    "\n",
    "    train_offset, valid_offset, test_offset = i * 4, i * 4 + 1, i * 4 + 3\n",
    "    \n",
    "    train_data_fn = \"./neptune-features/data_246009_1174_{}\".format(train_offset)\n",
    "    valid_data_fn = \"./neptune-features/data_61502_1174_{}\".format(valid_offset)\n",
    "    test_data_fn = \"./neptune-features/data_48744_1174_{}\".format(test_offset)\n",
    "\n",
    "    if i == 0:\n",
    "        train_data_fn = train_data_fn.replace(\"246009\", \"246008\")\n",
    "        valid_data_fn = valid_data_fn.replace(\"61502\", \"61503\")\n",
    "        \n",
    "    train_nmf_fn = \"./nmf-features/nmf_246009_1174_{}\".format(train_offset)\n",
    "    valid_nmf_fn = \"./nmf-features/nmf_61502_1174_{}\".format(valid_offset)\n",
    "    test_nmf_fn = \"./nmf-features/nmf_48744_1174_{}\".format(test_offset)\n",
    "\n",
    "    if i == 0:\n",
    "        train_nmf_fn = train_nmf_fn.replace(\"246009\", \"246008\")\n",
    "        valid_nmf_fn = valid_nmf_fn.replace(\"61502\", \"61503\")\n",
    "    \n",
    "    gc.collect()\n",
    "\n",
    "    train_idx = np.load(train_idx_fn)\n",
    "    valid_idx = np.load(valid_idx_fn)\n",
    "    \n",
    "    if nrows:\n",
    "        train_idx, valid_idx = train_idx[:nrows].copy(), valid_idx[:nrows].copy()\n",
    "\n",
    "    train_data = load_dataframe32(train_data_fn, nrows)\n",
    "    valid_data = load_dataframe32(valid_data_fn, nrows)\n",
    "    test_data = load_dataframe32(test_data_fn, nrows)\n",
    "    \n",
    "    train_nmf = load_dataframe32(train_nmf_fn, nrows)\n",
    "    valid_nmf = load_dataframe32(valid_nmf_fn, nrows)\n",
    "    test_nmf = load_dataframe32(test_nmf_fn, nrows)\n",
    "    \n",
    "    gc.collect()\n",
    "    \n",
    "    X_train = np.hstack([train_data.values, train_nmf.values])\n",
    "    X_valid = np.hstack([valid_data.values, valid_nmf.values])\n",
    "    X_test = np.hstack([test_data.values, test_nmf.values])\n",
    "    y_train = train_app.loc[train_idx].TARGET\n",
    "    y_valid = train_app.loc[valid_idx].TARGET\n",
    "    \n",
    "    print(train_idx_fn, valid_idx_fn)\n",
    "    print(train_idx.shape, valid_idx.shape)\n",
    "    print(train_data_fn, train_data.shape)\n",
    "    print(valid_data_fn, valid_data.shape)\n",
    "    print(test_data_fn, test_data.shape)\n",
    "\n",
    "    print(train_nmf_fn, train_nmf.shape)\n",
    "    print(valid_nmf_fn, valid_nmf.shape)\n",
    "    print(test_nmf_fn, test_nmf.shape)\n",
    "    \n",
    "    print(X_train.shape, y_train.shape)\n",
    "    print(X_valid.shape, y_valid.shape)\n",
    "    print(X_test.shape)"
   ]
  },
  {
   "cell_type": "markdown",
   "metadata": {},
   "source": [
    "## lightGBM"
   ]
  },
  {
   "cell_type": "code",
   "execution_count": 6,
   "metadata": {},
   "outputs": [],
   "source": [
    "lgb_params = addict.Dict()\n",
    "lgb_params.boosting_type = \"gbdt\"\n",
    "lgb_params.objective = \"binary\"\n",
    "lgb_params.metric = \"auc\"\n",
    "lgb_params.learning_rate = 0.02\n",
    "lgb_params.max_bin = 300\n",
    "lgb_params.max_depth = -1\n",
    "lgb_params.num_leaves = 30\n",
    "lgb_params.min_child_samples = 70\n",
    "lgb_params.subsample = 1.0\n",
    "lgb_params.subsample_freq = 1\n",
    "lgb_params.colsample_bytree = 0.05\n",
    "lgb_params.min_gain_to_split = 0.5\n",
    "lgb_params.reg_lambda = 100\n",
    "lgb_params.reg_alpha = 0.0\n",
    "lgb_params.scale_pos_weight = 1\n",
    "lgb_params.is_unbalance = False"
   ]
  },
  {
   "cell_type": "code",
   "execution_count": 8,
   "metadata": {
    "scrolled": false
   },
   "outputs": [
    {
     "name": "stdout",
     "output_type": "stream",
     "text": [
      "./neptune-features/train_idx_0.npy ./neptune-features/valid_idx_0.npy\n",
      "(246008,) (61503,)\n",
      "./neptune-features/data_246008_1174_0 (246008, 1174)\n",
      "./neptune-features/data_61503_1174_1 (61503, 1174)\n",
      "./neptune-features/data_48744_1174_3 (48744, 1174)\n",
      "./nmf-features/nmf_246008_1174_0 (246008, 492)\n",
      "./nmf-features/nmf_61503_1174_1 (61503, 492)\n",
      "./nmf-features/nmf_48744_1174_3 (48744, 492)\n",
      "(246008, 1666) (246008,)\n",
      "(61503, 1666) (61503,)\n",
      "(48744, 1666)\n",
      "Training until validation scores don't improve for 100 rounds.\n",
      "[100]\tdata_train's auc: 0.769268\tdata_valid's auc: 0.764094\n",
      "[200]\tdata_train's auc: 0.784729\tdata_valid's auc: 0.77605\n",
      "[300]\tdata_train's auc: 0.795489\tdata_valid's auc: 0.782882\n",
      "[400]\tdata_train's auc: 0.803533\tdata_valid's auc: 0.786865\n",
      "[500]\tdata_train's auc: 0.810565\tdata_valid's auc: 0.789508\n",
      "[600]\tdata_train's auc: 0.816922\tdata_valid's auc: 0.791686\n",
      "[700]\tdata_train's auc: 0.822574\tdata_valid's auc: 0.793064\n",
      "[800]\tdata_train's auc: 0.827879\tdata_valid's auc: 0.7941\n",
      "[900]\tdata_train's auc: 0.832669\tdata_valid's auc: 0.795069\n",
      "[1000]\tdata_train's auc: 0.837432\tdata_valid's auc: 0.795698\n",
      "[1100]\tdata_train's auc: 0.841925\tdata_valid's auc: 0.796124\n",
      "[1200]\tdata_train's auc: 0.84606\tdata_valid's auc: 0.796565\n",
      "[1300]\tdata_train's auc: 0.85006\tdata_valid's auc: 0.796783\n",
      "[1400]\tdata_train's auc: 0.853875\tdata_valid's auc: 0.797064\n",
      "[1500]\tdata_train's auc: 0.857546\tdata_valid's auc: 0.797209\n",
      "[1600]\tdata_train's auc: 0.860962\tdata_valid's auc: 0.797414\n",
      "[1700]\tdata_train's auc: 0.86432\tdata_valid's auc: 0.797523\n",
      "[1800]\tdata_train's auc: 0.867558\tdata_valid's auc: 0.797562\n",
      "Early stopping, best iteration is:\n",
      "[1794]\tdata_train's auc: 0.867376\tdata_valid's auc: 0.797573\n",
      "fold-0,auc:0.7975734773931512\n",
      "./neptune-features/train_idx_1.npy ./neptune-features/valid_idx_1.npy\n",
      "(246009,) (61502,)\n",
      "./neptune-features/data_246009_1174_4 (246009, 1174)\n",
      "./neptune-features/data_61502_1174_5 (61502, 1174)\n",
      "./neptune-features/data_48744_1174_7 (48744, 1174)\n",
      "./nmf-features/nmf_246009_1174_4 (246009, 492)\n",
      "./nmf-features/nmf_61502_1174_5 (61502, 492)\n",
      "./nmf-features/nmf_48744_1174_7 (48744, 492)\n",
      "(246009, 1666) (246009,)\n",
      "(61502, 1666) (61502,)\n",
      "(48744, 1666)\n",
      "Training until validation scores don't improve for 100 rounds.\n",
      "[100]\tdata_train's auc: 0.770946\tdata_valid's auc: 0.757336\n",
      "[200]\tdata_train's auc: 0.786696\tdata_valid's auc: 0.768764\n",
      "[300]\tdata_train's auc: 0.797348\tdata_valid's auc: 0.775542\n",
      "[400]\tdata_train's auc: 0.805394\tdata_valid's auc: 0.77957\n",
      "[500]\tdata_train's auc: 0.81231\tdata_valid's auc: 0.78255\n",
      "[600]\tdata_train's auc: 0.818509\tdata_valid's auc: 0.784714\n",
      "[700]\tdata_train's auc: 0.824106\tdata_valid's auc: 0.786014\n",
      "[800]\tdata_train's auc: 0.829339\tdata_valid's auc: 0.787182\n",
      "[900]\tdata_train's auc: 0.834174\tdata_valid's auc: 0.788012\n",
      "[1000]\tdata_train's auc: 0.83868\tdata_valid's auc: 0.788735\n",
      "[1100]\tdata_train's auc: 0.843044\tdata_valid's auc: 0.789221\n",
      "[1200]\tdata_train's auc: 0.847123\tdata_valid's auc: 0.78963\n",
      "[1300]\tdata_train's auc: 0.851076\tdata_valid's auc: 0.790004\n",
      "[1400]\tdata_train's auc: 0.854779\tdata_valid's auc: 0.790234\n",
      "[1500]\tdata_train's auc: 0.858335\tdata_valid's auc: 0.790546\n",
      "[1600]\tdata_train's auc: 0.861826\tdata_valid's auc: 0.790751\n",
      "[1700]\tdata_train's auc: 0.865064\tdata_valid's auc: 0.790909\n",
      "[1800]\tdata_train's auc: 0.868185\tdata_valid's auc: 0.791053\n",
      "[1900]\tdata_train's auc: 0.87117\tdata_valid's auc: 0.791023\n",
      "Early stopping, best iteration is:\n",
      "[1808]\tdata_train's auc: 0.86843\tdata_valid's auc: 0.791073\n",
      "fold-1,auc:0.7910734855326763\n",
      "./neptune-features/train_idx_2.npy ./neptune-features/valid_idx_2.npy\n",
      "(246009,) (61502,)\n",
      "./neptune-features/data_246009_1174_8 (246009, 1174)\n",
      "./neptune-features/data_61502_1174_9 (61502, 1174)\n",
      "./neptune-features/data_48744_1174_11 (48744, 1174)\n",
      "./nmf-features/nmf_246009_1174_8 (246009, 492)\n",
      "./nmf-features/nmf_61502_1174_9 (61502, 492)\n",
      "./nmf-features/nmf_48744_1174_11 (48744, 492)\n",
      "(246009, 1666) (246009,)\n",
      "(61502, 1666) (61502,)\n",
      "(48744, 1666)\n",
      "Training until validation scores don't improve for 100 rounds.\n",
      "[100]\tdata_train's auc: 0.770618\tdata_valid's auc: 0.75629\n",
      "[200]\tdata_train's auc: 0.786475\tdata_valid's auc: 0.767924\n",
      "[300]\tdata_train's auc: 0.797361\tdata_valid's auc: 0.77474\n",
      "[400]\tdata_train's auc: 0.805368\tdata_valid's auc: 0.778772\n",
      "[500]\tdata_train's auc: 0.812355\tdata_valid's auc: 0.781403\n",
      "[600]\tdata_train's auc: 0.81851\tdata_valid's auc: 0.783527\n",
      "[700]\tdata_train's auc: 0.824087\tdata_valid's auc: 0.785212\n",
      "[800]\tdata_train's auc: 0.829213\tdata_valid's auc: 0.786363\n",
      "[900]\tdata_train's auc: 0.834004\tdata_valid's auc: 0.787301\n",
      "[1000]\tdata_train's auc: 0.83854\tdata_valid's auc: 0.788172\n",
      "[1100]\tdata_train's auc: 0.842716\tdata_valid's auc: 0.788833\n",
      "[1200]\tdata_train's auc: 0.846783\tdata_valid's auc: 0.789363\n",
      "[1300]\tdata_train's auc: 0.850743\tdata_valid's auc: 0.789804\n",
      "[1400]\tdata_train's auc: 0.854494\tdata_valid's auc: 0.790178\n",
      "[1500]\tdata_train's auc: 0.857967\tdata_valid's auc: 0.790437\n",
      "[1600]\tdata_train's auc: 0.861366\tdata_valid's auc: 0.790649\n",
      "[1700]\tdata_train's auc: 0.864612\tdata_valid's auc: 0.790699\n",
      "Early stopping, best iteration is:\n",
      "[1688]\tdata_train's auc: 0.86424\tdata_valid's auc: 0.790734\n",
      "fold-2,auc:0.7907337459818532\n",
      "./neptune-features/train_idx_3.npy ./neptune-features/valid_idx_3.npy\n",
      "(246009,) (61502,)\n",
      "./neptune-features/data_246009_1174_12 (246009, 1174)\n",
      "./neptune-features/data_61502_1174_13 (61502, 1174)\n",
      "./neptune-features/data_48744_1174_15 (48744, 1174)\n",
      "./nmf-features/nmf_246009_1174_12 (246009, 492)\n",
      "./nmf-features/nmf_61502_1174_13 (61502, 492)\n",
      "./nmf-features/nmf_48744_1174_15 (48744, 492)\n",
      "(246009, 1666) (246009,)\n",
      "(61502, 1666) (61502,)\n",
      "(48744, 1666)\n",
      "Training until validation scores don't improve for 100 rounds.\n",
      "[100]\tdata_train's auc: 0.770545\tdata_valid's auc: 0.757692\n",
      "[200]\tdata_train's auc: 0.786021\tdata_valid's auc: 0.769386\n",
      "[300]\tdata_train's auc: 0.796495\tdata_valid's auc: 0.776413\n",
      "[400]\tdata_train's auc: 0.804629\tdata_valid's auc: 0.780765\n",
      "[500]\tdata_train's auc: 0.811558\tdata_valid's auc: 0.783941\n",
      "[600]\tdata_train's auc: 0.817728\tdata_valid's auc: 0.786166\n",
      "[700]\tdata_train's auc: 0.823437\tdata_valid's auc: 0.787831\n",
      "[800]\tdata_train's auc: 0.828525\tdata_valid's auc: 0.788836\n",
      "[900]\tdata_train's auc: 0.833335\tdata_valid's auc: 0.789649\n",
      "[1000]\tdata_train's auc: 0.837901\tdata_valid's auc: 0.790375\n",
      "[1100]\tdata_train's auc: 0.842215\tdata_valid's auc: 0.79089\n",
      "[1200]\tdata_train's auc: 0.846376\tdata_valid's auc: 0.791422\n",
      "[1300]\tdata_train's auc: 0.850374\tdata_valid's auc: 0.791778\n",
      "[1400]\tdata_train's auc: 0.854\tdata_valid's auc: 0.792096\n",
      "[1500]\tdata_train's auc: 0.857607\tdata_valid's auc: 0.792277\n",
      "[1600]\tdata_train's auc: 0.860931\tdata_valid's auc: 0.792383\n",
      "[1700]\tdata_train's auc: 0.86414\tdata_valid's auc: 0.792658\n",
      "[1800]\tdata_train's auc: 0.867317\tdata_valid's auc: 0.792747\n",
      "[1900]\tdata_train's auc: 0.870325\tdata_valid's auc: 0.79292\n",
      "[2000]\tdata_train's auc: 0.873234\tdata_valid's auc: 0.793029\n",
      "[2100]\tdata_train's auc: 0.876122\tdata_valid's auc: 0.792981\n",
      "Early stopping, best iteration is:\n",
      "[2012]\tdata_train's auc: 0.873628\tdata_valid's auc: 0.793057\n",
      "fold-3,auc:0.7930567120879997\n",
      "./neptune-features/train_idx_4.npy ./neptune-features/valid_idx_4.npy\n",
      "(246009,) (61502,)\n",
      "./neptune-features/data_246009_1174_16 (246009, 1174)\n",
      "./neptune-features/data_61502_1174_17 (61502, 1174)\n",
      "./neptune-features/data_48744_1174_19 (48744, 1174)\n",
      "./nmf-features/nmf_246009_1174_16 (246009, 492)\n",
      "./nmf-features/nmf_61502_1174_17 (61502, 492)\n",
      "./nmf-features/nmf_48744_1174_19 (48744, 492)\n",
      "(246009, 1666) (246009,)\n",
      "(61502, 1666) (61502,)\n",
      "(48744, 1666)\n",
      "Training until validation scores don't improve for 100 rounds.\n",
      "[100]\tdata_train's auc: 0.770548\tdata_valid's auc: 0.759524\n",
      "[200]\tdata_train's auc: 0.786547\tdata_valid's auc: 0.770322\n",
      "[300]\tdata_train's auc: 0.797023\tdata_valid's auc: 0.776378\n",
      "[400]\tdata_train's auc: 0.805101\tdata_valid's auc: 0.779903\n",
      "[500]\tdata_train's auc: 0.812006\tdata_valid's auc: 0.782705\n",
      "[600]\tdata_train's auc: 0.818149\tdata_valid's auc: 0.784732\n",
      "[700]\tdata_train's auc: 0.823757\tdata_valid's auc: 0.786086\n",
      "[800]\tdata_train's auc: 0.829035\tdata_valid's auc: 0.787096\n",
      "[900]\tdata_train's auc: 0.833867\tdata_valid's auc: 0.787976\n",
      "[1000]\tdata_train's auc: 0.838355\tdata_valid's auc: 0.788751\n",
      "[1100]\tdata_train's auc: 0.842651\tdata_valid's auc: 0.789331\n"
     ]
    },
    {
     "name": "stdout",
     "output_type": "stream",
     "text": [
      "[1200]\tdata_train's auc: 0.846792\tdata_valid's auc: 0.789813\n",
      "[1300]\tdata_train's auc: 0.850738\tdata_valid's auc: 0.790199\n",
      "[1400]\tdata_train's auc: 0.854468\tdata_valid's auc: 0.790521\n",
      "[1500]\tdata_train's auc: 0.857998\tdata_valid's auc: 0.790775\n",
      "[1600]\tdata_train's auc: 0.861401\tdata_valid's auc: 0.790892\n",
      "Early stopping, best iteration is:\n",
      "[1569]\tdata_train's auc: 0.860353\tdata_valid's auc: 0.790903\n",
      "fold-4,auc:0.7909028444882434\n",
      "kfold-auc, avg:0.7927, std:0.0026\n"
     ]
    }
   ],
   "source": [
    "nrows = None  \n",
    "# nrows = 1000\n",
    "\n",
    "features = list(np.load('./neptune-features/features_246008_1174_0.npy'))\n",
    "features_nmf = list(np.load('./nmf-features/features-part2.npy'))\n",
    "\n",
    "train_app = load_dataframe32(\"./bindata/application_train\")\n",
    "auc_valid_stack = []\n",
    "pred_valid_stack = []\n",
    "pred_test_stack = []\n",
    "\n",
    "for i in range(5):\n",
    "    train_idx_fn = \"./neptune-features/train_idx_{}.npy\".format(i)\n",
    "    valid_idx_fn = \"./neptune-features/valid_idx_{}.npy\".format(i)\n",
    "\n",
    "    train_offset, valid_offset, test_offset = i * 4, i * 4 + 1, i * 4 + 3\n",
    "    \n",
    "    train_data_fn = \"./neptune-features/data_246009_1174_{}\".format(train_offset)\n",
    "    valid_data_fn = \"./neptune-features/data_61502_1174_{}\".format(valid_offset)\n",
    "    test_data_fn = \"./neptune-features/data_48744_1174_{}\".format(test_offset)\n",
    "\n",
    "    if i == 0:\n",
    "        train_data_fn = train_data_fn.replace(\"246009\", \"246008\")\n",
    "        valid_data_fn = valid_data_fn.replace(\"61502\", \"61503\")\n",
    "        \n",
    "    train_nmf_fn = \"./nmf-features/nmf_246009_1174_{}\".format(train_offset)\n",
    "    valid_nmf_fn = \"./nmf-features/nmf_61502_1174_{}\".format(valid_offset)\n",
    "    test_nmf_fn = \"./nmf-features/nmf_48744_1174_{}\".format(test_offset)\n",
    "\n",
    "    if i == 0:\n",
    "        train_nmf_fn = train_nmf_fn.replace(\"246009\", \"246008\")\n",
    "        valid_nmf_fn = valid_nmf_fn.replace(\"61502\", \"61503\")\n",
    "    \n",
    "    gc.collect()\n",
    "\n",
    "    train_idx = np.load(train_idx_fn)\n",
    "    valid_idx = np.load(valid_idx_fn)\n",
    "    \n",
    "    if nrows:\n",
    "        train_idx, valid_idx = train_idx[:nrows].copy(), valid_idx[:nrows].copy()\n",
    "\n",
    "    train_data = load_dataframe32(train_data_fn, nrows)\n",
    "    valid_data = load_dataframe32(valid_data_fn, nrows)\n",
    "    test_data = load_dataframe32(test_data_fn, nrows)\n",
    "    \n",
    "    train_nmf = load_dataframe32(train_nmf_fn, nrows)\n",
    "    valid_nmf = load_dataframe32(valid_nmf_fn, nrows)\n",
    "    test_nmf = load_dataframe32(test_nmf_fn, nrows)\n",
    "    \n",
    "    gc.collect()\n",
    "    \n",
    "    X_train = np.hstack([train_data.values, train_nmf.values])\n",
    "    X_valid = np.hstack([valid_data.values, valid_nmf.values])\n",
    "    X_test = np.hstack([test_data.values, test_nmf.values])\n",
    "    y_train = train_app.loc[train_idx].TARGET\n",
    "    y_valid = train_app.loc[valid_idx].TARGET\n",
    "    \n",
    "    print(train_idx_fn, valid_idx_fn)\n",
    "    print(train_idx.shape, valid_idx.shape)\n",
    "    print(train_data_fn, train_data.shape)\n",
    "    print(valid_data_fn, valid_data.shape)\n",
    "    print(test_data_fn, test_data.shape)\n",
    "\n",
    "    print(train_nmf_fn, train_nmf.shape)\n",
    "    print(valid_nmf_fn, valid_nmf.shape)\n",
    "    print(test_nmf_fn, test_nmf.shape)\n",
    "    \n",
    "    print(X_train.shape, y_train.shape)\n",
    "    print(X_valid.shape, y_valid.shape)\n",
    "    print(X_test.shape)\n",
    "    \n",
    "    lgb_data_train = lgb.Dataset(data=X_train, label=y_train)\n",
    "    lgb_data_valid = lgb.Dataset(data=X_valid, label=y_valid)\n",
    "    \n",
    "    estimator = lgb.train(\n",
    "        lgb_params,\n",
    "        lgb_data_train,\n",
    "        valid_sets=[lgb_data_train, lgb_data_valid],\n",
    "        valid_names=[\"data_train\", \"data_valid\"],\n",
    "        num_boost_round=5000,\n",
    "        early_stopping_rounds=100,\n",
    "        verbose_eval=100\n",
    "    )\n",
    "    \n",
    "    pred_valid = estimator.predict(X_valid)\n",
    "    pred_valid_stack.append(pred_valid)\n",
    "    \n",
    "    auc = roc_auc_score(y_valid, pred_valid)\n",
    "    auc_valid_stack.append(auc)\n",
    "    print(\"fold-{},auc:{}\".format(i, auc))\n",
    "\n",
    "    pred_test = estimator.predict(X_test)\n",
    "    pred_test_stack.append(pred_test)\n",
    "    \n",
    "print(\"kfold-auc, avg:{:.4}, std:{:.2}\".format(np.mean(auc_valid_stack), np.std(auc_valid_stack)))"
   ]
  },
  {
   "cell_type": "markdown",
   "metadata": {},
   "source": [
    "## save oof & submission"
   ]
  },
  {
   "cell_type": "code",
   "execution_count": 9,
   "metadata": {},
   "outputs": [],
   "source": [
    "def calculate_rank(predictions):\n",
    "    rank = (1 + pd.Series(predictions).rank().values) / (predictions.shape[0] + 1)\n",
    "    return rank\n",
    "\n",
    "pred_target = sum([calculate_rank(p_) for p_ in pred_test_stack]) / 5\n",
    "\n",
    "pred_sample = pd.read_csv(\"./result/submission-022-blend08.csv\")\n",
    "pred_sample[\"TARGET\"] = pred_target\n",
    "\n",
    "pred_sample.to_csv(\"./result/submission-028-lgb.csv\", index=False)"
   ]
  },
  {
   "cell_type": "code",
   "execution_count": 10,
   "metadata": {},
   "outputs": [],
   "source": [
    "oof_pred = np.zeros(train_app.shape[0])\n",
    "\n",
    "for i in range(5):\n",
    "    valid_idx_fn = \"./neptune-features/valid_idx_{}.npy\".format(i)\n",
    "    valid_idx = np.load(valid_idx_fn)\n",
    "    oof_pred[valid_idx] = pred_valid_stack[i]\n",
    "    \n",
    "oof_df = train_app[[\"SK_ID_CURR\"]].copy()\n",
    "oof_df[\"SK_ID_CURR\"] = oof_df.SK_ID_CURR.astype(\"int\")\n",
    "oof_df[\"oof_pred\"] = oof_pred\n",
    "oof_df.to_csv(\"./oof-result/oof-028-lgb.csv\", index=False)"
   ]
  },
  {
   "cell_type": "code",
   "execution_count": 14,
   "metadata": {},
   "outputs": [
    {
     "data": {
      "text/html": [
       "<div>\n",
       "<style scoped>\n",
       "    .dataframe tbody tr th:only-of-type {\n",
       "        vertical-align: middle;\n",
       "    }\n",
       "\n",
       "    .dataframe tbody tr th {\n",
       "        vertical-align: top;\n",
       "    }\n",
       "\n",
       "    .dataframe thead th {\n",
       "        text-align: right;\n",
       "    }\n",
       "</style>\n",
       "<table border=\"1\" class=\"dataframe\">\n",
       "  <thead>\n",
       "    <tr style=\"text-align: right;\">\n",
       "      <th></th>\n",
       "      <th>SK_ID_CURR</th>\n",
       "      <th>TARGET</th>\n",
       "    </tr>\n",
       "  </thead>\n",
       "  <tbody>\n",
       "    <tr>\n",
       "      <th>0</th>\n",
       "      <td>100001</td>\n",
       "      <td>0.454959</td>\n",
       "    </tr>\n",
       "    <tr>\n",
       "      <th>1</th>\n",
       "      <td>100005</td>\n",
       "      <td>0.825939</td>\n",
       "    </tr>\n",
       "    <tr>\n",
       "      <th>2</th>\n",
       "      <td>100013</td>\n",
       "      <td>0.336125</td>\n",
       "    </tr>\n",
       "    <tr>\n",
       "      <th>3</th>\n",
       "      <td>100028</td>\n",
       "      <td>0.478145</td>\n",
       "    </tr>\n",
       "    <tr>\n",
       "      <th>4</th>\n",
       "      <td>100038</td>\n",
       "      <td>0.861372</td>\n",
       "    </tr>\n",
       "  </tbody>\n",
       "</table>\n",
       "</div>"
      ],
      "text/plain": [
       "   SK_ID_CURR    TARGET\n",
       "0      100001  0.454959\n",
       "1      100005  0.825939\n",
       "2      100013  0.336125\n",
       "3      100028  0.478145\n",
       "4      100038  0.861372"
      ]
     },
     "execution_count": 14,
     "metadata": {},
     "output_type": "execute_result"
    }
   ],
   "source": [
    "pred_lgb024.head()"
   ]
  },
  {
   "cell_type": "code",
   "execution_count": 22,
   "metadata": {},
   "outputs": [],
   "source": [
    "oof_lgb024 = pd.read_csv(\"./oof-result/oof-024-first.csv\")\n",
    "oof_keras025 = pd.read_csv(\"./oof-result/oof-024-keras01.csv\")\n",
    "\n",
    "\n",
    "oof_df[\"oof_lgb028\"] = oof_df[\"oof_pred\"]\n",
    "oof_df[\"oof_lgb024\"] = oof_lgb024[\"oof_pred\"]\n",
    "oof_df[\"oof_keras025\"] = oof_keras025[\"oof_pred\"]\n",
    "oof_df[\"TARGET\"] = train_app[\"TARGET\"]"
   ]
  },
  {
   "cell_type": "code",
   "execution_count": 47,
   "metadata": {},
   "outputs": [],
   "source": [
    "def rank_avg_and_show_oof_auc(oof_df, columns=[\"oof_lgb028\", \"oof_lgb024\", \"oof_keras025\"], weights=[.33, .33, .34]):\n",
    "    auc_valid_stack = []\n",
    "    for i in range(5):\n",
    "        train_idx_fn = \"./neptune-features/train_idx_{}.npy\".format(i)\n",
    "        valid_idx_fn = \"./neptune-features/valid_idx_{}.npy\".format(i)\n",
    "\n",
    "        train_offset, valid_offset, test_offset = i * 4, i * 4 + 1, i * 4 + 3\n",
    "\n",
    "        train_data_fn = \"./neptune-features/data_246009_1174_{}\".format(train_offset)\n",
    "        valid_data_fn = \"./neptune-features/data_61502_1174_{}\".format(valid_offset)\n",
    "        test_data_fn = \"./neptune-features/data_48744_1174_{}\".format(test_offset)\n",
    "\n",
    "        if i == 0:\n",
    "            train_data_fn = train_data_fn.replace(\"246009\", \"246008\")\n",
    "            valid_data_fn = valid_data_fn.replace(\"61502\", \"61503\")\n",
    "\n",
    "        gc.collect()\n",
    "\n",
    "        train_idx = np.load(train_idx_fn)\n",
    "        valid_idx = np.load(valid_idx_fn)\n",
    "\n",
    "        fold_data = oof_df.loc[valid_idx]\n",
    "        fold_target = fold_data.TARGET\n",
    "        \n",
    "        fold_pred = np.zeros(fold_data.shape[0])\n",
    "        for col_, w_ in zip(columns, weights):\n",
    "            fold_pred += w_ * calculate_rank(oof_df.loc[valid_idx][col_])\n",
    "\n",
    "        auc = roc_auc_score(fold_target, fold_pred)\n",
    "        auc_valid_stack.append(auc)\n",
    "        print(\"fold-{},auc:{}\".format(i, auc))\n",
    "\n",
    "    print(\"kfold-auc, avg:{:.8}, std:{:.2}\".format(np.mean(auc_valid_stack), np.std(auc_valid_stack)))"
   ]
  },
  {
   "cell_type": "code",
   "execution_count": 57,
   "metadata": {},
   "outputs": [
    {
     "name": "stdout",
     "output_type": "stream",
     "text": [
      "fold-0,auc:0.799022735717998\n",
      "fold-1,auc:0.7929873281568535\n",
      "fold-2,auc:0.79350871135891\n",
      "fold-3,auc:0.7953560520687457\n",
      "fold-4,auc:0.7934177497073852\n",
      "kfold-auc, avg:0.79485852, std:0.0022\n"
     ]
    }
   ],
   "source": [
    "rank_avg_and_show_oof_auc(oof_df, weights=[.08, .79, .13])"
   ]
  },
  {
   "cell_type": "code",
   "execution_count": 54,
   "metadata": {},
   "outputs": [
    {
     "name": "stdout",
     "output_type": "stream",
     "text": [
      "fold-0,auc:0.7990244901903976\n",
      "fold-1,auc:0.7929922870782282\n",
      "fold-2,auc:0.7935086757344748\n",
      "fold-3,auc:0.7953522402541833\n",
      "fold-4,auc:0.7934147661609405\n",
      "kfold-auc, avg:0.79485849, std:0.0022\n"
     ]
    }
   ],
   "source": [
    "rank_avg_and_show_oof_auc(oof_df, weights=[.09, .79, .12])"
   ]
  },
  {
   "cell_type": "code",
   "execution_count": 55,
   "metadata": {},
   "outputs": [
    {
     "name": "stdout",
     "output_type": "stream",
     "text": [
      "fold-0,auc:0.7990193496753264\n",
      "fold-1,auc:0.7929912450634997\n",
      "fold-2,auc:0.793515000852938\n",
      "fold-3,auc:0.7953511091783667\n",
      "fold-4,auc:0.7934149514080032\n",
      "kfold-auc, avg:0.79485833, std:0.0022\n"
     ]
    }
   ],
   "source": [
    "rank_avg_and_show_oof_auc(oof_df, weights=[.08, .8, .12])"
   ]
  },
  {
   "cell_type": "code",
   "execution_count": 52,
   "metadata": {},
   "outputs": [
    {
     "name": "stdout",
     "output_type": "stream",
     "text": [
      "fold-0,auc:0.7990143480930951\n",
      "fold-1,auc:0.7929885322627621\n",
      "fold-2,auc:0.7935232069415779\n",
      "fold-3,auc:0.7953494081115878\n",
      "fold-4,auc:0.7934154252129909\n",
      "kfold-auc, avg:0.79485818, std:0.0022\n"
     ]
    }
   ],
   "source": [
    "rank_avg_and_show_oof_auc(oof_df, weights=[.07, .81, .12])"
   ]
  },
  {
   "cell_type": "code",
   "execution_count": 49,
   "metadata": {},
   "outputs": [
    {
     "name": "stdout",
     "output_type": "stream",
     "text": [
      "fold-0,auc:0.7990091042689893\n",
      "fold-1,auc:0.7929871322224601\n",
      "fold-2,auc:0.7935306560109706\n",
      "fold-3,auc:0.7953474006746661\n",
      "fold-4,auc:0.7934145987260951\n",
      "kfold-auc, avg:0.79485778, std:0.0022\n"
     ]
    }
   ],
   "source": [
    "rank_avg_and_show_oof_auc(oof_df, weights=[.06, .82, .12])"
   ]
  },
  {
   "cell_type": "code",
   "execution_count": 48,
   "metadata": {
    "scrolled": true
   },
   "outputs": [
    {
     "name": "stdout",
     "output_type": "stream",
     "text": [
      "fold-0,auc:0.7990302042487301\n",
      "fold-1,auc:0.7929919611146465\n",
      "fold-2,auc:0.7934991301670729\n",
      "fold-3,auc:0.7953514974847101\n",
      "fold-4,auc:0.7934149781263296\n",
      "kfold-auc, avg:0.79485755, std:0.0022\n"
     ]
    }
   ],
   "source": [
    "rank_avg_and_show_oof_auc(oof_df, weights=[.1, .78, .12])"
   ]
  },
  {
   "cell_type": "code",
   "execution_count": 26,
   "metadata": {},
   "outputs": [
    {
     "name": "stdout",
     "output_type": "stream",
     "text": [
      "fold-0,auc:0.7980927905362655\n",
      "fold-1,auc:0.7918409926136118\n",
      "fold-2,auc:0.791884021587624\n",
      "fold-3,auc:0.7943416409338011\n",
      "fold-4,auc:0.7921728520393769\n",
      "kfold-auc, avg:0.793666, std:0.0024\n"
     ]
    }
   ],
   "source": [
    "rank_avg_and_show_oof_auc(oof_df)"
   ]
  },
  {
   "cell_type": "code",
   "execution_count": 27,
   "metadata": {},
   "outputs": [
    {
     "name": "stdout",
     "output_type": "stream",
     "text": [
      "fold-0,auc:0.7990161595635827\n",
      "fold-1,auc:0.792988746009373\n",
      "fold-2,auc:0.7935156794984278\n",
      "fold-3,auc:0.7953263840391416\n",
      "fold-4,auc:0.7933993817486151\n",
      "kfold-auc, avg:0.794849, std:0.0022\n"
     ]
    }
   ],
   "source": [
    "rank_avg_and_show_oof_auc(oof_df, weights=[.1, .8, .1])"
   ]
  },
  {
   "cell_type": "code",
   "execution_count": 29,
   "metadata": {},
   "outputs": [
    {
     "name": "stdout",
     "output_type": "stream",
     "text": [
      "fold-0,auc:0.7989400617723905\n",
      "fold-1,auc:0.7928378640579036\n",
      "fold-2,auc:0.7931569360926667\n",
      "fold-3,auc:0.7952314288884352\n",
      "fold-4,auc:0.7932448963855289\n",
      "kfold-auc, avg:0.794682, std:0.0023\n"
     ]
    }
   ],
   "source": [
    "rank_avg_and_show_oof_auc(oof_df, weights=[.2, .6, .2])"
   ]
  },
  {
   "cell_type": "code",
   "execution_count": 30,
   "metadata": {},
   "outputs": [
    {
     "name": "stdout",
     "output_type": "stream",
     "text": [
      "fold-0,auc:0.7989325985852291\n",
      "fold-1,auc:0.7928745946317788\n",
      "fold-2,auc:0.7933073139583787\n",
      "fold-3,auc:0.7952965628244661\n",
      "fold-4,auc:0.7933339503485504\n",
      "kfold-auc, avg:0.794749, std:0.0023\n"
     ]
    }
   ],
   "source": [
    "rank_avg_and_show_oof_auc(oof_df, weights=[.1, .7, .2])"
   ]
  },
  {
   "cell_type": "code",
   "execution_count": 19,
   "metadata": {},
   "outputs": [
    {
     "data": {
      "text/html": [
       "<div>\n",
       "<style scoped>\n",
       "    .dataframe tbody tr th:only-of-type {\n",
       "        vertical-align: middle;\n",
       "    }\n",
       "\n",
       "    .dataframe tbody tr th {\n",
       "        vertical-align: top;\n",
       "    }\n",
       "\n",
       "    .dataframe thead th {\n",
       "        text-align: right;\n",
       "    }\n",
       "</style>\n",
       "<table border=\"1\" class=\"dataframe\">\n",
       "  <thead>\n",
       "    <tr style=\"text-align: right;\">\n",
       "      <th></th>\n",
       "      <th>SK_ID_CURR</th>\n",
       "      <th>oof_pred</th>\n",
       "      <th>oof_lgb028</th>\n",
       "      <th>oof_lgb024</th>\n",
       "      <th>oof_keras025</th>\n",
       "    </tr>\n",
       "  </thead>\n",
       "  <tbody>\n",
       "    <tr>\n",
       "      <th>0</th>\n",
       "      <td>100002</td>\n",
       "      <td>0.309997</td>\n",
       "      <td>0.309997</td>\n",
       "      <td>0.316064</td>\n",
       "      <td>0.278892</td>\n",
       "    </tr>\n",
       "    <tr>\n",
       "      <th>1</th>\n",
       "      <td>100003</td>\n",
       "      <td>0.019556</td>\n",
       "      <td>0.019556</td>\n",
       "      <td>0.019087</td>\n",
       "      <td>0.015010</td>\n",
       "    </tr>\n",
       "    <tr>\n",
       "      <th>2</th>\n",
       "      <td>100004</td>\n",
       "      <td>0.046917</td>\n",
       "      <td>0.046917</td>\n",
       "      <td>0.041876</td>\n",
       "      <td>0.067596</td>\n",
       "    </tr>\n",
       "    <tr>\n",
       "      <th>3</th>\n",
       "      <td>100006</td>\n",
       "      <td>0.039269</td>\n",
       "      <td>0.039269</td>\n",
       "      <td>0.033489</td>\n",
       "      <td>0.043004</td>\n",
       "    </tr>\n",
       "    <tr>\n",
       "      <th>4</th>\n",
       "      <td>100007</td>\n",
       "      <td>0.068751</td>\n",
       "      <td>0.068751</td>\n",
       "      <td>0.040865</td>\n",
       "      <td>0.076490</td>\n",
       "    </tr>\n",
       "  </tbody>\n",
       "</table>\n",
       "</div>"
      ],
      "text/plain": [
       "   SK_ID_CURR  oof_pred  oof_lgb028  oof_lgb024  oof_keras025\n",
       "0      100002  0.309997    0.309997    0.316064      0.278892\n",
       "1      100003  0.019556    0.019556    0.019087      0.015010\n",
       "2      100004  0.046917    0.046917    0.041876      0.067596\n",
       "3      100006  0.039269    0.039269    0.033489      0.043004\n",
       "4      100007  0.068751    0.068751    0.040865      0.076490"
      ]
     },
     "execution_count": 19,
     "metadata": {},
     "output_type": "execute_result"
    }
   ],
   "source": [
    "oof_df.head()"
   ]
  },
  {
   "cell_type": "code",
   "execution_count": 68,
   "metadata": {},
   "outputs": [],
   "source": [
    "pred_lgb028 = pd.read_csv(\"./result/submission-028-lgb.csv\")\n",
    "pred_lgb024 = pd.read_csv(\"./result/submission-024-first.csv\")\n",
    "pred_keras025 = pd.read_csv(\"./result/submission-025-keras01.csv\")\n",
    "\n",
    "pred_lgb028[\"TARGET\"] = .08 * pred_lgb028.TARGET + .79 * pred_lgb024.TARGET + .13 * pred_keras025.TARGET\n",
    "\n",
    "pred_lgb028.to_csv(\"./result/submission-028-avg-l08l79k13.csv\", index=False)"
   ]
  },
  {
   "cell_type": "code",
   "execution_count": 69,
   "metadata": {},
   "outputs": [
    {
     "data": {
      "text/html": [
       "<div>\n",
       "<style scoped>\n",
       "    .dataframe tbody tr th:only-of-type {\n",
       "        vertical-align: middle;\n",
       "    }\n",
       "\n",
       "    .dataframe tbody tr th {\n",
       "        vertical-align: top;\n",
       "    }\n",
       "\n",
       "    .dataframe thead th {\n",
       "        text-align: right;\n",
       "    }\n",
       "</style>\n",
       "<table border=\"1\" class=\"dataframe\">\n",
       "  <thead>\n",
       "    <tr style=\"text-align: right;\">\n",
       "      <th></th>\n",
       "      <th>SK_ID_CURR</th>\n",
       "      <th>TARGET</th>\n",
       "    </tr>\n",
       "  </thead>\n",
       "  <tbody>\n",
       "    <tr>\n",
       "      <th>0</th>\n",
       "      <td>100001</td>\n",
       "      <td>0.464932</td>\n",
       "    </tr>\n",
       "    <tr>\n",
       "      <th>1</th>\n",
       "      <td>100005</td>\n",
       "      <td>0.836674</td>\n",
       "    </tr>\n",
       "    <tr>\n",
       "      <th>2</th>\n",
       "      <td>100013</td>\n",
       "      <td>0.336514</td>\n",
       "    </tr>\n",
       "    <tr>\n",
       "      <th>3</th>\n",
       "      <td>100028</td>\n",
       "      <td>0.459474</td>\n",
       "    </tr>\n",
       "    <tr>\n",
       "      <th>4</th>\n",
       "      <td>100038</td>\n",
       "      <td>0.863509</td>\n",
       "    </tr>\n",
       "  </tbody>\n",
       "</table>\n",
       "</div>"
      ],
      "text/plain": [
       "   SK_ID_CURR    TARGET\n",
       "0      100001  0.464932\n",
       "1      100005  0.836674\n",
       "2      100013  0.336514\n",
       "3      100028  0.459474\n",
       "4      100038  0.863509"
      ]
     },
     "execution_count": 69,
     "metadata": {},
     "output_type": "execute_result"
    }
   ],
   "source": [
    "pred_lgb028.head()"
   ]
  },
  {
   "cell_type": "code",
   "execution_count": 62,
   "metadata": {},
   "outputs": [
    {
     "data": {
      "text/html": [
       "<div>\n",
       "<style scoped>\n",
       "    .dataframe tbody tr th:only-of-type {\n",
       "        vertical-align: middle;\n",
       "    }\n",
       "\n",
       "    .dataframe tbody tr th {\n",
       "        vertical-align: top;\n",
       "    }\n",
       "\n",
       "    .dataframe thead th {\n",
       "        text-align: right;\n",
       "    }\n",
       "</style>\n",
       "<table border=\"1\" class=\"dataframe\">\n",
       "  <thead>\n",
       "    <tr style=\"text-align: right;\">\n",
       "      <th></th>\n",
       "      <th>SK_ID_CURR</th>\n",
       "      <th>TARGET</th>\n",
       "    </tr>\n",
       "  </thead>\n",
       "  <tbody>\n",
       "    <tr>\n",
       "      <th>0</th>\n",
       "      <td>100001</td>\n",
       "      <td>0.451552</td>\n",
       "    </tr>\n",
       "    <tr>\n",
       "      <th>1</th>\n",
       "      <td>100005</td>\n",
       "      <td>0.856984</td>\n",
       "    </tr>\n",
       "    <tr>\n",
       "      <th>2</th>\n",
       "      <td>100013</td>\n",
       "      <td>0.397432</td>\n",
       "    </tr>\n",
       "    <tr>\n",
       "      <th>3</th>\n",
       "      <td>100028</td>\n",
       "      <td>0.421252</td>\n",
       "    </tr>\n",
       "    <tr>\n",
       "      <th>4</th>\n",
       "      <td>100038</td>\n",
       "      <td>0.885430</td>\n",
       "    </tr>\n",
       "  </tbody>\n",
       "</table>\n",
       "</div>"
      ],
      "text/plain": [
       "   SK_ID_CURR    TARGET\n",
       "0      100001  0.451552\n",
       "1      100005  0.856984\n",
       "2      100013  0.397432\n",
       "3      100028  0.421252\n",
       "4      100038  0.885430"
      ]
     },
     "execution_count": 62,
     "metadata": {},
     "output_type": "execute_result"
    }
   ],
   "source": [
    "pred_lgb028.head()"
   ]
  }
 ],
 "metadata": {
  "anaconda-cloud": {},
  "kernelspec": {
   "display_name": "Python [conda env:python3]",
   "language": "python",
   "name": "conda-env-python3-py"
  },
  "language_info": {
   "codemirror_mode": {
    "name": "ipython",
    "version": 3
   },
   "file_extension": ".py",
   "mimetype": "text/x-python",
   "name": "python",
   "nbconvert_exporter": "python",
   "pygments_lexer": "ipython3",
   "version": "3.6.6"
  },
  "toc": {
   "nav_menu": {
    "height": "11px",
    "width": "252px"
   },
   "navigate_menu": true,
   "number_sections": true,
   "sideBar": true,
   "threshold": 4,
   "toc_cell": false,
   "toc_section_display": "block",
   "toc_window_display": true
  }
 },
 "nbformat": 4,
 "nbformat_minor": 2
}
