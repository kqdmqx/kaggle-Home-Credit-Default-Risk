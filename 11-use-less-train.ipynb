{
 "cells": [
  {
   "cell_type": "code",
   "execution_count": 1,
   "metadata": {},
   "outputs": [],
   "source": [
    "import pandas as pd\n",
    "import numpy as np\n",
    "\n",
    "from sklearn.metrics import roc_auc_score, precision_recall_curve, roc_curve, average_precision_score\n",
    "from sklearn.model_selection import KFold\n",
    "# from lightgbm import LGBMClassifier\n",
    "\n",
    "import matplotlib.pyplot as plt\n",
    "import seaborn as sns\n",
    "import gc\n",
    "import os\n",
    "import sys"
   ]
  },
  {
   "cell_type": "markdown",
   "metadata": {},
   "source": [
    "## save & load"
   ]
  },
  {
   "cell_type": "code",
   "execution_count": 2,
   "metadata": {},
   "outputs": [],
   "source": [
    "def save_dataframe(path, dataframe):\n",
    "    np.save(path + \".data\", dataframe.values)\n",
    "    np.save(path + \".header\", dataframe.columns)\n",
    "    \n",
    "def load_dataframe(path):\n",
    "    data = np.load(path + \".data.npy\")\n",
    "    header = np.load(path + \".header.npy\")\n",
    "    return pd.DataFrame(data=data, columns=header)\n",
    "\n",
    "def save_dataframe32(path, dataframe, keep=[]):\n",
    "    col64 = [col_ for col_ in dataframe.columns if col_ in keep]\n",
    "    col32 = [col_ for col_ in dataframe.columns if col_ not in keep]\n",
    "    dataframe64 = dataframe[col64]\n",
    "    dataframe32 = dataframe[col32]\n",
    "    np.save(path + \".data64\", dataframe64.values)\n",
    "    np.save(path + \".header64\", col64)\n",
    "    np.save(path + \".data32\", dataframe32.values.astype(np.float32))\n",
    "    np.save(path + \".header32\", col32)\n",
    "\n",
    "def load_dataframe32(path):\n",
    "    path_data32 = path + \".data32.npy\"\n",
    "    path_header32 = path + \".header32.npy\"\n",
    "    path_data64 = path + \".data64.npy\"\n",
    "    path_header64 = path + \".header64.npy\"\n",
    "    result = pd.DataFrame()\n",
    "    if os.path.exists(path_data32):\n",
    "        data32 = np.load(path_data32)\n",
    "        header32 = np.load(path_header32)\n",
    "        df32 = pd.DataFrame(data=data32, columns=header32)\n",
    "        result = pd.concat([result, df32], axis=1)\n",
    "    if os.path.exists(path_data64):\n",
    "        data64 = np.load(path_data64)\n",
    "        header64 = np.load(path_header64)\n",
    "        df64 = pd.DataFrame(data=data64, columns=header64)\n",
    "        result = pd.concat([result, df64], axis=1)\n",
    "    return result"
   ]
  },
  {
   "cell_type": "code",
   "execution_count": 3,
   "metadata": {},
   "outputs": [],
   "source": [
    "data = load_dataframe32(\"./bindata/data_009\")\n",
    "test = load_dataframe32(\"./bindata/test_009\")\n",
    "y = load_dataframe32(\"./bindata/y_009\")"
   ]
  },
  {
   "cell_type": "code",
   "execution_count": 13,
   "metadata": {},
   "outputs": [
    {
     "name": "stdout",
     "output_type": "stream",
     "text": [
      "data: 445.76 mb\n",
      "test: 70.66 mb\n",
      "   y: 2.35 mb\n"
     ]
    }
   ],
   "source": [
    "print(\"data:\", round(sys.getsizeof(data) / 1024 / 1024, 2), \"mb\")\n",
    "print(\"test:\", round(sys.getsizeof(test) / 1024 / 1024, 2), \"mb\")\n",
    "print(\"   y:\", round(sys.getsizeof(y) / 1024 / 1024, 2), \"mb\")"
   ]
  },
  {
   "cell_type": "markdown",
   "metadata": {},
   "source": [
    "## before xgbA"
   ]
  },
  {
   "cell_type": "code",
   "execution_count": 14,
   "metadata": {},
   "outputs": [],
   "source": [
    "import xgboost as xgb\n",
    "\n",
    "class XgbWrapper:\n",
    "    def __init__(self, seed=0, params=None):\n",
    "        self.param = params\n",
    "        self.param['seed'] = seed\n",
    "        self.nrounds = params.pop('nrounds', 250)\n",
    "\n",
    "    def train(self, x_train, y_train):\n",
    "        dtrain = xgb.DMatrix(x_train, label=y_train)\n",
    "        self.gbdt = xgb.train(self.param, dtrain, self.nrounds)\n",
    "\n",
    "    def predict(self, x):\n",
    "        return self.gbdt.predict(xgb.DMatrix(x))"
   ]
  },
  {
   "cell_type": "code",
   "execution_count": 15,
   "metadata": {},
   "outputs": [],
   "source": [
    "data_train = data[data.SK_ID_CURR < 130000]\n",
    "data_val = data[(data.SK_ID_CURR >= 130000) & (data.SK_ID_CURR < 150000)]\n",
    "\n",
    "ydata_train = y[y.SK_ID_CURR < 130000]\n",
    "ydata_val = y[(y.SK_ID_CURR >= 130000) & (y.SK_ID_CURR < 150000)]"
   ]
  },
  {
   "cell_type": "code",
   "execution_count": 16,
   "metadata": {},
   "outputs": [
    {
     "name": "stdout",
     "output_type": "stream",
     "text": [
      "379\n"
     ]
    }
   ],
   "source": [
    "features = list(data_train.columns)\n",
    "features.remove(\"SK_ID_CURR\")\n",
    "print(len(features))"
   ]
  },
  {
   "cell_type": "markdown",
   "metadata": {},
   "source": [
    "## xgbA"
   ]
  },
  {
   "cell_type": "code",
   "execution_count": 17,
   "metadata": {},
   "outputs": [],
   "source": [
    "X_num_train = data_train[features].values\n",
    "X_num_val = data_val[features].values\n",
    "\n",
    "y_train = ydata_train.TARGET.values\n",
    "y_val = ydata_val.TARGET.values\n",
    "\n",
    "xgb_params = {\n",
    "     \"objective\": \"binary:logistic\",\n",
    "     \"booster\": \"gbtree\",\n",
    "     \"eval_metric\": \"auc\",\n",
    "     \"nthread\": 8,\n",
    "     \"eta\": 0.025,\n",
    "     \"max_depth\": 6,\n",
    "     \"min_child_weight\": 19,\n",
    "     \"gamma\": 0,\n",
    "     \"subsample\": 0.8,\n",
    "     \"colsample_bytree\": 0.632,\n",
    "     \"alpha\": 0,\n",
    "     \"lambda\": 0.05,\n",
    "     \"nrounds\": 250\n",
    "}\n",
    "\n",
    "xgb_clf = XgbWrapper(params=xgb_params)\n",
    "xgb_clf.train(X_num_train, y_train)\n",
    "pred_val = xgb_clf.predict(X_num_val)"
   ]
  },
  {
   "cell_type": "code",
   "execution_count": 18,
   "metadata": {},
   "outputs": [
    {
     "data": {
      "text/plain": [
       "0.7612237178381257"
      ]
     },
     "execution_count": 18,
     "metadata": {},
     "output_type": "execute_result"
    }
   ],
   "source": [
    "roc_auc_score(y_val, pred_val)"
   ]
  },
  {
   "cell_type": "code",
   "execution_count": 47,
   "metadata": {},
   "outputs": [],
   "source": [
    "pred_sub1 = xgb_clf.predict(test[features].values)\n",
    "\n",
    "test[\"SK_ID_CURR\"] = test.SK_ID_CURR.astype(\"int\")\n",
    "test[\"TARGET\"] = pred_sub1\n",
    "test[[\"SK_ID_CURR\", \"TARGET\"]].to_csv(\"./result/submission-011-A.csv\", index=False)"
   ]
  },
  {
   "cell_type": "markdown",
   "metadata": {},
   "source": [
    "## before xgbB"
   ]
  },
  {
   "cell_type": "code",
   "execution_count": 40,
   "metadata": {},
   "outputs": [],
   "source": [
    "data2 = data[\n",
    "    (data.AMT_INCOME_TOTAL <= test.AMT_INCOME_TOTAL.max()) &\n",
    "    (data.AMT_CREDIT_x <= test.AMT_CREDIT_x.max()) &\n",
    "    (data.AMT_ANNUITY <= test.AMT_ANNUITY.max()) &\n",
    "    (data.AMT_REQ_CREDIT_BUREAU_HOUR <= test.AMT_REQ_CREDIT_BUREAU_HOUR.max()) &\n",
    "    (data.AMT_REQ_CREDIT_BUREAU_DAY <= test.AMT_REQ_CREDIT_BUREAU_DAY.max()) &\n",
    "    (data.AMT_REQ_CREDIT_BUREAU_WEEK <= test.AMT_REQ_CREDIT_BUREAU_WEEK.max()) &\n",
    "    (data.AMT_REQ_CREDIT_BUREAU_MON <= test.AMT_REQ_CREDIT_BUREAU_MON.max()) &\n",
    "    (data.AMT_REQ_CREDIT_BUREAU_QRT <= test.AMT_REQ_CREDIT_BUREAU_QRT.max()) &\n",
    "    (data.AMT_REQ_CREDIT_BUREAU_YEAR <= test.AMT_REQ_CREDIT_BUREAU_YEAR.max())\n",
    "]\n",
    "\n",
    "y2 = y[y.SK_ID_CURR.isin(data2.SK_ID_CURR)]"
   ]
  },
  {
   "cell_type": "code",
   "execution_count": 41,
   "metadata": {},
   "outputs": [],
   "source": [
    "data2_train = data2[data2.SK_ID_CURR < 130000]\n",
    "data2_val = data2[(data2.SK_ID_CURR >= 130000) & (data2.SK_ID_CURR < 150000)]\n",
    "\n",
    "y2data_train = y2[y2.SK_ID_CURR < 130000]\n",
    "y2data_val = y2[(y2.SK_ID_CURR >= 130000) & (y2.SK_ID_CURR < 150000)]"
   ]
  },
  {
   "cell_type": "markdown",
   "metadata": {},
   "source": [
    "## xgbB"
   ]
  },
  {
   "cell_type": "code",
   "execution_count": 42,
   "metadata": {},
   "outputs": [],
   "source": [
    "X2_num_train = data2_train[features].values\n",
    "X2_num_val = data2_val[features].values\n",
    "\n",
    "y2_train = y2data_train.TARGET.values\n",
    "y2_val = y2data_val.TARGET.values\n",
    "\n",
    "xgb_params = {\n",
    "     \"objective\": \"binary:logistic\",\n",
    "     \"booster\": \"gbtree\",\n",
    "     \"eval_metric\": \"auc\",\n",
    "     \"nthread\": 8,\n",
    "     \"eta\": 0.025,\n",
    "     \"max_depth\": 6,\n",
    "     \"min_child_weight\": 19,\n",
    "     \"gamma\": 0,\n",
    "     \"subsample\": 0.8,\n",
    "     \"colsample_bytree\": 0.632,\n",
    "     \"alpha\": 0,\n",
    "     \"lambda\": 0.05,\n",
    "     \"nrounds\": 250\n",
    "}\n",
    "\n",
    "xgb_clf2 = XgbWrapper(params=xgb_params)\n",
    "xgb_clf2.train(X2_num_train, y2_train)\n",
    "pred_val2 = xgb_clf2.predict(X2_num_val)"
   ]
  },
  {
   "cell_type": "code",
   "execution_count": 44,
   "metadata": {},
   "outputs": [
    {
     "data": {
      "text/plain": [
       "0.76358417247233767"
      ]
     },
     "execution_count": 44,
     "metadata": {},
     "output_type": "execute_result"
    }
   ],
   "source": [
    "roc_auc_score(y2_val, pred_val2)"
   ]
  },
  {
   "cell_type": "code",
   "execution_count": 48,
   "metadata": {},
   "outputs": [],
   "source": [
    "pred_sub2 = xgb_clf2.predict(test[features].values)\n",
    "\n",
    "test[\"SK_ID_CURR\"] = test.SK_ID_CURR.astype(\"int\")\n",
    "test[\"TARGET\"] = pred_sub2\n",
    "test[[\"SK_ID_CURR\", \"TARGET\"]].to_csv(\"./result/submission-011-B.csv\", index=False)"
   ]
  },
  {
   "cell_type": "markdown",
   "metadata": {},
   "source": [
    "## a better validate"
   ]
  },
  {
   "cell_type": "code",
   "execution_count": 50,
   "metadata": {},
   "outputs": [
    {
     "data": {
      "text/plain": [
       "0.76548477574764084"
      ]
     },
     "execution_count": 50,
     "metadata": {},
     "output_type": "execute_result"
    }
   ],
   "source": [
    "pred_val_less = xgb_clf.predict(X2_num_val)\n",
    "roc_auc_score(y2_val, pred_val_less)"
   ]
  }
 ],
 "metadata": {
  "anaconda-cloud": {},
  "kernelspec": {
   "display_name": "Python [conda env:python3]",
   "language": "python",
   "name": "conda-env-python3-py"
  },
  "language_info": {
   "codemirror_mode": {
    "name": "ipython",
    "version": 3
   },
   "file_extension": ".py",
   "mimetype": "text/x-python",
   "name": "python",
   "nbconvert_exporter": "python",
   "pygments_lexer": "ipython3",
   "version": "3.6.1"
  },
  "toc": {
   "nav_menu": {
    "height": "124px",
    "width": "252px"
   },
   "navigate_menu": true,
   "number_sections": true,
   "sideBar": true,
   "threshold": 4,
   "toc_cell": false,
   "toc_section_display": "block",
   "toc_window_display": true
  }
 },
 "nbformat": 4,
 "nbformat_minor": 2
}
