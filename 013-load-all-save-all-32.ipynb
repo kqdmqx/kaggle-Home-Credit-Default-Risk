{
 "cells": [
  {
   "cell_type": "markdown",
   "metadata": {
    "toc": "true"
   },
   "source": [
    "# Table of Contents\n",
    " <p><div class=\"lev2 toc-item\"><a href=\"#borrowed-features\" data-toc-modified-id=\"borrowed-features-01\"><span class=\"toc-item-num\">0.1&nbsp;&nbsp;</span>borrowed features</a></div><div class=\"lev2 toc-item\"><a href=\"#my-features-013\" data-toc-modified-id=\"my-features-013-02\"><span class=\"toc-item-num\">0.2&nbsp;&nbsp;</span>my features 013</a></div><div class=\"lev3 toc-item\"><a href=\"#buro_bal_wide_013\" data-toc-modified-id=\"buro_bal_wide_013-021\"><span class=\"toc-item-num\">0.2.1&nbsp;&nbsp;</span>buro_bal_wide_013</a></div><div class=\"lev3 toc-item\"><a href=\"#buro_wide_013\" data-toc-modified-id=\"buro_wide_013-022\"><span class=\"toc-item-num\">0.2.2&nbsp;&nbsp;</span>buro_wide_013</a></div><div class=\"lev3 toc-item\"><a href=\"#buro_full_wide_013\" data-toc-modified-id=\"buro_full_wide_013-023\"><span class=\"toc-item-num\">0.2.3&nbsp;&nbsp;</span>buro_full_wide_013</a></div><div class=\"lev3 toc-item\"><a href=\"#pos_bal_wide_013\" data-toc-modified-id=\"pos_bal_wide_013-024\"><span class=\"toc-item-num\">0.2.4&nbsp;&nbsp;</span>pos_bal_wide_013</a></div><div class=\"lev3 toc-item\"><a href=\"#cc_bal_wide_013\" data-toc-modified-id=\"cc_bal_wide_013-025\"><span class=\"toc-item-num\">0.2.5&nbsp;&nbsp;</span>cc_bal_wide_013</a></div><div class=\"lev3 toc-item\"><a href=\"#buro_bal_timestep1_013\" data-toc-modified-id=\"buro_bal_timestep1_013-026\"><span class=\"toc-item-num\">0.2.6&nbsp;&nbsp;</span>buro_bal_timestep1_013</a></div><div class=\"lev3 toc-item\"><a href=\"#buro_bal_timestep2_013\" data-toc-modified-id=\"buro_bal_timestep2_013-027\"><span class=\"toc-item-num\">0.2.7&nbsp;&nbsp;</span>buro_bal_timestep2_013</a></div><div class=\"lev3 toc-item\"><a href=\"#pos_bal_timestep1_013\" data-toc-modified-id=\"pos_bal_timestep1_013-028\"><span class=\"toc-item-num\">0.2.8&nbsp;&nbsp;</span>pos_bal_timestep1_013</a></div><div class=\"lev3 toc-item\"><a href=\"#pos_bal_timestep2_013\" data-toc-modified-id=\"pos_bal_timestep2_013-029\"><span class=\"toc-item-num\">0.2.9&nbsp;&nbsp;</span>pos_bal_timestep2_013</a></div><div class=\"lev3 toc-item\"><a href=\"#cc_bal_timestep1_013\" data-toc-modified-id=\"cc_bal_timestep1_013-0210\"><span class=\"toc-item-num\">0.2.10&nbsp;&nbsp;</span>cc_bal_timestep1_013</a></div><div class=\"lev3 toc-item\"><a href=\"#cc_bal_timestep2_013\" data-toc-modified-id=\"cc_bal_timestep2_013-0211\"><span class=\"toc-item-num\">0.2.11&nbsp;&nbsp;</span>cc_bal_timestep2_013</a></div><div class=\"lev2 toc-item\"><a href=\"#nmf-features-013\" data-toc-modified-id=\"nmf-features-013-03\"><span class=\"toc-item-num\">0.3&nbsp;&nbsp;</span>nmf features 013</a></div><div class=\"lev2 toc-item\"><a href=\"#single-xgb\" data-toc-modified-id=\"single-xgb-04\"><span class=\"toc-item-num\">0.4&nbsp;&nbsp;</span>single xgb</a></div><div class=\"lev3 toc-item\"><a href=\"#train-test-split\" data-toc-modified-id=\"train-test-split-041\"><span class=\"toc-item-num\">0.4.1&nbsp;&nbsp;</span>train test split</a></div><div class=\"lev3 toc-item\"><a href=\"#nmf-features\" data-toc-modified-id=\"nmf-features-042\"><span class=\"toc-item-num\">0.4.2&nbsp;&nbsp;</span>nmf features</a></div><div class=\"lev3 toc-item\"><a href=\"#nmf-+-first-4\" data-toc-modified-id=\"nmf-+-first-4-043\"><span class=\"toc-item-num\">0.4.3&nbsp;&nbsp;</span>nmf + first 4</a></div><div class=\"lev3 toc-item\"><a href=\"#append-features\" data-toc-modified-id=\"append-features-044\"><span class=\"toc-item-num\">0.4.4&nbsp;&nbsp;</span>append features</a></div><div class=\"lev2 toc-item\"><a href=\"#stacking\" data-toc-modified-id=\"stacking-05\"><span class=\"toc-item-num\">0.5&nbsp;&nbsp;</span>stacking</a></div>"
   ]
  },
  {
   "cell_type": "code",
   "execution_count": 1,
   "metadata": {},
   "outputs": [],
   "source": [
    "import pandas as pd\n",
    "import numpy as np\n",
    "\n",
    "from sklearn.metrics import roc_auc_score, precision_recall_curve, roc_curve, average_precision_score\n",
    "from sklearn.model_selection import KFold\n",
    "# from lightgbm import LGBMClassifier\n",
    "\n",
    "import matplotlib.pyplot as plt\n",
    "import seaborn as sns\n",
    "import gc\n",
    "import os"
   ]
  },
  {
   "cell_type": "code",
   "execution_count": 2,
   "metadata": {},
   "outputs": [],
   "source": [
    "def save_dataframe(path, dataframe):\n",
    "    np.save(path + \".data\", dataframe.values)\n",
    "    np.save(path + \".header\", dataframe.columns)\n",
    "    \n",
    "def load_dataframe(path):\n",
    "    data = np.load(path + \".data.npy\")\n",
    "    header = np.load(path + \".header.npy\")\n",
    "    return pd.DataFrame(data=data, columns=header)\n",
    "\n",
    "def save_dataframe32(path, dataframe, keep=[]):\n",
    "    col64 = [col_ for col_ in dataframe.columns if col_ in keep]\n",
    "    col32 = [col_ for col_ in dataframe.columns if col_ not in keep]\n",
    "    dataframe64 = dataframe[col64]\n",
    "    dataframe32 = dataframe[col32]\n",
    "    np.save(path + \".data64\", dataframe64.values)\n",
    "    np.save(path + \".header64\", col64)\n",
    "    np.save(path + \".data32\", dataframe32.values.astype(np.float32))\n",
    "    np.save(path + \".header32\", col32)\n",
    "\n",
    "def load_dataframe32(path):\n",
    "    path_data32 = path + \".data32.npy\"\n",
    "    path_header32 = path + \".header32.npy\"\n",
    "    path_data64 = path + \".data64.npy\"\n",
    "    path_header64 = path + \".header64.npy\"\n",
    "    result = pd.DataFrame()\n",
    "    if os.path.exists(path_data32):\n",
    "        data32 = np.load(path_data32)\n",
    "        header32 = np.load(path_header32)\n",
    "        df32 = pd.DataFrame(data=data32, columns=header32)\n",
    "        result = pd.concat([result, df32], axis=1)\n",
    "    if os.path.exists(path_data64):\n",
    "        data64 = np.load(path_data64)\n",
    "        header64 = np.load(path_header64)\n",
    "        df64 = pd.DataFrame(data=data64, columns=header64)\n",
    "        result = pd.concat([result, df64], axis=1)\n",
    "    return result"
   ]
  },
  {
   "cell_type": "markdown",
   "metadata": {},
   "source": [
    "## borrowed features\n",
    "\n",
    "1. https://www.kaggle.com/ogrellier/good-fun-with-ligthgbm/code\n",
    "\n",
    "2. https://www.kaggle.com/ogrellier/fork-lightgbm-with-simple-features/code"
   ]
  },
  {
   "cell_type": "code",
   "execution_count": 3,
   "metadata": {},
   "outputs": [
    {
     "data": {
      "text/plain": [
       "['application_test.csv',\n",
       " 'application_train.csv',\n",
       " 'bureau.csv',\n",
       " 'bureau_balance.csv',\n",
       " 'buro_bal_wide_004.csv',\n",
       " 'buro_full_wide_002.csv',\n",
       " 'buro_full_wide_004.csv',\n",
       " 'buro_wide_002.csv',\n",
       " 'cc_bal_wide_004.csv',\n",
       " 'credit_card_balance.csv',\n",
       " 'HomeCredit_columns_description.csv',\n",
       " 'installments_payments.csv',\n",
       " 'pos_bal_wide_004.csv',\n",
       " 'POS_CASH_balance.csv',\n",
       " 'previous_application.csv',\n",
       " 'sample_submission.csv']"
      ]
     },
     "execution_count": 3,
     "metadata": {},
     "output_type": "execute_result"
    }
   ],
   "source": [
    "[f_ for f_ in os.listdir(\"./data/\") if f_.endswith(\".csv\")]"
   ]
  },
  {
   "cell_type": "code",
   "execution_count": 4,
   "metadata": {
    "scrolled": false
   },
   "outputs": [
    {
     "name": "stdout",
     "output_type": "stream",
     "text": [
      "Buro bal shape :  (27299925, 3)\n",
      "transform to dummies\n",
      "Counting buros\n",
      "averaging buro bal\n",
      "Read Bureau\n",
      "Go to dummies\n",
      "Merge with buro avg\n",
      "Counting buro per SK_ID_CURR\n",
      "Averaging bureau\n",
      "Read prev\n",
      "Go to dummies\n",
      "Counting number of Prevs\n",
      "Averaging prev\n",
      "            SK_ID_PREV  AMT_ANNUITY  AMT_APPLICATION  AMT_CREDIT  \\\n",
      "SK_ID_CURR                                                         \n",
      "100001             1.0     3951.000         24835.50    23787.00   \n",
      "100002             1.0     9251.775        179055.00   179055.00   \n",
      "100003             3.0    56553.990        435436.50   484191.00   \n",
      "100004             1.0     5357.250         24282.00    20106.00   \n",
      "100005             2.0     4813.200         22308.75    20076.75   \n",
      "\n",
      "            AMT_DOWN_PAYMENT  AMT_GOODS_PRICE  HOUR_APPR_PROCESS_START  \\\n",
      "SK_ID_CURR                                                               \n",
      "100001                2520.0          24835.5                13.000000   \n",
      "100002                   0.0         179055.0                 9.000000   \n",
      "100003                3442.5         435436.5                14.666667   \n",
      "100004                4860.0          24282.0                 5.000000   \n",
      "100005                4464.0          44617.5                10.500000   \n",
      "\n",
      "            NFLAG_LAST_APPL_IN_DAY  RATE_DOWN_PAYMENT  RATE_INTEREST_PRIMARY  \\\n",
      "SK_ID_CURR                                                                     \n",
      "100001                         1.0           0.104326                    NaN   \n",
      "100002                         1.0           0.000000                    NaN   \n",
      "100003                         1.0           0.050030                    NaN   \n",
      "100004                         1.0           0.212008                    NaN   \n",
      "100005                         1.0           0.108964                    NaN   \n",
      "\n",
      "                                 ...                         \\\n",
      "SK_ID_CURR                       ...                          \n",
      "100001                           ...                          \n",
      "100002                           ...                          \n",
      "100003                           ...                          \n",
      "100004                           ...                          \n",
      "100005                           ...                          \n",
      "\n",
      "            PRODUCT_COMBINATION_Cash X-Sell: low  \\\n",
      "SK_ID_CURR                                         \n",
      "100001                                  0.000000   \n",
      "100002                                  0.000000   \n",
      "100003                                  0.333333   \n",
      "100004                                  0.000000   \n",
      "100005                                  0.000000   \n",
      "\n",
      "            PRODUCT_COMBINATION_Cash X-Sell: middle  \\\n",
      "SK_ID_CURR                                            \n",
      "100001                                          0.0   \n",
      "100002                                          0.0   \n",
      "100003                                          0.0   \n",
      "100004                                          0.0   \n",
      "100005                                          0.0   \n",
      "\n",
      "            PRODUCT_COMBINATION_POS household with interest  \\\n",
      "SK_ID_CURR                                                    \n",
      "100001                                             0.000000   \n",
      "100002                                             0.000000   \n",
      "100003                                             0.333333   \n",
      "100004                                             0.000000   \n",
      "100005                                             0.000000   \n",
      "\n",
      "            PRODUCT_COMBINATION_POS household without interest  \\\n",
      "SK_ID_CURR                                                       \n",
      "100001                                                    0.0    \n",
      "100002                                                    0.0    \n",
      "100003                                                    0.0    \n",
      "100004                                                    0.0    \n",
      "100005                                                    0.0    \n",
      "\n",
      "            PRODUCT_COMBINATION_POS industry with interest  \\\n",
      "SK_ID_CURR                                                   \n",
      "100001                                            0.000000   \n",
      "100002                                            0.000000   \n",
      "100003                                            0.333333   \n",
      "100004                                            0.000000   \n",
      "100005                                            0.000000   \n",
      "\n",
      "            PRODUCT_COMBINATION_POS industry without interest  \\\n",
      "SK_ID_CURR                                                      \n",
      "100001                                                    0.0   \n",
      "100002                                                    0.0   \n",
      "100003                                                    0.0   \n",
      "100004                                                    0.0   \n",
      "100005                                                    0.0   \n",
      "\n",
      "            PRODUCT_COMBINATION_POS mobile with interest  \\\n",
      "SK_ID_CURR                                                 \n",
      "100001                                               1.0   \n",
      "100002                                               0.0   \n",
      "100003                                               0.0   \n",
      "100004                                               0.0   \n",
      "100005                                               0.5   \n",
      "\n",
      "            PRODUCT_COMBINATION_POS mobile without interest  \\\n",
      "SK_ID_CURR                                                    \n",
      "100001                                                  0.0   \n",
      "100002                                                  0.0   \n",
      "100003                                                  0.0   \n",
      "100004                                                  1.0   \n",
      "100005                                                  0.0   \n",
      "\n",
      "            PRODUCT_COMBINATION_POS other with interest  \\\n",
      "SK_ID_CURR                                                \n",
      "100001                                              0.0   \n",
      "100002                                              1.0   \n",
      "100003                                              0.0   \n",
      "100004                                              0.0   \n",
      "100005                                              0.0   \n",
      "\n",
      "            PRODUCT_COMBINATION_POS others without interest  \n",
      "SK_ID_CURR                                                   \n",
      "100001                                                  0.0  \n",
      "100002                                                  0.0  \n",
      "100003                                                  0.0  \n",
      "100004                                                  0.0  \n",
      "100005                                                  0.0  \n",
      "\n",
      "[5 rows x 163 columns]\n",
      "Reading POS_CASH\n",
      "Go to dummies\n",
      "Compute nb of prevs per curr\n",
      "Go to averages\n",
      "Reading CC balance\n",
      "Go to dummies\n",
      "Compute average\n",
      "Reading Installments\n",
      "Read data and test\n",
      "Shapes :  (307511, 122) (48744, 121)\n",
      "New Features\n"
     ]
    },
    {
     "data": {
      "text/plain": [
       "261"
      ]
     },
     "execution_count": 4,
     "metadata": {},
     "output_type": "execute_result"
    }
   ],
   "source": [
    "buro_bal = pd.read_csv('./data/bureau_balance.csv')\n",
    "print('Buro bal shape : ', buro_bal.shape)\n",
    "\n",
    "print('transform to dummies')\n",
    "buro_bal = pd.concat([buro_bal, pd.get_dummies(buro_bal.STATUS, prefix='buro_bal_status')], axis=1).drop('STATUS', axis=1)\n",
    "\n",
    "print('Counting buros')\n",
    "buro_counts = buro_bal[['SK_ID_BUREAU', 'MONTHS_BALANCE']].groupby('SK_ID_BUREAU').count()\n",
    "buro_bal['buro_count'] = buro_bal['SK_ID_BUREAU'].map(buro_counts['MONTHS_BALANCE'])\n",
    "\n",
    "print('averaging buro bal')\n",
    "avg_buro_bal = buro_bal.groupby('SK_ID_BUREAU').mean()\n",
    "\n",
    "avg_buro_bal.columns = ['avg_buro_' + f_ for f_ in avg_buro_bal.columns]\n",
    "del buro_bal\n",
    "gc.collect()\n",
    "\n",
    "print('Read Bureau')\n",
    "buro = pd.read_csv('./data/bureau.csv')\n",
    "\n",
    "print('Go to dummies')\n",
    "buro_credit_active_dum = pd.get_dummies(buro.CREDIT_ACTIVE, prefix='ca_')\n",
    "buro_credit_currency_dum = pd.get_dummies(buro.CREDIT_CURRENCY, prefix='cu_')\n",
    "buro_credit_type_dum = pd.get_dummies(buro.CREDIT_TYPE, prefix='ty_')\n",
    "\n",
    "buro_full = pd.concat([buro, buro_credit_active_dum, buro_credit_currency_dum, buro_credit_type_dum], axis=1)\n",
    "\n",
    "del buro_credit_active_dum, buro_credit_currency_dum, buro_credit_type_dum\n",
    "gc.collect()\n",
    "\n",
    "print('Merge with buro avg')\n",
    "buro_full = buro_full.merge(right=avg_buro_bal.reset_index(), how='left', on='SK_ID_BUREAU', suffixes=('', '_bur_bal'))\n",
    "# buro_full.columns = ['buro_' + f_ for f_ in buro_full.columns]\n",
    "\n",
    "print('Counting buro per SK_ID_CURR')\n",
    "nb_bureau_per_curr = buro_full[['SK_ID_CURR', 'SK_ID_BUREAU']].groupby('SK_ID_CURR').count()\n",
    "buro_full['SK_ID_BUREAU'] = buro_full['SK_ID_CURR'].map(nb_bureau_per_curr['SK_ID_BUREAU'])\n",
    "\n",
    "print('Averaging bureau')\n",
    "avg_buro = buro_full.groupby('SK_ID_CURR').mean()\n",
    "# print(avg_buro.head())\n",
    "\n",
    "del buro, buro_full\n",
    "gc.collect()\n",
    "\n",
    "print('Read prev')\n",
    "prev = pd.read_csv('./data/previous_application.csv')\n",
    "\n",
    "prev_cat_features = [\n",
    "    f_ for f_ in prev.columns if prev[f_].dtype == 'object'\n",
    "]\n",
    "\n",
    "print('Go to dummies')\n",
    "prev_dum = pd.DataFrame()\n",
    "for f_ in prev_cat_features:\n",
    "    prev_dum = pd.concat([prev_dum, pd.get_dummies(prev[f_], prefix=f_).astype(np.uint8)], axis=1)\n",
    "\n",
    "prev = pd.concat([prev, prev_dum], axis=1)\n",
    "\n",
    "del prev_dum\n",
    "gc.collect()\n",
    "\n",
    "print('Counting number of Prevs')\n",
    "nb_prev_per_curr = prev[['SK_ID_CURR', 'SK_ID_PREV']].groupby('SK_ID_CURR').count()\n",
    "prev['SK_ID_PREV'] = prev['SK_ID_CURR'].map(nb_prev_per_curr['SK_ID_PREV'])\n",
    "\n",
    "print('Averaging prev')\n",
    "avg_prev = prev.groupby('SK_ID_CURR').mean()\n",
    "print(avg_prev.head())\n",
    "del prev\n",
    "gc.collect()\n",
    "\n",
    "print('Reading POS_CASH')\n",
    "pos = pd.read_csv('./data/POS_CASH_balance.csv')\n",
    "\n",
    "print('Go to dummies')\n",
    "pos = pd.concat([pos, pd.get_dummies(pos['NAME_CONTRACT_STATUS'])], axis=1)\n",
    "\n",
    "print('Compute nb of prevs per curr')\n",
    "nb_prevs = pos[['SK_ID_CURR', 'SK_ID_PREV']].groupby('SK_ID_CURR').count()\n",
    "pos['SK_ID_PREV'] = pos['SK_ID_CURR'].map(nb_prevs['SK_ID_PREV'])\n",
    "\n",
    "print('Go to averages')\n",
    "avg_pos = pos.groupby('SK_ID_CURR').mean()\n",
    "\n",
    "del pos, nb_prevs\n",
    "gc.collect()\n",
    "\n",
    "print('Reading CC balance')\n",
    "cc_bal = pd.read_csv('./data/credit_card_balance.csv')\n",
    "\n",
    "print('Go to dummies')\n",
    "cc_bal = pd.concat([cc_bal, pd.get_dummies(cc_bal['NAME_CONTRACT_STATUS'], prefix='cc_bal_status_')], axis=1)\n",
    "\n",
    "nb_prevs = cc_bal[['SK_ID_CURR', 'SK_ID_PREV']].groupby('SK_ID_CURR').count()\n",
    "cc_bal['SK_ID_PREV'] = cc_bal['SK_ID_CURR'].map(nb_prevs['SK_ID_PREV'])\n",
    "\n",
    "print('Compute average')\n",
    "avg_cc_bal = cc_bal.groupby('SK_ID_CURR').mean()\n",
    "avg_cc_bal.columns = ['cc_bal_' + f_ for f_ in avg_cc_bal.columns]\n",
    "\n",
    "del cc_bal, nb_prevs\n",
    "gc.collect()\n",
    "\n",
    "print('Reading Installments')\n",
    "inst = pd.read_csv('./data/installments_payments.csv')\n",
    "nb_prevs = inst[['SK_ID_CURR', 'SK_ID_PREV']].groupby('SK_ID_CURR').count()\n",
    "inst['SK_ID_PREV'] = inst['SK_ID_CURR'].map(nb_prevs['SK_ID_PREV'])\n",
    "\n",
    "avg_inst = inst.groupby('SK_ID_CURR').mean()\n",
    "avg_inst.columns = ['inst_' + f_ for f_ in avg_inst.columns]\n",
    "\n",
    "print('Read data and test')\n",
    "data = pd.read_csv('./data/application_train.csv')\n",
    "test = pd.read_csv('./data/application_test.csv')\n",
    "\n",
    "inc_by_org = data.append(test)[['AMT_INCOME_TOTAL', 'ORGANIZATION_TYPE']].groupby('ORGANIZATION_TYPE').median()['AMT_INCOME_TOTAL']\n",
    "docs = [_f for _f in data.columns if 'FLAG_DOC' in _f]\n",
    "live = [_f for _f in data.columns if ('FLAG_' in _f) & ('FLAG_DOC' not in _f) & ('_FLAG_' not in _f)]\n",
    "\n",
    "print('Shapes : ', data.shape, test.shape)\n",
    "\n",
    "print(\"New Features\")\n",
    "data = data[data['CODE_GENDER'] != 'XNA']\n",
    "\n",
    "data['DAYS_EMPLOYED'].replace(365243, np.nan, inplace= True)\n",
    "data['NEW_CREDIT_TO_ANNUITY_RATIO'] = data['AMT_CREDIT'] / data['AMT_ANNUITY']\n",
    "data['NEW_CREDIT_TO_GOODS_RATIO'] = data['AMT_CREDIT'] / data['AMT_GOODS_PRICE']\n",
    "data['NEW_DOC_IND_KURT'] = data[docs].kurtosis(axis=1)\n",
    "data['NEW_LIVE_IND_SUM'] = data[live].sum(axis=1)\n",
    "data['NEW_INC_PER_CHLD'] = data['AMT_INCOME_TOTAL'] / (1 + data['CNT_CHILDREN'])\n",
    "data['NEW_INC_BY_ORG'] = data['ORGANIZATION_TYPE'].map(inc_by_org)\n",
    "data['NEW_EMPLOY_TO_BIRTH_RATIO'] = data['DAYS_EMPLOYED'] / data['DAYS_BIRTH']\n",
    "data['NEW_ANNUITY_TO_INCOME_RATIO'] = data['AMT_ANNUITY'] / (1 + data['AMT_INCOME_TOTAL'])\n",
    "data['NEW_SOURCES_PROD'] = data['EXT_SOURCE_1'] * data['EXT_SOURCE_2'] * data['EXT_SOURCE_3']\n",
    "data['NEW_EXT_SOURCES_MEAN'] = data[['EXT_SOURCE_1', 'EXT_SOURCE_2', 'EXT_SOURCE_3']].mean(axis=1)\n",
    "data['NEW_SCORES_STD'] = data[['EXT_SOURCE_1', 'EXT_SOURCE_2', 'EXT_SOURCE_3']].std(axis=1)\n",
    "data['NEW_SCORES_STD'] = data['NEW_SCORES_STD'].fillna(data['NEW_SCORES_STD'].mean())\n",
    "data['NEW_CAR_TO_BIRTH_RATIO'] = data['OWN_CAR_AGE'] / data['DAYS_BIRTH']\n",
    "data['NEW_CAR_TO_EMPLOY_RATIO'] = data['OWN_CAR_AGE'] / data['DAYS_EMPLOYED']\n",
    "data['NEW_PHONE_TO_BIRTH_RATIO'] = data['DAYS_LAST_PHONE_CHANGE'] / data['DAYS_BIRTH']\n",
    "data['NEW_PHONE_TO_EMPLOY_RATIO'] = data['DAYS_LAST_PHONE_CHANGE'] / data['DAYS_EMPLOYED']\n",
    "data['NEW_CREDIT_TO_INCOME_RATIO'] = data['AMT_CREDIT'] / data['AMT_INCOME_TOTAL']\n",
    "\n",
    "test['DAYS_EMPLOYED'].replace(365243, np.nan, inplace= True)\n",
    "test['NEW_CREDIT_TO_ANNUITY_RATIO'] = test['AMT_CREDIT'] / test['AMT_ANNUITY']\n",
    "test['NEW_CREDIT_TO_GOODS_RATIO'] = test['AMT_CREDIT'] / test['AMT_GOODS_PRICE']\n",
    "test['NEW_DOC_IND_KURT'] = test[docs].kurtosis(axis=1)\n",
    "test['NEW_LIVE_IND_SUM'] = test[live].sum(axis=1)\n",
    "test['NEW_INC_PER_CHLD'] = test['AMT_INCOME_TOTAL'] / (1 + test['CNT_CHILDREN'])\n",
    "test['NEW_INC_BY_ORG'] = test['ORGANIZATION_TYPE'].map(inc_by_org)\n",
    "test['NEW_EMPLOY_TO_BIRTH_RATIO'] = test['DAYS_EMPLOYED'] / test['DAYS_BIRTH']\n",
    "test['NEW_ANNUITY_TO_INCOME_RATIO'] = test['AMT_ANNUITY'] / (1 + test['AMT_INCOME_TOTAL'])\n",
    "test['NEW_SOURCES_PROD'] = test['EXT_SOURCE_1'] * test['EXT_SOURCE_2'] * test['EXT_SOURCE_3']\n",
    "test['NEW_EXT_SOURCES_MEAN'] = test[['EXT_SOURCE_1', 'EXT_SOURCE_2', 'EXT_SOURCE_3']].mean(axis=1)\n",
    "test['NEW_SCORES_STD'] = test[['EXT_SOURCE_1', 'EXT_SOURCE_2', 'EXT_SOURCE_3']].std(axis=1)\n",
    "test['NEW_SCORES_STD'] = test['NEW_SCORES_STD'].fillna(test['NEW_SCORES_STD'].mean())\n",
    "test['NEW_CAR_TO_BIRTH_RATIO'] = test['OWN_CAR_AGE'] / test['DAYS_BIRTH']\n",
    "test['NEW_CAR_TO_EMPLOY_RATIO'] = test['OWN_CAR_AGE'] / test['DAYS_EMPLOYED']\n",
    "test['NEW_PHONE_TO_BIRTH_RATIO'] = test['DAYS_LAST_PHONE_CHANGE'] / test['DAYS_BIRTH']\n",
    "test['NEW_PHONE_TO_EMPLOY_RATIO'] = test['DAYS_LAST_PHONE_CHANGE'] / test['DAYS_EMPLOYED']\n",
    "test['NEW_CREDIT_TO_INCOME_RATIO'] = test['AMT_CREDIT'] / test['AMT_INCOME_TOTAL']\n",
    "\n",
    "y = data[[\"SK_ID_CURR\", 'TARGET']]\n",
    "del data['TARGET']\n",
    "\n",
    "categorical_feats = [\n",
    "    f for f in data.columns if data[f].dtype == 'object'\n",
    "]\n",
    "categorical_feats\n",
    "for f_ in categorical_feats:\n",
    "    data[f_], indexer = pd.factorize(data[f_])\n",
    "    test[f_] = indexer.get_indexer(test[f_])\n",
    "\n",
    "data = data.merge(right=avg_buro.reset_index(), how='left', on='SK_ID_CURR')\n",
    "test = test.merge(right=avg_buro.reset_index(), how='left', on='SK_ID_CURR')\n",
    "\n",
    "data = data.merge(right=avg_prev.reset_index(), how='left', on='SK_ID_CURR')\n",
    "test = test.merge(right=avg_prev.reset_index(), how='left', on='SK_ID_CURR')\n",
    "\n",
    "data = data.merge(right=avg_pos.reset_index(), how='left', on='SK_ID_CURR')\n",
    "test = test.merge(right=avg_pos.reset_index(), how='left', on='SK_ID_CURR')\n",
    "\n",
    "data = data.merge(right=avg_cc_bal.reset_index(), how='left', on='SK_ID_CURR')\n",
    "test = test.merge(right=avg_cc_bal.reset_index(), how='left', on='SK_ID_CURR')\n",
    "\n",
    "data = data.merge(right=avg_inst.reset_index(), how='left', on='SK_ID_CURR')\n",
    "test = test.merge(right=avg_inst.reset_index(), how='left', on='SK_ID_CURR')\n",
    "\n",
    "del avg_buro, avg_prev\n",
    "gc.collect()"
   ]
  },
  {
   "cell_type": "code",
   "execution_count": 5,
   "metadata": {
    "scrolled": true
   },
   "outputs": [
    {
     "data": {
      "text/html": [
       "<div>\n",
       "<style>\n",
       "    .dataframe thead tr:only-child th {\n",
       "        text-align: right;\n",
       "    }\n",
       "\n",
       "    .dataframe thead th {\n",
       "        text-align: left;\n",
       "    }\n",
       "\n",
       "    .dataframe tbody tr th {\n",
       "        vertical-align: top;\n",
       "    }\n",
       "</style>\n",
       "<table border=\"1\" class=\"dataframe\">\n",
       "  <thead>\n",
       "    <tr style=\"text-align: right;\">\n",
       "      <th></th>\n",
       "      <th>SK_ID_CURR</th>\n",
       "      <th>TARGET</th>\n",
       "    </tr>\n",
       "  </thead>\n",
       "  <tbody>\n",
       "    <tr>\n",
       "      <th>0</th>\n",
       "      <td>100002</td>\n",
       "      <td>1</td>\n",
       "    </tr>\n",
       "    <tr>\n",
       "      <th>1</th>\n",
       "      <td>100003</td>\n",
       "      <td>0</td>\n",
       "    </tr>\n",
       "    <tr>\n",
       "      <th>2</th>\n",
       "      <td>100004</td>\n",
       "      <td>0</td>\n",
       "    </tr>\n",
       "    <tr>\n",
       "      <th>3</th>\n",
       "      <td>100006</td>\n",
       "      <td>0</td>\n",
       "    </tr>\n",
       "    <tr>\n",
       "      <th>4</th>\n",
       "      <td>100007</td>\n",
       "      <td>0</td>\n",
       "    </tr>\n",
       "  </tbody>\n",
       "</table>\n",
       "</div>"
      ],
      "text/plain": [
       "   SK_ID_CURR  TARGET\n",
       "0      100002       1\n",
       "1      100003       0\n",
       "2      100004       0\n",
       "3      100006       0\n",
       "4      100007       0"
      ]
     },
     "execution_count": 5,
     "metadata": {},
     "output_type": "execute_result"
    }
   ],
   "source": [
    "y.head()"
   ]
  },
  {
   "cell_type": "code",
   "execution_count": 6,
   "metadata": {},
   "outputs": [],
   "source": [
    "import sys"
   ]
  },
  {
   "cell_type": "code",
   "execution_count": 7,
   "metadata": {},
   "outputs": [
    {
     "name": "stdout",
     "output_type": "stream",
     "text": [
      "976642256\n",
      "154810968\n",
      "7380192\n"
     ]
    }
   ],
   "source": [
    "print(sys.getsizeof(data))\n",
    "print(sys.getsizeof(test))\n",
    "print(sys.getsizeof(y))"
   ]
  },
  {
   "cell_type": "code",
   "execution_count": 8,
   "metadata": {},
   "outputs": [],
   "source": [
    "save_dataframe32(\"./bindata/data_013\", data)\n",
    "save_dataframe32(\"./bindata/test_013\", test)\n",
    "save_dataframe32(\"./bindata/y_013\", y)"
   ]
  },
  {
   "cell_type": "markdown",
   "metadata": {},
   "source": [
    "## my features 013"
   ]
  },
  {
   "cell_type": "markdown",
   "metadata": {},
   "source": [
    "### buro_bal_wide_013"
   ]
  },
  {
   "cell_type": "code",
   "execution_count": 9,
   "metadata": {},
   "outputs": [
    {
     "name": "stdout",
     "output_type": "stream",
     "text": [
      "(817395, 61)\n"
     ]
    },
    {
     "data": {
      "text/plain": [
       "104"
      ]
     },
     "execution_count": 9,
     "metadata": {},
     "output_type": "execute_result"
    }
   ],
   "source": [
    "buro_bal = pd.read_csv('./data/bureau_balance.csv')\n",
    "\n",
    "data_stack = {}\n",
    "\n",
    "# total group\n",
    "grp = buro_bal.groupby(\"SK_ID_BUREAU\")\n",
    "data_stack[\"cnt\"] = grp.size()\n",
    "data_stack[\"status_cnt\"] = grp.STATUS.count()\n",
    "data_stack[\"max_month\"] = grp.MONTHS_BALANCE.max()\n",
    "data_stack[\"min_month\"] = grp.MONTHS_BALANCE.min()\n",
    "data_stack[\"maxmin_month\"] = data_stack[\"max_month\"] - data_stack[\"min_month\"]\n",
    "\n",
    "# status group\n",
    "for status_ in buro_bal.STATUS.unique():\n",
    "    grp = buro_bal[buro_bal.STATUS == status_].groupby(\"SK_ID_BUREAU\")\n",
    "    data_stack[\"status_{}_cnt\".format(status_)] = grp.size()\n",
    "    data_stack[\"status_{}_max_month\".format(status_)] = grp.MONTHS_BALANCE.max()\n",
    "    data_stack[\"status_{}_min_month\".format(status_)] = grp.MONTHS_BALANCE.min()\n",
    "    data_stack[\"status_{}_maxmin_month\".format(status_)] = data_stack[\"status_{}_max_month\".format(status_)] - data_stack[\"status_{}_min_month\".format(status_)]\n",
    "    data_stack[\"status_{}_max_offset\".format(status_)] = data_stack[\"max_month\"] - data_stack[\"status_{}_max_month\".format(status_)]\n",
    "    data_stack[\"status_{}_min_offset\".format(status_)] = data_stack[\"min_month\"] - data_stack[\"status_{}_maxmin_month\".format(status_)]\n",
    "    data_stack[\"status_{}_raito\".format(status_)] = data_stack[\"status_{}_cnt\".format(status_)] / data_stack[\"cnt\"]\n",
    "\n",
    "buro_bal_wide = pd.DataFrame(data_stack)\n",
    "print(buro_bal_wide.shape)\n",
    "save_dataframe32(\"./bindata/buro_bal_wide_013\", buro_bal_wide.reset_index())\n",
    "\n",
    "del buro_bal, grp, data_stack\n",
    "gc.collect()"
   ]
  },
  {
   "cell_type": "markdown",
   "metadata": {},
   "source": [
    "### buro_wide_013"
   ]
  },
  {
   "cell_type": "code",
   "execution_count": 10,
   "metadata": {},
   "outputs": [
    {
     "name": "stdout",
     "output_type": "stream",
     "text": [
      "(305811, 79)\n"
     ]
    },
    {
     "data": {
      "text/plain": [
       "201"
      ]
     },
     "execution_count": 10,
     "metadata": {},
     "output_type": "execute_result"
    }
   ],
   "source": [
    "buro = pd.read_csv('./data/bureau.csv')\n",
    "data_stack = {}\n",
    "\n",
    "# total group\n",
    "grp = buro.groupby(\"SK_ID_CURR\")\n",
    "data_stack[\"buro_cnt\"] = grp.size()\n",
    "data_stack[\"buro_type_cnt\"] = grp.CREDIT_TYPE.count()\n",
    "data_stack[\"buro_currency_cnt\"] = grp.CREDIT_CURRENCY.count()\n",
    "\n",
    "# active group\n",
    "for status_ in buro.CREDIT_ACTIVE.unique():\n",
    "    grp = buro[buro.CREDIT_ACTIVE == status_].groupby(\"SK_ID_CURR\")\n",
    "    data_stack[\"buro_active_{}_cnt\".format(status_)] = grp.size()\n",
    "    data_stack[\"buro_active_{}_ratio\".format(status_)] = data_stack[\"buro_active_{}_cnt\".format(status_)] / data_stack[\"buro_cnt\"]\n",
    "    data_stack[\"buro_active_{}_type_cnt\".format(status_)] = grp.CREDIT_TYPE.count()\n",
    "    data_stack[\"buro_active_{}_currency_cnt\".format(status_)] = grp.CREDIT_CURRENCY.count()\n",
    "\n",
    "# type group\n",
    "for status_ in buro.CREDIT_TYPE.unique():\n",
    "    grp = buro[buro.CREDIT_TYPE == status_].groupby(\"SK_ID_CURR\")\n",
    "    data_stack[\"buro_type_{}_cnt\".format(status_)] = grp.size()\n",
    "    data_stack[\"buro_type_{}_ratio\".format(status_)] = data_stack[\"buro_type_{}_cnt\".format(status_)] / data_stack[\"buro_cnt\"]\n",
    "    data_stack[\"buro_type_{}_type_cnt\".format(status_)] = grp.CREDIT_TYPE.count()\n",
    "    data_stack[\"buro_type_{}_currency_cnt\".format(status_)] = grp.CREDIT_CURRENCY.count()\n",
    "\n",
    "buro_wide = pd.DataFrame(data_stack)\n",
    "print(buro_wide.shape)\n",
    "save_dataframe32(\"./bindata/buro_wide_013\", buro_wide.reset_index())\n",
    "\n",
    "del buro_wide, data_stack, grp\n",
    "gc.collect()"
   ]
  },
  {
   "cell_type": "markdown",
   "metadata": {},
   "source": [
    "### buro_full_wide_013"
   ]
  },
  {
   "cell_type": "code",
   "execution_count": 15,
   "metadata": {},
   "outputs": [
    {
     "name": "stdout",
     "output_type": "stream",
     "text": [
      "(305811, 296)\n"
     ]
    },
    {
     "data": {
      "text/plain": [
       "214"
      ]
     },
     "execution_count": 15,
     "metadata": {},
     "output_type": "execute_result"
    }
   ],
   "source": [
    "buro = pd.read_csv('./data/bureau.csv')\n",
    "buro_bal_wide = load_dataframe32(\"./bindata/buro_bal_wide_013\")\n",
    "buro_full = buro.merge(right=buro_bal_wide.reset_index(), how=\"left\", on=\"SK_ID_BUREAU\")\n",
    "\n",
    "buro_full_numcols = list(buro_full.dtypes[buro_full.dtypes != \"object\"].index)\n",
    "buro_full_numcols.remove(\"SK_ID_CURR\")\n",
    "if \"SK_ID_BUREAU\" in buro_full_numcols:\n",
    "    buro_full_numcols.remove(\"SK_ID_BUREAU\")\n",
    "\n",
    "grp = buro_full.groupby(\"SK_ID_CURR\")[buro_full_numcols]\n",
    "buro_full_avg = grp.mean()\n",
    "buro_full_max = grp.max()\n",
    "buro_full_min = grp.min()\n",
    "buro_full_maxmin = buro_full_max - buro_full_min\n",
    "\n",
    "buro_full_avg.columns = [col_ + \"_avg\" for col_ in buro_full_avg.columns]\n",
    "buro_full_max.columns = [col_ + \"_max\" for col_ in buro_full_max.columns]\n",
    "buro_full_min.columns = [col_ + \"_min\" for col_ in buro_full_min.columns]\n",
    "buro_full_maxmin.columns = [col_ + \"_maxmin\" for col_ in buro_full_maxmin.columns]\n",
    "\n",
    "buro_full_wide = pd.concat([buro_full_avg, buro_full_max, buro_full_min, buro_full_maxmin], axis=1)\n",
    "print(buro_full_wide.shape)\n",
    "save_dataframe32(\"./bindata/buro_full_wide_013\", buro_full_wide.reset_index())\n",
    "\n",
    "del buro_full_avg, buro_full_max, buro_full_min, buro_full_maxmin, buro_full, grp\n",
    "gc.collect()"
   ]
  },
  {
   "cell_type": "markdown",
   "metadata": {},
   "source": [
    "### pos_bal_wide_013"
   ]
  },
  {
   "cell_type": "code",
   "execution_count": 16,
   "metadata": {},
   "outputs": [
    {
     "name": "stdout",
     "output_type": "stream",
     "text": [
      "(337252, 98)\n"
     ]
    },
    {
     "data": {
      "text/plain": [
       "152"
      ]
     },
     "execution_count": 16,
     "metadata": {},
     "output_type": "execute_result"
    }
   ],
   "source": [
    "prev = pd.read_csv('./data/previous_application.csv')\n",
    "pos = pd.read_csv('./data/POS_CASH_balance.csv')\n",
    "pos[\"contract_type\"] = pos.SK_ID_PREV.map(prev.set_index(\"SK_ID_PREV\").NAME_CONTRACT_TYPE)\n",
    "data_stack = {}\n",
    "\n",
    "# total group\n",
    "grp = pos.groupby(\"SK_ID_CURR\")\n",
    "data_stack[\"apl_cnt\"] = grp.SK_ID_PREV.count()\n",
    "data_stack[\"type_cnt\"] = grp.contract_type.count()\n",
    "data_stack[\"max_month\"] = grp.MONTHS_BALANCE.max()\n",
    "data_stack[\"min_month\"] = grp.MONTHS_BALANCE.min()\n",
    "data_stack[\"maxmin_month\"] = data_stack[\"max_month\"] - data_stack[\"min_month\"]\n",
    "\n",
    "for active_ in pos.NAME_CONTRACT_STATUS.unique():\n",
    "    grp = pos[pos.NAME_CONTRACT_STATUS == active_].groupby(\"SK_ID_CURR\")\n",
    "    data_stack[\"status_{}_apl_cnt\".format(active_)] = grp.SK_ID_PREV.count()\n",
    "    data_stack[\"status_{}_type_cnt\".format(active_)] = grp.contract_type.count()\n",
    "    data_stack[\"status_{}_max_month\".format(active_)] = grp.MONTHS_BALANCE.max()\n",
    "    data_stack[\"status_{}_min_month\".format(active_)] = grp.MONTHS_BALANCE.min()\n",
    "    data_stack[\"status_{}_maxmin_month\".format(active_)] = data_stack[\"status_{}_max_month\".format(active_)] - data_stack[\"status_{}_min_month\".format(active_)]\n",
    "    data_stack[\"status_{}_max_offset\".format(active_)] = data_stack[\"max_month\"] - data_stack[\"status_{}_max_month\".format(active_)]\n",
    "    data_stack[\"status_{}_min_offset\".format(active_)] = data_stack[\"min_month\"] - data_stack[\"status_{}_maxmin_month\".format(active_)]\n",
    "    data_stack[\"status_{}_raito\".format(active_)] = data_stack[\"status_{}_apl_cnt\".format(active_)] / data_stack[\"apl_cnt\"]\n",
    "\n",
    "# status group\n",
    "for status_ in pos.contract_type.unique():\n",
    "    grp = pos[pos.contract_type == status_].groupby(\"SK_ID_CURR\")\n",
    "    data_stack[\"type_{}_apl_cnt\".format(status_)] = grp.SK_ID_PREV.count()\n",
    "    data_stack[\"type_{}_max_month\".format(status_)] = grp.MONTHS_BALANCE.max()\n",
    "    data_stack[\"type_{}_min_month\".format(status_)] = grp.MONTHS_BALANCE.min()\n",
    "    data_stack[\"type_{}_maxmin_month\".format(status_)] = data_stack[\"type_{}_max_month\".format(status_)] - data_stack[\"type_{}_min_month\".format(status_)]\n",
    "    data_stack[\"type_{}_max_offset\".format(status_)] = data_stack[\"max_month\"] - data_stack[\"type_{}_max_month\".format(status_)]\n",
    "    data_stack[\"type_{}_min_offset\".format(status_)] = data_stack[\"min_month\"] - data_stack[\"type_{}_maxmin_month\".format(status_)]\n",
    "    data_stack[\"type_{}_raito\".format(status_)] = data_stack[\"type_{}_apl_cnt\".format(status_)] / data_stack[\"apl_cnt\"]\n",
    "\n",
    "pos_bal_wide = pd.DataFrame(data_stack)\n",
    "pos_bal_wide.columns = [\"pos_bal_\" + col_ for col_ in pos_bal_wide.columns]\n",
    "print(pos_bal_wide.shape)\n",
    "save_dataframe32(\"./bindata/pos_bal_wide_013\", pos_bal_wide.reset_index())\n",
    "\n",
    "del prev, pos, grp, data_stack\n",
    "gc.collect()"
   ]
  },
  {
   "cell_type": "markdown",
   "metadata": {},
   "source": [
    "### cc_bal_wide_013"
   ]
  },
  {
   "cell_type": "code",
   "execution_count": 17,
   "metadata": {},
   "outputs": [
    {
     "name": "stdout",
     "output_type": "stream",
     "text": [
      "(103558, 54)\n"
     ]
    },
    {
     "data": {
      "text/plain": [
       "245"
      ]
     },
     "execution_count": 17,
     "metadata": {},
     "output_type": "execute_result"
    }
   ],
   "source": [
    "cc_bal = pd.read_csv('./data/credit_card_balance.csv')\n",
    "# cc_bal[\"contract_type\"] = cc_bal.SK_ID_PREV.map(prev.set_index(\"SK_ID_PREV\").NAME_CONTRACT_TYPE)\n",
    "\n",
    "data_stack = {}\n",
    "\n",
    "# total group\n",
    "grp = cc_bal.groupby(\"SK_ID_CURR\")\n",
    "data_stack[\"apl_cnt\"] = grp.SK_ID_PREV.count()\n",
    "data_stack[\"statue_cnt\"] = grp.NAME_CONTRACT_STATUS.count()\n",
    "data_stack[\"max_month\"] = grp.MONTHS_BALANCE.max()\n",
    "data_stack[\"min_month\"] = grp.MONTHS_BALANCE.min()\n",
    "data_stack[\"maxmin_month\"] = data_stack[\"max_month\"] - data_stack[\"min_month\"]\n",
    "\n",
    "for active_ in cc_bal.NAME_CONTRACT_STATUS.unique():\n",
    "    grp = cc_bal[cc_bal.NAME_CONTRACT_STATUS == active_].groupby(\"SK_ID_CURR\")\n",
    "    data_stack[\"status_{}_apl_cnt\".format(active_)] = grp.SK_ID_PREV.count()\n",
    "    data_stack[\"status_{}_max_month\".format(active_)] = grp.MONTHS_BALANCE.max()\n",
    "    data_stack[\"status_{}_min_month\".format(active_)] = grp.MONTHS_BALANCE.min()\n",
    "    data_stack[\"status_{}_maxmin_month\".format(active_)] = data_stack[\"status_{}_max_month\".format(active_)] - data_stack[\"status_{}_min_month\".format(active_)]\n",
    "    data_stack[\"status_{}_max_offset\".format(active_)] = data_stack[\"max_month\"] - data_stack[\"status_{}_max_month\".format(active_)]\n",
    "    data_stack[\"status_{}_min_offset\".format(active_)] = data_stack[\"min_month\"] - data_stack[\"status_{}_maxmin_month\".format(active_)]\n",
    "    data_stack[\"status_{}_raito\".format(active_)] = data_stack[\"status_{}_apl_cnt\".format(active_)] / data_stack[\"apl_cnt\"]\n",
    "    \n",
    "cc_bal_wide = pd.DataFrame(data_stack)\n",
    "cc_bal_wide.columns = [\"cc_bal_\" + col_ for col_ in cc_bal_wide.columns]\n",
    "print(cc_bal_wide.shape)\n",
    "save_dataframe32(\"./bindata/cc_bal_wide_013\", cc_bal_wide.reset_index())\n",
    "\n",
    "del cc_bal, data_stack, grp\n",
    "gc.collect()"
   ]
  },
  {
   "cell_type": "markdown",
   "metadata": {},
   "source": [
    "### buro_bal_timestep1_013"
   ]
  },
  {
   "cell_type": "code",
   "execution_count": 18,
   "metadata": {},
   "outputs": [
    {
     "name": "stdout",
     "output_type": "stream",
     "text": [
      "(133231, 126) 133231\n"
     ]
    },
    {
     "data": {
      "text/plain": [
       "853"
      ]
     },
     "execution_count": 18,
     "metadata": {},
     "output_type": "execute_result"
    }
   ],
   "source": [
    "buro_bal = pd.read_csv('./data/bureau_balance.csv')\n",
    "buro = pd.read_csv('./data/bureau.csv')\n",
    "\n",
    "buro_bal[\"SK_ID_CURR\"] = buro_bal.SK_ID_BUREAU.map(buro.set_index(\"SK_ID_BUREAU\").SK_ID_CURR)\n",
    "buro_bal[\"CREDIT_TYPE\"] = buro_bal.SK_ID_BUREAU.map(buro.set_index(\"SK_ID_BUREAU\").CREDIT_TYPE)\n",
    "\n",
    "freq_types = {\n",
    "    'Consumer credit',\n",
    "    'Credit card',\n",
    "    'Mortgage',\n",
    "    'Car loan',\n",
    "    'Microloan',\n",
    "    'Loan for working capital replenishment',\n",
    "    'Loan for business development'\n",
    "}\n",
    "buro_bal[\"CREDIT_TYPE2\"] = buro_bal.CREDIT_TYPE\n",
    "buro_bal.loc[~buro_bal.CREDIT_TYPE.isin(freq_types), \"CREDIT_TYPE2\"] = \"Others\"\n",
    "\n",
    "data_stack = {}\n",
    "\n",
    "map_prev_step = dict(zip((2, 5, 11, 23), (0, 2, 5, 11)))\n",
    "\n",
    "for min_month in (0, 2, 5, 11, 23):\n",
    "    grp = buro_bal[buro_bal.MONTHS_BALANCE >= -min_month].groupby(\"SK_ID_CURR\")\n",
    "    data_stack[\"before_{}_cnt\".format(min_month)] = grp.size()\n",
    "    data_stack[\"before_{}_type_cnt\".format(min_month)] = grp.CREDIT_TYPE.count()\n",
    "    if min_month in map_prev_step:\n",
    "        prev_month = map_prev_step[min_month]\n",
    "        data_stack[\"before_{}_div_{}_ratio\".format(prev_month, min_month)] = data_stack[\"before_{}_cnt\".format(prev_month)] / data_stack[\"before_{}_cnt\".format(min_month)]\n",
    "\n",
    "    for type2_ in buro_bal.CREDIT_TYPE2.unique():\n",
    "        grp = buro_bal[(buro_bal.MONTHS_BALANCE >= -min_month) & (buro_bal.CREDIT_TYPE2 == type2_)].groupby(\"SK_ID_CURR\")\n",
    "        data_stack[\"before_{}_type_{}_cnt\".format(min_month, type2_)] = grp.size()\n",
    "        data_stack[\"before_{}_type_{}_ratio\".format(min_month, type2_)] = data_stack[\"before_{}_type_{}_cnt\".format(min_month, type2_)] / data_stack[\"before_{}_cnt\".format(min_month)]\n",
    "        if min_month in map_prev_step:\n",
    "            prev_month = map_prev_step[min_month]\n",
    "            data_stack[\"before_{}_div_{}_type_{}_ratio\".format(prev_month, min_month, type2_)] = data_stack[\"before_{}_type_{}_cnt\".format(prev_month, type2_)] / data_stack[\"before_{}_type_{}_cnt\".format(min_month, type2_)]\n",
    "            \n",
    "buro_bal_timestep1 = pd.DataFrame(data_stack)\n",
    "print(buro_bal_timestep1.shape, buro_bal_timestep1.index.nunique())\n",
    "save_dataframe32(\"./bindata/buro_bal_timestep1_013\", buro_bal_timestep1.reset_index())\n",
    "\n",
    "del buro_bal_timestep1, data_stack, grp\n",
    "gc.collect()"
   ]
  },
  {
   "cell_type": "markdown",
   "metadata": {},
   "source": [
    "### buro_bal_timestep2_013"
   ]
  },
  {
   "cell_type": "code",
   "execution_count": 19,
   "metadata": {},
   "outputs": [
    {
     "name": "stdout",
     "output_type": "stream",
     "text": [
      "before_0_cnt (129829, 8)\n",
      "before_0_type_Credit card_cnt (78479, 8)\n",
      "before_0_type_Credit card_ratio (129829, 8)\n",
      "before_0_type_Consumer credit_cnt (118793, 8)\n",
      "before_0_type_Consumer credit_ratio (129829, 8)\n",
      "before_0_type_Car loan_cnt (7954, 8)\n",
      "before_0_type_Car loan_ratio (129829, 8)\n",
      "before_0_type_Others_cnt (445, 8)\n",
      "before_0_type_Others_ratio (129829, 8)\n",
      "before_0_type_Mortgage_cnt (6272, 8)\n",
      "before_0_type_Mortgage_ratio (129829, 8)\n",
      "before_0_type_Microloan_cnt (2578, 8)\n",
      "before_0_type_Microloan_ratio (129829, 8)\n",
      "before_0_type_Loan for working capital replenishment_cnt (242, 8)\n",
      "before_0_type_Loan for working capital replenishment_ratio (129829, 8)\n",
      "before_0_type_Loan for business development_cnt (439, 8)\n",
      "before_0_type_Loan for business development_ratio (129829, 8)\n",
      "before_2_cnt (130822, 8)\n",
      "before_0_div_2_ratio (130822, 8)\n",
      "before_2_type_Credit card_cnt (80018, 8)\n",
      "before_2_type_Credit card_ratio (130822, 8)\n",
      "before_0_div_2_type_Credit card_ratio (80018, 8)\n",
      "before_2_type_Consumer credit_cnt (120252, 8)\n",
      "before_2_type_Consumer credit_ratio (130822, 8)\n",
      "before_0_div_2_type_Consumer credit_ratio (120252, 8)\n",
      "before_2_type_Car loan_cnt (8149, 8)\n",
      "before_2_type_Car loan_ratio (130822, 8)\n",
      "before_0_div_2_type_Car loan_ratio (8149, 8)\n",
      "before_2_type_Others_cnt (454, 8)\n",
      "before_2_type_Others_ratio (130822, 8)\n",
      "before_0_div_2_type_Others_ratio (454, 8)\n",
      "before_2_type_Mortgage_cnt (6450, 8)\n",
      "before_2_type_Mortgage_ratio (130822, 8)\n",
      "before_0_div_2_type_Mortgage_ratio (6450, 8)\n",
      "before_2_type_Microloan_cnt (2613, 8)\n",
      "before_2_type_Microloan_ratio (130822, 8)\n",
      "before_0_div_2_type_Microloan_ratio (2613, 8)\n",
      "before_2_type_Loan for working capital replenishment_cnt (245, 8)\n",
      "before_2_type_Loan for working capital replenishment_ratio (130822, 8)\n",
      "before_0_div_2_type_Loan for working capital replenishment_ratio (245, 8)\n",
      "before_2_type_Loan for business development_cnt (451, 8)\n",
      "before_2_type_Loan for business development_ratio (130822, 8)\n",
      "before_0_div_2_type_Loan for business development_ratio (451, 8)\n",
      "before_5_cnt (131376, 8)\n",
      "before_2_div_5_ratio (131376, 8)\n",
      "before_5_type_Credit card_cnt (81183, 8)\n",
      "before_5_type_Credit card_ratio (131376, 8)\n",
      "before_2_div_5_type_Credit card_ratio (81183, 8)\n",
      "before_5_type_Consumer credit_cnt (121150, 8)\n",
      "before_5_type_Consumer credit_ratio (131376, 8)\n",
      "before_2_div_5_type_Consumer credit_ratio (121150, 8)\n",
      "before_5_type_Car loan_cnt (8304, 8)\n",
      "before_5_type_Car loan_ratio (131376, 8)\n",
      "before_2_div_5_type_Car loan_ratio (8304, 8)\n",
      "before_5_type_Others_cnt (467, 8)\n",
      "before_5_type_Others_ratio (131376, 8)\n",
      "before_2_div_5_type_Others_ratio (467, 8)\n",
      "before_5_type_Mortgage_cnt (6577, 8)\n",
      "before_5_type_Mortgage_ratio (131376, 8)\n",
      "before_2_div_5_type_Mortgage_ratio (6577, 8)\n",
      "before_5_type_Microloan_cnt (2638, 8)\n",
      "before_5_type_Microloan_ratio (131376, 8)\n",
      "before_2_div_5_type_Microloan_ratio (2638, 8)\n",
      "before_5_type_Loan for working capital replenishment_cnt (247, 8)\n",
      "before_5_type_Loan for working capital replenishment_ratio (131376, 8)\n",
      "before_2_div_5_type_Loan for working capital replenishment_ratio (247, 8)\n",
      "before_5_type_Loan for business development_cnt (458, 8)\n",
      "before_5_type_Loan for business development_ratio (131376, 8)\n",
      "before_2_div_5_type_Loan for business development_ratio (458, 8)\n",
      "before_11_cnt (132250, 8)\n",
      "before_5_div_11_ratio (132250, 8)\n",
      "before_11_type_Credit card_cnt (83154, 8)\n",
      "before_11_type_Credit card_ratio (132250, 8)\n",
      "before_5_div_11_type_Credit card_ratio (83154, 8)\n",
      "before_11_type_Consumer credit_cnt (122514, 8)\n",
      "before_11_type_Consumer credit_ratio (132250, 8)\n",
      "before_5_div_11_type_Consumer credit_ratio (122514, 8)\n",
      "before_11_type_Car loan_cnt (8618, 8)\n",
      "before_11_type_Car loan_ratio (132250, 8)\n",
      "before_5_div_11_type_Car loan_ratio (8618, 8)\n",
      "before_11_type_Others_cnt (483, 8)\n",
      "before_11_type_Others_ratio (132250, 8)\n",
      "before_5_div_11_type_Others_ratio (483, 8)\n",
      "before_11_type_Mortgage_cnt (6847, 8)\n",
      "before_11_type_Mortgage_ratio (132250, 8)\n",
      "before_5_div_11_type_Mortgage_ratio (6847, 8)\n",
      "before_11_type_Microloan_cnt (2654, 8)\n",
      "before_11_type_Microloan_ratio (132250, 8)\n",
      "before_5_div_11_type_Microloan_ratio (2654, 8)\n",
      "before_11_type_Loan for working capital replenishment_cnt (251, 8)\n",
      "before_11_type_Loan for working capital replenishment_ratio (132250, 8)\n",
      "before_5_div_11_type_Loan for working capital replenishment_ratio (251, 8)\n",
      "before_11_type_Loan for business development_cnt (477, 8)\n",
      "before_11_type_Loan for business development_ratio (132250, 8)\n",
      "before_5_div_11_type_Loan for business development_ratio (477, 8)\n",
      "before_23_cnt (133231, 8)\n",
      "before_11_div_23_ratio (133231, 8)\n",
      "before_23_type_Credit card_cnt (85539, 8)\n",
      "before_23_type_Credit card_ratio (133231, 8)\n",
      "before_11_div_23_type_Credit card_ratio (85539, 8)\n",
      "before_23_type_Consumer credit_cnt (124088, 8)\n",
      "before_23_type_Consumer credit_ratio (133231, 8)\n",
      "before_11_div_23_type_Consumer credit_ratio (124088, 8)\n",
      "before_23_type_Car loan_cnt (9096, 8)\n",
      "before_23_type_Car loan_ratio (133231, 8)\n",
      "before_11_div_23_type_Car loan_ratio (9096, 8)\n",
      "before_23_type_Others_cnt (513, 8)\n",
      "before_23_type_Others_ratio (133231, 8)\n",
      "before_11_div_23_type_Others_ratio (513, 8)\n",
      "before_23_type_Mortgage_cnt (7191, 8)\n",
      "before_23_type_Mortgage_ratio (133231, 8)\n",
      "before_11_div_23_type_Mortgage_ratio (7191, 8)\n",
      "before_23_type_Microloan_cnt (2669, 8)\n",
      "before_23_type_Microloan_ratio (133231, 8)\n",
      "before_11_div_23_type_Microloan_ratio (2669, 8)\n",
      "before_23_type_Loan for working capital replenishment_cnt (252, 8)\n",
      "before_23_type_Loan for working capital replenishment_ratio (133231, 8)\n",
      "before_11_div_23_type_Loan for working capital replenishment_ratio (252, 8)\n",
      "before_23_type_Loan for business development_cnt (512, 8)\n",
      "before_23_type_Loan for business development_ratio (133231, 8)\n",
      "before_11_div_23_type_Loan for business development_ratio (512, 8)\n",
      "(133231, 968)\n"
     ]
    },
    {
     "data": {
      "text/plain": [
       "1152"
      ]
     },
     "execution_count": 19,
     "metadata": {},
     "output_type": "execute_result"
    }
   ],
   "source": [
    "buro_status = pd.get_dummies(buro_bal.STATUS).rename(columns=lambda x: \"status_\" + x)\n",
    "buro_bal_append = pd.concat([buro_bal, buro_status], axis=1)\n",
    "status_columns = [col_ for col_ in buro_bal_append.columns if col_.startswith(\"status\")]\n",
    "\n",
    "data_stack = {}\n",
    "\n",
    "map_prev_step = dict(zip((2, 5, 11, 23), (0, 2, 5, 11)))\n",
    "\n",
    "for min_month in (0, 2, 5, 11, 23):\n",
    "    grp = buro_bal_append[buro_bal_append.MONTHS_BALANCE >= -min_month].groupby(\"SK_ID_CURR\")\n",
    "    data_stack[\"before_{}_cnt\".format(min_month)] = grp[status_columns].sum()\n",
    "    if min_month in map_prev_step:\n",
    "        prev_month = map_prev_step[min_month]\n",
    "        data_stack[\"before_{}_div_{}_ratio\".format(prev_month, min_month)] = data_stack[\"before_{}_cnt\".format(prev_month)] / data_stack[\"before_{}_cnt\".format(min_month)]\n",
    "\n",
    "    for type2_ in buro_bal.CREDIT_TYPE2.unique():\n",
    "        grp = buro_bal_append[(buro_bal_append.MONTHS_BALANCE >= -min_month) & (buro_bal_append.CREDIT_TYPE2 == type2_)].groupby(\"SK_ID_CURR\")\n",
    "        data_stack[\"before_{}_type_{}_cnt\".format(min_month, type2_)] = grp[status_columns].sum()\n",
    "        data_stack[\"before_{}_type_{}_ratio\".format(min_month, type2_)] = data_stack[\"before_{}_type_{}_cnt\".format(min_month, type2_)] / data_stack[\"before_{}_cnt\".format(min_month)]\n",
    "        if min_month in map_prev_step:\n",
    "            prev_month = map_prev_step[min_month]\n",
    "            data_stack[\"before_{}_div_{}_type_{}_ratio\".format(prev_month, min_month, type2_)] = data_stack[\"before_{}_type_{}_cnt\".format(prev_month, type2_)] / data_stack[\"before_{}_type_{}_cnt\".format(min_month, type2_)]\n",
    "\n",
    "for name_, data_ in data_stack.items():\n",
    "    print(name_, data_.shape)\n",
    "\n",
    "buro_bal_timestep2 = pd.concat([data_.rename(columns=lambda x: name_ + \"_\" + x) for name_, data_ in data_stack.items()], axis=1)\n",
    "print(buro_bal_timestep2.shape)\n",
    "save_dataframe32(\"./bindata/buro_bal_timestep2_013\", buro_bal_timestep2.reset_index())\n",
    "\n",
    "del buro_bal_timestep2, data_stack, grp\n",
    "gc.collect()"
   ]
  },
  {
   "cell_type": "markdown",
   "metadata": {},
   "source": [
    "### pos_bal_timestep1_013"
   ]
  },
  {
   "cell_type": "code",
   "execution_count": 20,
   "metadata": {},
   "outputs": [
    {
     "name": "stdout",
     "output_type": "stream",
     "text": [
      "(284055, 56) 284055\n"
     ]
    },
    {
     "data": {
      "text/plain": [
       "327"
      ]
     },
     "execution_count": 20,
     "metadata": {},
     "output_type": "execute_result"
    }
   ],
   "source": [
    "prev = pd.read_csv('./data/previous_application.csv')\n",
    "pos = pd.read_csv('./data/POS_CASH_balance.csv')\n",
    "pos[\"contract_type\"] = pos.SK_ID_PREV.map(prev.set_index(\"SK_ID_PREV\").NAME_CONTRACT_TYPE)\n",
    "\n",
    "data_stack = {}\n",
    "\n",
    "map_prev_step = dict(zip((2, 5, 11, 23), (0, 2, 5, 11)))\n",
    "\n",
    "for min_month in (0, 2, 5, 11, 23):\n",
    "    grp = pos[pos.MONTHS_BALANCE >= -min_month].groupby(\"SK_ID_CURR\")\n",
    "    data_stack[\"before_{}_cnt\".format(min_month)] = grp.size()\n",
    "    data_stack[\"before_{}_type_cnt\".format(min_month)] = grp.contract_type.count()\n",
    "    if min_month in map_prev_step:\n",
    "        prev_month = map_prev_step[min_month]\n",
    "        data_stack[\"before_{}_div_{}_ratio\".format(prev_month, min_month)] = data_stack[\"before_{}_cnt\".format(prev_month)] / data_stack[\"before_{}_cnt\".format(min_month)]\n",
    "\n",
    "    for type2_ in pos.contract_type.unique():\n",
    "        grp = pos[(pos.MONTHS_BALANCE >= -min_month) & (pos.contract_type == type2_)].groupby(\"SK_ID_CURR\")\n",
    "        data_stack[\"before_{}_type_{}_cnt\".format(min_month, type2_)] = grp.size()\n",
    "        data_stack[\"before_{}_type_{}_ratio\".format(min_month, type2_)] = data_stack[\"before_{}_type_{}_cnt\".format(min_month, type2_)] / data_stack[\"before_{}_cnt\".format(min_month)]\n",
    "        if min_month in map_prev_step:\n",
    "            prev_month = map_prev_step[min_month]\n",
    "            data_stack[\"before_{}_div_{}_type_{}_ratio\".format(prev_month, min_month, type2_)] = data_stack[\"before_{}_type_{}_cnt\".format(prev_month, type2_)] / data_stack[\"before_{}_type_{}_cnt\".format(min_month, type2_)]\n",
    "            \n",
    "pos_bal_timestep1 = pd.DataFrame(data_stack)\n",
    "print(pos_bal_timestep1.shape, pos_bal_timestep1.index.nunique())\n",
    "save_dataframe32(\"./bindata/pos_bal_timestep1_013\", pos_bal_timestep1.reset_index())\n",
    "\n",
    "del pos_bal_timestep1, data_stack, grp\n",
    "gc.collect()"
   ]
  },
  {
   "cell_type": "markdown",
   "metadata": {},
   "source": [
    "### pos_bal_timestep2_013"
   ]
  },
  {
   "cell_type": "code",
   "execution_count": 21,
   "metadata": {},
   "outputs": [
    {
     "name": "stdout",
     "output_type": "stream",
     "text": [
      "before_2_cnt (146892, 5)\n",
      "before_2_type_Cash loans_cnt (75264, 5)\n",
      "before_2_type_Cash loans_ratio (146892, 5)\n",
      "before_2_type_Consumer loans_cnt (79985, 5)\n",
      "before_2_type_Consumer loans_ratio (146892, 5)\n",
      "before_5_cnt (182471, 5)\n",
      "before_2_div_5_ratio (182471, 5)\n",
      "before_5_type_Cash loans_cnt (90777, 5)\n",
      "before_5_type_Cash loans_ratio (182471, 5)\n",
      "before_2_div_5_type_Cash loans_ratio (90777, 5)\n",
      "before_5_type_Consumer loans_cnt (105232, 5)\n",
      "before_5_type_Consumer loans_ratio (182471, 5)\n",
      "before_2_div_5_type_Consumer loans_ratio (105232, 5)\n",
      "before_11_cnt (233396, 5)\n",
      "before_5_div_11_ratio (233396, 5)\n",
      "before_11_type_Cash loans_cnt (115006, 5)\n",
      "before_11_type_Cash loans_ratio (233396, 5)\n",
      "before_5_div_11_type_Cash loans_ratio (115006, 5)\n",
      "before_11_type_Consumer loans_cnt (146015, 5)\n",
      "before_11_type_Consumer loans_ratio (233396, 5)\n",
      "before_5_div_11_type_Consumer loans_ratio (146015, 5)\n",
      "before_23_cnt (284055, 5)\n",
      "before_11_div_23_ratio (284055, 5)\n",
      "before_23_type_Cash loans_cnt (138004, 5)\n",
      "before_23_type_Cash loans_ratio (284055, 5)\n",
      "before_11_div_23_type_Cash loans_ratio (138004, 5)\n",
      "before_23_type_Consumer loans_cnt (199941, 5)\n",
      "before_23_type_Consumer loans_ratio (284055, 5)\n",
      "before_11_div_23_type_Consumer loans_ratio (199941, 5)\n",
      "(284055, 145)\n"
     ]
    },
    {
     "data": {
      "text/plain": [
       "383"
      ]
     },
     "execution_count": 21,
     "metadata": {},
     "output_type": "execute_result"
    }
   ],
   "source": [
    "pos_numcols = list(pos.dtypes[pos.dtypes != \"object\"].index)\n",
    "pos_numcols.remove(\"SK_ID_CURR\")\n",
    "pos_numcols.remove(\"SK_ID_PREV\")\n",
    "\n",
    "data_stack = {}\n",
    "\n",
    "map_prev_step = dict(zip((5, 11, 23), (2, 5, 11)))\n",
    "\n",
    "for min_month in (2, 5, 11, 23):\n",
    "    grp = pos[pos.MONTHS_BALANCE >= -min_month].groupby(\"SK_ID_CURR\")\n",
    "    data_stack[\"before_{}_cnt\".format(min_month)] = grp[pos_numcols].sum()\n",
    "    if min_month in map_prev_step:\n",
    "        prev_month = map_prev_step[min_month]\n",
    "        data_stack[\"before_{}_div_{}_ratio\".format(prev_month, min_month)] = data_stack[\"before_{}_cnt\".format(prev_month)] / data_stack[\"before_{}_cnt\".format(min_month)]\n",
    "\n",
    "    for type2_ in pos.contract_type.unique():\n",
    "        if str(type2_) == \"nan\":\n",
    "            continue\n",
    "        grp = pos[(pos.MONTHS_BALANCE >= -min_month) & (pos.contract_type == type2_)].groupby(\"SK_ID_CURR\")\n",
    "        data_stack[\"before_{}_type_{}_cnt\".format(min_month, type2_)] = grp[pos_numcols].sum()\n",
    "        data_stack[\"before_{}_type_{}_ratio\".format(min_month, type2_)] = data_stack[\"before_{}_type_{}_cnt\".format(min_month, type2_)] / data_stack[\"before_{}_cnt\".format(min_month)]\n",
    "        if min_month in map_prev_step:\n",
    "            prev_month = map_prev_step[min_month]\n",
    "            data_stack[\"before_{}_div_{}_type_{}_ratio\".format(prev_month, min_month, type2_)] = data_stack[\"before_{}_type_{}_cnt\".format(prev_month, type2_)] / data_stack[\"before_{}_type_{}_cnt\".format(min_month, type2_)]\n",
    "\n",
    "for name_, data_ in data_stack.items():\n",
    "    print(name_, data_.shape)\n",
    "\n",
    "pos_timestep2 = pd.concat([data_.rename(columns=lambda x: name_ + \"_\" + x) for name_, data_ in data_stack.items()], axis=1)\n",
    "print(pos_timestep2.shape)\n",
    "save_dataframe32(\"./bindata/pos_bal_timestep2_013\", pos_timestep2.reset_index())\n",
    "\n",
    "del pos_timestep2, data_stack, grp\n",
    "gc.collect()"
   ]
  },
  {
   "cell_type": "markdown",
   "metadata": {},
   "source": [
    "### cc_bal_timestep1_013"
   ]
  },
  {
   "cell_type": "code",
   "execution_count": 22,
   "metadata": {},
   "outputs": [
    {
     "name": "stdout",
     "output_type": "stream",
     "text": [
      "(103558, 112) 103558\n"
     ]
    },
    {
     "data": {
      "text/plain": [
       "600"
      ]
     },
     "execution_count": 22,
     "metadata": {},
     "output_type": "execute_result"
    }
   ],
   "source": [
    "cc_bal = pd.read_csv('./data/credit_card_balance.csv')\n",
    "\n",
    "data_stack = {}\n",
    "\n",
    "map_prev_step = dict(zip((2, 5, 11, 23), (0, 2, 5, 11)))\n",
    "\n",
    "for min_month in (0, 2, 5, 11, 23):\n",
    "    grp = cc_bal[cc_bal.MONTHS_BALANCE >= -min_month].groupby(\"SK_ID_CURR\")\n",
    "    data_stack[\"before_{}_cnt\".format(min_month)] = grp.size()\n",
    "    data_stack[\"before_{}_type_cnt\".format(min_month)] = grp.NAME_CONTRACT_STATUS.count()\n",
    "    if min_month in map_prev_step:\n",
    "        prev_month = map_prev_step[min_month]\n",
    "        data_stack[\"before_{}_div_{}_ratio\".format(prev_month, min_month)] = data_stack[\"before_{}_cnt\".format(prev_month)] / data_stack[\"before_{}_cnt\".format(min_month)]\n",
    "\n",
    "    for type2_ in cc_bal.NAME_CONTRACT_STATUS.unique():\n",
    "        grp = cc_bal[(cc_bal.MONTHS_BALANCE >= -min_month) & (cc_bal.NAME_CONTRACT_STATUS == type2_)].groupby(\"SK_ID_CURR\")\n",
    "        data_stack[\"before_{}_type_{}_cnt\".format(min_month, type2_)] = grp.size()\n",
    "        data_stack[\"before_{}_type_{}_ratio\".format(min_month, type2_)] = data_stack[\"before_{}_type_{}_cnt\".format(min_month, type2_)] / data_stack[\"before_{}_cnt\".format(min_month)]\n",
    "        if min_month in map_prev_step:\n",
    "            prev_month = map_prev_step[min_month]\n",
    "            data_stack[\"before_{}_div_{}_type_{}_ratio\".format(prev_month, min_month, type2_)] = data_stack[\"before_{}_type_{}_cnt\".format(prev_month, type2_)] / data_stack[\"before_{}_type_{}_cnt\".format(min_month, type2_)]\n",
    "            \n",
    "cc_bal_timestep1 = pd.DataFrame(data_stack)\n",
    "print(cc_bal_timestep1.shape, cc_bal_timestep1.index.nunique())\n",
    "save_dataframe32(\"./bindata/cc_bal_timestep1_013\", cc_bal_timestep1.reset_index())\n",
    "\n",
    "del cc_bal_timestep1, data_stack, grp\n",
    "gc.collect()"
   ]
  },
  {
   "cell_type": "markdown",
   "metadata": {},
   "source": [
    "### cc_bal_timestep2_013"
   ]
  },
  {
   "cell_type": "code",
   "execution_count": 24,
   "metadata": {},
   "outputs": [
    {
     "name": "stdout",
     "output_type": "stream",
     "text": [
      "before_2_cnt (94385, 19)\n",
      "before_2_status_Active_cnt (84857, 19)\n",
      "before_2_status_Active_ratio (94385, 19)\n",
      "before_2_status_Completed_cnt (10530, 19)\n",
      "before_2_status_Completed_ratio (94385, 19)\n",
      "before_2_status_Other_cnt (17, 19)\n",
      "before_2_status_Other_ratio (94385, 19)\n",
      "before_2_status_Signed_cnt (46, 19)\n",
      "before_2_status_Signed_ratio (94385, 19)\n",
      "before_5_cnt (103556, 19)\n",
      "before_2_div_5_ratio (103556, 19)\n",
      "before_5_status_Active_cnt (95193, 19)\n",
      "before_5_status_Active_ratio (103556, 19)\n",
      "before_2_div_5_status_Active_ratio (95193, 19)\n",
      "before_5_status_Completed_cnt (13179, 19)\n",
      "before_5_status_Completed_ratio (103556, 19)\n",
      "before_2_div_5_status_Completed_ratio (13179, 19)\n",
      "before_5_status_Other_cnt (22, 19)\n",
      "before_5_status_Other_ratio (103556, 19)\n",
      "before_2_div_5_status_Other_ratio (22, 19)\n",
      "before_5_status_Signed_cnt (187, 19)\n",
      "before_5_status_Signed_ratio (103556, 19)\n",
      "before_2_div_5_status_Signed_ratio (187, 19)\n",
      "before_11_cnt (103557, 19)\n",
      "before_5_div_11_ratio (103557, 19)\n",
      "before_11_status_Active_cnt (99917, 19)\n",
      "before_11_status_Active_ratio (103557, 19)\n",
      "before_5_div_11_status_Active_ratio (99917, 19)\n",
      "before_11_status_Completed_cnt (13180, 19)\n",
      "before_11_status_Completed_ratio (103557, 19)\n",
      "before_5_div_11_status_Completed_ratio (13180, 19)\n",
      "before_11_status_Other_cnt (22, 19)\n",
      "before_11_status_Other_ratio (103557, 19)\n",
      "before_5_div_11_status_Other_ratio (22, 19)\n",
      "before_11_status_Signed_cnt (952, 19)\n",
      "before_11_status_Signed_ratio (103557, 19)\n",
      "before_5_div_11_status_Signed_ratio (952, 19)\n",
      "before_23_cnt (103558, 19)\n",
      "before_11_div_23_ratio (103558, 19)\n",
      "before_23_status_Active_cnt (100841, 19)\n",
      "before_23_status_Active_ratio (103558, 19)\n",
      "before_11_div_23_status_Active_ratio (100841, 19)\n",
      "before_23_status_Completed_cnt (13181, 19)\n",
      "before_23_status_Completed_ratio (103558, 19)\n",
      "before_11_div_23_status_Completed_ratio (13181, 19)\n",
      "before_23_status_Other_cnt (22, 19)\n",
      "before_23_status_Other_ratio (103558, 19)\n",
      "before_11_div_23_status_Other_ratio (22, 19)\n",
      "before_23_status_Signed_cnt (1822, 19)\n",
      "before_23_status_Signed_ratio (103558, 19)\n",
      "before_11_div_23_status_Signed_ratio (1822, 19)\n",
      "(103558, 969)\n"
     ]
    },
    {
     "data": {
      "text/plain": [
       "1056"
      ]
     },
     "execution_count": 24,
     "metadata": {},
     "output_type": "execute_result"
    }
   ],
   "source": [
    "cc_bal[\"contract_status\"] = cc_bal.NAME_CONTRACT_STATUS\n",
    "cc_bal.loc[~cc_bal.contract_status.isin({\"Active\", \"Completed\", \"Signed\"}), \"contract_status\"] = \"Other\"\n",
    "\n",
    "cc_bal_numcols = list(cc_bal.dtypes[cc_bal.dtypes != \"object\"].index)\n",
    "cc_bal_numcols.remove(\"MONTHS_BALANCE\")\n",
    "cc_bal_numcols.remove(\"SK_ID_CURR\")\n",
    "cc_bal_numcols.remove(\"SK_ID_PREV\")\n",
    "\n",
    "data_stack = {}\n",
    "\n",
    "map_prev_step = dict(zip((5, 11, 23), (2, 5, 11)))\n",
    "\n",
    "for min_month in (2, 5, 11, 23):\n",
    "    grp = cc_bal[cc_bal.MONTHS_BALANCE >= -min_month].groupby(\"SK_ID_CURR\")\n",
    "    data_stack[\"before_{}_cnt\".format(min_month)] = grp[cc_bal_numcols].sum()\n",
    "    if min_month in map_prev_step:\n",
    "        prev_month = map_prev_step[min_month]\n",
    "        data_stack[\"before_{}_div_{}_ratio\".format(prev_month, min_month)] = data_stack[\"before_{}_cnt\".format(prev_month)] / data_stack[\"before_{}_cnt\".format(min_month)]\n",
    "\n",
    "    for type2_ in cc_bal.contract_status.unique():\n",
    "        if str(type2_) == \"nan\":\n",
    "            continue\n",
    "        grp = cc_bal[(cc_bal.MONTHS_BALANCE >= -min_month) & (cc_bal.contract_status == type2_)].groupby(\"SK_ID_CURR\")\n",
    "        data_stack[\"before_{}_status_{}_cnt\".format(min_month, type2_)] = grp[cc_bal_numcols].sum()\n",
    "        data_stack[\"before_{}_status_{}_ratio\".format(min_month, type2_)] = data_stack[\"before_{}_status_{}_cnt\".format(min_month, type2_)] / data_stack[\"before_{}_cnt\".format(min_month)]\n",
    "        if min_month in map_prev_step:\n",
    "            prev_month = map_prev_step[min_month]\n",
    "            data_stack[\"before_{}_div_{}_status_{}_ratio\".format(prev_month, min_month, type2_)] = data_stack[\"before_{}_status_{}_cnt\".format(prev_month, type2_)] / data_stack[\"before_{}_status_{}_cnt\".format(min_month, type2_)]\n",
    "\n",
    "for name_, data_ in data_stack.items():\n",
    "    print(name_, data_.shape)\n",
    "\n",
    "cc_bal_timestep2 = pd.concat([data_.rename(columns=lambda x: name_ + \"_\" + x) for name_, data_ in data_stack.items()], axis=1)\n",
    "print(cc_bal_timestep2.shape)\n",
    "save_dataframe32(\"./bindata/cc_bal_timestep2_013\", cc_bal_timestep2.reset_index())\n",
    "\n",
    "del cc_bal_timestep2, data_stack, grp\n",
    "gc.collect()"
   ]
  },
  {
   "cell_type": "markdown",
   "metadata": {},
   "source": [
    "## nmf features 013"
   ]
  },
  {
   "cell_type": "code",
   "execution_count": 29,
   "metadata": {},
   "outputs": [],
   "source": [
    "from sklearn.decomposition import NMF\n",
    "from sklearn.preprocessing import MinMaxScaler"
   ]
  },
  {
   "cell_type": "code",
   "execution_count": 31,
   "metadata": {},
   "outputs": [
    {
     "name": "stdout",
     "output_type": "stream",
     "text": [
      "buro_wide_013\n",
      "       nmf0      nmf1      nmf2      nmf3      nmf4      nmf5      nmf6  \\\n",
      "0  0.220581  0.305496  0.505983  0.000000  0.000000  0.649386  0.000054   \n",
      "1  0.128088  0.320471  0.125159  0.139062  0.006342  0.383147  0.043419   \n",
      "2  0.266054  0.303614  0.010646  0.072806  0.007133  0.100957  0.007241   \n",
      "3  0.000000  0.318018  0.554501  0.000000  0.000000  0.000000  0.000000   \n",
      "4  0.586593  0.106899  0.224221  0.054819  0.052639  0.680011  0.003229   \n",
      "\n",
      "       nmf7  nmf8  nmf9     ...         nmf41     nmf42  nmf43     nmf44  \\\n",
      "0  0.000000   0.0   0.0     ...      0.005920  0.000000    0.0  0.000017   \n",
      "1  0.627760   0.0   0.0     ...      0.168911  0.170890    0.0  0.000011   \n",
      "2  0.745296   0.0   0.0     ...      0.113830  0.062388    0.0  0.000000   \n",
      "3  0.000000   0.0   0.0     ...      0.004825  0.000288    0.0  0.000021   \n",
      "4  0.211868   0.0   0.0     ...      0.000000  0.000000    0.0  0.000000   \n",
      "\n",
      "      nmf45  nmf46  nmf47     nmf48  nmf49  SK_ID_CURR  \n",
      "0  0.000014    0.0    0.0  0.000076    0.0    100001.0  \n",
      "1  0.000000    0.0    0.0  0.000047    0.0    100002.0  \n",
      "2  0.000000    0.0    0.0  0.000000    0.0    100003.0  \n",
      "3  0.122855    0.0    0.0  0.000071    0.0    100004.0  \n",
      "4  0.000177    0.0    0.0  0.000023    0.0    100005.0  \n",
      "\n",
      "[5 rows x 51 columns]\n",
      "buro_full_wide_013\n",
      "       nmf0      nmf1      nmf2      nmf3      nmf4      nmf5      nmf6  \\\n",
      "0  1.395441  0.000000  0.260883  0.015401  0.542328  0.150580  0.608601   \n",
      "1  0.971569  0.122143  0.027223  0.057604  2.048159  0.261689  0.707608   \n",
      "2  1.291779  0.000000  0.000000  0.120624  0.432005  0.206397  1.610380   \n",
      "3  1.380119  0.000000  0.000000  0.119622  0.100380  0.124706  0.740622   \n",
      "4  1.437699  0.000438  0.020292  0.062614  0.069513  0.181309  0.115669   \n",
      "\n",
      "       nmf7      nmf8      nmf9     ...         nmf41     nmf42     nmf43  \\\n",
      "0  0.053956  1.002433  0.993055     ...      0.071397  0.000000  0.064179   \n",
      "1  0.029809  0.196782  0.000000     ...      0.157727  0.162113  0.257065   \n",
      "2  0.000000  0.000000  0.103227     ...      0.241358  0.000000  0.072097   \n",
      "3  0.000000  0.008959  0.070487     ...      0.270789  0.000000  0.327813   \n",
      "4  0.000000  0.909927  0.561396     ...      0.161303  0.000000  0.336347   \n",
      "\n",
      "      nmf44     nmf45     nmf46     nmf47     nmf48         nmf49  SK_ID_CURR  \n",
      "0  0.004749  0.000993  0.048711  0.000936  0.267357  1.161491e-01    100001.0  \n",
      "1  0.001463  0.004122  0.056748  0.000706  0.000000  7.556823e-02    100002.0  \n",
      "2  0.000000  0.000000  0.000000  0.001091  0.000000  6.225718e-07    100003.0  \n",
      "3  0.000000  0.000000  0.000000  0.000048  0.000000  0.000000e+00    100004.0  \n",
      "4  0.002866  0.000000  0.010382  0.000491  0.169986  6.391906e-02    100005.0  \n",
      "\n",
      "[5 rows x 51 columns]\n",
      "pos_bal_wide_013\n",
      "       nmf0      nmf1      nmf2      nmf3      nmf4      nmf5      nmf6  \\\n",
      "0  0.515002  0.305134  0.000000  0.000000  0.000000  1.686125  0.464251   \n",
      "1  1.667044  0.024426  0.000004  0.454705  0.002626  0.347883  0.000000   \n",
      "2  1.369330  0.412051  0.002741  0.357421  0.009428  0.513035  0.000000   \n",
      "3  1.262326  0.000000  0.001745  0.589739  0.000000  0.660653  0.000000   \n",
      "4  1.349939  0.026101  0.000000  0.752599  0.002102  0.576285  0.000000   \n",
      "\n",
      "       nmf7      nmf8      nmf9     ...         nmf41     nmf42     nmf43  \\\n",
      "0  0.000000  0.015599  0.088735     ...      0.003512  0.000000  0.000000   \n",
      "1  0.000000  0.004603  0.009962     ...      0.179742  0.000001  0.000000   \n",
      "2  0.086548  0.012354  0.025489     ...      0.281616  0.000016  0.000044   \n",
      "3  0.000000  0.026010  0.008953     ...      0.015756  0.000018  0.000000   \n",
      "4  0.000000  0.014208  0.003358     ...      0.002381  0.000000  0.000000   \n",
      "\n",
      "      nmf44     nmf45     nmf46     nmf47     nmf48     nmf49  SK_ID_CURR  \n",
      "0  0.065006  0.000000  0.000000  0.000000  0.085475  0.000000    100001.0  \n",
      "1  0.009724  0.140868  0.000259  0.000011  0.092894  0.000000    100002.0  \n",
      "2  0.015088  0.000592  0.000710  0.000003  0.026731  0.000000    100003.0  \n",
      "3  0.023213  0.128619  0.002691  0.000000  0.168396  0.000084    100004.0  \n",
      "4  0.026381  0.214951  0.041091  0.000000  0.096621  0.000000    100005.0  \n",
      "\n",
      "[5 rows x 51 columns]\n",
      "cc_bal_wide_013\n",
      "       nmf0      nmf1      nmf2      nmf3      nmf4      nmf5      nmf6  \\\n",
      "0  1.258675  0.938564  0.012279  0.047464  0.015823  0.976501  0.056492   \n",
      "1  1.193323  0.264851  0.276832  0.552556  0.470919  0.718884  0.000280   \n",
      "2  1.095574  0.000000  0.375441  0.908024  0.483680  0.724040  0.000000   \n",
      "3  0.596370  0.943080  0.013841  0.010601  0.075514  0.642763  0.033294   \n",
      "4  1.209832  0.882612  0.012728  0.124218  0.070299  0.268484  0.048913   \n",
      "\n",
      "       nmf7      nmf8      nmf9     ...         nmf41     nmf42     nmf43  \\\n",
      "0  0.000234  0.000000  0.000474     ...      0.012892  0.001040  0.000053   \n",
      "1  0.000000  0.000000  0.007408     ...      0.000000  0.006041  0.000000   \n",
      "2  0.001045  0.000000  0.034108     ...      0.000000  0.000000  0.000000   \n",
      "3  0.099547  0.946627  0.000000     ...      0.000000  0.000000  0.000000   \n",
      "4  0.002491  0.000378  0.021630     ...      0.000106  0.033675  0.000000   \n",
      "\n",
      "      nmf44  nmf45     nmf46     nmf47     nmf48     nmf49  SK_ID_CURR  \n",
      "0  0.000000    0.0  0.000000  0.000671  0.000000  0.000000    100006.0  \n",
      "1  0.000000    0.0  0.023872  0.000448  0.000000  0.005812    100011.0  \n",
      "2  0.000007    0.0  0.009703  0.002412  0.000000  0.004479    100013.0  \n",
      "3  0.012867    0.0  0.000000  0.027992  0.001479  0.041967    100021.0  \n",
      "4  0.000000    0.0  0.020410  0.004529  0.000000  0.001209    100023.0  \n",
      "\n",
      "[5 rows x 51 columns]\n",
      "buro_bal_timestep1_013\n",
      "       nmf0     nmf1      nmf2      nmf3      nmf4      nmf5      nmf6  \\\n",
      "0  0.717522  0.00000  0.000000  0.000000  0.719053  0.000000  0.000000   \n",
      "1  0.000000  0.00000  0.290623  0.707551  0.000000  0.000000  0.025753   \n",
      "2  0.483797  0.46691  0.346036  0.151893  0.318840  0.000000  0.003973   \n",
      "3  0.000000  0.00000  0.000000  0.000000  0.000000  0.000000  0.000000   \n",
      "4  0.367203  0.00000  0.002562  0.000000  0.129703  0.122353  0.000000   \n",
      "\n",
      "       nmf7  nmf8      nmf9     ...         nmf41     nmf42     nmf43  \\\n",
      "0  0.306067   0.0  0.019322     ...      0.000000  0.006448  0.043398   \n",
      "1  0.000000   0.0  0.000000     ...      0.000000  0.032184  0.006501   \n",
      "2  0.000000   0.0  0.267899     ...      0.000000  0.002488  0.000000   \n",
      "3  0.028084   0.0  0.012904     ...      0.000000  0.061006  0.009239   \n",
      "4  0.101390   0.0  0.123940     ...      0.178424  0.001449  0.035578   \n",
      "\n",
      "      nmf44     nmf45     nmf46     nmf47     nmf48     nmf49  SK_ID_CURR  \n",
      "0  0.000000  0.000000  0.000000  0.000000  0.000000  0.000000    100001.0  \n",
      "1  0.000009  0.000000  0.000000  0.000000  0.037442  0.000000    100002.0  \n",
      "2  0.000000  0.000000  0.000000  0.000000  0.014467  0.003428    100005.0  \n",
      "3  0.000000  0.000000  0.000000  0.000000  0.000000  0.302694    100010.0  \n",
      "4  0.000284  0.025323  0.003049  0.000119  0.000000  0.000000    100013.0  \n",
      "\n",
      "[5 rows x 51 columns]\n",
      "buro_bal_timestep2_013\n",
      "       nmf0      nmf1      nmf2      nmf3      nmf4      nmf5      nmf6  \\\n",
      "0  0.531345  0.000000  0.000000  0.341341  0.006005  0.124373  0.000000   \n",
      "1  0.082123  0.000000  0.083134  0.000000  0.000000  0.000000  0.204468   \n",
      "2  1.824647  0.340913  0.000000  0.225185  0.008812  0.000000  0.000000   \n",
      "3  0.000000  0.000000  0.000000  0.000000  0.000000  0.000057  0.000000   \n",
      "4  0.902088  1.213721  0.000000  0.190043  0.000000  0.000000  0.000000   \n",
      "\n",
      "       nmf7      nmf8      nmf9     ...         nmf41     nmf42     nmf43  \\\n",
      "0  0.228203  0.003022  0.704870     ...      1.167382  0.000000  0.016429   \n",
      "1  0.000000  0.000000  0.000000     ...      0.000000  0.008273  0.005045   \n",
      "2  0.000000  0.000000  0.000000     ...      0.000000  0.000000  0.009522   \n",
      "3  0.000000  0.000000  0.004501     ...      0.000000  0.000000  0.000000   \n",
      "4  0.000000  0.000091  0.162563     ...      0.000000  0.000000  0.000000   \n",
      "\n",
      "      nmf44     nmf45     nmf46     nmf47     nmf48     nmf49  SK_ID_CURR  \n",
      "0  0.000000  0.041872  0.000000  0.000000  0.000000  0.023814    100001.0  \n",
      "1  0.005640  0.010264  0.000000  0.000000  0.278850  0.000000    100002.0  \n",
      "2  0.000000  0.073738  0.000000  0.101448  0.197705  0.010213    100005.0  \n",
      "3  0.000000  0.000038  0.000000  0.000000  0.000000  0.000000    100010.0  \n",
      "4  0.057719  0.000000  0.196146  0.033680  0.000000  0.028023    100013.0  \n",
      "\n",
      "[5 rows x 51 columns]\n",
      "pos_bal_timestep1_013\n"
     ]
    },
    {
     "name": "stdout",
     "output_type": "stream",
     "text": [
      "       nmf0      nmf1      nmf2      nmf3      nmf4      nmf5      nmf6  \\\n",
      "0  1.112248  0.000000  0.498110  0.000000  0.167066  0.337065  0.154409   \n",
      "1  0.000000  0.000000  0.000000  0.000000  0.000000  0.000000  0.000000   \n",
      "2  0.000000  0.000000  0.000000  0.000000  0.000000  0.000000  0.000000   \n",
      "3  0.585168  0.000000  0.477046  0.013394  0.157804  0.163662  0.100358   \n",
      "4  0.000000  1.116239  0.000000  1.406091  0.000000  0.000000  0.000000   \n",
      "\n",
      "           nmf7      nmf8      nmf9     ...         nmf41     nmf42     nmf43  \\\n",
      "0  0.000000e+00  0.000000  0.000008     ...      0.323210  0.000054  0.003824   \n",
      "1  2.473818e-08  0.000000  0.195522     ...      0.000035  0.000000  0.022498   \n",
      "2  0.000000e+00  0.000000  0.000000     ...      0.000107  0.000000  0.067261   \n",
      "3  6.673104e-02  0.000000  0.000000     ...      0.468906  0.000000  0.015691   \n",
      "4  4.083781e-02  0.606278  0.285699     ...      0.000000  0.000000  0.000000   \n",
      "\n",
      "      nmf44     nmf45     nmf46     nmf47     nmf48     nmf49  SK_ID_CURR  \n",
      "0  0.000000  0.007916  0.139588  0.004839  0.716451  0.000000    100002.0  \n",
      "1  0.024516  0.000000  0.000000  0.000000  0.000000  0.000000    100003.0  \n",
      "2  0.167374  0.000000  0.000000  0.000000  0.000000  0.000000    100005.0  \n",
      "3  0.000000  0.000000  0.000565  0.026687  0.596559  0.000138    100006.0  \n",
      "4  0.000000  0.000000  0.000000  0.000000  0.000000  0.000000    100007.0  \n",
      "\n",
      "[5 rows x 51 columns]\n",
      "pos_bal_timestep2_013\n",
      "       nmf0      nmf1      nmf2      nmf3      nmf4      nmf5      nmf6  nmf7  \\\n",
      "0  0.615016  0.418825  0.341731  0.000000  0.000000  0.000000  0.072397   0.0   \n",
      "1  0.000000  0.000000  0.000000  0.000000  0.069033  0.000000  0.000000   0.0   \n",
      "2  0.000000  0.000000  0.000000  0.000547  0.000000  0.000012  0.200951   0.0   \n",
      "3  0.686527  0.450098  0.451173  0.000000  0.000000  0.000000  0.052238   0.0   \n",
      "4  0.919605  0.000000  0.000000  0.723760  0.084325  0.259877  0.000913   0.0   \n",
      "\n",
      "       nmf8      nmf9     ...         nmf41     nmf42     nmf43     nmf44  \\\n",
      "0  0.007296  0.053569     ...      0.563219  0.000000  0.001106  0.000284   \n",
      "1  0.000000  0.000038     ...      0.203417  0.000000  0.000000  0.000000   \n",
      "2  0.000000  0.000000     ...      0.793775  0.000000  0.000000  0.000000   \n",
      "3  0.000045  0.073605     ...      0.215415  0.000047  0.001369  0.000000   \n",
      "4  0.000028  0.000000     ...      0.000000  0.000000  0.000000  0.035605   \n",
      "\n",
      "      nmf45     nmf46     nmf47     nmf48     nmf49  SK_ID_CURR  \n",
      "0  0.010376  0.000000  0.000000  0.258813  0.098925    100002.0  \n",
      "1  0.000000  0.000000  0.779897  0.262939  0.000000    100003.0  \n",
      "2  0.000000  0.000155  0.000000  0.271545  0.000000    100005.0  \n",
      "3  0.000000  0.048587  0.213433  0.183556  0.088099    100006.0  \n",
      "4  0.000000  0.000000  0.106511  0.078909  0.002237    100007.0  \n",
      "\n",
      "[5 rows x 51 columns]\n",
      "cc_bal_timestep1_013\n",
      "       nmf0      nmf1      nmf2      nmf3      nmf4      nmf5      nmf6  nmf7  \\\n",
      "0  0.486181  0.205817  0.416590  0.011143  0.145691  0.007380  0.000000   0.0   \n",
      "1  0.449090  0.488880  0.081448  0.002438  0.009222  0.000000  0.000000   0.0   \n",
      "2  0.561706  0.617906  0.191997  0.000746  0.000000  0.002072  0.000000   0.0   \n",
      "3  0.000000  0.000000  0.000000  0.000000  0.000000  0.000000  0.001684   0.0   \n",
      "4  0.000000  0.000000  0.715954  0.000000  0.000000  0.008636  0.000000   0.0   \n",
      "\n",
      "       nmf8      nmf9     ...         nmf41     nmf42     nmf43     nmf44  \\\n",
      "0  0.000000  0.000000     ...      0.000000  0.000000  0.005314  0.011490   \n",
      "1  0.000000  0.000000     ...      0.000000  0.077967  0.001790  0.087302   \n",
      "2  0.000000  0.000000     ...      0.000000  0.000000  0.000837  0.190978   \n",
      "3  0.152485  0.000077     ...      0.000000  0.000000  0.000408  0.743798   \n",
      "4  0.000000  0.000000     ...      0.000034  0.000037  0.149383  0.357228   \n",
      "\n",
      "      nmf45     nmf46  nmf47     nmf48     nmf49  SK_ID_CURR  \n",
      "0  0.000043  0.004334    0.0  0.076029  0.160446    100006.0  \n",
      "1  0.000411  0.000440    0.0  0.000851  0.075788    100011.0  \n",
      "2  0.000102  0.000002    0.0  0.000000  0.105133    100013.0  \n",
      "3  0.000000  0.000000    0.0  0.000000  0.170101    100021.0  \n",
      "4  0.005995  0.220925    0.0  0.003951  0.000000    100023.0  \n",
      "\n",
      "[5 rows x 51 columns]\n",
      "cc_bal_timestep2_013\n",
      "   nmf0  nmf1  nmf2  nmf3      nmf4      nmf5  nmf6      nmf7  nmf8  nmf9  \\\n",
      "0   0.0   0.0   0.0   0.0  0.000144  0.000000   0.0  0.000000   0.0   0.0   \n",
      "1   0.0   0.0   0.0   0.0  0.000000  0.002356   0.0  0.000000   0.0   0.0   \n",
      "2   0.0   0.0   0.0   0.0  0.000000  0.000000   0.0  0.000000   0.0   0.0   \n",
      "3   0.0   0.0   0.0   0.0  0.000000  0.000000   0.0  0.000000   0.0   0.0   \n",
      "4   0.0   0.0   0.0   0.0  0.000000  0.000000   0.0  0.000586   0.0   0.0   \n",
      "\n",
      "      ...      nmf41     nmf42     nmf43     nmf44  nmf45  nmf46  nmf47  \\\n",
      "0     ...        0.0  0.000000  0.000482  0.074952    0.0    0.0    0.0   \n",
      "1     ...        0.0  0.000000  0.004730  0.020764    0.0    0.0    0.0   \n",
      "2     ...        0.0  0.000000  0.003808  0.029775    0.0    0.0    0.0   \n",
      "3     ...        0.0  0.000000  0.012850  0.007139    0.0    0.0    0.0   \n",
      "4     ...        0.0  0.000011  0.000160  0.088787    0.0    0.0    0.0   \n",
      "\n",
      "      nmf48     nmf49  SK_ID_CURR  \n",
      "0  0.000000  0.000000    100006.0  \n",
      "1  0.000073  0.000000    100011.0  \n",
      "2  0.000000  0.001541    100013.0  \n",
      "3  0.004229  0.929151    100021.0  \n",
      "4  0.000000  0.000000    100023.0  \n",
      "\n",
      "[5 rows x 51 columns]\n"
     ]
    }
   ],
   "source": [
    "for source_name in (\n",
    "    \"buro_wide_013\",\n",
    "    \"buro_full_wide_013\",\n",
    "    \"pos_bal_wide_013\",\n",
    "    \"cc_bal_wide_013\",\n",
    "    \"buro_bal_timestep1_013\",\n",
    "    \"buro_bal_timestep2_013\",\n",
    "    \"pos_bal_timestep1_013\",\n",
    "    \"pos_bal_timestep2_013\",\n",
    "    \"cc_bal_timestep1_013\",\n",
    "    \"cc_bal_timestep2_013\"\n",
    "):\n",
    "    print(source_name)\n",
    "    source_name = \"./bindata/\" + source_name\n",
    "    target_name = source_name + \"_nmf5\"\n",
    "    souce_data = load_dataframe32(source_name)\n",
    "    columns = list(souce_data.columns)\n",
    "    columns.remove(\"SK_ID_CURR\")\n",
    "    X = souce_data[columns].values\n",
    "    X[np.isnan(X)] = 0\n",
    "    X = MinMaxScaler().fit_transform(X)\n",
    "    model = NMF(n_components=50, init='random', random_state=0)\n",
    "    X_nmf5 = model.fit_transform(X)\n",
    "    target_data = pd.DataFrame(X_nmf5, columns=[\"nmf{}\".format(i) for i in range(50)])\n",
    "    target_data[\"SK_ID_CURR\"] = souce_data.SK_ID_CURR\n",
    "    save_dataframe32(target_name, target_data)\n",
    "    print(target_data.head())\n",
    "    \n",
    "    del souce_data, target_data\n",
    "    gc.collect()"
   ]
  },
  {
   "cell_type": "markdown",
   "metadata": {},
   "source": [
    "## single xgb"
   ]
  },
  {
   "cell_type": "markdown",
   "metadata": {},
   "source": [
    "### train test split"
   ]
  },
  {
   "cell_type": "code",
   "execution_count": 32,
   "metadata": {},
   "outputs": [],
   "source": [
    "data = load_dataframe32(\"./bindata/data_013\")\n",
    "data[\"SK_ID_CURR\"] = data.SK_ID_CURR.astype(\"int\")\n",
    "\n",
    "test = load_dataframe32(\"./bindata/test_013\")\n",
    "test[\"SK_ID_CURR\"] = test.SK_ID_CURR.astype(\"int\")\n",
    "\n",
    "y = load_dataframe32(\"./bindata/y_013\")\n",
    "y[\"SK_ID_CURR\"] = y.SK_ID_CURR.astype(\"int\")"
   ]
  },
  {
   "cell_type": "code",
   "execution_count": 33,
   "metadata": {},
   "outputs": [],
   "source": [
    "data_train = data[data.SK_ID_CURR < 130000]\n",
    "data_val = data[(data.SK_ID_CURR >= 130000) & (data.SK_ID_CURR < 150000)]\n",
    "\n",
    "ydata_train = y[y.SK_ID_CURR < 130000]\n",
    "ydata_val = y[(y.SK_ID_CURR >= 130000) & (y.SK_ID_CURR < 150000)]"
   ]
  },
  {
   "cell_type": "code",
   "execution_count": 34,
   "metadata": {},
   "outputs": [],
   "source": [
    "import xgboost as xgb\n",
    "\n",
    "class XgbWrapper:\n",
    "    def __init__(self, seed=0, params=None):\n",
    "        self.param = params\n",
    "        self.param['seed'] = seed\n",
    "        self.nrounds = params.pop('nrounds', 250)\n",
    "\n",
    "    def train(self, x_train, y_train):\n",
    "        dtrain = xgb.DMatrix(x_train, label=y_train)\n",
    "        self.gbdt = xgb.train(self.param, dtrain, self.nrounds)\n",
    "\n",
    "    def predict(self, x):\n",
    "        return self.gbdt.predict(xgb.DMatrix(x))"
   ]
  },
  {
   "cell_type": "markdown",
   "metadata": {},
   "source": [
    "### nmf features"
   ]
  },
  {
   "cell_type": "code",
   "execution_count": 35,
   "metadata": {},
   "outputs": [],
   "source": [
    "for source_name in (\n",
    "    \"buro_wide_013\",\n",
    "    \"buro_full_wide_013\",\n",
    "    \"pos_bal_wide_013\",\n",
    "    \"cc_bal_wide_013\",\n",
    "    \"buro_bal_timestep1_013\",\n",
    "    \"buro_bal_timestep2_013\",\n",
    "    \"pos_bal_timestep1_013\",\n",
    "    \"pos_bal_timestep2_013\",\n",
    "    \"cc_bal_timestep1_013\",\n",
    "    \"cc_bal_timestep2_013\"\n",
    "):\n",
    "    source_name = \"./bindata/\" + source_name\n",
    "    target_name = source_name + \"_nmf5\"\n",
    "    nmf_data = load_dataframe32(target_name)\n",
    "    nmf_data[\"SK_ID_CURR\"] = nmf_data.SK_ID_CURR.astype(\"int\")\n",
    "    data_train = data_train.merge(right=nmf_data, how=\"left\", on=\"SK_ID_CURR\")\n",
    "    data_val = data_val.merge(right=nmf_data, how=\"left\", on=\"SK_ID_CURR\")"
   ]
  },
  {
   "cell_type": "code",
   "execution_count": 36,
   "metadata": {},
   "outputs": [
    {
     "data": {
      "text/plain": [
       "((25803, 896), (17390, 896))"
      ]
     },
     "execution_count": 36,
     "metadata": {},
     "output_type": "execute_result"
    }
   ],
   "source": [
    "data_train.shape, data_val.shape"
   ]
  },
  {
   "cell_type": "code",
   "execution_count": 37,
   "metadata": {},
   "outputs": [
    {
     "name": "stdout",
     "output_type": "stream",
     "text": [
      "895\n"
     ]
    }
   ],
   "source": [
    "features = list(data_train.columns)\n",
    "features.remove(\"SK_ID_CURR\")\n",
    "print(len(features))"
   ]
  },
  {
   "cell_type": "code",
   "execution_count": 38,
   "metadata": {},
   "outputs": [],
   "source": [
    "X_num_train = data_train[features].values\n",
    "X_num_val = data_val[features].values\n",
    "\n",
    "y_train = ydata_train.TARGET.values\n",
    "y_val = ydata_val.TARGET.values\n",
    "\n",
    "xgb_params = {\n",
    "     \"objective\": \"binary:logistic\",\n",
    "     \"booster\": \"gbtree\",\n",
    "     \"eval_metric\": \"auc\",\n",
    "     \"nthread\": 8,\n",
    "     \"eta\": 0.025,\n",
    "     \"max_depth\": 6,\n",
    "     \"min_child_weight\": 19,\n",
    "     \"gamma\": 0,\n",
    "     \"subsample\": 0.8,\n",
    "     \"colsample_bytree\": 0.632,\n",
    "     \"alpha\": 0,\n",
    "     \"lambda\": 0.05,\n",
    "     \"nrounds\": 250\n",
    "}\n",
    "\n",
    "xgb_clf = XgbWrapper(params=xgb_params)\n",
    "xgb_clf.train(X_num_train, y_train)\n",
    "pred_val = xgb_clf.predict(X_num_val)"
   ]
  },
  {
   "cell_type": "code",
   "execution_count": 39,
   "metadata": {},
   "outputs": [
    {
     "data": {
      "text/plain": [
       "0.76390659652258486"
      ]
     },
     "execution_count": 39,
     "metadata": {},
     "output_type": "execute_result"
    }
   ],
   "source": [
    "roc_auc_score(y_val, pred_val)"
   ]
  },
  {
   "cell_type": "markdown",
   "metadata": {},
   "source": [
    "### nmf + first 4"
   ]
  },
  {
   "cell_type": "code",
   "execution_count": 40,
   "metadata": {},
   "outputs": [],
   "source": [
    "buro_wide = load_dataframe32(\"./bindata/buro_wide_013\")\n",
    "buro_full_wide = load_dataframe32(\"./bindata/buro_full_wide_013\")\n",
    "pos_bal_wide = load_dataframe32(\"./bindata/pos_bal_wide_013\")\n",
    "cc_bal_wide = load_dataframe32(\"./bindata/cc_bal_wide_013\")\n",
    "\n",
    "buro_wide[\"SK_ID_CURR\"] = buro_wide.SK_ID_CURR.astype(\"int\")\n",
    "buro_full_wide[\"SK_ID_CURR\"] = buro_full_wide.SK_ID_CURR.astype(\"int\")\n",
    "pos_bal_wide[\"SK_ID_CURR\"] = pos_bal_wide.SK_ID_CURR.astype(\"int\")\n",
    "cc_bal_wide[\"SK_ID_CURR\"] = cc_bal_wide.SK_ID_CURR.astype(\"int\")\n",
    "\n",
    "for data_ in (buro_wide, buro_full_wide, pos_bal_wide, cc_bal_wide):\n",
    "    data_train = data_train.merge(right=data_, how=\"left\", on=\"SK_ID_CURR\")\n",
    "    data_val = data_val.merge(right=data_, how=\"left\", on=\"SK_ID_CURR\")"
   ]
  },
  {
   "cell_type": "code",
   "execution_count": 41,
   "metadata": {},
   "outputs": [
    {
     "data": {
      "text/plain": [
       "((25803, 1423), (17390, 1423))"
      ]
     },
     "execution_count": 41,
     "metadata": {},
     "output_type": "execute_result"
    }
   ],
   "source": [
    "data_train.shape, data_val.shape"
   ]
  },
  {
   "cell_type": "code",
   "execution_count": 42,
   "metadata": {},
   "outputs": [
    {
     "name": "stdout",
     "output_type": "stream",
     "text": [
      "1422\n"
     ]
    }
   ],
   "source": [
    "features = list(data_train.columns)\n",
    "features.remove(\"SK_ID_CURR\")\n",
    "print(len(features))"
   ]
  },
  {
   "cell_type": "code",
   "execution_count": 43,
   "metadata": {},
   "outputs": [],
   "source": [
    "X_num_train = data_train[features].values\n",
    "X_num_val = data_val[features].values\n",
    "\n",
    "y_train = ydata_train.TARGET.values\n",
    "y_val = ydata_val.TARGET.values\n",
    "\n",
    "xgb_params = {\n",
    "     \"objective\": \"binary:logistic\",\n",
    "     \"booster\": \"gbtree\",\n",
    "     \"eval_metric\": \"auc\",\n",
    "     \"nthread\": 8,\n",
    "     \"eta\": 0.025,\n",
    "     \"max_depth\": 6,\n",
    "     \"min_child_weight\": 19,\n",
    "     \"gamma\": 0,\n",
    "     \"subsample\": 0.8,\n",
    "     \"colsample_bytree\": 0.632,\n",
    "     \"alpha\": 0,\n",
    "     \"lambda\": 0.05,\n",
    "     \"nrounds\": 250\n",
    "}\n",
    "\n",
    "xgb_clf = XgbWrapper(params=xgb_params)\n",
    "xgb_clf.train(X_num_train, y_train)\n",
    "pred_val = xgb_clf.predict(X_num_val)"
   ]
  },
  {
   "cell_type": "code",
   "execution_count": 44,
   "metadata": {},
   "outputs": [
    {
     "data": {
      "text/plain": [
       "0.76450360090667746"
      ]
     },
     "execution_count": 44,
     "metadata": {},
     "output_type": "execute_result"
    }
   ],
   "source": [
    "roc_auc_score(y_val, pred_val)"
   ]
  },
  {
   "cell_type": "markdown",
   "metadata": {},
   "source": [
    "### append features"
   ]
  },
  {
   "cell_type": "code",
   "execution_count": 45,
   "metadata": {},
   "outputs": [],
   "source": [
    "buro_bal_timestep1 = load_dataframe32(\"./bindata/buro_bal_timestep1_013\")\n",
    "pos_bal_timestep1 = load_dataframe32(\"./bindata/pos_bal_timestep1_013\")\n",
    "cc_bal_timestep1 = load_dataframe32(\"./bindata/cc_bal_timestep1_013\")\n",
    "\n",
    "buro_bal_timestep1[\"SK_ID_CURR\"] = buro_bal_timestep1.SK_ID_CURR.astype(\"int\")\n",
    "pos_bal_timestep1[\"SK_ID_CURR\"] = pos_bal_timestep1.SK_ID_CURR.astype(\"int\")\n",
    "cc_bal_timestep1[\"SK_ID_CURR\"] = cc_bal_timestep1.SK_ID_CURR.astype(\"int\")"
   ]
  },
  {
   "cell_type": "code",
   "execution_count": 46,
   "metadata": {},
   "outputs": [],
   "source": [
    "data_train = data_train.merge(right=buro_bal_timestep1, how=\"left\", on=\"SK_ID_CURR\")\n",
    "data_train = data_train.merge(right=pos_bal_timestep1, how=\"left\", on=\"SK_ID_CURR\")\n",
    "data_train = data_train.merge(right=cc_bal_timestep1, how=\"left\", on=\"SK_ID_CURR\")\n",
    "\n",
    "data_val = data_val.merge(right=buro_bal_timestep1, how=\"left\", on=\"SK_ID_CURR\")\n",
    "data_val = data_val.merge(right=pos_bal_timestep1, how=\"left\", on=\"SK_ID_CURR\")\n",
    "data_val = data_val.merge(right=cc_bal_timestep1, how=\"left\", on=\"SK_ID_CURR\")"
   ]
  },
  {
   "cell_type": "code",
   "execution_count": 47,
   "metadata": {},
   "outputs": [
    {
     "data": {
      "text/plain": [
       "((25803, 1717), (17390, 1717))"
      ]
     },
     "execution_count": 47,
     "metadata": {},
     "output_type": "execute_result"
    }
   ],
   "source": [
    "data_train.shape, data_val.shape"
   ]
  },
  {
   "cell_type": "code",
   "execution_count": 48,
   "metadata": {},
   "outputs": [],
   "source": [
    "features = list(data_train.columns)\n",
    "features.remove(\"SK_ID_CURR\")"
   ]
  },
  {
   "cell_type": "code",
   "execution_count": 49,
   "metadata": {},
   "outputs": [],
   "source": [
    "X_num_train = data_train[features].values\n",
    "X_num_val = data_val[features].values\n",
    "\n",
    "y_train = ydata_train.TARGET.values\n",
    "y_val = ydata_val.TARGET.values\n",
    "\n",
    "xgb_params = {\n",
    "     \"objective\": \"binary:logistic\",\n",
    "     \"booster\": \"gbtree\",\n",
    "     \"eval_metric\": \"auc\",\n",
    "     \"nthread\": 8,\n",
    "     \"eta\": 0.025,\n",
    "     \"max_depth\": 6,\n",
    "     \"min_child_weight\": 19,\n",
    "     \"gamma\": 0,\n",
    "     \"subsample\": 0.8,\n",
    "     \"colsample_bytree\": 0.632,\n",
    "     \"alpha\": 0,\n",
    "     \"lambda\": 0.05,\n",
    "     \"nrounds\": 250\n",
    "}\n",
    "\n",
    "xgb_clf = XgbWrapper(params=xgb_params)\n",
    "xgb_clf.train(X_num_train, y_train)\n",
    "pred_val = xgb_clf.predict(X_num_val)"
   ]
  },
  {
   "cell_type": "code",
   "execution_count": 50,
   "metadata": {},
   "outputs": [
    {
     "data": {
      "text/plain": [
       "0.76360649911384615"
      ]
     },
     "execution_count": 50,
     "metadata": {},
     "output_type": "execute_result"
    }
   ],
   "source": [
    "roc_auc_score(y_val, pred_val)"
   ]
  },
  {
   "cell_type": "code",
   "execution_count": 51,
   "metadata": {},
   "outputs": [],
   "source": [
    "buro_bal_timestep2 = load_dataframe32(\"./bindata/buro_bal_timestep2_013\")\n",
    "pos_bal_timestep2 = load_dataframe32(\"./bindata/pos_bal_timestep2_013\")\n",
    "cc_bal_timestep2 = load_dataframe32(\"./bindata/cc_bal_timestep2_013\")\n",
    "\n",
    "buro_bal_timestep2[\"SK_ID_CURR\"] = buro_bal_timestep2.SK_ID_CURR.astype(\"int\")\n",
    "pos_bal_timestep2[\"SK_ID_CURR\"] = pos_bal_timestep2.SK_ID_CURR.astype(\"int\")\n",
    "cc_bal_timestep2[\"SK_ID_CURR\"] = cc_bal_timestep2.SK_ID_CURR.astype(\"int\")"
   ]
  },
  {
   "cell_type": "code",
   "execution_count": 52,
   "metadata": {},
   "outputs": [],
   "source": [
    "data_train = data_train.merge(right=buro_bal_timestep2, how=\"left\", on=\"SK_ID_CURR\")\n",
    "data_train = data_train.merge(right=pos_bal_timestep2, how=\"left\", on=\"SK_ID_CURR\")\n",
    "data_train = data_train.merge(right=cc_bal_timestep2, how=\"left\", on=\"SK_ID_CURR\")\n",
    "\n",
    "data_val = data_val.merge(right=buro_bal_timestep2, how=\"left\", on=\"SK_ID_CURR\")\n",
    "data_val = data_val.merge(right=pos_bal_timestep2, how=\"left\", on=\"SK_ID_CURR\")\n",
    "data_val = data_val.merge(right=cc_bal_timestep2, how=\"left\", on=\"SK_ID_CURR\")"
   ]
  },
  {
   "cell_type": "code",
   "execution_count": 53,
   "metadata": {},
   "outputs": [
    {
     "data": {
      "text/plain": [
       "((25803, 3799), (17390, 3799))"
      ]
     },
     "execution_count": 53,
     "metadata": {},
     "output_type": "execute_result"
    }
   ],
   "source": [
    "data_train.shape, data_val.shape"
   ]
  },
  {
   "cell_type": "code",
   "execution_count": 54,
   "metadata": {},
   "outputs": [],
   "source": [
    "features = list(data_train.columns)\n",
    "features.remove(\"SK_ID_CURR\")"
   ]
  },
  {
   "cell_type": "code",
   "execution_count": 55,
   "metadata": {},
   "outputs": [],
   "source": [
    "X_num_train = data_train[features].values\n",
    "X_num_val = data_val[features].values\n",
    "\n",
    "y_train = ydata_train.TARGET.values\n",
    "y_val = ydata_val.TARGET.values\n",
    "\n",
    "xgb_params = {\n",
    "     \"objective\": \"binary:logistic\",\n",
    "     \"booster\": \"gbtree\",\n",
    "     \"eval_metric\": \"auc\",\n",
    "     \"nthread\": 8,\n",
    "     \"eta\": 0.025,\n",
    "     \"max_depth\": 6,\n",
    "     \"min_child_weight\": 19,\n",
    "     \"gamma\": 0,\n",
    "     \"subsample\": 0.8,\n",
    "     \"colsample_bytree\": 0.632,\n",
    "     \"alpha\": 0,\n",
    "     \"lambda\": 0.05,\n",
    "     \"nrounds\": 250\n",
    "}\n",
    "\n",
    "xgb_clf = XgbWrapper(params=xgb_params)\n",
    "xgb_clf.train(X_num_train, y_train)\n",
    "pred_val = xgb_clf.predict(X_num_val)"
   ]
  },
  {
   "cell_type": "code",
   "execution_count": 56,
   "metadata": {},
   "outputs": [
    {
     "data": {
      "text/plain": [
       "0.76365094665840128"
      ]
     },
     "execution_count": 56,
     "metadata": {},
     "output_type": "execute_result"
    }
   ],
   "source": [
    "roc_auc_score(y_val, pred_val)"
   ]
  },
  {
   "cell_type": "code",
   "execution_count": 57,
   "metadata": {},
   "outputs": [],
   "source": [
    "buro_wide = load_dataframe32(\"./bindata/buro_wide_013\")\n",
    "buro_full_wide = load_dataframe32(\"./bindata/buro_full_wide_013\")\n",
    "pos_bal_wide = load_dataframe32(\"./bindata/pos_bal_wide_013\")\n",
    "cc_bal_wide = load_dataframe32(\"./bindata/cc_bal_wide_013\")\n",
    "\n",
    "buro_wide[\"SK_ID_CURR\"] = buro_wide.SK_ID_CURR.astype(\"int\")\n",
    "buro_full_wide[\"SK_ID_CURR\"] = buro_full_wide.SK_ID_CURR.astype(\"int\")\n",
    "pos_bal_wide[\"SK_ID_CURR\"] = pos_bal_wide.SK_ID_CURR.astype(\"int\")\n",
    "cc_bal_wide[\"SK_ID_CURR\"] = cc_bal_wide.SK_ID_CURR.astype(\"int\")\n",
    "\n",
    "for data_ in (buro_wide, buro_full_wide, pos_bal_wide, cc_bal_wide):\n",
    "    data_train = data_train.merge(right=data_, how=\"left\", on=\"SK_ID_CURR\")\n",
    "    data_val = data_val.merge(right=data_, how=\"left\", on=\"SK_ID_CURR\")"
   ]
  },
  {
   "cell_type": "code",
   "execution_count": 58,
   "metadata": {},
   "outputs": [],
   "source": [
    "features = list(data_train.columns)\n",
    "features.remove(\"SK_ID_CURR\")"
   ]
  },
  {
   "cell_type": "code",
   "execution_count": 59,
   "metadata": {},
   "outputs": [
    {
     "data": {
      "text/plain": [
       "((25803, 4326), (17390, 4326))"
      ]
     },
     "execution_count": 59,
     "metadata": {},
     "output_type": "execute_result"
    }
   ],
   "source": [
    "data_train.shape, data_val.shape"
   ]
  },
  {
   "cell_type": "code",
   "execution_count": 60,
   "metadata": {},
   "outputs": [],
   "source": [
    "X_num_train = data_train[features].values\n",
    "X_num_val = data_val[features].values\n",
    "\n",
    "y_train = ydata_train.TARGET.values\n",
    "y_val = ydata_val.TARGET.values\n",
    "\n",
    "xgb_params = {\n",
    "     \"objective\": \"binary:logistic\",\n",
    "     \"booster\": \"gbtree\",\n",
    "     \"eval_metric\": \"auc\",\n",
    "     \"nthread\": 8,\n",
    "     \"eta\": 0.025,\n",
    "     \"max_depth\": 6,\n",
    "     \"min_child_weight\": 19,\n",
    "     \"gamma\": 0,\n",
    "     \"subsample\": 0.8,\n",
    "     \"colsample_bytree\": 0.632,\n",
    "     \"alpha\": 0,\n",
    "     \"lambda\": 0.05,\n",
    "     \"nrounds\": 250\n",
    "}\n",
    "\n",
    "xgb_params = {\n",
    "     \"objective\": \"binary:logistic\",\n",
    "     \"booster\": \"gbtree\",\n",
    "     \"eval_metric\": \"auc\",\n",
    "     \"nthread\": 8,\n",
    "     \"eta\": 0.02,\n",
    "     \"max_depth\": 8,\n",
    "     \"min_child_weight\": 40,\n",
    "     \"gamma\": 0,\n",
    "     \"subsample\": 0.8715623,\n",
    "     \"colsample_bytree\": 0.632,\n",
    "     \"alpha\": 0.041545473,\n",
    "     \"lambda\": 0.0735294,\n",
    "     \"nrounds\": 250\n",
    "}\n",
    "\n",
    "xgb_clf = XgbWrapper(params=xgb_params)\n",
    "xgb_clf.train(X_num_train, y_train)\n",
    "pred_val = xgb_clf.predict(X_num_val)"
   ]
  },
  {
   "cell_type": "code",
   "execution_count": 61,
   "metadata": {},
   "outputs": [
    {
     "data": {
      "text/plain": [
       "0.76432342882956028"
      ]
     },
     "execution_count": 61,
     "metadata": {},
     "output_type": "execute_result"
    }
   ],
   "source": [
    "roc_auc_score(y_val, pred_val)"
   ]
  },
  {
   "cell_type": "markdown",
   "metadata": {},
   "source": [
    "## stacking\n",
    "\n",
    "https://www.kaggle.com/eliotbarr/stacking-test-sklearn-xgboost-catboost-lightgbm"
   ]
  }
 ],
 "metadata": {
  "anaconda-cloud": {},
  "kernelspec": {
   "display_name": "Python [conda env:python3]",
   "language": "python",
   "name": "conda-env-python3-py"
  },
  "language_info": {
   "codemirror_mode": {
    "name": "ipython",
    "version": 3
   },
   "file_extension": ".py",
   "mimetype": "text/x-python",
   "name": "python",
   "nbconvert_exporter": "python",
   "pygments_lexer": "ipython3",
   "version": "3.6.1"
  },
  "toc": {
   "nav_menu": {
    "height": "30px",
    "width": "252px"
   },
   "navigate_menu": true,
   "number_sections": true,
   "sideBar": true,
   "threshold": 4,
   "toc_cell": true,
   "toc_position": {
    "height": "789px",
    "left": "0px",
    "right": "1592px",
    "top": "138px",
    "width": "253px"
   },
   "toc_section_display": "block",
   "toc_window_display": true
  }
 },
 "nbformat": 4,
 "nbformat_minor": 2
}
