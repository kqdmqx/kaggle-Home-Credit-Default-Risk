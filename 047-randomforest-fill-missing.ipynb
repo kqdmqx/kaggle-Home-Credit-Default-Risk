{
 "cells": [
  {
   "cell_type": "markdown",
   "metadata": {},
   "source": [
    "## functions"
   ]
  },
  {
   "cell_type": "code",
   "execution_count": 1,
   "metadata": {},
   "outputs": [],
   "source": [
    "import matplotlib.pyplot as plt\n",
    "import seaborn as sns\n",
    "\n",
    "%matplotlib inline"
   ]
  },
  {
   "cell_type": "code",
   "execution_count": 2,
   "metadata": {},
   "outputs": [],
   "source": [
    "import pandas as pd\n",
    "import numpy as np\n",
    "import os\n",
    "import gc\n",
    "\n",
    "import addict\n",
    "import lightgbm as lgb\n",
    "\n",
    "def save_dataframe(path, dataframe):\n",
    "    np.save(path + \".data\", dataframe.values)\n",
    "    np.save(path + \".header\", dataframe.columns)\n",
    "\n",
    "\n",
    "def load_dataframe(path):\n",
    "    data = np.load(path + \".data.npy\")\n",
    "    header = np.load(path + \".header.npy\")\n",
    "    return pd.DataFrame(data=data, columns=header)\n",
    "\n",
    "\n",
    "def save_dataframe32(path, dataframe, keep=[]):\n",
    "    col64 = [col_ for col_ in dataframe.columns if col_ in keep]\n",
    "    col32 = [col_ for col_ in dataframe.columns if col_ not in keep]\n",
    "    dataframe64 = dataframe[col64]\n",
    "    dataframe32 = dataframe[col32]\n",
    "    np.save(path + \".data64\", dataframe64.values)\n",
    "    np.save(path + \".header64\", col64)\n",
    "    np.save(path + \".data32\", dataframe32.values.astype(np.float32))\n",
    "    np.save(path + \".header32\", col32)\n",
    "\n",
    "\n",
    "def load_dataframe32(path, nrows=None):\n",
    "    path_data32 = path + \".data32.npy\"\n",
    "    path_header32 = path + \".header32.npy\"\n",
    "    path_data64 = path + \".data64.npy\"\n",
    "    path_header64 = path + \".header64.npy\"\n",
    "    result = pd.DataFrame()\n",
    "    if os.path.exists(path_data32):\n",
    "        data32 = np.load(path_data32)\n",
    "        header32 = np.load(path_header32)\n",
    "        df32 = pd.DataFrame(data=data32, columns=header32)\n",
    "        result = pd.concat([result, df32], axis=1)\n",
    "    if os.path.exists(path_data64):\n",
    "        data64 = np.load(path_data64)\n",
    "        header64 = np.load(path_header64)\n",
    "        df64 = pd.DataFrame(data=data64, columns=header64)\n",
    "        result = pd.concat([result, df64], axis=1)\n",
    "    if nrows and nrows > 0:\n",
    "        return result.head(nrows)\n",
    "    return result"
   ]
  },
  {
   "cell_type": "code",
   "execution_count": 3,
   "metadata": {},
   "outputs": [
    {
     "name": "stderr",
     "output_type": "stream",
     "text": [
      "C:\\Anaconda2\\envs\\python3\\lib\\site-packages\\sklearn\\ensemble\\weight_boosting.py:29: DeprecationWarning: numpy.core.umath_tests is an internal NumPy module and should not be imported. It will be removed in a future NumPy release.\n",
      "  from numpy.core.umath_tests import inner1d\n"
     ]
    }
   ],
   "source": [
    "from sklearn.metrics import roc_auc_score\n",
    "from sklearn.ensemble import RandomForestClassifier"
   ]
  },
  {
   "cell_type": "code",
   "execution_count": 4,
   "metadata": {},
   "outputs": [],
   "source": [
    "def replace_nan(X):\n",
    "    X = X.copy()\n",
    "    X[np.isnan(X)] = 0\n",
    "    X[X == np.Inf] = X[X != np.Inf].max()\n",
    "    X[X == -np.Inf] = X[X != -np.Inf].min()\n",
    "    # print(X.shape, X.max(), X.min())\n",
    "    return X"
   ]
  },
  {
   "cell_type": "markdown",
   "metadata": {},
   "source": [
    "## check data"
   ]
  },
  {
   "cell_type": "code",
   "execution_count": null,
   "metadata": {},
   "outputs": [
    {
     "name": "stdout",
     "output_type": "stream",
     "text": [
      "./neptune-features/train_idx_0.npy ./neptune-features/valid_idx_0.npy\n",
      "(246008,) (61503,)\n",
      "./neptune-features/data_246008_1174_0 (246008, 1174)\n",
      "./neptune-features/data_61503_1174_1 (61503, 1174)\n",
      "./neptune-features/data_48744_1174_3 (48744, 1174)\n",
      "(246008, 1174) (246008,)\n",
      "(61503, 1174) (61503,)\n",
      "(48744, 1174)\n",
      "./neptune-features/train_idx_1.npy ./neptune-features/valid_idx_1.npy\n",
      "(246009,) (61502,)\n",
      "./neptune-features/data_246009_1174_4 (246009, 1174)\n",
      "./neptune-features/data_61502_1174_5 (61502, 1174)\n",
      "./neptune-features/data_48744_1174_7 (48744, 1174)\n",
      "(246009, 1174) (246009,)\n",
      "(61502, 1174) (61502,)\n",
      "(48744, 1174)\n",
      "./neptune-features/train_idx_2.npy ./neptune-features/valid_idx_2.npy\n",
      "(246009,) (61502,)\n",
      "./neptune-features/data_246009_1174_8 (246009, 1174)\n",
      "./neptune-features/data_61502_1174_9 (61502, 1174)\n",
      "./neptune-features/data_48744_1174_11 (48744, 1174)\n",
      "(246009, 1174) (246009,)\n",
      "(61502, 1174) (61502,)\n",
      "(48744, 1174)\n",
      "./neptune-features/train_idx_3.npy ./neptune-features/valid_idx_3.npy\n",
      "(246009,) (61502,)\n",
      "./neptune-features/data_246009_1174_12 (246009, 1174)\n",
      "./neptune-features/data_61502_1174_13 (61502, 1174)\n",
      "./neptune-features/data_48744_1174_15 (48744, 1174)\n",
      "(246009, 1174) (246009,)\n",
      "(61502, 1174) (61502,)\n",
      "(48744, 1174)\n"
     ]
    }
   ],
   "source": [
    "# nrows = None  \n",
    "nrows = None\n",
    "\n",
    "features = list(np.load('./neptune-features/features_246008_1174_0.npy'))\n",
    "train_app = load_dataframe32(\"./bindata/application_train\")\n",
    "auc_valid_stack = []\n",
    "pred_valid_stack = []\n",
    "pred_test_stack = []\n",
    "\n",
    "for i in range(5):\n",
    "    train_idx_fn = \"./neptune-features/train_idx_{}.npy\".format(i)\n",
    "    valid_idx_fn = \"./neptune-features/valid_idx_{}.npy\".format(i)\n",
    "\n",
    "    train_offset, valid_offset, test_offset = i * 4, i * 4 + 1, i * 4 + 3\n",
    "    \n",
    "    train_data_fn = \"./neptune-features/data_246009_1174_{}\".format(train_offset)\n",
    "    valid_data_fn = \"./neptune-features/data_61502_1174_{}\".format(valid_offset)\n",
    "    test_data_fn = \"./neptune-features/data_48744_1174_{}\".format(test_offset)\n",
    "    \n",
    "    if i == 0:\n",
    "        train_data_fn = train_data_fn.replace(\"246009\", \"246008\")\n",
    "        valid_data_fn = valid_data_fn.replace(\"61502\", \"61503\")\n",
    "    \n",
    "    gc.collect()\n",
    "\n",
    "    train_idx = np.load(train_idx_fn)\n",
    "    valid_idx = np.load(valid_idx_fn)\n",
    "    \n",
    "    if nrows:\n",
    "        train_idx, valid_idx = train_idx[:nrows].copy(), valid_idx[:nrows].copy()\n",
    "\n",
    "    train_data = load_dataframe32(train_data_fn, nrows)\n",
    "    valid_data = load_dataframe32(valid_data_fn, nrows)\n",
    "    test_data = load_dataframe32(test_data_fn, nrows)\n",
    "    gc.collect()\n",
    "    \n",
    "    X_train = train_data.values\n",
    "    X_valid = valid_data.values\n",
    "    X_test = test_data.values\n",
    "    y_train = train_app.loc[train_idx].TARGET\n",
    "    y_valid = train_app.loc[valid_idx].TARGET\n",
    "    \n",
    "    print(train_idx_fn, valid_idx_fn)\n",
    "    print(train_idx.shape, valid_idx.shape)\n",
    "    print(train_data_fn, train_data.shape)\n",
    "    print(valid_data_fn, valid_data.shape)\n",
    "    print(test_data_fn, test_data.shape)\n",
    "    \n",
    "    print(X_train.shape, y_train.shape)\n",
    "    print(X_valid.shape, y_valid.shape)\n",
    "    print(X_test.shape)\n",
    "    "
   ]
  },
  {
   "cell_type": "markdown",
   "metadata": {},
   "source": [
    "## random forest"
   ]
  },
  {
   "cell_type": "code",
   "execution_count": 5,
   "metadata": {},
   "outputs": [],
   "source": [
    "rf_params = addict.Dict()\n",
    "rf_params.class_weight = 'balanced'\n",
    "rf_params.criterion = 'gini'\n",
    "rf_params.max_depth = 40\n",
    "rf_params.max_features = 0.2\n",
    "rf_params.max_leaf_nodes = 60\n",
    "rf_params.min_samples_leaf = 20\n",
    "rf_params.min_samples_split = 50\n",
    "rf_params.n_estimators = 500\n",
    "rf_params.n_jobs = -1\n",
    "rf_params.verbose = 1"
   ]
  },
  {
   "cell_type": "code",
   "execution_count": 6,
   "metadata": {
    "scrolled": false
   },
   "outputs": [
    {
     "name": "stdout",
     "output_type": "stream",
     "text": [
      "./neptune-features/train_idx_0.npy ./neptune-features/valid_idx_0.npy\n",
      "(246008,) (61503,)\n",
      "./neptune-features/data_246008_1174_0 (246008, 1174)\n",
      "./neptune-features/data_61503_1174_1 (61503, 1174)\n",
      "./neptune-features/data_48744_1174_3 (48744, 1174)\n",
      "(246008, 1174) (246008,)\n",
      "(61503, 1174) (61503,)\n",
      "(48744, 1174)\n"
     ]
    },
    {
     "name": "stderr",
     "output_type": "stream",
     "text": [
      "[Parallel(n_jobs=-1)]: Done  42 tasks      | elapsed:  5.2min\n",
      "[Parallel(n_jobs=-1)]: Done 192 tasks      | elapsed: 23.0min\n",
      "[Parallel(n_jobs=-1)]: Done 442 tasks      | elapsed: 52.4min\n",
      "[Parallel(n_jobs=-1)]: Done 500 out of 500 | elapsed: 59.3min finished\n",
      "[Parallel(n_jobs=4)]: Done  42 tasks      | elapsed:    0.0s\n",
      "[Parallel(n_jobs=4)]: Done 192 tasks      | elapsed:    0.5s\n",
      "[Parallel(n_jobs=4)]: Done 442 tasks      | elapsed:    1.2s\n",
      "[Parallel(n_jobs=4)]: Done 500 out of 500 | elapsed:    1.4s finished\n"
     ]
    },
    {
     "name": "stdout",
     "output_type": "stream",
     "text": [
      "fold-0,auc:0.7531531716390196\n"
     ]
    },
    {
     "name": "stderr",
     "output_type": "stream",
     "text": [
      "[Parallel(n_jobs=4)]: Done  42 tasks      | elapsed:    0.0s\n",
      "[Parallel(n_jobs=4)]: Done 192 tasks      | elapsed:    0.4s\n",
      "[Parallel(n_jobs=4)]: Done 442 tasks      | elapsed:    1.0s\n",
      "[Parallel(n_jobs=4)]: Done 500 out of 500 | elapsed:    1.1s finished\n"
     ]
    },
    {
     "name": "stdout",
     "output_type": "stream",
     "text": [
      "./neptune-features/train_idx_1.npy ./neptune-features/valid_idx_1.npy\n",
      "(246009,) (61502,)\n",
      "./neptune-features/data_246009_1174_4 (246009, 1174)\n",
      "./neptune-features/data_61502_1174_5 (61502, 1174)\n",
      "./neptune-features/data_48744_1174_7 (48744, 1174)\n",
      "(246009, 1174) (246009,)\n",
      "(61502, 1174) (61502,)\n",
      "(48744, 1174)\n"
     ]
    },
    {
     "name": "stderr",
     "output_type": "stream",
     "text": [
      "[Parallel(n_jobs=-1)]: Done  42 tasks      | elapsed:  5.2min\n",
      "[Parallel(n_jobs=-1)]: Done 192 tasks      | elapsed: 23.4min\n",
      "[Parallel(n_jobs=-1)]: Done 442 tasks      | elapsed: 53.5min\n",
      "[Parallel(n_jobs=-1)]: Done 500 out of 500 | elapsed: 60.5min finished\n",
      "[Parallel(n_jobs=4)]: Done  42 tasks      | elapsed:    0.0s\n",
      "[Parallel(n_jobs=4)]: Done 192 tasks      | elapsed:    0.5s\n",
      "[Parallel(n_jobs=4)]: Done 442 tasks      | elapsed:    1.3s\n",
      "[Parallel(n_jobs=4)]: Done 500 out of 500 | elapsed:    1.4s finished\n"
     ]
    },
    {
     "name": "stdout",
     "output_type": "stream",
     "text": [
      "fold-1,auc:0.7478430945265353\n"
     ]
    },
    {
     "name": "stderr",
     "output_type": "stream",
     "text": [
      "[Parallel(n_jobs=4)]: Done  42 tasks      | elapsed:    0.0s\n",
      "[Parallel(n_jobs=4)]: Done 192 tasks      | elapsed:    0.4s\n",
      "[Parallel(n_jobs=4)]: Done 442 tasks      | elapsed:    1.0s\n",
      "[Parallel(n_jobs=4)]: Done 500 out of 500 | elapsed:    1.1s finished\n"
     ]
    },
    {
     "name": "stdout",
     "output_type": "stream",
     "text": [
      "./neptune-features/train_idx_2.npy ./neptune-features/valid_idx_2.npy\n",
      "(246009,) (61502,)\n",
      "./neptune-features/data_246009_1174_8 (246009, 1174)\n",
      "./neptune-features/data_61502_1174_9 (61502, 1174)\n",
      "./neptune-features/data_48744_1174_11 (48744, 1174)\n",
      "(246009, 1174) (246009,)\n",
      "(61502, 1174) (61502,)\n",
      "(48744, 1174)\n"
     ]
    },
    {
     "name": "stderr",
     "output_type": "stream",
     "text": [
      "[Parallel(n_jobs=-1)]: Done  42 tasks      | elapsed:  5.0min\n",
      "[Parallel(n_jobs=-1)]: Done 192 tasks      | elapsed: 22.7min\n",
      "[Parallel(n_jobs=-1)]: Done 442 tasks      | elapsed: 51.7min\n",
      "[Parallel(n_jobs=-1)]: Done 500 out of 500 | elapsed: 58.5min finished\n",
      "[Parallel(n_jobs=4)]: Done  42 tasks      | elapsed:    0.0s\n",
      "[Parallel(n_jobs=4)]: Done 192 tasks      | elapsed:    0.5s\n",
      "[Parallel(n_jobs=4)]: Done 442 tasks      | elapsed:    1.3s\n",
      "[Parallel(n_jobs=4)]: Done 500 out of 500 | elapsed:    1.4s finished\n"
     ]
    },
    {
     "name": "stdout",
     "output_type": "stream",
     "text": [
      "fold-2,auc:0.7472474450644936\n"
     ]
    },
    {
     "name": "stderr",
     "output_type": "stream",
     "text": [
      "[Parallel(n_jobs=4)]: Done  42 tasks      | elapsed:    0.0s\n",
      "[Parallel(n_jobs=4)]: Done 192 tasks      | elapsed:    0.4s\n",
      "[Parallel(n_jobs=4)]: Done 442 tasks      | elapsed:    1.0s\n",
      "[Parallel(n_jobs=4)]: Done 500 out of 500 | elapsed:    1.1s finished\n"
     ]
    },
    {
     "name": "stdout",
     "output_type": "stream",
     "text": [
      "./neptune-features/train_idx_3.npy ./neptune-features/valid_idx_3.npy\n",
      "(246009,) (61502,)\n",
      "./neptune-features/data_246009_1174_12 (246009, 1174)\n",
      "./neptune-features/data_61502_1174_13 (61502, 1174)\n",
      "./neptune-features/data_48744_1174_15 (48744, 1174)\n",
      "(246009, 1174) (246009,)\n",
      "(61502, 1174) (61502,)\n",
      "(48744, 1174)\n"
     ]
    },
    {
     "name": "stderr",
     "output_type": "stream",
     "text": [
      "[Parallel(n_jobs=-1)]: Done  42 tasks      | elapsed:  5.1min\n",
      "[Parallel(n_jobs=-1)]: Done 192 tasks      | elapsed: 22.9min\n",
      "[Parallel(n_jobs=-1)]: Done 442 tasks      | elapsed: 52.0min\n",
      "[Parallel(n_jobs=-1)]: Done 500 out of 500 | elapsed: 58.7min finished\n",
      "[Parallel(n_jobs=4)]: Done  42 tasks      | elapsed:    0.1s\n",
      "[Parallel(n_jobs=4)]: Done 192 tasks      | elapsed:    0.6s\n",
      "[Parallel(n_jobs=4)]: Done 442 tasks      | elapsed:    1.4s\n",
      "[Parallel(n_jobs=4)]: Done 500 out of 500 | elapsed:    1.6s finished\n"
     ]
    },
    {
     "name": "stdout",
     "output_type": "stream",
     "text": [
      "fold-3,auc:0.7484581539620757\n"
     ]
    },
    {
     "name": "stderr",
     "output_type": "stream",
     "text": [
      "[Parallel(n_jobs=4)]: Done  42 tasks      | elapsed:    0.0s\n",
      "[Parallel(n_jobs=4)]: Done 192 tasks      | elapsed:    0.4s\n",
      "[Parallel(n_jobs=4)]: Done 442 tasks      | elapsed:    1.0s\n",
      "[Parallel(n_jobs=4)]: Done 500 out of 500 | elapsed:    1.1s finished\n"
     ]
    },
    {
     "name": "stdout",
     "output_type": "stream",
     "text": [
      "./neptune-features/train_idx_4.npy ./neptune-features/valid_idx_4.npy\n",
      "(246009,) (61502,)\n",
      "./neptune-features/data_246009_1174_16 (246009, 1174)\n",
      "./neptune-features/data_61502_1174_17 (61502, 1174)\n",
      "./neptune-features/data_48744_1174_19 (48744, 1174)\n",
      "(246009, 1174) (246009,)\n",
      "(61502, 1174) (61502,)\n",
      "(48744, 1174)\n"
     ]
    },
    {
     "name": "stderr",
     "output_type": "stream",
     "text": [
      "[Parallel(n_jobs=-1)]: Done  42 tasks      | elapsed:  5.0min\n",
      "[Parallel(n_jobs=-1)]: Done 192 tasks      | elapsed: 22.5min\n",
      "[Parallel(n_jobs=-1)]: Done 442 tasks      | elapsed: 51.4min\n",
      "[Parallel(n_jobs=-1)]: Done 500 out of 500 | elapsed: 58.2min finished\n",
      "[Parallel(n_jobs=4)]: Done  42 tasks      | elapsed:    0.1s\n",
      "[Parallel(n_jobs=4)]: Done 192 tasks      | elapsed:    0.5s\n",
      "[Parallel(n_jobs=4)]: Done 442 tasks      | elapsed:    1.2s\n",
      "[Parallel(n_jobs=4)]: Done 500 out of 500 | elapsed:    1.4s finished\n"
     ]
    },
    {
     "name": "stdout",
     "output_type": "stream",
     "text": [
      "fold-4,auc:0.7493714861059092\n"
     ]
    },
    {
     "name": "stderr",
     "output_type": "stream",
     "text": [
      "[Parallel(n_jobs=4)]: Done  42 tasks      | elapsed:    0.0s\n",
      "[Parallel(n_jobs=4)]: Done 192 tasks      | elapsed:    0.4s\n"
     ]
    },
    {
     "name": "stdout",
     "output_type": "stream",
     "text": [
      "kfold-auc, avg:0.7492, std:0.0021\n"
     ]
    },
    {
     "name": "stderr",
     "output_type": "stream",
     "text": [
      "[Parallel(n_jobs=4)]: Done 442 tasks      | elapsed:    1.0s\n",
      "[Parallel(n_jobs=4)]: Done 500 out of 500 | elapsed:    1.1s finished\n"
     ]
    }
   ],
   "source": [
    "# nrows = None  \n",
    "nrows = None\n",
    "# nrows = 1000\n",
    "\n",
    "features = list(np.load('./neptune-features/features_246008_1174_0.npy'))\n",
    "train_app = load_dataframe32(\"./bindata/application_train\")\n",
    "auc_valid_stack = []\n",
    "pred_valid_stack = []\n",
    "pred_test_stack = []\n",
    "\n",
    "for i in range(5):\n",
    "    train_idx_fn = \"./neptune-features/train_idx_{}.npy\".format(i)\n",
    "    valid_idx_fn = \"./neptune-features/valid_idx_{}.npy\".format(i)\n",
    "\n",
    "    train_offset, valid_offset, test_offset = i * 4, i * 4 + 1, i * 4 + 3\n",
    "    \n",
    "    train_data_fn = \"./neptune-features/data_246009_1174_{}\".format(train_offset)\n",
    "    valid_data_fn = \"./neptune-features/data_61502_1174_{}\".format(valid_offset)\n",
    "    test_data_fn = \"./neptune-features/data_48744_1174_{}\".format(test_offset)\n",
    "    \n",
    "    if i == 0:\n",
    "        train_data_fn = train_data_fn.replace(\"246009\", \"246008\")\n",
    "        valid_data_fn = valid_data_fn.replace(\"61502\", \"61503\")\n",
    "    \n",
    "    gc.collect()\n",
    "\n",
    "    train_idx = np.load(train_idx_fn)\n",
    "    valid_idx = np.load(valid_idx_fn)\n",
    "    \n",
    "    if nrows:\n",
    "        train_idx, valid_idx = train_idx[:nrows].copy(), valid_idx[:nrows].copy()\n",
    "\n",
    "    train_data = load_dataframe32(train_data_fn, nrows)\n",
    "    valid_data = load_dataframe32(valid_data_fn, nrows)\n",
    "    test_data = load_dataframe32(test_data_fn, nrows)\n",
    "    gc.collect()\n",
    "    \n",
    "    X_train = replace_nan(train_data.values)\n",
    "    X_valid = replace_nan(valid_data.values)\n",
    "    X_test = replace_nan(test_data.values)\n",
    "    y_train = train_app.loc[train_idx].TARGET\n",
    "    y_valid = train_app.loc[valid_idx].TARGET\n",
    "    \n",
    "    print(train_idx_fn, valid_idx_fn)\n",
    "    print(train_idx.shape, valid_idx.shape)\n",
    "    print(train_data_fn, train_data.shape)\n",
    "    print(valid_data_fn, valid_data.shape)\n",
    "    print(test_data_fn, test_data.shape)\n",
    "    \n",
    "    print(X_train.shape, y_train.shape)\n",
    "    print(X_valid.shape, y_valid.shape)\n",
    "    print(X_test.shape)\n",
    "    \n",
    "    estimator = RandomForestClassifier(**rf_params)\n",
    "    estimator.fit(X_train, y_train)\n",
    "    \n",
    "    pred_valid = estimator.predict_proba(X_valid)[:, 1]\n",
    "    pred_valid_stack.append(pred_valid)\n",
    "    \n",
    "    auc = roc_auc_score(y_valid, pred_valid)\n",
    "    auc_valid_stack.append(auc)\n",
    "    print(\"fold-{},auc:{}\".format(i, auc))\n",
    "\n",
    "    pred_test = estimator.predict_proba(X_test)[:, 1]\n",
    "    pred_test_stack.append(pred_test)\n",
    "    \n",
    "print(\"kfold-auc, avg:{:.4}, std:{:.2}\".format(np.mean(auc_valid_stack), np.std(auc_valid_stack)))"
   ]
  },
  {
   "cell_type": "markdown",
   "metadata": {},
   "source": [
    "## save oof & submission"
   ]
  },
  {
   "cell_type": "code",
   "execution_count": 7,
   "metadata": {},
   "outputs": [],
   "source": [
    "def calculate_rank(predictions):\n",
    "    rank = (1 + pd.Series(predictions).rank().values) / (predictions.shape[0] + 1)\n",
    "    return rank\n",
    "\n",
    "def save_submission(pred_valid_stack, pred_test_stack, train_app, seed=0, exp=\"047\"):\n",
    "    pred_fn = \"./result/submission-{}-rf-seed-{}.csv\".format(exp, seed)\n",
    "    oof_fn = \"./oof-result/oof-{}-rf-seed-{}.csv\".format(exp, seed)\n",
    "    pred_target = sum([calculate_rank(p_) for p_ in pred_test_stack]) / 5\n",
    "\n",
    "    pred_sample = pd.read_csv(\"./result/submission-022-blend08.csv\")\n",
    "    pred_sample[\"TARGET\"] = pred_target\n",
    "    pred_sample.to_csv(pred_fn, index=False)\n",
    "    print(\"save:\", pred_fn)\n",
    "\n",
    "    oof_pred = np.zeros(train_app.shape[0])\n",
    "    for i in range(5):\n",
    "        valid_idx_fn = \"./neptune-features/valid_idx_{}.npy\".format(i)\n",
    "        valid_idx = np.load(valid_idx_fn)\n",
    "        oof_pred[valid_idx] = pred_valid_stack[i]\n",
    "\n",
    "    oof_df = train_app[[\"SK_ID_CURR\"]].copy()\n",
    "    oof_df[\"SK_ID_CURR\"] = oof_df.SK_ID_CURR.astype(\"int\")\n",
    "    oof_df[\"oof_pred\"] = oof_pred\n",
    "    oof_df.to_csv(oof_fn, index=False)\n",
    "    print(\"save:\", oof_fn)"
   ]
  },
  {
   "cell_type": "code",
   "execution_count": 8,
   "metadata": {},
   "outputs": [
    {
     "name": "stdout",
     "output_type": "stream",
     "text": [
      "save: ./result/submission-047-rf-seed-0.csv\n",
      "save: ./oof-result/oof-047-rf-seed-0.csv\n"
     ]
    }
   ],
   "source": [
    "save_submission(pred_valid_stack, pred_test_stack, train_app, seed=0)"
   ]
  }
 ],
 "metadata": {
  "anaconda-cloud": {},
  "kernelspec": {
   "display_name": "Python [conda env:python3]",
   "language": "python",
   "name": "conda-env-python3-py"
  },
  "language_info": {
   "codemirror_mode": {
    "name": "ipython",
    "version": 3
   },
   "file_extension": ".py",
   "mimetype": "text/x-python",
   "name": "python",
   "nbconvert_exporter": "python",
   "pygments_lexer": "ipython3",
   "version": "3.6.6"
  },
  "toc": {
   "nav_menu": {
    "height": "49px",
    "width": "252px"
   },
   "navigate_menu": true,
   "number_sections": true,
   "sideBar": true,
   "threshold": 4,
   "toc_cell": false,
   "toc_position": {
    "height": "723px",
    "left": "0px",
    "right": "1489.01px",
    "top": "135px",
    "width": "211px"
   },
   "toc_section_display": "block",
   "toc_window_display": true
  }
 },
 "nbformat": 4,
 "nbformat_minor": 2
}
