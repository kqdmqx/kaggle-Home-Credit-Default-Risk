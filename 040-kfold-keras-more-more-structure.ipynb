{
 "cells": [
  {
   "cell_type": "markdown",
   "metadata": {},
   "source": [
    "## functions"
   ]
  },
  {
   "cell_type": "code",
   "execution_count": 1,
   "metadata": {},
   "outputs": [],
   "source": [
    "import pandas as pd\n",
    "import numpy as np\n",
    "import os\n",
    "import gc\n",
    "\n",
    "import addict\n",
    "import lightgbm as lgb\n",
    "\n",
    "def save_dataframe(path, dataframe):\n",
    "    np.save(path + \".data\", dataframe.values)\n",
    "    np.save(path + \".header\", dataframe.columns)\n",
    "\n",
    "\n",
    "def load_dataframe(path):\n",
    "    data = np.load(path + \".data.npy\")\n",
    "    header = np.load(path + \".header.npy\")\n",
    "    return pd.DataFrame(data=data, columns=header)\n",
    "\n",
    "\n",
    "def save_dataframe32(path, dataframe, keep=[]):\n",
    "    col64 = [col_ for col_ in dataframe.columns if col_ in keep]\n",
    "    col32 = [col_ for col_ in dataframe.columns if col_ not in keep]\n",
    "    dataframe64 = dataframe[col64]\n",
    "    dataframe32 = dataframe[col32]\n",
    "    np.save(path + \".data64\", dataframe64.values)\n",
    "    np.save(path + \".header64\", col64)\n",
    "    np.save(path + \".data32\", dataframe32.values.astype(np.float32))\n",
    "    np.save(path + \".header32\", col32)\n",
    "\n",
    "\n",
    "def load_dataframe32(path, nrows=None):\n",
    "    path_data32 = path + \".data32.npy\"\n",
    "    path_header32 = path + \".header32.npy\"\n",
    "    path_data64 = path + \".data64.npy\"\n",
    "    path_header64 = path + \".header64.npy\"\n",
    "    result = pd.DataFrame()\n",
    "    if os.path.exists(path_data32):\n",
    "        data32 = np.load(path_data32)\n",
    "        header32 = np.load(path_header32)\n",
    "        df32 = pd.DataFrame(data=data32, columns=header32)\n",
    "        result = pd.concat([result, df32], axis=1)\n",
    "    if os.path.exists(path_data64):\n",
    "        data64 = np.load(path_data64)\n",
    "        header64 = np.load(path_header64)\n",
    "        df64 = pd.DataFrame(data=data64, columns=header64)\n",
    "        result = pd.concat([result, df64], axis=1)\n",
    "    if nrows and nrows > 0:\n",
    "        return result.head(nrows)\n",
    "    return result"
   ]
  },
  {
   "cell_type": "code",
   "execution_count": 2,
   "metadata": {},
   "outputs": [],
   "source": [
    "from sklearn.metrics import roc_auc_score"
   ]
  },
  {
   "cell_type": "code",
   "execution_count": 3,
   "metadata": {},
   "outputs": [
    {
     "name": "stderr",
     "output_type": "stream",
     "text": [
      "C:\\Anaconda2\\envs\\python3\\lib\\site-packages\\h5py\\__init__.py:34: FutureWarning: Conversion of the second argument of issubdtype from `float` to `np.floating` is deprecated. In future, it will be treated as `np.float64 == np.dtype(float).type`.\n",
      "  from ._conv import register_converters as _register_converters\n",
      "Using TensorFlow backend.\n"
     ]
    }
   ],
   "source": [
    "from keras.layers import Input, Dropout, Dense, BatchNormalization, Activation, concatenate, GRU, Embedding, Flatten, BatchNormalization\n",
    "from keras.models import Model\n",
    "from keras.optimizers import  Adam, Nadam\n",
    "\n",
    "from string import punctuation\n",
    "from os import listdir\n",
    "from numpy import array\n",
    "from numpy import asarray\n",
    "from numpy import zeros\n",
    "from keras.preprocessing.text import Tokenizer\n",
    "from keras.preprocessing.sequence import pad_sequences\n",
    "from keras.models import Sequential\n",
    "from keras.layers.convolutional import Conv1D\n",
    "from keras.layers.convolutional import MaxPooling1D\n",
    "from keras.optimizers import SGD\n",
    "from sklearn.preprocessing import StandardScaler\n",
    "from sklearn.metrics import roc_auc_score\n",
    "from sklearn.ensemble import RandomForestClassifier\n",
    "import tensorflow as tf\n",
    "import numpy as np"
   ]
  },
  {
   "cell_type": "code",
   "execution_count": 4,
   "metadata": {},
   "outputs": [],
   "source": [
    "import pandas as pd\n",
    "import numpy as np\n",
    "\n",
    "from sklearn.metrics import roc_auc_score, precision_recall_curve, roc_curve, average_precision_score\n",
    "from sklearn.model_selection import KFold\n",
    "from sklearn.datasets import load_iris\n",
    "from lightgbm import LGBMClassifier\n",
    "\n",
    "import matplotlib.pyplot as plt\n",
    "import seaborn as sns\n",
    "import gc\n",
    "import os\n",
    "import sys\n",
    "import time\n",
    "import lightgbm as lgb\n",
    "\n",
    "from bayes_opt import BayesianOptimization\n",
    "from scipy.stats import pearsonr\n",
    "\n",
    "\n",
    "import warnings\n",
    "import lightgbm as lgb\n",
    "\n",
    "warnings.filterwarnings(\"ignore\")"
   ]
  },
  {
   "cell_type": "markdown",
   "metadata": {},
   "source": [
    "## feature group & model structure"
   ]
  },
  {
   "cell_type": "code",
   "execution_count": 5,
   "metadata": {},
   "outputs": [],
   "source": [
    "def get_header(feature_name, length=4):\n",
    "    for char in \"0123456789\":\n",
    "        feature_name = feature_name.replace(char, \"\")\n",
    "    items = feature_name.split(\"_\")\n",
    "    if len(items) < length + 1:\n",
    "        return \"short\"\n",
    "    return \"_\".join(items[:length])\n",
    "\n",
    "def create_feature_info(features):\n",
    "    features_info = pd.DataFrame({\n",
    "        \"feature_idx\": np.arange(len(features)),\n",
    "        \"feature_name\": features\n",
    "    })\n",
    "\n",
    "    features_info[\"feature_header\"] = features_info.feature_name.apply(get_header)\n",
    "    features_info[\"group_size\"] = features_info.feature_header.map(features_info.feature_header.value_counts())\n",
    "    features_info.loc[features_info.group_size < 10, \"feature_header\"] = \"short\"\n",
    "    features_info[\"group_size\"] = features_info.feature_header.map(features_info.feature_header.value_counts())\n",
    "    return features_info"
   ]
  },
  {
   "cell_type": "code",
   "execution_count": 6,
   "metadata": {
    "scrolled": false
   },
   "outputs": [],
   "source": [
    "def create_scaler_stack(features_info):\n",
    "    return {key: StandardScaler() for key in features_info.feature_header.unique()}\n",
    "\n",
    "def create_feature_stack(features_info):\n",
    "    return {key: list(features_info[features_info.feature_header == key].feature_name) for key in features_info.feature_header.unique()}\n",
    "\n",
    "def replace_nan(X):\n",
    "    X = X.copy()\n",
    "    X[np.isnan(X)] = 0\n",
    "    X[X == np.Inf] = X[X != np.Inf].max()\n",
    "    X[X == -np.Inf] = X[X != -np.Inf].min()\n",
    "    # print(X.shape, X.max(), X.min())\n",
    "    return X"
   ]
  },
  {
   "cell_type": "code",
   "execution_count": 22,
   "metadata": {},
   "outputs": [],
   "source": [
    "def less_ftr(input_dim):\n",
    "    return int(np.log(input_dim) * np.sqrt(input_dim))\n",
    "\n",
    "def create_model(feature_stack):\n",
    "    input_lyr = [Input(shape=[len(ftrs_)], name=key_) for key_, ftrs_ in feature_stack.items()]\n",
    "    dense0_lyr = [Dense(less_ftr(len(ftrs_)), activation=\"relu\")(input_lyr[i]) for i, (key_, ftrs_) in enumerate(feature_stack.items())]\n",
    "    main0_lyr = concatenate(dense0_lyr)\n",
    "    drop0_lyr = Dropout(.6)(main0_lyr)\n",
    "    main1_lyr = Dense(128, activation=\"relu\")(drop0_lyr)\n",
    "    output = Dense(1, activation=\"sigmoid\")(main1_lyr)\n",
    "    model = Model(input_lyr, output)\n",
    "    model.compile(loss=\"binary_crossentropy\", optimizer=\"adam\")\n",
    "    return model\n",
    "\n",
    "\n",
    "def create_model(feature_stack, feature_stack_nmf):\n",
    "    input_lyr = [Input(shape=[len(ftrs_)], name=key_) for key_, ftrs_ in feature_stack.items()]\n",
    "    dense0_lyr = [Dense(less_ftr(len(ftrs_)), activation=\"relu\")(input_lyr[i]) for i, (key_, ftrs_) in enumerate(feature_stack.items())]\n",
    "    \n",
    "    input_nmf_lyr = [Input(shape=[len(ftrs_)], name=key_) for key_, ftrs_ in feature_stack_nmf.items()]\n",
    "    dense0_nmf_lyr = [Dense(less_ftr(len(ftrs_)), activation=\"relu\")(input_nmf_lyr[i]) for i, (key_, ftrs_) in enumerate(feature_stack_nmf.items())]\n",
    "    \n",
    "    input_cct64_lyr = concatenate(input_lyr)\n",
    "    drop0_cct64_lyr = Dropout(.65)(input_cct64_lyr)\n",
    "    dense0_cct64_lyr = Dense(64, activation=\"relu\")(drop0_cct64_lyr)\n",
    "    \n",
    "    input_cct32_lyr = concatenate(input_lyr)\n",
    "    drop0_cct32_lyr = Dropout(.65)(input_cct32_lyr)\n",
    "    dense0_cct32_lyr = Dense(32, activation=\"relu\")(drop0_cct32_lyr)\n",
    "\n",
    "    input_cct16_lyr = concatenate(input_lyr)\n",
    "    drop0_cct16_lyr = Dropout(.65)(input_cct16_lyr)\n",
    "    dense0_cct16_lyr = Dense(16, activation=\"relu\")(drop0_cct16_lyr)\n",
    "\n",
    "    input_cct8_lyr = concatenate(input_lyr)\n",
    "    drop0_cct8_lyr = Dropout(.65)(input_cct8_lyr)\n",
    "    dense0_cct8_lyr = Dense(8, activation=\"relu\")(drop0_cct8_lyr)\n",
    "    \n",
    "    main0_lyr = concatenate(dense0_lyr)\n",
    "    drop0_lyr = Dropout(.65)(main0_lyr)\n",
    "    main1_lyr = Dense(128, activation=\"relu\")(drop0_lyr)\n",
    "    \n",
    "    main0_nmf_lyr = concatenate(dense0_nmf_lyr)\n",
    "    drop0_nmf_lyr = Dropout(.65)(main0_nmf_lyr)\n",
    "    main1_nmf_lyr = Dense(16, activation=\"relu\")(drop0_nmf_lyr)\n",
    "    \n",
    "    input_nmf_cct16_lyr = concatenate(input_nmf_lyr)\n",
    "    drop0_nmf_cct16_lyr = Dropout(.65)(input_nmf_cct16_lyr)\n",
    "    dense0_nmf_cct16_lyr = Dense(8, activation=\"relu\")(drop0_nmf_cct16_lyr)\n",
    "    \n",
    "    merge_lyr = concatenate([main1_lyr, dense0_cct64_lyr, dense0_cct32_lyr, dense0_cct16_lyr, dense0_cct8_lyr, main1_nmf_lyr, dense0_nmf_cct16_lyr])\n",
    "    drop1_lyr = Dropout(.5)(merge_lyr)\n",
    "    output = Dense(1, activation=\"sigmoid\")(drop1_lyr)\n",
    "\n",
    "    model = Model(input_lyr + input_nmf_lyr, output)\n",
    "    # opt = Adam(lr=0.001, beta_1=0.9, beta_2=0.9)\n",
    "    # opt = Adam(lr=0.0000001, beta_1=0.9, beta_2=0.999)\n",
    "    # opt = Nadam(lr=0.00002, beta_1=0.9, beta_2=0.999)\n",
    "    # opt = Nadam(lr=0.0001, beta_1=0.9, beta_2=0.999)\n",
    "    opt = Nadam(lr=0.00008, beta_1=0.9, beta_2=0.999)\n",
    "    model.compile(loss=\"binary_crossentropy\", optimizer=opt)\n",
    "    return model\n",
    "\n",
    "from functools import partial\n",
    "\n",
    "features = list(np.load('./neptune-features/features_246008_1174_0.npy'))\n",
    "features_nmf = list(np.load('./nmf-features/features-part2.npy'))\n",
    "\n",
    "features_info = create_feature_info(features)\n",
    "features_info_nmf = create_feature_info(features_nmf)\n",
    "features_info_nmf[\"feature_header\"] += \"_nmf\"\n",
    "features_stack = create_feature_stack(features_info)\n",
    "features_stack_nmf = create_feature_stack(features_info_nmf)\n",
    "create_model_fixed = partial(create_model, features_stack, features_stack_nmf)"
   ]
  },
  {
   "cell_type": "code",
   "execution_count": 23,
   "metadata": {},
   "outputs": [],
   "source": [
    "from functools import partial\n",
    "\n",
    "features = list(np.load('./neptune-features/features_246008_1174_0.npy'))\n",
    "features_nmf = list(np.load('./nmf-features/features-part2.npy'))\n",
    "\n",
    "features_info = create_feature_info(features)\n",
    "features_info_nmf = create_feature_info(features_nmf)\n",
    "features_info_nmf[\"feature_header\"] += \"_nmf\"\n",
    "features_stack = create_feature_stack(features_info)\n",
    "features_stack_nmf = create_feature_stack(features_info_nmf)\n",
    "create_model_fixed = partial(create_model, features_stack, features_stack_nmf)"
   ]
  },
  {
   "cell_type": "code",
   "execution_count": 24,
   "metadata": {},
   "outputs": [
    {
     "data": {
      "text/plain": [
       "dict_keys(['short', 'NAME_EDUCATION_TYPE_CODE', 'NAME_FAMILY_STATUS_NAME', 'NAME_FAMILY_STATUS_CODE', 'NAME_EDUCATION_TYPE_OCCUPATION', 'bureau_SK_ID_CURR', 'credit_card_balance_SK', 'all_installment_installment_paid', 'last__NUM_INSTALMENT', 'last__installment_paid', 'last_by_fraction_NUM', 'last_by_fraction_installment', 'last_loan_installment_paid', 'installments_payments_SK_ID', 'all_installment_SK_DPD', 'last__pos_cash', 'last__SK_DPD', 'POS_CASH_balance_SK', 'previous_application_SK_ID'])"
      ]
     },
     "execution_count": 24,
     "metadata": {},
     "output_type": "execute_result"
    }
   ],
   "source": [
    "features_stack.keys()"
   ]
  },
  {
   "cell_type": "code",
   "execution_count": 25,
   "metadata": {},
   "outputs": [
    {
     "data": {
      "text/plain": [
       "dict_keys(['short_nmf', 'buro_full_wide__nmf', 'pos_bal_wide__nmf', 'cc_bal_wide__nmf', 'buro_bal_timestep__nmf', 'pos_bal_timestep__nmf', 'cc_bal_timestep__nmf'])"
      ]
     },
     "execution_count": 25,
     "metadata": {},
     "output_type": "execute_result"
    }
   ],
   "source": [
    "features_stack_nmf.keys()"
   ]
  },
  {
   "cell_type": "code",
   "execution_count": 26,
   "metadata": {
    "scrolled": false
   },
   "outputs": [
    {
     "name": "stdout",
     "output_type": "stream",
     "text": [
      "__________________________________________________________________________________________________\n",
      "Layer (type)                    Output Shape         Param #     Connected to                     \n",
      "==================================================================================================\n",
      "short (InputLayer)              (None, 226)          0                                            \n",
      "__________________________________________________________________________________________________\n",
      "NAME_EDUCATION_TYPE_CODE (Input (None, 90)           0                                            \n",
      "__________________________________________________________________________________________________\n",
      "NAME_FAMILY_STATUS_NAME (InputL (None, 90)           0                                            \n",
      "__________________________________________________________________________________________________\n",
      "NAME_FAMILY_STATUS_CODE (InputL (None, 90)           0                                            \n",
      "__________________________________________________________________________________________________\n",
      "NAME_EDUCATION_TYPE_OCCUPATION  (None, 24)           0                                            \n",
      "__________________________________________________________________________________________________\n",
      "bureau_SK_ID_CURR (InputLayer)  (None, 57)           0                                            \n",
      "__________________________________________________________________________________________________\n",
      "credit_card_balance_SK (InputLa (None, 70)           0                                            \n",
      "__________________________________________________________________________________________________\n",
      "all_installment_installment_pai (None, 22)           0                                            \n",
      "__________________________________________________________________________________________________\n",
      "last__NUM_INSTALMENT (InputLaye (None, 54)           0                                            \n",
      "__________________________________________________________________________________________________\n",
      "last__installment_paid (InputLa (None, 132)          0                                            \n",
      "__________________________________________________________________________________________________\n",
      "last_by_fraction_NUM (InputLaye (None, 45)           0                                            \n",
      "__________________________________________________________________________________________________\n",
      "last_by_fraction_installment (I (None, 110)          0                                            \n",
      "__________________________________________________________________________________________________\n",
      "last_loan_installment_paid (Inp (None, 14)           0                                            \n",
      "__________________________________________________________________________________________________\n",
      "installments_payments_SK_ID (In (None, 30)           0                                            \n",
      "__________________________________________________________________________________________________\n",
      "all_installment_SK_DPD (InputLa (None, 12)           0                                            \n",
      "__________________________________________________________________________________________________\n",
      "last__pos_cash (InputLayer)     (None, 12)           0                                            \n",
      "__________________________________________________________________________________________________\n",
      "last__SK_DPD (InputLayer)       (None, 36)           0                                            \n",
      "__________________________________________________________________________________________________\n",
      "POS_CASH_balance_SK (InputLayer (None, 15)           0                                            \n",
      "__________________________________________________________________________________________________\n",
      "previous_application_SK_ID (Inp (None, 45)           0                                            \n",
      "__________________________________________________________________________________________________\n",
      "short_nmf (InputLayer)          (None, 48)           0                                            \n",
      "__________________________________________________________________________________________________\n",
      "buro_full_wide__nmf (InputLayer (None, 50)           0                                            \n",
      "__________________________________________________________________________________________________\n",
      "pos_bal_wide__nmf (InputLayer)  (None, 50)           0                                            \n",
      "__________________________________________________________________________________________________\n",
      "cc_bal_wide__nmf (InputLayer)   (None, 50)           0                                            \n",
      "__________________________________________________________________________________________________\n",
      "buro_bal_timestep__nmf (InputLa (None, 98)           0                                            \n",
      "__________________________________________________________________________________________________\n",
      "pos_bal_timestep__nmf (InputLay (None, 100)          0                                            \n",
      "__________________________________________________________________________________________________\n",
      "cc_bal_timestep__nmf (InputLaye (None, 96)           0                                            \n",
      "__________________________________________________________________________________________________\n",
      "dense_103 (Dense)               (None, 81)           18387       short[0][0]                      \n",
      "__________________________________________________________________________________________________\n",
      "dense_104 (Dense)               (None, 42)           3822        NAME_EDUCATION_TYPE_CODE[0][0]   \n",
      "__________________________________________________________________________________________________\n",
      "dense_105 (Dense)               (None, 42)           3822        NAME_FAMILY_STATUS_NAME[0][0]    \n",
      "__________________________________________________________________________________________________\n",
      "dense_106 (Dense)               (None, 42)           3822        NAME_FAMILY_STATUS_CODE[0][0]    \n",
      "__________________________________________________________________________________________________\n",
      "dense_107 (Dense)               (None, 15)           375         NAME_EDUCATION_TYPE_OCCUPATION[0]\n",
      "__________________________________________________________________________________________________\n",
      "dense_108 (Dense)               (None, 30)           1740        bureau_SK_ID_CURR[0][0]          \n",
      "__________________________________________________________________________________________________\n",
      "dense_109 (Dense)               (None, 35)           2485        credit_card_balance_SK[0][0]     \n",
      "__________________________________________________________________________________________________\n",
      "dense_110 (Dense)               (None, 14)           322         all_installment_installment_paid[\n",
      "__________________________________________________________________________________________________\n",
      "dense_111 (Dense)               (None, 29)           1595        last__NUM_INSTALMENT[0][0]       \n",
      "__________________________________________________________________________________________________\n",
      "dense_112 (Dense)               (None, 56)           7448        last__installment_paid[0][0]     \n",
      "__________________________________________________________________________________________________\n",
      "dense_113 (Dense)               (None, 25)           1150        last_by_fraction_NUM[0][0]       \n",
      "__________________________________________________________________________________________________\n",
      "dense_114 (Dense)               (None, 49)           5439        last_by_fraction_installment[0][0\n",
      "__________________________________________________________________________________________________\n",
      "dense_115 (Dense)               (None, 9)            135         last_loan_installment_paid[0][0] \n",
      "__________________________________________________________________________________________________\n",
      "dense_116 (Dense)               (None, 18)           558         installments_payments_SK_ID[0][0]\n",
      "__________________________________________________________________________________________________\n",
      "dense_117 (Dense)               (None, 8)            104         all_installment_SK_DPD[0][0]     \n",
      "__________________________________________________________________________________________________\n",
      "dense_118 (Dense)               (None, 8)            104         last__pos_cash[0][0]             \n",
      "__________________________________________________________________________________________________\n",
      "dense_119 (Dense)               (None, 21)           777         last__SK_DPD[0][0]               \n",
      "__________________________________________________________________________________________________\n",
      "dense_120 (Dense)               (None, 10)           160         POS_CASH_balance_SK[0][0]        \n",
      "__________________________________________________________________________________________________\n",
      "dense_121 (Dense)               (None, 25)           1150        previous_application_SK_ID[0][0] \n",
      "__________________________________________________________________________________________________\n",
      "dense_122 (Dense)               (None, 26)           1274        short_nmf[0][0]                  \n",
      "__________________________________________________________________________________________________\n",
      "dense_123 (Dense)               (None, 27)           1377        buro_full_wide__nmf[0][0]        \n",
      "__________________________________________________________________________________________________\n",
      "dense_124 (Dense)               (None, 27)           1377        pos_bal_wide__nmf[0][0]          \n",
      "__________________________________________________________________________________________________\n",
      "dense_125 (Dense)               (None, 27)           1377        cc_bal_wide__nmf[0][0]           \n",
      "__________________________________________________________________________________________________\n",
      "dense_126 (Dense)               (None, 45)           4455        buro_bal_timestep__nmf[0][0]     \n",
      "__________________________________________________________________________________________________\n",
      "dense_127 (Dense)               (None, 46)           4646        pos_bal_timestep__nmf[0][0]      \n",
      "__________________________________________________________________________________________________\n",
      "dense_128 (Dense)               (None, 44)           4268        cc_bal_timestep__nmf[0][0]       \n",
      "__________________________________________________________________________________________________\n",
      "concatenate_29 (Concatenate)    (None, 559)          0           dense_103[0][0]                  \n",
      "                                                                 dense_104[0][0]                  \n",
      "                                                                 dense_105[0][0]                  \n",
      "                                                                 dense_106[0][0]                  \n",
      "                                                                 dense_107[0][0]                  \n",
      "                                                                 dense_108[0][0]                  \n",
      "                                                                 dense_109[0][0]                  \n",
      "                                                                 dense_110[0][0]                  \n",
      "                                                                 dense_111[0][0]                  \n",
      "                                                                 dense_112[0][0]                  \n",
      "                                                                 dense_113[0][0]                  \n",
      "                                                                 dense_114[0][0]                  \n",
      "                                                                 dense_115[0][0]                  \n",
      "                                                                 dense_116[0][0]                  \n",
      "                                                                 dense_117[0][0]                  \n",
      "                                                                 dense_118[0][0]                  \n",
      "                                                                 dense_119[0][0]                  \n",
      "                                                                 dense_120[0][0]                  \n",
      "                                                                 dense_121[0][0]                  \n",
      "__________________________________________________________________________________________________\n",
      "concatenate_25 (Concatenate)    (None, 1174)         0           short[0][0]                      \n",
      "                                                                 NAME_EDUCATION_TYPE_CODE[0][0]   \n",
      "                                                                 NAME_FAMILY_STATUS_NAME[0][0]    \n",
      "                                                                 NAME_FAMILY_STATUS_CODE[0][0]    \n",
      "                                                                 NAME_EDUCATION_TYPE_OCCUPATION[0]\n",
      "                                                                 bureau_SK_ID_CURR[0][0]          \n",
      "                                                                 credit_card_balance_SK[0][0]     \n",
      "                                                                 all_installment_installment_paid[\n",
      "                                                                 last__NUM_INSTALMENT[0][0]       \n",
      "                                                                 last__installment_paid[0][0]     \n",
      "                                                                 last_by_fraction_NUM[0][0]       \n",
      "                                                                 last_by_fraction_installment[0][0\n",
      "                                                                 last_loan_installment_paid[0][0] \n",
      "                                                                 installments_payments_SK_ID[0][0]\n",
      "                                                                 all_installment_SK_DPD[0][0]     \n",
      "                                                                 last__pos_cash[0][0]             \n",
      "                                                                 last__SK_DPD[0][0]               \n",
      "                                                                 POS_CASH_balance_SK[0][0]        \n",
      "                                                                 previous_application_SK_ID[0][0] \n",
      "__________________________________________________________________________________________________\n",
      "concatenate_26 (Concatenate)    (None, 1174)         0           short[0][0]                      \n",
      "                                                                 NAME_EDUCATION_TYPE_CODE[0][0]   \n",
      "                                                                 NAME_FAMILY_STATUS_NAME[0][0]    \n",
      "                                                                 NAME_FAMILY_STATUS_CODE[0][0]    \n",
      "                                                                 NAME_EDUCATION_TYPE_OCCUPATION[0]\n",
      "                                                                 bureau_SK_ID_CURR[0][0]          \n",
      "                                                                 credit_card_balance_SK[0][0]     \n",
      "                                                                 all_installment_installment_paid[\n",
      "                                                                 last__NUM_INSTALMENT[0][0]       \n",
      "                                                                 last__installment_paid[0][0]     \n",
      "                                                                 last_by_fraction_NUM[0][0]       \n",
      "                                                                 last_by_fraction_installment[0][0\n",
      "                                                                 last_loan_installment_paid[0][0] \n",
      "                                                                 installments_payments_SK_ID[0][0]\n",
      "                                                                 all_installment_SK_DPD[0][0]     \n",
      "                                                                 last__pos_cash[0][0]             \n",
      "                                                                 last__SK_DPD[0][0]               \n",
      "                                                                 POS_CASH_balance_SK[0][0]        \n",
      "                                                                 previous_application_SK_ID[0][0] \n",
      "__________________________________________________________________________________________________\n",
      "concatenate_27 (Concatenate)    (None, 1174)         0           short[0][0]                      \n",
      "                                                                 NAME_EDUCATION_TYPE_CODE[0][0]   \n",
      "                                                                 NAME_FAMILY_STATUS_NAME[0][0]    \n",
      "                                                                 NAME_FAMILY_STATUS_CODE[0][0]    \n",
      "                                                                 NAME_EDUCATION_TYPE_OCCUPATION[0]\n",
      "                                                                 bureau_SK_ID_CURR[0][0]          \n",
      "                                                                 credit_card_balance_SK[0][0]     \n",
      "                                                                 all_installment_installment_paid[\n",
      "                                                                 last__NUM_INSTALMENT[0][0]       \n",
      "                                                                 last__installment_paid[0][0]     \n",
      "                                                                 last_by_fraction_NUM[0][0]       \n",
      "                                                                 last_by_fraction_installment[0][0\n",
      "                                                                 last_loan_installment_paid[0][0] \n",
      "                                                                 installments_payments_SK_ID[0][0]\n",
      "                                                                 all_installment_SK_DPD[0][0]     \n",
      "                                                                 last__pos_cash[0][0]             \n",
      "                                                                 last__SK_DPD[0][0]               \n",
      "                                                                 POS_CASH_balance_SK[0][0]        \n",
      "                                                                 previous_application_SK_ID[0][0] \n",
      "__________________________________________________________________________________________________\n",
      "concatenate_28 (Concatenate)    (None, 1174)         0           short[0][0]                      \n",
      "                                                                 NAME_EDUCATION_TYPE_CODE[0][0]   \n",
      "                                                                 NAME_FAMILY_STATUS_NAME[0][0]    \n",
      "                                                                 NAME_FAMILY_STATUS_CODE[0][0]    \n",
      "                                                                 NAME_EDUCATION_TYPE_OCCUPATION[0]\n",
      "                                                                 bureau_SK_ID_CURR[0][0]          \n",
      "                                                                 credit_card_balance_SK[0][0]     \n",
      "                                                                 all_installment_installment_paid[\n",
      "                                                                 last__NUM_INSTALMENT[0][0]       \n",
      "                                                                 last__installment_paid[0][0]     \n",
      "                                                                 last_by_fraction_NUM[0][0]       \n",
      "                                                                 last_by_fraction_installment[0][0\n",
      "                                                                 last_loan_installment_paid[0][0] \n",
      "                                                                 installments_payments_SK_ID[0][0]\n",
      "                                                                 all_installment_SK_DPD[0][0]     \n",
      "                                                                 last__pos_cash[0][0]             \n",
      "                                                                 last__SK_DPD[0][0]               \n",
      "                                                                 POS_CASH_balance_SK[0][0]        \n",
      "                                                                 previous_application_SK_ID[0][0] \n",
      "__________________________________________________________________________________________________\n",
      "concatenate_30 (Concatenate)    (None, 242)          0           dense_122[0][0]                  \n",
      "                                                                 dense_123[0][0]                  \n",
      "                                                                 dense_124[0][0]                  \n",
      "                                                                 dense_125[0][0]                  \n",
      "                                                                 dense_126[0][0]                  \n",
      "                                                                 dense_127[0][0]                  \n",
      "                                                                 dense_128[0][0]                  \n",
      "__________________________________________________________________________________________________\n",
      "concatenate_31 (Concatenate)    (None, 492)          0           short_nmf[0][0]                  \n",
      "                                                                 buro_full_wide__nmf[0][0]        \n",
      "                                                                 pos_bal_wide__nmf[0][0]          \n",
      "                                                                 cc_bal_wide__nmf[0][0]           \n",
      "                                                                 buro_bal_timestep__nmf[0][0]     \n",
      "                                                                 pos_bal_timestep__nmf[0][0]      \n",
      "                                                                 cc_bal_timestep__nmf[0][0]       \n",
      "__________________________________________________________________________________________________\n",
      "dropout_29 (Dropout)            (None, 559)          0           concatenate_29[0][0]             \n",
      "__________________________________________________________________________________________________\n",
      "dropout_25 (Dropout)            (None, 1174)         0           concatenate_25[0][0]             \n",
      "__________________________________________________________________________________________________\n",
      "dropout_26 (Dropout)            (None, 1174)         0           concatenate_26[0][0]             \n",
      "__________________________________________________________________________________________________\n",
      "dropout_27 (Dropout)            (None, 1174)         0           concatenate_27[0][0]             \n",
      "__________________________________________________________________________________________________\n",
      "dropout_28 (Dropout)            (None, 1174)         0           concatenate_28[0][0]             \n",
      "__________________________________________________________________________________________________\n",
      "dropout_30 (Dropout)            (None, 242)          0           concatenate_30[0][0]             \n",
      "__________________________________________________________________________________________________\n",
      "dropout_31 (Dropout)            (None, 492)          0           concatenate_31[0][0]             \n",
      "__________________________________________________________________________________________________\n",
      "dense_133 (Dense)               (None, 128)          71680       dropout_29[0][0]                 \n",
      "__________________________________________________________________________________________________\n",
      "dense_129 (Dense)               (None, 64)           75200       dropout_25[0][0]                 \n",
      "__________________________________________________________________________________________________\n",
      "dense_130 (Dense)               (None, 32)           37600       dropout_26[0][0]                 \n",
      "__________________________________________________________________________________________________\n",
      "dense_131 (Dense)               (None, 16)           18800       dropout_27[0][0]                 \n",
      "__________________________________________________________________________________________________\n",
      "dense_132 (Dense)               (None, 8)            9400        dropout_28[0][0]                 \n",
      "__________________________________________________________________________________________________\n",
      "dense_134 (Dense)               (None, 16)           3888        dropout_30[0][0]                 \n",
      "__________________________________________________________________________________________________\n",
      "dense_135 (Dense)               (None, 8)            3944        dropout_31[0][0]                 \n",
      "__________________________________________________________________________________________________\n",
      "concatenate_32 (Concatenate)    (None, 272)          0           dense_133[0][0]                  \n",
      "                                                                 dense_129[0][0]                  \n",
      "                                                                 dense_130[0][0]                  \n",
      "                                                                 dense_131[0][0]                  \n",
      "                                                                 dense_132[0][0]                  \n",
      "                                                                 dense_134[0][0]                  \n",
      "                                                                 dense_135[0][0]                  \n",
      "__________________________________________________________________________________________________\n",
      "dropout_32 (Dropout)            (None, 272)          0           concatenate_32[0][0]             \n",
      "__________________________________________________________________________________________________\n",
      "dense_136 (Dense)               (None, 1)            273         dropout_32[0][0]                 \n",
      "==================================================================================================\n",
      "Total params: 292,954\n",
      "Trainable params: 292,954\n",
      "Non-trainable params: 0\n",
      "__________________________________________________________________________________________________\n"
     ]
    }
   ],
   "source": [
    "features = list(np.load('./neptune-features/features_246008_1174_0.npy'))\n",
    "features_nmf = list(np.load('./nmf-features/features-part2.npy'))\n",
    "\n",
    "features_info = create_feature_info(features)\n",
    "features_info_nmf = create_feature_info(features_nmf)\n",
    "features_info_nmf[\"feature_header\"] += \"_nmf\"\n",
    "features_stack = create_feature_stack(features_info)\n",
    "features_stack_nmf = create_feature_stack(features_info_nmf)\n",
    "create_model_fixed = partial(create_model, features_stack, features_stack_nmf)\n",
    "\n",
    "model = create_model(features_stack, features_stack_nmf)\n",
    "model.summary()"
   ]
  },
  {
   "cell_type": "markdown",
   "metadata": {},
   "source": [
    "## early stop"
   ]
  },
  {
   "cell_type": "code",
   "execution_count": 27,
   "metadata": {},
   "outputs": [],
   "source": [
    "from keras.models import load_model\n",
    "from keras.models import Sequential, Model\n",
    "from keras.layers import Input, Dense, Dropout, Activation\n",
    "from keras.layers.normalization import BatchNormalization\n",
    "from keras.callbacks import EarlyStopping, ModelCheckpoint, CSVLogger, Callback\n",
    "from keras.wrappers.scikit_learn import KerasClassifier"
   ]
  },
  {
   "cell_type": "code",
   "execution_count": 28,
   "metadata": {},
   "outputs": [],
   "source": [
    "class roc_auc_callback(Callback):\n",
    "    def __init__(self,training_data,validation_data):\n",
    "        self.x = training_data[0]\n",
    "        self.y = training_data[1]\n",
    "        self.x_val = validation_data[0]\n",
    "        self.y_val = validation_data[1]\n",
    "\n",
    "    def on_train_begin(self, logs={}):\n",
    "        return\n",
    "\n",
    "    def on_train_end(self, logs={}):\n",
    "        return\n",
    "\n",
    "    def on_epoch_begin(self, epoch, logs={}):\n",
    "        return\n",
    "\n",
    "    def on_epoch_end(self, epoch, logs={}):\n",
    "        # y_pred = self.model.predict_proba(self.x, verbose=0)\n",
    "        y_pred = self.model.predict(self.x, verbose=0)\n",
    "        roc = roc_auc_score(self.y, y_pred)\n",
    "        logs['roc_auc'] = roc_auc_score(self.y, y_pred)\n",
    "        logs['norm_gini'] = ( roc_auc_score(self.y, y_pred) * 2 ) - 1\n",
    "\n",
    "        # y_pred_val = self.model.predict_proba(self.x_val, verbose=0)\n",
    "        y_pred_val = self.model.predict(self.x_val, verbose=0)\n",
    "        roc_val = roc_auc_score(self.y_val, y_pred_val)\n",
    "        logs['roc_auc_val'] = roc_auc_score(self.y_val, y_pred_val)\n",
    "        logs['norm_gini_val'] = ( roc_auc_score(self.y_val, y_pred_val) * 2 ) - 1\n",
    "\n",
    "        # print('\\rroc_auc: %s - roc_auc_val: %s - norm_gini: %s - norm_gini_val: %s' % (str(round(roc,5)),str(round(roc_val,5)),str(round((roc*2-1),5)),str(round((roc_val*2-1),5))), end=10*' '+'\\n')\n",
    "        return\n",
    "\n",
    "    def on_batch_begin(self, batch, logs={}):\n",
    "        return\n",
    "\n",
    "    def on_batch_end(self, batch, logs={}):\n",
    "        return"
   ]
  },
  {
   "cell_type": "markdown",
   "metadata": {},
   "source": [
    "## keras"
   ]
  },
  {
   "cell_type": "code",
   "execution_count": 29,
   "metadata": {
    "scrolled": false
   },
   "outputs": [
    {
     "name": "stdout",
     "output_type": "stream",
     "text": [
      "./neptune-features/train_idx_0.npy ./neptune-features/valid_idx_0.npy\n",
      "(246008,) (61503,)\n",
      "./neptune-features/data_246008_1174_0 (246008, 1666)\n",
      "./neptune-features/data_61503_1174_1 (61503, 1666)\n",
      "./neptune-features/data_48744_1174_3 (48744, 1666)\n",
      "Epoch 00134: early stopping\n",
      "Wall time: 3h 15min 18s\n",
      "fold-0,auc:0.7872816568004757\n",
      "./neptune-features/train_idx_1.npy ./neptune-features/valid_idx_1.npy\n",
      "(246009,) (61502,)\n",
      "./neptune-features/data_246009_1174_4 (246009, 1666)\n",
      "./neptune-features/data_61502_1174_5 (61502, 1666)\n",
      "./neptune-features/data_48744_1174_7 (48744, 1666)\n",
      "Epoch 00155: early stopping\n",
      "Wall time: 3h 50min 40s\n",
      "fold-1,auc:0.7807984080722405\n",
      "./neptune-features/train_idx_2.npy ./neptune-features/valid_idx_2.npy\n",
      "(246009,) (61502,)\n",
      "./neptune-features/data_246009_1174_8 (246009, 1666)\n",
      "./neptune-features/data_61502_1174_9 (61502, 1666)\n",
      "./neptune-features/data_48744_1174_11 (48744, 1666)\n",
      "Epoch 00159: early stopping\n",
      "Wall time: 4h 2min 58s\n",
      "fold-2,auc:0.779889142457681\n",
      "./neptune-features/train_idx_3.npy ./neptune-features/valid_idx_3.npy\n",
      "(246009,) (61502,)\n",
      "./neptune-features/data_246009_1174_12 (246009, 1666)\n",
      "./neptune-features/data_61502_1174_13 (61502, 1666)\n",
      "./neptune-features/data_48744_1174_15 (48744, 1666)\n",
      "Epoch 00152: early stopping\n",
      "Wall time: 3h 57min 31s\n",
      "fold-3,auc:0.78385648974165\n",
      "./neptune-features/train_idx_4.npy ./neptune-features/valid_idx_4.npy\n",
      "(246009,) (61502,)\n",
      "./neptune-features/data_246009_1174_16 (246009, 1666)\n",
      "./neptune-features/data_61502_1174_17 (61502, 1666)\n",
      "./neptune-features/data_48744_1174_19 (48744, 1666)\n",
      "Epoch 00134: early stopping\n",
      "Wall time: 3h 34min 26s\n",
      "fold-4,auc:0.7826479076228472\n",
      "kfold-auc, avg:0.7829, std:0.0026\n"
     ]
    }
   ],
   "source": [
    "nrows = 1000\n",
    "nrows = 10000\n",
    "nrows = None\n",
    "\n",
    "features = list(np.load('./neptune-features/features_246008_1174_0.npy'))\n",
    "features_nmf = list(np.load('./nmf-features/features-part2.npy'))\n",
    "features_info = create_feature_info(features)\n",
    "features_info_nmf = create_feature_info(features_nmf)\n",
    "features_info_nmf[\"feature_header\"] += \"_nmf\"\n",
    "features_stack = create_feature_stack(features_info)\n",
    "features_stack_nmf = create_feature_stack(features_info_nmf)\n",
    "create_model_fixed = partial(create_model, features_stack, features_stack_nmf)\n",
    "\n",
    "train_app = load_dataframe32(\"./bindata/application_train\")\n",
    "auc_valid_stack = []\n",
    "pred_valid_stack = []\n",
    "pred_test_stack = []\n",
    "\n",
    "exp_code = 40\n",
    "run = 6\n",
    "for i in range(5):\n",
    "    train_idx_fn = \"./neptune-features/train_idx_{}.npy\".format(i)\n",
    "    valid_idx_fn = \"./neptune-features/valid_idx_{}.npy\".format(i)\n",
    "\n",
    "    train_offset, valid_offset, test_offset = i * 4, i * 4 + 1, i * 4 + 3\n",
    "    \n",
    "    train_data_fn = \"./neptune-features/data_246009_1174_{}\".format(train_offset)\n",
    "    valid_data_fn = \"./neptune-features/data_61502_1174_{}\".format(valid_offset)\n",
    "    test_data_fn = \"./neptune-features/data_48744_1174_{}\".format(test_offset)\n",
    "    \n",
    "    if i == 0:\n",
    "        train_data_fn = train_data_fn.replace(\"246009\", \"246008\")\n",
    "        valid_data_fn = valid_data_fn.replace(\"61502\", \"61503\")\n",
    "\n",
    "    train_nmf_fn = \"./nmf-features/nmf_246009_1174_{}\".format(train_offset)\n",
    "    valid_nmf_fn = \"./nmf-features/nmf_61502_1174_{}\".format(valid_offset)\n",
    "    test_nmf_fn = \"./nmf-features/nmf_48744_1174_{}\".format(test_offset)\n",
    "\n",
    "    if i == 0:\n",
    "        train_nmf_fn = train_nmf_fn.replace(\"246009\", \"246008\")\n",
    "        valid_nmf_fn = valid_nmf_fn.replace(\"61502\", \"61503\")\n",
    "    \n",
    "    gc.collect()\n",
    "\n",
    "    train_idx = np.load(train_idx_fn)\n",
    "    valid_idx = np.load(valid_idx_fn)\n",
    "    \n",
    "    if nrows:\n",
    "        train_idx, valid_idx = train_idx[:nrows].copy(), valid_idx[:nrows].copy()\n",
    "\n",
    "    train_data = load_dataframe32(train_data_fn, nrows)\n",
    "    valid_data = load_dataframe32(valid_data_fn, nrows)\n",
    "    test_data = load_dataframe32(test_data_fn, nrows)\n",
    "    \n",
    "    train_nmf = load_dataframe32(train_nmf_fn, nrows)\n",
    "    valid_nmf = load_dataframe32(valid_nmf_fn, nrows)\n",
    "    test_nmf = load_dataframe32(test_nmf_fn, nrows)\n",
    "    \n",
    "    train_data = pd.concat([train_data, train_nmf], axis=1)\n",
    "    valid_data = pd.concat([valid_data, valid_nmf], axis=1)\n",
    "    test_data = pd.concat([test_data, test_nmf], axis=1)\n",
    "\n",
    "    gc.collect()\n",
    "    \n",
    "\n",
    "    print(train_idx_fn, valid_idx_fn)\n",
    "    print(train_idx.shape, valid_idx.shape)\n",
    "    print(train_data_fn, train_data.shape)\n",
    "    print(valid_data_fn, valid_data.shape)\n",
    "    print(test_data_fn, test_data.shape)\n",
    "\n",
    "    scalar_stack = create_scaler_stack(features_info)\n",
    "    scalar_stack_nmf = create_scaler_stack(features_info_nmf)\n",
    "    \n",
    "    X_train_mult = {key: scalar_stack[key].fit_transform(replace_nan(train_data[items].values)) for key, items in features_stack.items()}\n",
    "    X_valid_mult = {key: scalar_stack[key].transform(replace_nan(valid_data[items].values)) for key, items in features_stack.items()}\n",
    "    X_test_mult = {key: scalar_stack[key].transform(replace_nan(test_data[items].values)) for key, items in features_stack.items()}\n",
    "    \n",
    "    X_train_nmf_mult = {key: scalar_stack_nmf[key].fit_transform(replace_nan(train_data[items].values)) for key, items in features_stack_nmf.items()}\n",
    "    X_valid_nmf_mult = {key: scalar_stack_nmf[key].transform(replace_nan(valid_data[items].values)) for key, items in features_stack_nmf.items()}\n",
    "    X_test_nmf_mult = {key: scalar_stack_nmf[key].transform(replace_nan(test_data[items].values)) for key, items in features_stack_nmf.items()}\n",
    "    \n",
    "    X_train_mult = {**X_train_mult, **X_train_nmf_mult}\n",
    "    X_valid_mult = {**X_valid_mult, **X_valid_nmf_mult}\n",
    "    X_test_mult = {**X_test_mult, **X_test_nmf_mult}\n",
    "\n",
    "    y_train = train_app.loc[train_idx].TARGET\n",
    "    y_valid = train_app.loc[valid_idx].TARGET\n",
    "    gc.collect()\n",
    "    \n",
    "    check_point_fn = '040-keras-5fold-run-{}-v1-fold-'.format(run) + str('%02d' % (i + 1)) + '-run-' + str('%02d' % (run + 1)) + '.check'\n",
    "    log_fn = 'keras040-5fold-run-{}-v1-epoch-fold-{}.log'.format(run, i + 1)\n",
    "    \n",
    "    callbacks = [\n",
    "        roc_auc_callback(\n",
    "            training_data=(X_train_mult, y_train),\n",
    "            validation_data=(X_valid_mult, y_valid)\n",
    "        ),  # call this before EarlyStopping\n",
    "        EarlyStopping(monitor='norm_gini_val', patience=25, mode='max', verbose=1),\n",
    "        CSVLogger(log_fn, separator=',', append=False),\n",
    "        ModelCheckpoint(\n",
    "            check_point_fn,\n",
    "            monitor='norm_gini_val', mode='max', # mode must be set to max or Keras will be confused\n",
    "            save_best_only=True,\n",
    "            verbose=0\n",
    "        )\n",
    "    ]\n",
    "\n",
    "    np.random.seed(i)\n",
    "    # create_model(features_stack)\n",
    "    estimator = KerasClassifier(\n",
    "        build_fn=create_model_fixed,\n",
    "        epochs=5000,\n",
    "        batch_size=500, # 500\n",
    "        validation_data=(X_valid_mult, y_valid),\n",
    "        verbose=0,\n",
    "        shuffle=True,\n",
    "        callbacks=callbacks\n",
    "    )\n",
    "    %time estimator.fit(X_train_mult, y_train)\n",
    "    \n",
    "    del estimator\n",
    "    estimator = load_model(check_point_fn)\n",
    "    \n",
    "    pred_valid = estimator.predict(X_valid_mult)\n",
    "    pred_valid_stack.append(pred_valid)\n",
    "    \n",
    "    auc = roc_auc_score(y_valid, pred_valid)\n",
    "    auc_valid_stack.append(auc)\n",
    "    print(\"fold-{},auc:{}\".format(i, auc))\n",
    "\n",
    "    pred_test = estimator.predict(X_test_mult)\n",
    "    pred_test_stack.append(pred_test)\n",
    "    \n",
    "print(\"kfold-auc, avg:{:.4}, std:{:.2}\".format(np.mean(auc_valid_stack), np.std(auc_valid_stack)))"
   ]
  },
  {
   "cell_type": "markdown",
   "metadata": {},
   "source": [
    "## learning curve"
   ]
  },
  {
   "cell_type": "code",
   "execution_count": 34,
   "metadata": {
    "scrolled": false
   },
   "outputs": [
    {
     "name": "stdout",
     "output_type": "stream",
     "text": [
      "fold-1\n"
     ]
    },
    {
     "data": {
      "image/png": "[encoded data removed]",
      "text/plain": [
       "<matplotlib.figure.Figure at 0x2b6919e8>"
      ]
     },
     "metadata": {},
     "output_type": "display_data"
    },
    {
     "data": {
      "image/png": "[encoded data removed]",
      "text/plain": [
       "<matplotlib.figure.Figure at 0x30d58160>"
      ]
     },
     "metadata": {},
     "output_type": "display_data"
    },
    {
     "name": "stdout",
     "output_type": "stream",
     "text": [
      "fold-2\n"
     ]
    },
    {
     "data": {
      "image/png": "[encoded data removed]",
      "text/plain": [
       "<matplotlib.figure.Figure at 0x30df5ba8>"
      ]
     },
     "metadata": {},
     "output_type": "display_data"
    },
    {
     "data": {
      "image/png": "[encoded data removed]",
      "text/plain": [
       "<matplotlib.figure.Figure at 0x30f60be0>"
      ]
     },
     "metadata": {},
     "output_type": "display_data"
    },
    {
     "name": "stdout",
     "output_type": "stream",
     "text": [
      "fold-3\n"
     ]
    },
    {
     "data": {
      "image/png": "[encoded data removed]",
      "text/plain": [
       "<matplotlib.figure.Figure at 0x30f3d780>"
      ]
     },
     "metadata": {},
     "output_type": "display_data"
    },
    {
     "data": {
      "image/png": "[encoded data removed]",
      "text/plain": [
       "<matplotlib.figure.Figure at 0x30e51dd8>"
      ]
     },
     "metadata": {},
     "output_type": "display_data"
    },
    {
     "name": "stdout",
     "output_type": "stream",
     "text": [
      "fold-4\n"
     ]
    },
    {
     "data": {
      "image/png": "[encoded data removed]",
      "text/plain": [
       "<matplotlib.figure.Figure at 0x30f60b70>"
      ]
     },
     "metadata": {},
     "output_type": "display_data"
    },
    {
     "data": {
      "image/png": "[encoded data removed]",
      "text/plain": [
       "<matplotlib.figure.Figure at 0x30f74a20>"
      ]
     },
     "metadata": {},
     "output_type": "display_data"
    }
   ],
   "source": [
    "for i in range(1, 5):\n",
    "    print(\"fold-{}\".format(i))\n",
    "    log36 = pd.read_csv(\"./keras040-5fold-run-6-v1-epoch-fold-{}.log\".format(i))\n",
    "    log = log36\n",
    "\n",
    "    plt.plot(log.epoch, log.roc_auc, c=\"r\")\n",
    "    plt.plot(log.epoch, log.roc_auc_val, c=\"b\")\n",
    "    plt.show()\n",
    "\n",
    "    plt.plot(log.epoch, log.loss)\n",
    "    plt.show()"
   ]
  },
  {
   "cell_type": "markdown",
   "metadata": {},
   "source": [
    "## save oof & submission"
   ]
  },
  {
   "cell_type": "code",
   "execution_count": 35,
   "metadata": {},
   "outputs": [],
   "source": [
    "def calculate_rank(predictions):\n",
    "    rank = (1 + pd.Series(predictions).rank().values) / (predictions.shape[0] + 1)\n",
    "    return rank"
   ]
  },
  {
   "cell_type": "code",
   "execution_count": 36,
   "metadata": {},
   "outputs": [
    {
     "data": {
      "text/plain": [
       "[array([[0.04527723],\n",
       "        [0.18779632],\n",
       "        [0.01910222],\n",
       "        ...,\n",
       "        [0.0108553 ],\n",
       "        [0.0506947 ],\n",
       "        [0.23776823]], dtype=float32), array([[0.04953242],\n",
       "        [0.1978402 ],\n",
       "        [0.02614073],\n",
       "        ...,\n",
       "        [0.01127264],\n",
       "        [0.03877543],\n",
       "        [0.25923023]], dtype=float32), array([[0.04773859],\n",
       "        [0.16552931],\n",
       "        [0.02777399],\n",
       "        ...,\n",
       "        [0.01032374],\n",
       "        [0.03598918],\n",
       "        [0.2266088 ]], dtype=float32), array([[0.05242296],\n",
       "        [0.17309424],\n",
       "        [0.01921239],\n",
       "        ...,\n",
       "        [0.0118023 ],\n",
       "        [0.04182426],\n",
       "        [0.17448568]], dtype=float32), array([[0.0560755 ],\n",
       "        [0.21359289],\n",
       "        [0.02071925],\n",
       "        ...,\n",
       "        [0.01282173],\n",
       "        [0.0455484 ],\n",
       "        [0.25595683]], dtype=float32)]"
      ]
     },
     "execution_count": 36,
     "metadata": {},
     "output_type": "execute_result"
    }
   ],
   "source": [
    "pred_test_stack"
   ]
  },
  {
   "cell_type": "code",
   "execution_count": 37,
   "metadata": {},
   "outputs": [],
   "source": [
    "np.save(\"./kfold-result/kfold-result-040-keras01.npy\", pred_test_stack)"
   ]
  },
  {
   "cell_type": "code",
   "execution_count": 38,
   "metadata": {},
   "outputs": [],
   "source": [
    "pred_sample = pd.read_csv(\"./result/submission-022-blend08.csv\")\n",
    "pred_target = sum([calculate_rank(p_.reshape(pred_sample.shape[0])) for p_ in pred_test_stack]) / 5\n",
    "\n",
    "pred_sample[\"TARGET\"] = pred_target\n",
    "\n",
    "pred_sample.to_csv(\"./result/submission-040-keras01.csv\", index=False)"
   ]
  },
  {
   "cell_type": "code",
   "execution_count": 39,
   "metadata": {},
   "outputs": [],
   "source": [
    "oof_pred = np.zeros(train_app.shape[0])\n",
    "\n",
    "for i in range(5):\n",
    "    valid_idx_fn = \"./neptune-features/valid_idx_{}.npy\".format(i)\n",
    "    valid_idx = np.load(valid_idx_fn)\n",
    "    oof_pred[valid_idx] = pred_valid_stack[i].reshape(len(valid_idx))\n",
    "    \n",
    "oof_df = train_app[[\"SK_ID_CURR\"]].copy()\n",
    "oof_df[\"SK_ID_CURR\"] = oof_df.SK_ID_CURR.astype(\"int\")\n",
    "oof_df[\"oof_pred\"] = oof_pred\n",
    "oof_df.to_csv(\"./oof-result/oof-040-keras01.csv\", index=False)"
   ]
  },
  {
   "cell_type": "code",
   "execution_count": 21,
   "metadata": {},
   "outputs": [
    {
     "ename": "FileNotFoundError",
     "evalue": "File b'./result/submission-025-keras01.csv' does not exist",
     "output_type": "error",
     "traceback": [
      "\u001b[1;31m---------------------------------------------------------------------------\u001b[0m",
      "\u001b[1;31mFileNotFoundError\u001b[0m                         Traceback (most recent call last)",
      "\u001b[1;32m<ipython-input-21-946cf417c1d5>\u001b[0m in \u001b[0;36m<module>\u001b[1;34m()\u001b[0m\n\u001b[1;32m----> 1\u001b[1;33m \u001b[0msub025\u001b[0m \u001b[1;33m=\u001b[0m \u001b[0mpd\u001b[0m\u001b[1;33m.\u001b[0m\u001b[0mread_csv\u001b[0m\u001b[1;33m(\u001b[0m\u001b[1;34m\"./result/submission-025-keras01.csv\"\u001b[0m\u001b[1;33m)\u001b[0m\u001b[1;33m\u001b[0m\u001b[0m\n\u001b[0m\u001b[0;32m      2\u001b[0m \u001b[1;33m\u001b[0m\u001b[0m\n\u001b[0;32m      3\u001b[0m \u001b[0mpred_sample\u001b[0m\u001b[1;33m[\u001b[0m\u001b[1;34m\"TARGET\"\u001b[0m\u001b[1;33m]\u001b[0m \u001b[1;33m=\u001b[0m \u001b[0mpred_sample\u001b[0m\u001b[1;33m.\u001b[0m\u001b[0mTARGET\u001b[0m \u001b[1;33m*\u001b[0m \u001b[1;36m0.5\u001b[0m \u001b[1;33m+\u001b[0m \u001b[0msub025\u001b[0m\u001b[1;33m.\u001b[0m\u001b[0mTARGET\u001b[0m \u001b[1;33m*\u001b[0m \u001b[1;36m0.5\u001b[0m\u001b[1;33m\u001b[0m\u001b[0m\n\u001b[0;32m      4\u001b[0m \u001b[0mpred_sample\u001b[0m\u001b[1;33m.\u001b[0m\u001b[0mto_csv\u001b[0m\u001b[1;33m(\u001b[0m\u001b[1;34m\"./result/submission-038-keras01-avg-025.csv\"\u001b[0m\u001b[1;33m,\u001b[0m \u001b[0mindex\u001b[0m\u001b[1;33m=\u001b[0m\u001b[1;32mFalse\u001b[0m\u001b[1;33m)\u001b[0m\u001b[1;33m\u001b[0m\u001b[0m\n",
      "\u001b[1;32mC:\\Anaconda2\\envs\\python3\\lib\\site-packages\\pandas\\io\\parsers.py\u001b[0m in \u001b[0;36mparser_f\u001b[1;34m(filepath_or_buffer, sep, delimiter, header, names, index_col, usecols, squeeze, prefix, mangle_dupe_cols, dtype, engine, converters, true_values, false_values, skipinitialspace, skiprows, nrows, na_values, keep_default_na, na_filter, verbose, skip_blank_lines, parse_dates, infer_datetime_format, keep_date_col, date_parser, dayfirst, iterator, chunksize, compression, thousands, decimal, lineterminator, quotechar, quoting, escapechar, comment, encoding, dialect, tupleize_cols, error_bad_lines, warn_bad_lines, skipfooter, doublequote, delim_whitespace, low_memory, memory_map, float_precision)\u001b[0m\n\u001b[0;32m    676\u001b[0m                     skip_blank_lines=skip_blank_lines)\n\u001b[0;32m    677\u001b[0m \u001b[1;33m\u001b[0m\u001b[0m\n\u001b[1;32m--> 678\u001b[1;33m         \u001b[1;32mreturn\u001b[0m \u001b[0m_read\u001b[0m\u001b[1;33m(\u001b[0m\u001b[0mfilepath_or_buffer\u001b[0m\u001b[1;33m,\u001b[0m \u001b[0mkwds\u001b[0m\u001b[1;33m)\u001b[0m\u001b[1;33m\u001b[0m\u001b[0m\n\u001b[0m\u001b[0;32m    679\u001b[0m \u001b[1;33m\u001b[0m\u001b[0m\n\u001b[0;32m    680\u001b[0m     \u001b[0mparser_f\u001b[0m\u001b[1;33m.\u001b[0m\u001b[0m__name__\u001b[0m \u001b[1;33m=\u001b[0m \u001b[0mname\u001b[0m\u001b[1;33m\u001b[0m\u001b[0m\n",
      "\u001b[1;32mC:\\Anaconda2\\envs\\python3\\lib\\site-packages\\pandas\\io\\parsers.py\u001b[0m in \u001b[0;36m_read\u001b[1;34m(filepath_or_buffer, kwds)\u001b[0m\n\u001b[0;32m    438\u001b[0m \u001b[1;33m\u001b[0m\u001b[0m\n\u001b[0;32m    439\u001b[0m     \u001b[1;31m# Create the parser.\u001b[0m\u001b[1;33m\u001b[0m\u001b[1;33m\u001b[0m\u001b[0m\n\u001b[1;32m--> 440\u001b[1;33m     \u001b[0mparser\u001b[0m \u001b[1;33m=\u001b[0m \u001b[0mTextFileReader\u001b[0m\u001b[1;33m(\u001b[0m\u001b[0mfilepath_or_buffer\u001b[0m\u001b[1;33m,\u001b[0m \u001b[1;33m**\u001b[0m\u001b[0mkwds\u001b[0m\u001b[1;33m)\u001b[0m\u001b[1;33m\u001b[0m\u001b[0m\n\u001b[0m\u001b[0;32m    441\u001b[0m \u001b[1;33m\u001b[0m\u001b[0m\n\u001b[0;32m    442\u001b[0m     \u001b[1;32mif\u001b[0m \u001b[0mchunksize\u001b[0m \u001b[1;32mor\u001b[0m \u001b[0miterator\u001b[0m\u001b[1;33m:\u001b[0m\u001b[1;33m\u001b[0m\u001b[0m\n",
      "\u001b[1;32mC:\\Anaconda2\\envs\\python3\\lib\\site-packages\\pandas\\io\\parsers.py\u001b[0m in \u001b[0;36m__init__\u001b[1;34m(self, f, engine, **kwds)\u001b[0m\n\u001b[0;32m    785\u001b[0m             \u001b[0mself\u001b[0m\u001b[1;33m.\u001b[0m\u001b[0moptions\u001b[0m\u001b[1;33m[\u001b[0m\u001b[1;34m'has_index_names'\u001b[0m\u001b[1;33m]\u001b[0m \u001b[1;33m=\u001b[0m \u001b[0mkwds\u001b[0m\u001b[1;33m[\u001b[0m\u001b[1;34m'has_index_names'\u001b[0m\u001b[1;33m]\u001b[0m\u001b[1;33m\u001b[0m\u001b[0m\n\u001b[0;32m    786\u001b[0m \u001b[1;33m\u001b[0m\u001b[0m\n\u001b[1;32m--> 787\u001b[1;33m         \u001b[0mself\u001b[0m\u001b[1;33m.\u001b[0m\u001b[0m_make_engine\u001b[0m\u001b[1;33m(\u001b[0m\u001b[0mself\u001b[0m\u001b[1;33m.\u001b[0m\u001b[0mengine\u001b[0m\u001b[1;33m)\u001b[0m\u001b[1;33m\u001b[0m\u001b[0m\n\u001b[0m\u001b[0;32m    788\u001b[0m \u001b[1;33m\u001b[0m\u001b[0m\n\u001b[0;32m    789\u001b[0m     \u001b[1;32mdef\u001b[0m \u001b[0mclose\u001b[0m\u001b[1;33m(\u001b[0m\u001b[0mself\u001b[0m\u001b[1;33m)\u001b[0m\u001b[1;33m:\u001b[0m\u001b[1;33m\u001b[0m\u001b[0m\n",
      "\u001b[1;32mC:\\Anaconda2\\envs\\python3\\lib\\site-packages\\pandas\\io\\parsers.py\u001b[0m in \u001b[0;36m_make_engine\u001b[1;34m(self, engine)\u001b[0m\n\u001b[0;32m   1012\u001b[0m     \u001b[1;32mdef\u001b[0m \u001b[0m_make_engine\u001b[0m\u001b[1;33m(\u001b[0m\u001b[0mself\u001b[0m\u001b[1;33m,\u001b[0m \u001b[0mengine\u001b[0m\u001b[1;33m=\u001b[0m\u001b[1;34m'c'\u001b[0m\u001b[1;33m)\u001b[0m\u001b[1;33m:\u001b[0m\u001b[1;33m\u001b[0m\u001b[0m\n\u001b[0;32m   1013\u001b[0m         \u001b[1;32mif\u001b[0m \u001b[0mengine\u001b[0m \u001b[1;33m==\u001b[0m \u001b[1;34m'c'\u001b[0m\u001b[1;33m:\u001b[0m\u001b[1;33m\u001b[0m\u001b[0m\n\u001b[1;32m-> 1014\u001b[1;33m             \u001b[0mself\u001b[0m\u001b[1;33m.\u001b[0m\u001b[0m_engine\u001b[0m \u001b[1;33m=\u001b[0m \u001b[0mCParserWrapper\u001b[0m\u001b[1;33m(\u001b[0m\u001b[0mself\u001b[0m\u001b[1;33m.\u001b[0m\u001b[0mf\u001b[0m\u001b[1;33m,\u001b[0m \u001b[1;33m**\u001b[0m\u001b[0mself\u001b[0m\u001b[1;33m.\u001b[0m\u001b[0moptions\u001b[0m\u001b[1;33m)\u001b[0m\u001b[1;33m\u001b[0m\u001b[0m\n\u001b[0m\u001b[0;32m   1015\u001b[0m         \u001b[1;32melse\u001b[0m\u001b[1;33m:\u001b[0m\u001b[1;33m\u001b[0m\u001b[0m\n\u001b[0;32m   1016\u001b[0m             \u001b[1;32mif\u001b[0m \u001b[0mengine\u001b[0m \u001b[1;33m==\u001b[0m \u001b[1;34m'python'\u001b[0m\u001b[1;33m:\u001b[0m\u001b[1;33m\u001b[0m\u001b[0m\n",
      "\u001b[1;32mC:\\Anaconda2\\envs\\python3\\lib\\site-packages\\pandas\\io\\parsers.py\u001b[0m in \u001b[0;36m__init__\u001b[1;34m(self, src, **kwds)\u001b[0m\n\u001b[0;32m   1706\u001b[0m         \u001b[0mkwds\u001b[0m\u001b[1;33m[\u001b[0m\u001b[1;34m'usecols'\u001b[0m\u001b[1;33m]\u001b[0m \u001b[1;33m=\u001b[0m \u001b[0mself\u001b[0m\u001b[1;33m.\u001b[0m\u001b[0musecols\u001b[0m\u001b[1;33m\u001b[0m\u001b[0m\n\u001b[0;32m   1707\u001b[0m \u001b[1;33m\u001b[0m\u001b[0m\n\u001b[1;32m-> 1708\u001b[1;33m         \u001b[0mself\u001b[0m\u001b[1;33m.\u001b[0m\u001b[0m_reader\u001b[0m \u001b[1;33m=\u001b[0m \u001b[0mparsers\u001b[0m\u001b[1;33m.\u001b[0m\u001b[0mTextReader\u001b[0m\u001b[1;33m(\u001b[0m\u001b[0msrc\u001b[0m\u001b[1;33m,\u001b[0m \u001b[1;33m**\u001b[0m\u001b[0mkwds\u001b[0m\u001b[1;33m)\u001b[0m\u001b[1;33m\u001b[0m\u001b[0m\n\u001b[0m\u001b[0;32m   1709\u001b[0m \u001b[1;33m\u001b[0m\u001b[0m\n\u001b[0;32m   1710\u001b[0m         \u001b[0mpassed_names\u001b[0m \u001b[1;33m=\u001b[0m \u001b[0mself\u001b[0m\u001b[1;33m.\u001b[0m\u001b[0mnames\u001b[0m \u001b[1;32mis\u001b[0m \u001b[1;32mNone\u001b[0m\u001b[1;33m\u001b[0m\u001b[0m\n",
      "\u001b[1;32mpandas\\_libs\\parsers.pyx\u001b[0m in \u001b[0;36mpandas._libs.parsers.TextReader.__cinit__\u001b[1;34m()\u001b[0m\n",
      "\u001b[1;32mpandas\\_libs\\parsers.pyx\u001b[0m in \u001b[0;36mpandas._libs.parsers.TextReader._setup_parser_source\u001b[1;34m()\u001b[0m\n",
      "\u001b[1;31mFileNotFoundError\u001b[0m: File b'./result/submission-025-keras01.csv' does not exist"
     ]
    }
   ],
   "source": [
    "sub025 = pd.read_csv(\"./result/submission-025-keras01.csv\")\n",
    "\n",
    "pred_sample[\"TARGET\"] = pred_sample.TARGET * 0.5 + sub025.TARGET * 0.5\n",
    "pred_sample.to_csv(\"./result/submission-040-keras01-avg-025.csv\", index=False)"
   ]
  },
  {
   "cell_type": "markdown",
   "metadata": {},
   "source": [
    "## average submission"
   ]
  },
  {
   "cell_type": "code",
   "execution_count": 25,
   "metadata": {},
   "outputs": [],
   "source": [
    "pred_lgb024 = pd.read_csv(\"./result/submission-024-first.csv\")\n",
    "pred_keras025 = pd.read_csv(\"./result/submission-025-keras01.csv\")\n",
    "pred_bld = pd.read_csv(\"./result/submission-022-blend08.csv\")\n",
    "pred_keras_avg = pd.read_csv(\"./result/submission-030-keras01-avg-025.csv\")"
   ]
  },
  {
   "cell_type": "code",
   "execution_count": 27,
   "metadata": {},
   "outputs": [],
   "source": [
    "pred_sample[\"TARGET\"] = calculate_rank(pred_lgb024.TARGET) * 0.8 + calculate_rank(pred_bld.TARGET) * 0.15 + calculate_rank(pred_keras_avg.TARGET) * 0.05\n",
    "pred_sample.to_csv(\"./result/submission-030-bld-to-overfit.csv\", index=False)"
   ]
  },
  {
   "cell_type": "code",
   "execution_count": 6,
   "metadata": {},
   "outputs": [
    {
     "data": {
      "text/html": [
       "<div>\n",
       "<style scoped>\n",
       "    .dataframe tbody tr th:only-of-type {\n",
       "        vertical-align: middle;\n",
       "    }\n",
       "\n",
       "    .dataframe tbody tr th {\n",
       "        vertical-align: top;\n",
       "    }\n",
       "\n",
       "    .dataframe thead th {\n",
       "        text-align: right;\n",
       "    }\n",
       "</style>\n",
       "<table border=\"1\" class=\"dataframe\">\n",
       "  <thead>\n",
       "    <tr style=\"text-align: right;\">\n",
       "      <th></th>\n",
       "      <th>SK_ID_CURR</th>\n",
       "      <th>TARGET</th>\n",
       "    </tr>\n",
       "  </thead>\n",
       "  <tbody>\n",
       "    <tr>\n",
       "      <th>0</th>\n",
       "      <td>100001</td>\n",
       "      <td>0.465416</td>\n",
       "    </tr>\n",
       "    <tr>\n",
       "      <th>1</th>\n",
       "      <td>100005</td>\n",
       "      <td>0.833949</td>\n",
       "    </tr>\n",
       "    <tr>\n",
       "      <th>2</th>\n",
       "      <td>100013</td>\n",
       "      <td>0.330790</td>\n",
       "    </tr>\n",
       "    <tr>\n",
       "      <th>3</th>\n",
       "      <td>100028</td>\n",
       "      <td>0.464483</td>\n",
       "    </tr>\n",
       "    <tr>\n",
       "      <th>4</th>\n",
       "      <td>100038</td>\n",
       "      <td>0.861296</td>\n",
       "    </tr>\n",
       "  </tbody>\n",
       "</table>\n",
       "</div>"
      ],
      "text/plain": [
       "   SK_ID_CURR    TARGET\n",
       "0      100001  0.465416\n",
       "1      100005  0.833949\n",
       "2      100013  0.330790\n",
       "3      100028  0.464483\n",
       "4      100038  0.861296"
      ]
     },
     "execution_count": 6,
     "metadata": {},
     "output_type": "execute_result"
    }
   ],
   "source": [
    "pred_lgb024 = pd.read_csv(\"./result/submission-024-first.csv\")\n",
    "pred_keras025 = pd.read_csv(\"./result/submission-025-keras01.csv\")\n",
    "\n",
    "pred_lgb024[\"TARGET\"] = pred_lgb024.TARGET * 0.88 + pred_keras025.TARGET * .12\n",
    "\n",
    "pred_lgb024.to_csv(\"./result/submission-025-avg-l88k12.csv\", index=False)\n",
    "\n",
    "pred_lgb024.head()"
   ]
  },
  {
   "cell_type": "code",
   "execution_count": 103,
   "metadata": {},
   "outputs": [],
   "source": [
    "def show_oof_auc(oof_df, p_col):\n",
    "    auc_valid_stack = []\n",
    "    for i in range(5):\n",
    "        train_idx_fn = \"./neptune-features/train_idx_{}.npy\".format(i)\n",
    "        valid_idx_fn = \"./neptune-features/valid_idx_{}.npy\".format(i)\n",
    "\n",
    "        train_offset, valid_offset, test_offset = i * 4, i * 4 + 1, i * 4 + 3\n",
    "\n",
    "        train_data_fn = \"./neptune-features/data_246009_1174_{}\".format(train_offset)\n",
    "        valid_data_fn = \"./neptune-features/data_61502_1174_{}\".format(valid_offset)\n",
    "        test_data_fn = \"./neptune-features/data_48744_1174_{}\".format(test_offset)\n",
    "\n",
    "        if i == 0:\n",
    "            train_data_fn = train_data_fn.replace(\"246009\", \"246008\")\n",
    "            valid_data_fn = valid_data_fn.replace(\"61502\", \"61503\")\n",
    "\n",
    "        gc.collect()\n",
    "\n",
    "        train_idx = np.load(train_idx_fn)\n",
    "        valid_idx = np.load(valid_idx_fn)\n",
    "\n",
    "        fold_data = oof_df.loc[valid_idx]\n",
    "        fold_target = fold_data.TARGET\n",
    "        fold_pred = fold_data[p_col]\n",
    "\n",
    "        auc = roc_auc_score(fold_target, fold_pred)\n",
    "        auc_valid_stack.append(auc)\n",
    "        print(\"fold-{},auc:{}\".format(i, auc))\n",
    "\n",
    "    print(\"kfold-auc, avg:{:.4}, std:{:.2}\".format(np.mean(auc_valid_stack), np.std(auc_valid_stack)))"
   ]
  },
  {
   "cell_type": "code",
   "execution_count": 105,
   "metadata": {},
   "outputs": [
    {
     "data": {
      "text/html": [
       "<div>\n",
       "<style scoped>\n",
       "    .dataframe tbody tr th:only-of-type {\n",
       "        vertical-align: middle;\n",
       "    }\n",
       "\n",
       "    .dataframe tbody tr th {\n",
       "        vertical-align: top;\n",
       "    }\n",
       "\n",
       "    .dataframe thead th {\n",
       "        text-align: right;\n",
       "    }\n",
       "</style>\n",
       "<table border=\"1\" class=\"dataframe\">\n",
       "  <thead>\n",
       "    <tr style=\"text-align: right;\">\n",
       "      <th></th>\n",
       "      <th>SK_ID_CURR</th>\n",
       "      <th>oof_pred</th>\n",
       "      <th>oof_keras</th>\n",
       "      <th>TARGET</th>\n",
       "      <th>mix_55</th>\n",
       "    </tr>\n",
       "  </thead>\n",
       "  <tbody>\n",
       "    <tr>\n",
       "      <th>0</th>\n",
       "      <td>100002</td>\n",
       "      <td>0.316064</td>\n",
       "      <td>0.278892</td>\n",
       "      <td>1.0</td>\n",
       "      <td>0.297478</td>\n",
       "    </tr>\n",
       "    <tr>\n",
       "      <th>1</th>\n",
       "      <td>100003</td>\n",
       "      <td>0.019087</td>\n",
       "      <td>0.015010</td>\n",
       "      <td>0.0</td>\n",
       "      <td>0.017049</td>\n",
       "    </tr>\n",
       "    <tr>\n",
       "      <th>2</th>\n",
       "      <td>100004</td>\n",
       "      <td>0.041876</td>\n",
       "      <td>0.067596</td>\n",
       "      <td>0.0</td>\n",
       "      <td>0.054736</td>\n",
       "    </tr>\n",
       "    <tr>\n",
       "      <th>3</th>\n",
       "      <td>100006</td>\n",
       "      <td>0.033489</td>\n",
       "      <td>0.043004</td>\n",
       "      <td>0.0</td>\n",
       "      <td>0.038246</td>\n",
       "    </tr>\n",
       "    <tr>\n",
       "      <th>4</th>\n",
       "      <td>100007</td>\n",
       "      <td>0.040865</td>\n",
       "      <td>0.076490</td>\n",
       "      <td>0.0</td>\n",
       "      <td>0.058677</td>\n",
       "    </tr>\n",
       "  </tbody>\n",
       "</table>\n",
       "</div>"
      ],
      "text/plain": [
       "   SK_ID_CURR  oof_pred  oof_keras  TARGET    mix_55\n",
       "0      100002  0.316064   0.278892     1.0  0.297478\n",
       "1      100003  0.019087   0.015010     0.0  0.017049\n",
       "2      100004  0.041876   0.067596     0.0  0.054736\n",
       "3      100006  0.033489   0.043004     0.0  0.038246\n",
       "4      100007  0.040865   0.076490     0.0  0.058677"
      ]
     },
     "execution_count": 105,
     "metadata": {},
     "output_type": "execute_result"
    }
   ],
   "source": [
    "oof_lgb024 = pd.read_csv(\"./oof-result/oof-024-first.csv\")\n",
    "oof_lgb024[\"oof_keras\"] = oof_pred\n",
    "oof_lgb024[\"TARGET\"] = train_app.TARGET\n",
    "\n",
    "oof_lgb024[\"mix_55\"] = oof_lgb024.oof_keras * .5 + oof_lgb024.oof_pred * .5\n",
    "\n",
    "oof_lgb024.head()"
   ]
  },
  {
   "cell_type": "code",
   "execution_count": 104,
   "metadata": {},
   "outputs": [
    {
     "name": "stdout",
     "output_type": "stream",
     "text": [
      "fold-0,auc:0.7986498079146619\n",
      "fold-1,auc:0.7926606538676264\n",
      "fold-2,auc:0.7933782903017764\n",
      "fold-3,auc:0.7949564349672997\n",
      "fold-4,auc:0.7930097947068893\n",
      "kfold-auc, avg:0.7945, std:0.0022\n",
      "fold-0,auc:0.7866254609675846\n",
      "fold-1,auc:0.7801398565450309\n",
      "fold-2,auc:0.7802676912681713\n",
      "fold-3,auc:0.7838391816098259\n",
      "fold-4,auc:0.7811900203631054\n",
      "kfold-auc, avg:0.7824, std:0.0025\n"
     ]
    }
   ],
   "source": [
    "show_oof_auc(oof_lgb024, \"oof_pred\")\n",
    "show_oof_auc(oof_lgb024, \"oof_keras\")"
   ]
  },
  {
   "cell_type": "code",
   "execution_count": 106,
   "metadata": {},
   "outputs": [
    {
     "name": "stdout",
     "output_type": "stream",
     "text": [
      "fold-0,auc:0.797128475507405\n",
      "fold-1,auc:0.7909159578428271\n",
      "fold-2,auc:0.7913739384564014\n",
      "fold-3,auc:0.79354063441526\n",
      "fold-4,auc:0.7917407133910702\n",
      "kfold-auc, avg:0.7929, std:0.0023\n"
     ]
    }
   ],
   "source": [
    "show_oof_auc(oof_lgb024, \"mix_55\")"
   ]
  },
  {
   "cell_type": "code",
   "execution_count": 107,
   "metadata": {},
   "outputs": [
    {
     "name": "stdout",
     "output_type": "stream",
     "text": [
      "fold-0,auc:0.7988254724598242\n",
      "fold-1,auc:0.7927662731929991\n",
      "fold-2,auc:0.793314942931169\n",
      "fold-3,auc:0.795134204461209\n",
      "fold-4,auc:0.7932680469247197\n",
      "kfold-auc, avg:0.7947, std:0.0022\n"
     ]
    }
   ],
   "source": [
    "oof_lgb024[\"mix_13\"] = oof_lgb024.oof_keras * .25 + oof_lgb024.oof_pred * .75\n",
    "show_oof_auc(oof_lgb024, \"mix_13\")"
   ]
  },
  {
   "cell_type": "code",
   "execution_count": 108,
   "metadata": {},
   "outputs": [
    {
     "name": "stdout",
     "output_type": "stream",
     "text": [
      "fold-0,auc:0.7988938381041268\n",
      "fold-1,auc:0.7928513942183786\n",
      "fold-2,auc:0.7934184461650928\n",
      "fold-3,auc:0.7952020155735425\n",
      "fold-4,auc:0.793326499497936\n",
      "kfold-auc, avg:0.7947, std:0.0022\n"
     ]
    }
   ],
   "source": [
    "oof_lgb024[\"mix_14\"] = oof_lgb024.oof_keras * .2 + oof_lgb024.oof_pred * .7\n",
    "show_oof_auc(oof_lgb024, \"mix_14\")"
   ]
  },
  {
   "cell_type": "code",
   "execution_count": 116,
   "metadata": {},
   "outputs": [],
   "source": [
    "def rank_avg_and_show_oof_auc(oof_df, weight=.5):\n",
    "    auc_valid_stack = []\n",
    "    for i in range(5):\n",
    "        train_idx_fn = \"./neptune-features/train_idx_{}.npy\".format(i)\n",
    "        valid_idx_fn = \"./neptune-features/valid_idx_{}.npy\".format(i)\n",
    "\n",
    "        train_offset, valid_offset, test_offset = i * 4, i * 4 + 1, i * 4 + 3\n",
    "\n",
    "        train_data_fn = \"./neptune-features/data_246009_1174_{}\".format(train_offset)\n",
    "        valid_data_fn = \"./neptune-features/data_61502_1174_{}\".format(valid_offset)\n",
    "        test_data_fn = \"./neptune-features/data_48744_1174_{}\".format(test_offset)\n",
    "\n",
    "        if i == 0:\n",
    "            train_data_fn = train_data_fn.replace(\"246009\", \"246008\")\n",
    "            valid_data_fn = valid_data_fn.replace(\"61502\", \"61503\")\n",
    "\n",
    "        gc.collect()\n",
    "\n",
    "        train_idx = np.load(train_idx_fn)\n",
    "        valid_idx = np.load(valid_idx_fn)\n",
    "\n",
    "        fold_data = oof_df.loc[valid_idx]\n",
    "        fold_target = fold_data.TARGET\n",
    "        fold_lgbpred = fold_data[\"oof_pred\"].values\n",
    "        fold_keraspred = fold_data[\"oof_keras\"].values\n",
    "        \n",
    "        fold_pred = calculate_rank(fold_lgbpred) * (1 - weight) + calculate_rank(fold_keraspred) * weight\n",
    "\n",
    "        auc = roc_auc_score(fold_target, fold_pred)\n",
    "        auc_valid_stack.append(auc)\n",
    "        print(\"fold-{},auc:{}\".format(i, auc))\n",
    "\n",
    "    print(\"kfold-auc, avg:{:.6}, std:{:.2}\".format(np.mean(auc_valid_stack), np.std(auc_valid_stack)))"
   ]
  },
  {
   "cell_type": "code",
   "execution_count": 113,
   "metadata": {},
   "outputs": [
    {
     "name": "stdout",
     "output_type": "stream",
     "text": [
      "fold-0,auc:0.7966623006131177\n",
      "fold-1,auc:0.7905569935655681\n",
      "fold-2,auc:0.7908674106438083\n",
      "fold-3,auc:0.7933767157017423\n",
      "fold-4,auc:0.7912624410992268\n",
      "kfold-auc, avg:0.7925, std:0.0023\n"
     ]
    }
   ],
   "source": [
    "rank_avg_and_show_oof_auc(oof_lgb024)"
   ]
  },
  {
   "cell_type": "code",
   "execution_count": 114,
   "metadata": {},
   "outputs": [
    {
     "name": "stdout",
     "output_type": "stream",
     "text": [
      "keras weight 0.1\n",
      "fold-0,auc:0.7989409808665611\n",
      "fold-1,auc:0.7929442974016195\n",
      "fold-2,auc:0.7935597095190682\n",
      "fold-3,auc:0.7953012563437991\n",
      "fold-4,auc:0.7933659482162142\n",
      "kfold-auc, avg:0.7948, std:0.0022\n",
      "keras weight 0.2\n",
      "fold-0,auc:0.7988859171510703\n",
      "fold-1,auc:0.792863095064108\n",
      "fold-2,auc:0.7933939418973657\n",
      "fold-3,auc:0.7953129322524238\n",
      "fold-4,auc:0.793361721376982\n",
      "kfold-auc, avg:0.7948, std:0.0022\n",
      "keras weight 0.3\n",
      "fold-0,auc:0.7984707769199209\n",
      "fold-1,auc:0.7924290291338589\n",
      "fold-2,auc:0.7928850664344951\n",
      "fold-3,auc:0.7949932546022629\n",
      "fold-4,auc:0.793004413635958\n",
      "kfold-auc, avg:0.7944, std:0.0022\n",
      "keras weight 0.4\n",
      "fold-0,auc:0.797730717306333\n",
      "fold-1,auc:0.7916600632323038\n",
      "fold-2,auc:0.7920370552549774\n",
      "fold-3,auc:0.7943449005696187\n",
      "fold-4,auc:0.7923032641904014\n",
      "kfold-auc, avg:0.7936, std:0.0023\n"
     ]
    }
   ],
   "source": [
    "for w_ in (.1, .2, .3, .4):\n",
    "    print(\"keras weight\", w_)\n",
    "    rank_avg_and_show_oof_auc(oof_lgb024, w_)"
   ]
  },
  {
   "cell_type": "code",
   "execution_count": 118,
   "metadata": {},
   "outputs": [
    {
     "name": "stdout",
     "output_type": "stream",
     "text": [
      "keras weight 0.11\n",
      "fold-0,auc:0.7989533156090654\n",
      "fold-1,auc:0.7929536986900592\n",
      "fold-2,auc:0.7935594369921393\n",
      "fold-3,auc:0.7953181797317235\n",
      "fold-4,auc:0.7933825420781133\n",
      "kfold-auc, avg:0.794833, std:0.0022\n",
      "keras weight 0.12\n",
      "fold-0,auc:0.79895953552543\n",
      "fold-1,auc:0.7929578453743122\n",
      "fold-2,auc:0.7935555770845892\n",
      "fold-3,auc:0.7953304256313108\n",
      "fold-4,auc:0.7933967170408649\n",
      "kfold-auc, avg:0.79484, std:0.0022\n",
      "keras weight 0.13\n",
      "fold-0,auc:0.7989660226203325\n",
      "fold-1,auc:0.792957074105291\n",
      "fold-2,auc:0.7935487763799165\n",
      "fold-3,auc:0.7953402633190813\n",
      "fold-4,auc:0.793404169672701\n",
      "kfold-auc, avg:0.794843, std:0.0022\n",
      "keras weight 0.14\n",
      "fold-0,auc:0.7989630320018972\n",
      "fold-1,auc:0.7929555956912318\n",
      "fold-2,auc:0.7935387926319619\n",
      "fold-3,auc:0.7953457067327742\n",
      "fold-4,auc:0.7934040503308433\n",
      "kfold-auc, avg:0.794841, std:0.0022\n",
      "keras weight 0.15\n",
      "fold-0,auc:0.7989596815830308\n",
      "fold-1,auc:0.7929481715589437\n",
      "fold-2,auc:0.7935228008230171\n",
      "fold-3,auc:0.7953504928756383\n",
      "fold-4,auc:0.7934085942275484\n",
      "kfold-auc, avg:0.794838, std:0.0022\n",
      "keras weight 0.16\n",
      "fold-0,auc:0.7989530199314833\n",
      "fold-1,auc:0.7929370389229551\n",
      "fold-2,auc:0.7935009060451657\n",
      "fold-3,auc:0.7953482556611102\n",
      "fold-4,auc:0.7934074738390624\n",
      "kfold-auc, avg:0.794829, std:0.0022\n",
      "keras weight 0.17\n",
      "fold-0,auc:0.7989414279453149\n",
      "fold-1,auc:0.7929242141262962\n",
      "fold-2,auc:0.7934788135516989\n",
      "fold-3,auc:0.7953459008859459\n",
      "fold-4,auc:0.7934056035562164\n",
      "kfold-auc, avg:0.794819, std:0.0022\n",
      "keras weight 0.18\n",
      "fold-0,auc:0.7989263109836349\n",
      "fold-1,auc:0.792908268629117\n",
      "fold-2,auc:0.7934545675611268\n",
      "fold-3,auc:0.795339800201424\n",
      "fold-4,auc:0.7933953882494333\n",
      "kfold-auc, avg:0.794805, std:0.0022\n",
      "keras weight 0.19\n",
      "fold-0,auc:0.7989094448931262\n",
      "fold-1,auc:0.7928864255066965\n",
      "fold-2,auc:0.7934252629007613\n",
      "fold-3,auc:0.7953271303710583\n",
      "fold-4,auc:0.7933780195560693\n",
      "kfold-auc, avg:0.794785, std:0.0022\n",
      "keras weight 0.2\n",
      "fold-0,auc:0.7988859171510703\n",
      "fold-1,auc:0.792863095064108\n",
      "fold-2,auc:0.7933939418973657\n",
      "fold-3,auc:0.7953129322524238\n",
      "fold-4,auc:0.793361721376982\n",
      "kfold-auc, avg:0.794764, std:0.0022\n"
     ]
    }
   ],
   "source": [
    "for w_ in (.11, .12, .13, .14, .15, .16, .17, .18, .19, .2):\n",
    "    print(\"keras weight\", w_)\n",
    "    rank_avg_and_show_oof_auc(oof_lgb024, w_)"
   ]
  }
 ],
 "metadata": {
  "anaconda-cloud": {},
  "kernelspec": {
   "display_name": "Python [conda env:python3]",
   "language": "python",
   "name": "conda-env-python3-py"
  },
  "language_info": {
   "codemirror_mode": {
    "name": "ipython",
    "version": 3
   },
   "file_extension": ".py",
   "mimetype": "text/x-python",
   "name": "python",
   "nbconvert_exporter": "python",
   "pygments_lexer": "ipython3",
   "version": "3.6.6"
  },
  "toc": {
   "nav_menu": {
    "height": "49px",
    "width": "252px"
   },
   "navigate_menu": true,
   "number_sections": true,
   "sideBar": true,
   "threshold": 4,
   "toc_cell": false,
   "toc_position": {
    "height": "699px",
    "left": "0px",
    "right": "1469.11px",
    "top": "135px",
    "width": "212px"
   },
   "toc_section_display": "block",
   "toc_window_display": true
  }
 },
 "nbformat": 4,
 "nbformat_minor": 2
}
