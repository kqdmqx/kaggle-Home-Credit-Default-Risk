{
 "cells": [
  {
   "cell_type": "code",
   "execution_count": 1,
   "metadata": {},
   "outputs": [],
   "source": [
    "import pandas as pd\n",
    "import numpy as np\n",
    "\n",
    "from sklearn.metrics import roc_auc_score, precision_recall_curve, roc_curve, average_precision_score\n",
    "from sklearn.model_selection import KFold\n",
    "from sklearn.datasets import load_iris\n",
    "from lightgbm import LGBMClassifier\n",
    "\n",
    "import matplotlib.pyplot as plt\n",
    "import seaborn as sns\n",
    "import gc\n",
    "import os\n",
    "import sys"
   ]
  },
  {
   "cell_type": "code",
   "execution_count": 80,
   "metadata": {},
   "outputs": [],
   "source": [
    "import warnings\n",
    "warnings.filterwarnings(\"ignore\")"
   ]
  },
  {
   "cell_type": "code",
   "execution_count": 2,
   "metadata": {},
   "outputs": [
    {
     "name": "stdout",
     "output_type": "stream",
     "text": [
      "(150, 4)\n",
      "(150,)\n",
      "['setosa' 'versicolor' 'virginica']\n"
     ]
    }
   ],
   "source": [
    "data = load_iris()\n",
    "X = data.data[data.target < 2].copy()\n",
    "y = data.target[data.target < 2].copy()\n",
    "print(data.data.shape)\n",
    "print(data.target.shape)\n",
    "print(data.target_names)"
   ]
  },
  {
   "cell_type": "code",
   "execution_count": 3,
   "metadata": {},
   "outputs": [],
   "source": [
    "np.random.seed(0)\n",
    "order = np.arange(len(y))\n",
    "np.random.shuffle(order)"
   ]
  },
  {
   "cell_type": "code",
   "execution_count": 4,
   "metadata": {},
   "outputs": [],
   "source": [
    "def save_dataframe(path, dataframe):\n",
    "    np.save(path + \".data\", dataframe.values)\n",
    "    np.save(path + \".header\", dataframe.columns)\n",
    "    \n",
    "def load_dataframe(path):\n",
    "    data = np.load(path + \".data.npy\")\n",
    "    header = np.load(path + \".header.npy\")\n",
    "    return pd.DataFrame(data=data, columns=header)\n",
    "\n",
    "def save_dataframe32(path, dataframe, keep=[]):\n",
    "    col64 = [col_ for col_ in dataframe.columns if col_ in keep]\n",
    "    col32 = [col_ for col_ in dataframe.columns if col_ not in keep]\n",
    "    dataframe64 = dataframe[col64]\n",
    "    dataframe32 = dataframe[col32]\n",
    "    np.save(path + \".data64\", dataframe64.values)\n",
    "    np.save(path + \".header64\", col64)\n",
    "    np.save(path + \".data32\", dataframe32.values.astype(np.float32))\n",
    "    np.save(path + \".header32\", col32)\n",
    "\n",
    "def load_dataframe32(path):\n",
    "    path_data32 = path + \".data32.npy\"\n",
    "    path_header32 = path + \".header32.npy\"\n",
    "    path_data64 = path + \".data64.npy\"\n",
    "    path_header64 = path + \".header64.npy\"\n",
    "    result = pd.DataFrame()\n",
    "    if os.path.exists(path_data32):\n",
    "        data32 = np.load(path_data32)\n",
    "        header32 = np.load(path_header32)\n",
    "        df32 = pd.DataFrame(data=data32, columns=header32)\n",
    "        result = pd.concat([result, df32], axis=1)\n",
    "    if os.path.exists(path_data64):\n",
    "        data64 = np.load(path_data64)\n",
    "        header64 = np.load(path_header64)\n",
    "        df64 = pd.DataFrame(data=data64, columns=header64)\n",
    "        result = pd.concat([result, df64], axis=1)\n",
    "    return result"
   ]
  },
  {
   "cell_type": "markdown",
   "metadata": {},
   "source": [
    "## data"
   ]
  },
  {
   "cell_type": "code",
   "execution_count": 5,
   "metadata": {},
   "outputs": [],
   "source": [
    "data = load_dataframe32(\"./bindata/data_013\")\n",
    "data[\"SK_ID_CURR\"] = data.SK_ID_CURR.astype(\"int\")\n",
    "\n",
    "test = load_dataframe32(\"./bindata/test_013\")\n",
    "test[\"SK_ID_CURR\"] = test.SK_ID_CURR.astype(\"int\")\n",
    "\n",
    "y = load_dataframe32(\"./bindata/y_013\")\n",
    "y[\"SK_ID_CURR\"] = y.SK_ID_CURR.astype(\"int\")"
   ]
  },
  {
   "cell_type": "code",
   "execution_count": 6,
   "metadata": {},
   "outputs": [],
   "source": [
    "data_train = data[data.SK_ID_CURR < 130000]\n",
    "data_val = data[(data.SK_ID_CURR >= 130000) & (data.SK_ID_CURR < 150000)]\n",
    "\n",
    "ydata_train = y[y.SK_ID_CURR < 130000]\n",
    "ydata_val = y[(y.SK_ID_CURR >= 130000) & (y.SK_ID_CURR < 150000)]"
   ]
  },
  {
   "cell_type": "code",
   "execution_count": 7,
   "metadata": {},
   "outputs": [],
   "source": [
    "for source_name in (\n",
    "    \"buro_wide_013\",\n",
    "    \"buro_full_wide_013\",\n",
    "    \"pos_bal_wide_013\",\n",
    "    \"cc_bal_wide_013\",\n",
    "    \"buro_bal_timestep1_013\",\n",
    "    \"buro_bal_timestep2_013\",\n",
    "    \"pos_bal_timestep1_013\",\n",
    "    \"pos_bal_timestep2_013\",\n",
    "    \"cc_bal_timestep1_013\",\n",
    "    \"cc_bal_timestep2_013\"\n",
    "):\n",
    "    target_name = \"./bindata/\" + source_name + \"_nmf5\"\n",
    "    nmf_data = load_dataframe32(target_name)\n",
    "    nmf_data[\"SK_ID_CURR\"] = nmf_data.SK_ID_CURR.astype(\"int\")\n",
    "    nmf_data.columns = [\"{}_{}\".format(source_name, col_) if col_ != \"SK_ID_CURR\" else col_ for col_ in nmf_data.columns]\n",
    "    data_train = data_train.merge(right=nmf_data, how=\"left\", on=\"SK_ID_CURR\")\n",
    "    data_val = data_val.merge(right=nmf_data, how=\"left\", on=\"SK_ID_CURR\")\n",
    "    del nmf_data\n",
    "    gc.collect()\n",
    "\n",
    "buro_wide = load_dataframe32(\"./bindata/buro_wide_013\")\n",
    "buro_full_wide = load_dataframe32(\"./bindata/buro_full_wide_013\")\n",
    "pos_bal_wide = load_dataframe32(\"./bindata/pos_bal_wide_013\")\n",
    "cc_bal_wide = load_dataframe32(\"./bindata/cc_bal_wide_013\")\n",
    "\n",
    "buro_wide[\"SK_ID_CURR\"] = buro_wide.SK_ID_CURR.astype(\"int\")\n",
    "buro_full_wide[\"SK_ID_CURR\"] = buro_full_wide.SK_ID_CURR.astype(\"int\")\n",
    "pos_bal_wide[\"SK_ID_CURR\"] = pos_bal_wide.SK_ID_CURR.astype(\"int\")\n",
    "cc_bal_wide[\"SK_ID_CURR\"] = cc_bal_wide.SK_ID_CURR.astype(\"int\")\n",
    "\n",
    "for wi, data_ in enumerate((buro_wide, buro_full_wide, pos_bal_wide, cc_bal_wide)):\n",
    "    # data_.columns = [\"w{}_{}\".format(wi, col_) for col_ in data_.columns]\n",
    "    data_train = data_train.merge(right=data_, how=\"left\", on=\"SK_ID_CURR\")\n",
    "    data_val = data_val.merge(right=data_, how=\"left\", on=\"SK_ID_CURR\")\n",
    "    del data_\n",
    "    gc.collect()\n",
    "\n",
    "for name in (\n",
    "    \"./bindata/bureau_and_balance_015\",\n",
    "    \"./bindata/previous_applications_015\",\n",
    "    \"./bindata/pos_cash_015\",\n",
    "    \"./bindata/installments_payments_015\",\n",
    "    \"./bindata/credit_card_balance_015\",\n",
    "):\n",
    "    data_ = load_dataframe32(name)\n",
    "    data_[\"SK_ID_CURR\"] = data_.SK_ID_CURR.astype(\"int\")\n",
    "    data_train = data_train.merge(right=data_, how=\"left\", on=\"SK_ID_CURR\")\n",
    "    data_val = data_val.merge(right=data_, how=\"left\", on=\"SK_ID_CURR\")\n",
    "    del data_\n",
    "    gc.collect()"
   ]
  },
  {
   "cell_type": "code",
   "execution_count": 9,
   "metadata": {},
   "outputs": [
    {
     "data": {
      "text/plain": [
       "((25803, 2030), (17390, 2030))"
      ]
     },
     "execution_count": 9,
     "metadata": {},
     "output_type": "execute_result"
    }
   ],
   "source": [
    "data_train.shape, data_val.shape"
   ]
  },
  {
   "cell_type": "code",
   "execution_count": 10,
   "metadata": {},
   "outputs": [],
   "source": [
    "features_selected = list(np.load(\"./models/features-selected-016.npy\"))\n",
    "\n",
    "X_num_train = data_train[features_selected].values\n",
    "X_num_val = data_val[features_selected].values\n",
    "\n",
    "y_train = ydata_train.TARGET.values\n",
    "y_val = ydata_val.TARGET.values"
   ]
  },
  {
   "cell_type": "markdown",
   "metadata": {},
   "source": [
    "## bayesian optimization"
   ]
  },
  {
   "cell_type": "code",
   "execution_count": null,
   "metadata": {},
   "outputs": [],
   "source": [
    "xgb_params = {\n",
    "    \"objective\": \"binary:logistic\",\n",
    "    \"eval_metric\": \"auc\",\n",
    "    \"nthread\": 4,\n",
    "    \"eta\": 0.025,\n",
    "    \"max_depth\": 6,\n",
    "    \"min_child_weight\": 22,\n",
    "    \"gamma\": 0,\n",
    "    \"subsample\": 0.7,\n",
    "    \"colsample_bytree\": 0.7,\n",
    "    \"colsample_bylevel\": 0.7,\n",
    "    \"alpha\": 0,\n",
    "    \"lambda\": 0,\n",
    "    \"nrounds\": 2000\n",
    "}"
   ]
  },
  {
   "cell_type": "code",
   "execution_count": 17,
   "metadata": {},
   "outputs": [],
   "source": [
    "import time"
   ]
  },
  {
   "cell_type": "code",
   "execution_count": 33,
   "metadata": {},
   "outputs": [],
   "source": [
    "import lightgbm as lgb\n",
    "\n",
    "train_data = lgb.Dataset(data=X_num_train, label=y_train)\n",
    "n_folds = 2\n",
    "random_seed = 0\n",
    "\n",
    "def target_function(num_leaves, feature_fraction, bagging_fraction, max_depth, lambda_l1, lambda_l2, min_split_gain, min_child_weight):\n",
    "    global train_data, nfolds, random_seed\n",
    "    params = {\n",
    "        # 'application':'binary',\n",
    "        # \"objective\": \"binary:logistic\",\n",
    "        \"objective\": \"binary\",\n",
    "        \"booster\": \"gbtree\",\n",
    "        'learning_rate':0.25,\n",
    "        'num_iterations': 100,\n",
    "        # 'early_stopping_round':10,\n",
    "        'metric':'auc',\n",
    "        \"nthread\": 4\n",
    "    }\n",
    "    params[\"num_leaves\"] = int(round(num_leaves))\n",
    "    params['feature_fraction'] = max(min(feature_fraction, 1), 0.1)\n",
    "    params['bagging_fraction'] = max(min(bagging_fraction, 1), 0.1)\n",
    "    params['max_depth'] = int(round(max_depth))\n",
    "    params['lambda_l1'] = max(lambda_l1, 0)\n",
    "    params['lambda_l2'] = max(lambda_l2, 0)\n",
    "    params['min_split_gain'] = min_split_gain\n",
    "    params['min_child_weight'] = min_child_weight\n",
    "    cv_result = lgb.cv(params, train_data, nfold=n_folds, seed=random_seed, stratified=True, verbose_eval =200, metrics=['auc'])\n",
    "    return max(cv_result['auc-mean'])"
   ]
  },
  {
   "cell_type": "code",
   "execution_count": 34,
   "metadata": {},
   "outputs": [
    {
     "name": "stderr",
     "output_type": "stream",
     "text": [
      "C:\\Anaconda2\\envs\\python3\\lib\\site-packages\\lightgbm\\engine.py:394: UserWarning: Found `num_iterations` in params. Will use it instead of argument\n",
      "  warnings.warn(\"Found `{}` in params. Will use it instead of argument\".format(alias))\n"
     ]
    },
    {
     "name": "stdout",
     "output_type": "stream",
     "text": [
      "time: 0.17050975561141968\n",
      "cv-auc 0.7506218199383303\n"
     ]
    }
   ],
   "source": [
    "params = {\n",
    "    'num_leaves': 100,\n",
    "    'feature_fraction': 1.0,\n",
    "    'bagging_fraction': 1.0,\n",
    "    'max_depth': 3,\n",
    "    'lambda_l1': 0,\n",
    "    'lambda_l2': 0,\n",
    "    'min_split_gain': 0,\n",
    "    'min_child_weight': 10\n",
    "}\n",
    "\n",
    "\n",
    "a = time.time()\n",
    "cv_auc = target_function(**params)\n",
    "b = time.time()\n",
    "\n",
    "print(\"time:\", (b - a) / 60)\n",
    "print(\"cv-auc\", cv_auc)"
   ]
  },
  {
   "cell_type": "markdown",
   "metadata": {},
   "source": [
    "1. 0.7265729959591269"
   ]
  },
  {
   "cell_type": "code",
   "execution_count": 27,
   "metadata": {},
   "outputs": [],
   "source": [
    "from bayes_opt import BayesianOptimization"
   ]
  },
  {
   "cell_type": "code",
   "execution_count": 35,
   "metadata": {},
   "outputs": [],
   "source": [
    "lgbBO = BayesianOptimization(\n",
    "    target_function,\n",
    "    {\n",
    "        'num_leaves': (26, 40),\n",
    "        'feature_fraction': (.1, .9),\n",
    "        'bagging_fraction': (.6, .9),\n",
    "        'max_depth': (5, 8.99),\n",
    "        'lambda_l1': (0, 5),\n",
    "        'lambda_l2': (0, 3),\n",
    "        'min_split_gain': (0.001, 0.1),\n",
    "        'min_child_weight': (30, 45)\n",
    "    },\n",
    "    random_state=0)"
   ]
  },
  {
   "cell_type": "code",
   "execution_count": 36,
   "metadata": {},
   "outputs": [
    {
     "name": "stdout",
     "output_type": "stream",
     "text": [
      "\u001b[31mInitialization\u001b[0m\n",
      "\u001b[94m------------------------------------------------------------------------------------------------------------------------------------------------------------------------\u001b[0m\n",
      " Step |   Time |      Value |   bagging_fraction |   feature_fraction |   lambda_l1 |   lambda_l2 |   max_depth |   min_child_weight |   min_split_gain |   num_leaves | \n"
     ]
    },
    {
     "name": "stderr",
     "output_type": "stream",
     "text": [
      "C:\\Anaconda2\\envs\\python3\\lib\\site-packages\\lightgbm\\engine.py:394: UserWarning: Found `num_iterations` in params. Will use it instead of argument\n",
      "  warnings.warn(\"Found `{}` in params. Will use it instead of argument\".format(alias))\n"
     ]
    },
    {
     "name": "stdout",
     "output_type": "stream",
     "text": [
      "    1 | 00m07s | \u001b[35m   0.75190\u001b[0m | \u001b[32m            0.8936\u001b[0m | \u001b[32m            0.7334\u001b[0m | \u001b[32m     1.7975\u001b[0m | \u001b[32m     1.7106\u001b[0m | \u001b[32m     6.0556\u001b[0m | \u001b[32m           44.6469\u001b[0m | \u001b[32m          0.0167\u001b[0m | \u001b[32m     33.6834\u001b[0m | \n",
      "    2 | 00m06s |    0.74842 |             0.8397 |             0.5231 |      2.1852 |      1.3158 |      8.0892 |            37.0298 |           0.0119 |      36.0127 | \n",
      "    3 | 00m07s |    0.74967 |             0.7384 |             0.5544 |      3.4882 |      2.9651 |      6.8200 |            44.6514 |           0.0660 |      34.4387 | \n",
      "    4 | 00m09s |    0.74692 |             0.8342 |             0.8405 |      0.3011 |      0.3061 |      7.2681 |            39.0727 |           0.0147 |      33.6284 | \n",
      "    5 | 00m02s | \u001b[35m   0.75202\u001b[0m | \u001b[32m            0.6355\u001b[0m | \u001b[32m            0.1568\u001b[0m | \u001b[32m     3.3338\u001b[0m | \u001b[32m     0.6266\u001b[0m | \u001b[32m     5.0750\u001b[0m | \u001b[32m           41.0890\u001b[0m | \u001b[32m          0.0205\u001b[0m | \u001b[32m     31.9312\u001b[0m | \n",
      "    6 | 00m02s |    0.74482 |             0.7920 |             0.1697 |      3.3532 |      0.4839 |      7.4644 |            30.5878 |           0.0375 |      35.0425 | \n",
      "    7 | 00m02s |    0.74066 |             0.6430 |             0.1162 |      1.0519 |      1.9593 |      7.4423 |            34.2421 |           0.0823 |      32.1262 | \n",
      "    8 | 00m11s |    0.74542 |             0.8834 |             0.7661 |      0.6446 |      0.7599 |      7.4616 |            31.8029 |           0.0106 |      38.4848 | \n",
      "    9 | 00m08s |    0.74828 |             0.7566 |             0.7225 |      1.5771 |      1.3989 |      8.7656 |            34.4421 |           0.0840 |      39.4913 | \n",
      "   10 | 00m09s |    0.74717 |             0.7244 |             0.7960 |      1.8186 |      0.7333 |      7.7205 |            31.7809 |           0.0105 |      31.3682 | \n"
     ]
    },
    {
     "name": "stderr",
     "output_type": "stream",
     "text": [
      "C:\\Anaconda2\\envs\\python3\\lib\\site-packages\\sklearn\\gaussian_process\\gpr.py:427: UserWarning: fmin_l_bfgs_b terminated abnormally with the  state: {'grad': array([-1.69977428e-05]), 'task': b'ABNORMAL_TERMINATION_IN_LNSRCH', 'funcalls': 53, 'nit': 5, 'warnflag': 2}\n",
      "  \" state: %s\" % convergence_dict)\n"
     ]
    },
    {
     "name": "stdout",
     "output_type": "stream",
     "text": [
      "\u001b[31mBayesian Optimization\u001b[0m\n",
      "\u001b[94m------------------------------------------------------------------------------------------------------------------------------------------------------------------------\u001b[0m\n",
      " Step |   Time |      Value |   bagging_fraction |   feature_fraction |   lambda_l1 |   lambda_l2 |   max_depth |   min_child_weight |   min_split_gain |   num_leaves | \n",
      "   11 | 00m34s |    0.74838 |             0.7750 |             0.8839 |      4.9597 |      1.8514 |      7.4590 |            44.2025 |           0.0979 |      26.0368 | \n"
     ]
    },
    {
     "name": "stderr",
     "output_type": "stream",
     "text": [
      "C:\\Anaconda2\\envs\\python3\\lib\\site-packages\\sklearn\\gaussian_process\\gpr.py:427: UserWarning: fmin_l_bfgs_b terminated abnormally with the  state: {'grad': array([0.00012877]), 'task': b'ABNORMAL_TERMINATION_IN_LNSRCH', 'funcalls': 50, 'nit': 4, 'warnflag': 2}\n",
      "  \" state: %s\" % convergence_dict)\n"
     ]
    },
    {
     "name": "stdout",
     "output_type": "stream",
     "text": [
      "   12 | 00m33s |    0.75172 |             0.7764 |             0.7606 |      4.8028 |      2.8394 |      5.3494 |            30.3744 |           0.0812 |      26.1987 | \n",
      "   13 | 00m31s |    0.74991 |             0.8319 |             0.4630 |      4.9079 |      0.8221 |      5.1966 |            44.8795 |           0.0262 |      39.7479 | \n"
     ]
    },
    {
     "name": "stderr",
     "output_type": "stream",
     "text": [
      "C:\\Anaconda2\\envs\\python3\\lib\\site-packages\\sklearn\\gaussian_process\\gpr.py:427: UserWarning: fmin_l_bfgs_b terminated abnormally with the  state: {'grad': array([1.06149396e-05]), 'task': b'ABNORMAL_TERMINATION_IN_LNSRCH', 'funcalls': 50, 'nit': 5, 'warnflag': 2}\n",
      "  \" state: %s\" % convergence_dict)\n"
     ]
    },
    {
     "name": "stdout",
     "output_type": "stream",
     "text": [
      "   14 | 00m34s |    0.75018 |             0.6068 |             0.8188 |      4.9146 |      2.8890 |      5.3408 |            32.5336 |           0.0461 |      38.7564 | \n",
      "   15 | 00m34s | \u001b[35m   0.75504\u001b[0m | \u001b[32m            0.8710\u001b[0m | \u001b[32m            0.8051\u001b[0m | \u001b[32m     4.9439\u001b[0m | \u001b[32m     2.8593\u001b[0m | \u001b[32m     5.0447\u001b[0m | \u001b[32m           38.8275\u001b[0m | \u001b[32m          0.0244\u001b[0m | \u001b[32m     29.2553\u001b[0m | \n",
      "   16 | 00m33s |    0.75105 |             0.7726 |             0.8836 |      4.8657 |      0.1743 |      5.4657 |            44.8334 |           0.0859 |      30.5309 | \n",
      "   17 | 00m35s |    0.75075 |             0.6170 |             0.8525 |      0.2448 |      2.4803 |      5.4194 |            44.7620 |           0.0269 |      39.8037 | \n",
      "   18 | 00m34s |    0.74892 |             0.8033 |             0.8602 |      4.1609 |      0.1756 |      5.0966 |            32.8387 |           0.0143 |      26.2914 | \n",
      "   19 | 00m36s |    0.74467 |             0.8375 |             0.7313 |      4.9974 |      1.8083 |      8.4780 |            30.4602 |           0.0447 |      26.2221 | \n"
     ]
    },
    {
     "name": "stderr",
     "output_type": "stream",
     "text": [
      "C:\\Anaconda2\\envs\\python3\\lib\\site-packages\\sklearn\\gaussian_process\\gpr.py:427: UserWarning: fmin_l_bfgs_b terminated abnormally with the  state: {'grad': array([1.15187649e-05]), 'task': b'ABNORMAL_TERMINATION_IN_LNSRCH', 'funcalls': 52, 'nit': 4, 'warnflag': 2}\n",
      "  \" state: %s\" % convergence_dict)\n"
     ]
    },
    {
     "name": "stdout",
     "output_type": "stream",
     "text": [
      "   20 | 00m30s |    0.74835 |             0.6313 |             0.2694 |      1.6007 |      2.8382 |      5.2202 |            44.9706 |           0.0623 |      26.0019 | \n",
      "   21 | 00m38s |    0.74873 |             0.6700 |             0.8477 |      3.6861 |      0.1391 |      5.1634 |            37.0188 |           0.0355 |      39.1558 | \n",
      "   22 | 00m40s |    0.75047 |             0.6402 |             0.8557 |      0.1872 |      0.4638 |      8.9235 |            44.6401 |           0.0336 |      39.9100 | \n"
     ]
    },
    {
     "name": "stderr",
     "output_type": "stream",
     "text": [
      "C:\\Anaconda2\\envs\\python3\\lib\\site-packages\\sklearn\\gaussian_process\\gpr.py:427: UserWarning: fmin_l_bfgs_b terminated abnormally with the  state: {'grad': array([-0.00018658]), 'task': b'ABNORMAL_TERMINATION_IN_LNSRCH', 'funcalls': 50, 'nit': 4, 'warnflag': 2}\n",
      "  \" state: %s\" % convergence_dict)\n"
     ]
    },
    {
     "name": "stdout",
     "output_type": "stream",
     "text": [
      "   23 | 00m39s |    0.75144 |             0.7079 |             0.8728 |      4.6294 |      1.7103 |      8.9336 |            30.4684 |           0.0396 |      39.6668 | \n"
     ]
    },
    {
     "name": "stderr",
     "output_type": "stream",
     "text": [
      "C:\\Anaconda2\\envs\\python3\\lib\\site-packages\\sklearn\\gaussian_process\\gpr.py:427: UserWarning: fmin_l_bfgs_b terminated abnormally with the  state: {'grad': array([-0.0004561]), 'task': b'ABNORMAL_TERMINATION_IN_LNSRCH', 'funcalls': 49, 'nit': 5, 'warnflag': 2}\n",
      "  \" state: %s\" % convergence_dict)\n"
     ]
    },
    {
     "name": "stdout",
     "output_type": "stream",
     "text": [
      "   24 | 00m36s |    0.75050 |             0.8810 |             0.8689 |      4.7556 |      1.9220 |      8.7747 |            42.2508 |           0.0198 |      39.4596 | \n",
      "   25 | 00m36s |    0.74903 |             0.6282 |             0.8027 |      4.8360 |      2.6954 |      5.0282 |            43.0933 |           0.0192 |      27.2422 | \n"
     ]
    },
    {
     "name": "stderr",
     "output_type": "stream",
     "text": [
      "C:\\Anaconda2\\envs\\python3\\lib\\site-packages\\sklearn\\gaussian_process\\gpr.py:427: UserWarning: fmin_l_bfgs_b terminated abnormally with the  state: {'grad': array([-1.89142302e-05]), 'task': b'ABNORMAL_TERMINATION_IN_LNSRCH', 'funcalls': 53, 'nit': 4, 'warnflag': 2}\n",
      "  \" state: %s\" % convergence_dict)\n"
     ]
    },
    {
     "name": "stdout",
     "output_type": "stream",
     "text": [
      "   26 | 00m37s |    0.75012 |             0.7765 |             0.8230 |      4.8760 |      2.9218 |      5.2426 |            30.5589 |           0.0978 |      30.9892 | \n",
      "   27 | 00m35s |    0.75070 |             0.6669 |             0.5026 |      0.2151 |      0.4161 |      8.8147 |            44.5976 |           0.0285 |      26.3898 | \n",
      "   28 | 00m37s |    0.74334 |             0.6911 |             0.7545 |      0.0230 |      2.7939 |      5.0359 |            30.5056 |           0.0012 |      26.8159 | \n",
      "   29 | 00m40s |    0.75045 |             0.7248 |             0.8766 |      4.2801 |      0.0903 |      8.9148 |            41.1738 |           0.0203 |      31.5343 | \n",
      "   30 | 00m37s |    0.75183 |             0.8797 |             0.7833 |      0.8308 |      0.0128 |      5.5074 |            42.9304 |           0.0806 |      26.1780 | \n"
     ]
    }
   ],
   "source": [
    "lgbBO.maximize(init_points=10, n_iter=20)"
   ]
  },
  {
   "cell_type": "code",
   "execution_count": 93,
   "metadata": {},
   "outputs": [
    {
     "data": {
      "image/png": "[encoded data removed]",
      "text/plain": [
       "<matplotlib.figure.Figure at 0x1a464390>"
      ]
     },
     "metadata": {},
     "output_type": "display_data"
    }
   ],
   "source": [
    "v_arr = lgbBO.res[\"all\"]['values']\n",
    "plt.plot(np.arange(len(v_arr)), v_arr)\n",
    "plt.show()"
   ]
  },
  {
   "cell_type": "markdown",
   "metadata": {},
   "source": [
    "## bayesian optimization  --sample"
   ]
  },
  {
   "cell_type": "code",
   "execution_count": 52,
   "metadata": {},
   "outputs": [],
   "source": [
    "import seaborn as sns"
   ]
  },
  {
   "cell_type": "code",
   "execution_count": 82,
   "metadata": {},
   "outputs": [],
   "source": [
    "def sample_function(a, b):\n",
    "    return - a * a - b * b\n",
    "\n",
    "sampleBO_0 = BayesianOptimization(sample_function, {\"a\": (-2, 2), \"b\": (-2, 2)}, random_state=0)"
   ]
  },
  {
   "cell_type": "markdown",
   "metadata": {},
   "source": [
    "### range 0"
   ]
  },
  {
   "cell_type": "code",
   "execution_count": 83,
   "metadata": {},
   "outputs": [
    {
     "name": "stdout",
     "output_type": "stream",
     "text": [
      "\u001b[31mInitialization\u001b[0m\n",
      "\u001b[94m-----------------------------------------------------\u001b[0m\n",
      " Step |   Time |      Value |         a |         b | \n",
      "    1 | 00m00s | \u001b[35m  -1.39978\u001b[0m | \u001b[32m   0.1953\u001b[0m | \u001b[32m   1.1669\u001b[0m | \n",
      "    2 | 00m00s | \u001b[35m  -0.75426\u001b[0m | \u001b[32m   0.8608\u001b[0m | \u001b[32m   0.1156\u001b[0m | \n",
      "    3 | 00m00s | \u001b[35m  -0.24305\u001b[0m | \u001b[32m   0.4111\u001b[0m | \u001b[32m   0.2722\u001b[0m | \n",
      "    4 | 00m00s |   -2.93035 |    0.1795 |    1.7024 | \n",
      "    5 | 00m00s |   -3.03742 |   -0.3054 |   -1.7159 | \n",
      "    6 | 00m00s |   -3.06796 |    0.5836 |   -1.6515 | \n",
      "    7 | 00m00s |   -3.74537 |   -0.2497 |   -1.9191 | \n",
      "    8 | 00m00s |   -4.22595 |    1.5671 |    1.3305 | \n",
      "    9 | 00m00s |   -4.67767 |    1.8547 |    1.1126 | \n",
      "   10 | 00m00s |   -2.40792 |   -0.4662 |    1.4800 | \n",
      "\u001b[31mBayesian Optimization\u001b[0m\n",
      "\u001b[94m-----------------------------------------------------\u001b[0m\n",
      " Step |   Time |      Value |         a |         b | \n",
      "   11 | 00m01s |   -4.13926 |   -2.0000 |   -0.3732 | \n",
      "   12 | 00m01s |   -8.00000 |   -2.0000 |    2.0000 | \n",
      "   13 | 00m01s |   -8.00000 |    2.0000 |   -2.0000 | \n",
      "   14 | 00m02s | \u001b[35m  -0.15655\u001b[0m | \u001b[32m  -0.0122\u001b[0m | \u001b[32m  -0.3955\u001b[0m | \n",
      "   15 | 00m01s |   -0.16020 |   -0.2841 |    0.2820 | \n",
      "   16 | 00m02s |   -8.00000 |   -2.0000 |   -2.0000 | \n",
      "   17 | 00m03s |   -0.33076 |    0.4491 |   -0.3593 | \n",
      "   18 | 00m02s | \u001b[35m  -0.00197\u001b[0m | \u001b[32m   0.0390\u001b[0m | \u001b[32m   0.0212\u001b[0m | \n",
      "   19 | 00m02s |   -0.19107 |    0.0011 |    0.4371 | \n",
      "   20 | 00m02s |   -0.16369 |   -0.3676 |   -0.1690 | \n",
      "   21 | 00m03s |   -0.02157 |   -0.1460 |   -0.0161 | \n",
      "   22 | 00m04s |   -0.04260 |    0.1712 |   -0.1153 | \n",
      "   23 | 00m05s |   -0.01183 |   -0.0200 |   -0.1069 | \n",
      "   24 | 00m06s |   -0.01543 |   -0.0426 |    0.1167 | \n",
      "   25 | 00m05s | \u001b[35m  -0.00081\u001b[0m | \u001b[32m  -0.0284\u001b[0m | \u001b[32m   0.0002\u001b[0m | \n",
      "   26 | 00m09s |   -0.00193 |    0.0277 |   -0.0340 | \n",
      "   27 | 00m11s | \u001b[35m  -0.00017\u001b[0m | \u001b[32m   0.0022\u001b[0m | \u001b[32m   0.0130\u001b[0m | \n",
      "   28 | 00m13s | \u001b[35m  -0.00015\u001b[0m | \u001b[32m  -0.0061\u001b[0m | \u001b[32m  -0.0104\u001b[0m | \n",
      "   29 | 00m14s | \u001b[35m  -0.00005\u001b[0m | \u001b[32m   0.0070\u001b[0m | \u001b[32m  -0.0010\u001b[0m | \n",
      "   30 | 00m13s | \u001b[35m  -0.00002\u001b[0m | \u001b[32m   0.0001\u001b[0m | \u001b[32m  -0.0046\u001b[0m | \n"
     ]
    }
   ],
   "source": [
    "sampleBO_0.maximize(init_points=10, n_iter=20)"
   ]
  },
  {
   "cell_type": "code",
   "execution_count": 60,
   "metadata": {},
   "outputs": [],
   "source": [
    "colors = sns.cubehelix_palette(30, start=1.2, rot=.01)"
   ]
  },
  {
   "cell_type": "code",
   "execution_count": 90,
   "metadata": {},
   "outputs": [
    {
     "data": {
      "image/png": "[encoded data removed]",
      "text/plain": [
       "<matplotlib.figure.Figure at 0x1bd017f0>"
      ]
     },
     "metadata": {},
     "output_type": "display_data"
    },
    {
     "data": {
      "image/png": "[encoded data removed]",
      "text/plain": [
       "<matplotlib.figure.Figure at 0x1aa3cd68>"
      ]
     },
     "metadata": {},
     "output_type": "display_data"
    }
   ],
   "source": [
    "colors = sns.cubehelix_palette(30, start=1.5, rot=.5)\n",
    "a_arr = [x[\"a\"] for x in sampleBO_0.res[\"all\"][\"params\"]]\n",
    "b_arr = [x[\"b\"] * 10 for x in sampleBO_0.res[\"all\"][\"params\"]]\n",
    "\n",
    "plt.scatter(a_arr, b_arr, color=colors, s=100)\n",
    "plt.show()\n",
    "\n",
    "v_arr = sampleBO_0.res[\"all\"]['values']\n",
    "plt.plot(np.arange(len(v_arr)), v_arr)\n",
    "plt.show()"
   ]
  },
  {
   "cell_type": "markdown",
   "metadata": {},
   "source": [
    "### range 1"
   ]
  },
  {
   "cell_type": "code",
   "execution_count": 85,
   "metadata": {
    "scrolled": false
   },
   "outputs": [
    {
     "name": "stdout",
     "output_type": "stream",
     "text": [
      "\u001b[31mInitialization\u001b[0m\n",
      "\u001b[94m-----------------------------------------------------\u001b[0m\n",
      " Step |   Time |      Value |         a |         b | \n",
      "    1 | 00m00s | \u001b[35m  -0.05174\u001b[0m | \u001b[32m   0.1953\u001b[0m | \u001b[32m   0.1167\u001b[0m | \n",
      "    2 | 00m00s |   -0.74104 |    0.8608 |    0.0116 | \n",
      "    3 | 00m00s |   -0.16971 |    0.4111 |    0.0272 | \n",
      "    4 | 00m00s |   -0.06121 |    0.1795 |    0.1702 | \n",
      "    5 | 00m00s |   -0.12270 |   -0.3054 |   -0.1716 | \n",
      "    6 | 00m00s |   -0.36784 |    0.5836 |   -0.1651 | \n",
      "    7 | 00m00s |   -0.09916 |   -0.2497 |   -0.1919 | \n",
      "    8 | 00m00s |   -2.47348 |    1.5671 |    0.1330 | \n",
      "    9 | 00m00s |   -3.45211 |    1.8547 |    0.1113 | \n",
      "   10 | 00m00s |   -0.23928 |   -0.4662 |    0.1480 | \n",
      "\u001b[31mBayesian Optimization\u001b[0m\n",
      "\u001b[94m-----------------------------------------------------\u001b[0m\n",
      " Step |   Time |      Value |         a |         b | \n",
      "   11 | 00m01s |   -4.04000 |   -2.0000 |   -0.2000 | \n",
      "   12 | 00m03s | \u001b[35m  -0.03491\u001b[0m | \u001b[32m  -0.1396\u001b[0m | \u001b[32m   0.1242\u001b[0m | \n",
      "   13 | 00m04s |   -0.06053 |    0.1433 |   -0.2000 | \n",
      "   14 | 00m05s | \u001b[35m  -0.00214\u001b[0m | \u001b[32m  -0.0241\u001b[0m | \u001b[32m  -0.0395\u001b[0m | \n",
      "   15 | 00m06s |   -0.00453 |    0.0251 |    0.0625 | \n",
      "   16 | 00m05s |   -0.00609 |    0.0702 |   -0.0340 | \n",
      "   17 | 00m08s | \u001b[35m  -0.00148\u001b[0m | \u001b[32m  -0.0350\u001b[0m | \u001b[32m   0.0161\u001b[0m | \n",
      "   18 | 00m12s | \u001b[35m  -0.00012\u001b[0m | \u001b[32m   0.0110\u001b[0m | \u001b[32m  -0.0003\u001b[0m | \n",
      "   19 | 00m11s | \u001b[35m  -0.00004\u001b[0m | \u001b[32m  -0.0058\u001b[0m | \u001b[32m  -0.0025\u001b[0m | \n",
      "   20 | 00m10s |   -0.00004 |    0.0061 |   -0.0028 | \n",
      "   21 | 00m10s | \u001b[35m  -0.00000\u001b[0m | \u001b[32m  -0.0000\u001b[0m | \u001b[32m  -0.0001\u001b[0m | \n",
      "   22 | 00m10s |   -0.00003 |   -0.0054 |    0.0024 | \n",
      "   23 | 00m10s |   -0.00061 |   -0.0238 |    0.0070 | \n",
      "   24 | 00m11s |   -0.00000 |   -0.0011 |    0.0015 | \n",
      "   25 | 00m10s |   -0.00004 |    0.0047 |   -0.0046 | \n",
      "   26 | 00m11s |   -0.00003 |   -0.0001 |   -0.0054 | \n",
      "   27 | 00m10s |   -0.00008 |    0.0044 |   -0.0075 | \n",
      "   28 | 00m11s |   -0.00100 |   -0.0302 |   -0.0094 | \n",
      "   29 | 00m11s |   -0.00015 |   -0.0091 |    0.0079 | \n",
      "   30 | 00m11s |   -0.00139 |    0.0210 |   -0.0307 | \n"
     ]
    }
   ],
   "source": [
    "sampleBO_1 = BayesianOptimization(sample_function, {\"a\": (-2, 2), \"b\": (-.2, .2)}, random_state=0)\n",
    "\n",
    "sampleBO_1.maximize(init_points=10, n_iter=20)"
   ]
  },
  {
   "cell_type": "code",
   "execution_count": 88,
   "metadata": {},
   "outputs": [
    {
     "data": {
      "image/png": "[encoded data removed]",
      "text/plain": [
       "<matplotlib.figure.Figure at 0x1a996b00>"
      ]
     },
     "metadata": {},
     "output_type": "display_data"
    },
    {
     "data": {
      "image/png": "[encoded data removed]",
      "text/plain": [
       "<matplotlib.figure.Figure at 0x1bd01eb8>"
      ]
     },
     "metadata": {},
     "output_type": "display_data"
    }
   ],
   "source": [
    "colors = sns.cubehelix_palette(30, start=1.5, rot=.5)\n",
    "a_arr = [x[\"a\"] for x in sampleBO_1.res[\"all\"][\"params\"]]\n",
    "b_arr = [x[\"b\"] * 10 for x in sampleBO_1.res[\"all\"][\"params\"]]\n",
    "\n",
    "plt.scatter(a_arr, b_arr, color=colors, s=100)\n",
    "plt.show()\n",
    "\n",
    "v_arr = sampleBO_1.res[\"all\"]['values']\n",
    "plt.plot(np.arange(len(v_arr)), v_arr)\n",
    "plt.show()"
   ]
  },
  {
   "cell_type": "code",
   "execution_count": 91,
   "metadata": {},
   "outputs": [
    {
     "name": "stdout",
     "output_type": "stream",
     "text": [
      "\u001b[31mInitialization\u001b[0m\n",
      "\u001b[94m-----------------------------------------------------\u001b[0m\n",
      " Step |   Time |      Value |         a |         b | \n",
      "    1 | 00m00s | \u001b[35m-136.20372\u001b[0m | \u001b[32m   0.1953\u001b[0m | \u001b[32m   1.1669\u001b[0m | \n",
      "    2 | 00m00s | \u001b[35m  -2.07677\u001b[0m | \u001b[32m   0.8608\u001b[0m | \u001b[32m   0.1156\u001b[0m | \n",
      "    3 | 00m00s |   -7.57706 |    0.4111 |    0.2722 | \n",
      "    4 | 00m00s | -289.84423 |    0.1795 |    1.7024 | \n",
      "    5 | 00m00s | -294.50936 |   -0.3054 |   -1.7159 | \n",
      "    6 | 00m00s | -273.08011 |    0.5836 |   -1.6515 | \n",
      "    7 | 00m00s | -368.36694 |   -0.2497 |   -1.9191 | \n",
      "    8 | 00m00s | -179.47332 |    1.5671 |    1.3305 | \n",
      "    9 | 00m00s | -127.23362 |    1.8547 |    1.1126 | \n",
      "   10 | 00m00s | -219.27176 |   -0.4662 |    1.4800 | \n",
      "\u001b[31mBayesian Optimization\u001b[0m\n",
      "\u001b[94m-----------------------------------------------------\u001b[0m\n",
      " Step |   Time |      Value |         a |         b | \n",
      "   11 | 00m01s |  -14.49175 |   -2.0000 |   -0.3239 | \n",
      "   12 | 00m01s | \u001b[35m  -0.71421\u001b[0m | \u001b[32m   0.7747\u001b[0m | \u001b[32m   0.0338\u001b[0m | \n",
      "   13 | 00m01s | \u001b[35m  -0.70405\u001b[0m | \u001b[32m   0.8157\u001b[0m | \u001b[32m   0.0196\u001b[0m | \n",
      "   14 | 00m01s |   -0.74347 |    0.7999 |    0.0322 | \n",
      "   15 | 00m02s | \u001b[35m  -0.56947\u001b[0m | \u001b[32m   0.7546\u001b[0m | \u001b[32m   0.0003\u001b[0m | \n",
      "   16 | 00m03s | \u001b[35m  -0.52619\u001b[0m | \u001b[32m   0.7253\u001b[0m | \u001b[32m  -0.0008\u001b[0m | \n",
      "   17 | 00m03s | \u001b[35m  -0.45282\u001b[0m | \u001b[32m   0.6722\u001b[0m | \u001b[32m   0.0030\u001b[0m | \n",
      "   18 | 00m03s | \u001b[35m  -0.40202\u001b[0m | \u001b[32m   0.6333\u001b[0m | \u001b[32m   0.0031\u001b[0m | \n",
      "   19 | 00m03s | \u001b[35m  -0.35057\u001b[0m | \u001b[32m   0.5921\u001b[0m | \u001b[32m   0.0000\u001b[0m | \n",
      "   20 | 00m05s | \u001b[35m  -0.30468\u001b[0m | \u001b[32m   0.5510\u001b[0m | \u001b[32m  -0.0033\u001b[0m | \n",
      "   21 | 00m05s | \u001b[35m  -0.26476\u001b[0m | \u001b[32m   0.5098\u001b[0m | \u001b[32m  -0.0070\u001b[0m | \n",
      "   22 | 00m04s | \u001b[35m  -0.23369\u001b[0m | \u001b[32m   0.4696\u001b[0m | \u001b[32m  -0.0115\u001b[0m | \n",
      "   23 | 00m05s | \u001b[35m  -0.19690\u001b[0m | \u001b[32m   0.4401\u001b[0m | \u001b[32m  -0.0057\u001b[0m | \n",
      "   24 | 00m05s | \u001b[35m  -0.15351\u001b[0m | \u001b[32m   0.3895\u001b[0m | \u001b[32m  -0.0042\u001b[0m | \n",
      "   25 | 00m05s | \u001b[35m  -0.12670\u001b[0m | \u001b[32m   0.3497\u001b[0m | \u001b[32m  -0.0067\u001b[0m | \n",
      "   26 | 00m04s | \u001b[35m  -0.09720\u001b[0m | \u001b[32m   0.3035\u001b[0m | \u001b[32m  -0.0072\u001b[0m | \n",
      "   27 | 00m05s | \u001b[35m  -0.07597\u001b[0m | \u001b[32m   0.2505\u001b[0m | \u001b[32m  -0.0115\u001b[0m | \n",
      "   28 | 00m05s | \u001b[35m  -0.05535\u001b[0m | \u001b[32m   0.2336\u001b[0m | \u001b[32m  -0.0028\u001b[0m | \n",
      "   29 | 00m05s | \u001b[35m  -0.03777\u001b[0m | \u001b[32m   0.1937\u001b[0m | \u001b[32m  -0.0016\u001b[0m | \n",
      "   30 | 00m05s | \u001b[35m  -0.02512\u001b[0m | \u001b[32m   0.1571\u001b[0m | \u001b[32m  -0.0021\u001b[0m | \n"
     ]
    }
   ],
   "source": [
    "def sample_function(a, b):\n",
    "    return - a * a - 100 * b * b\n",
    "\n",
    "sampleBO_2 = BayesianOptimization(sample_function, {\"a\": (-2, 2), \"b\": (-2, 2)}, random_state=0)\n",
    "sampleBO_2.maximize(init_points=10, n_iter=20)"
   ]
  },
  {
   "cell_type": "code",
   "execution_count": 92,
   "metadata": {},
   "outputs": [
    {
     "data": {
      "image/png": "[encoded data removed]",
      "text/plain": [
       "<matplotlib.figure.Figure at 0x1be490b8>"
      ]
     },
     "metadata": {},
     "output_type": "display_data"
    },
    {
     "data": {
      "image/png": "[encoded data removed]",
      "text/plain": [
       "<matplotlib.figure.Figure at 0x1a4201d0>"
      ]
     },
     "metadata": {},
     "output_type": "display_data"
    }
   ],
   "source": [
    "colors = sns.cubehelix_palette(30, start=1.5, rot=.5)\n",
    "a_arr = [x[\"a\"] for x in sampleBO_2.res[\"all\"][\"params\"]]\n",
    "b_arr = [x[\"b\"] * 10 for x in sampleBO_2.res[\"all\"][\"params\"]]\n",
    "\n",
    "plt.scatter(a_arr, b_arr, color=colors, s=100)\n",
    "plt.show()\n",
    "\n",
    "v_arr = sampleBO_2.res[\"all\"]['values']\n",
    "plt.plot(np.arange(len(v_arr)), v_arr)\n",
    "plt.show()"
   ]
  }
 ],
 "metadata": {
  "anaconda-cloud": {},
  "kernelspec": {
   "display_name": "Python [conda env:python3]",
   "language": "python",
   "name": "conda-env-python3-py"
  },
  "language_info": {
   "codemirror_mode": {
    "name": "ipython",
    "version": 3
   },
   "file_extension": ".py",
   "mimetype": "text/x-python",
   "name": "python",
   "nbconvert_exporter": "python",
   "pygments_lexer": "ipython3",
   "version": "3.6.1"
  },
  "toc": {
   "nav_menu": {
    "height": "49px",
    "width": "252px"
   },
   "navigate_menu": true,
   "number_sections": true,
   "sideBar": true,
   "threshold": 4,
   "toc_cell": false,
   "toc_section_display": "block",
   "toc_window_display": true
  }
 },
 "nbformat": 4,
 "nbformat_minor": 2
}
