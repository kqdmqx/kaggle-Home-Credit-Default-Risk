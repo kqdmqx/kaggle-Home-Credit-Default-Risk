{
 "cells": [
  {
   "cell_type": "markdown",
   "metadata": {},
   "source": [
    "## functions"
   ]
  },
  {
   "cell_type": "code",
   "execution_count": 1,
   "metadata": {},
   "outputs": [],
   "source": [
    "import pandas as pd\n",
    "import numpy as np\n",
    "import os\n",
    "import gc\n",
    "\n",
    "import addict\n",
    "import lightgbm as lgb\n",
    "\n",
    "def save_dataframe(path, dataframe):\n",
    "    np.save(path + \".data\", dataframe.values)\n",
    "    np.save(path + \".header\", dataframe.columns)\n",
    "\n",
    "\n",
    "def load_dataframe(path):\n",
    "    data = np.load(path + \".data.npy\")\n",
    "    header = np.load(path + \".header.npy\")\n",
    "    return pd.DataFrame(data=data, columns=header)\n",
    "\n",
    "\n",
    "def save_dataframe32(path, dataframe, keep=[]):\n",
    "    col64 = [col_ for col_ in dataframe.columns if col_ in keep]\n",
    "    col32 = [col_ for col_ in dataframe.columns if col_ not in keep]\n",
    "    dataframe64 = dataframe[col64]\n",
    "    dataframe32 = dataframe[col32]\n",
    "    np.save(path + \".data64\", dataframe64.values)\n",
    "    np.save(path + \".header64\", col64)\n",
    "    np.save(path + \".data32\", dataframe32.values.astype(np.float32))\n",
    "    np.save(path + \".header32\", col32)\n",
    "\n",
    "\n",
    "def load_dataframe32(path, nrows=None):\n",
    "    path_data32 = path + \".data32.npy\"\n",
    "    path_header32 = path + \".header32.npy\"\n",
    "    path_data64 = path + \".data64.npy\"\n",
    "    path_header64 = path + \".header64.npy\"\n",
    "    result = pd.DataFrame()\n",
    "    if os.path.exists(path_data32):\n",
    "        data32 = np.load(path_data32)\n",
    "        header32 = np.load(path_header32)\n",
    "        df32 = pd.DataFrame(data=data32, columns=header32)\n",
    "        result = pd.concat([result, df32], axis=1)\n",
    "    if os.path.exists(path_data64):\n",
    "        data64 = np.load(path_data64)\n",
    "        header64 = np.load(path_header64)\n",
    "        df64 = pd.DataFrame(data=data64, columns=header64)\n",
    "        result = pd.concat([result, df64], axis=1)\n",
    "    if nrows and nrows > 0:\n",
    "        return result.head(nrows)\n",
    "    return result"
   ]
  },
  {
   "cell_type": "markdown",
   "metadata": {},
   "source": [
    "## construct all data"
   ]
  },
  {
   "cell_type": "code",
   "execution_count": 26,
   "metadata": {},
   "outputs": [],
   "source": [
    "data = load_dataframe32(\"./bindata/data_013\")\n",
    "data[\"SK_ID_CURR\"] = data.SK_ID_CURR.astype(\"int\")\n",
    "\n",
    "test = load_dataframe32(\"./bindata/test_013\")\n",
    "test[\"SK_ID_CURR\"] = test.SK_ID_CURR.astype(\"int\")\n",
    "\n",
    "y = load_dataframe32(\"./bindata/y_013\")\n",
    "y[\"SK_ID_CURR\"] = y.SK_ID_CURR.astype(\"int\")\n",
    "\n",
    "features_selected = list(np.load(\"./models/features-selected-0201.npy\"))\n",
    "features_part2 = features_selected[289:781]\n",
    "\n",
    "for source_name in (\n",
    "    \"buro_wide_013\",\n",
    "    \"buro_full_wide_013\",\n",
    "    \"pos_bal_wide_013\",\n",
    "    \"cc_bal_wide_013\",\n",
    "    \"buro_bal_timestep1_013\",\n",
    "    \"buro_bal_timestep2_013\",\n",
    "    \"pos_bal_timestep1_013\",\n",
    "    \"pos_bal_timestep2_013\",\n",
    "    \"cc_bal_timestep1_013\",\n",
    "    \"cc_bal_timestep2_013\"\n",
    "):\n",
    "    target_name = \"./bindata/\" + source_name + \"_nmf5\"\n",
    "    nmf_data = load_dataframe32(target_name)\n",
    "    nmf_data[\"SK_ID_CURR\"] = nmf_data.SK_ID_CURR.astype(\"int\")\n",
    "    nmf_data.columns = [\"{}_{}\".format(source_name, col_) if col_ != \"SK_ID_CURR\" else col_ for col_ in nmf_data.columns]\n",
    "    data = data.merge(right=nmf_data, how=\"left\", on=\"SK_ID_CURR\")\n",
    "    test = test.merge(right=nmf_data, how=\"left\", on=\"SK_ID_CURR\")\n",
    "    del nmf_data\n",
    "    gc.collect()\n",
    "    \n",
    "data = data[features_part2].copy()\n",
    "test = test[features_part2].copy()"
   ]
  },
  {
   "cell_type": "markdown",
   "metadata": {},
   "source": [
    "## split data"
   ]
  },
  {
   "cell_type": "code",
   "execution_count": 35,
   "metadata": {},
   "outputs": [
    {
     "name": "stdout",
     "output_type": "stream",
     "text": [
      "./neptune-features/train_idx_0.npy ./neptune-features/valid_idx_0.npy\n",
      "(246008,) (61503,)\n"
     ]
    },
    {
     "name": "stderr",
     "output_type": "stream",
     "text": [
      "C:\\Anaconda2\\envs\\python3\\lib\\site-packages\\ipykernel\\__main__.py:34: FutureWarning: \n",
      "Passing list-likes to .loc or [] with any missing label will raise\n",
      "KeyError in the future, you can use .reindex() as an alternative.\n",
      "\n",
      "See the documentation here:\n",
      "https://pandas.pydata.org/pandas-docs/stable/indexing.html#deprecate-loc-reindex-listlike\n",
      "C:\\Anaconda2\\envs\\python3\\lib\\site-packages\\ipykernel\\__main__.py:35: FutureWarning: \n",
      "Passing list-likes to .loc or [] with any missing label will raise\n",
      "KeyError in the future, you can use .reindex() as an alternative.\n",
      "\n",
      "See the documentation here:\n",
      "https://pandas.pydata.org/pandas-docs/stable/indexing.html#deprecate-loc-reindex-listlike\n"
     ]
    },
    {
     "name": "stdout",
     "output_type": "stream",
     "text": [
      "./neptune-features/train_idx_1.npy ./neptune-features/valid_idx_1.npy\n",
      "(246009,) (61502,)\n",
      "./neptune-features/train_idx_2.npy ./neptune-features/valid_idx_2.npy\n",
      "(246009,) (61502,)\n",
      "./neptune-features/train_idx_3.npy ./neptune-features/valid_idx_3.npy\n",
      "(246009,) (61502,)\n",
      "./neptune-features/train_idx_4.npy ./neptune-features/valid_idx_4.npy\n",
      "(246009,) (61502,)\n"
     ]
    }
   ],
   "source": [
    "# nrows = 1000  \n",
    "nrows = None\n",
    "\n",
    "# features = list(np.load('./neptune-features/features_246008_1174_0.npy'))\n",
    "np.save(\"./nmf-features/features-part2.npy\", features_part2)\n",
    "\n",
    "auc_valid_stack = []\n",
    "pred_valid_stack = []\n",
    "pred_test_stack = []\n",
    "\n",
    "run = 0\n",
    "for i in range(5):\n",
    "    train_idx_fn = \"./neptune-features/train_idx_{}.npy\".format(i)\n",
    "    valid_idx_fn = \"./neptune-features/valid_idx_{}.npy\".format(i)\n",
    "\n",
    "    train_offset, valid_offset, test_offset = i * 4, i * 4 + 1, i * 4 + 3\n",
    "    \n",
    "    train_data_fn = \"./nmf-features/nmf_246009_1174_{}\".format(train_offset)\n",
    "    valid_data_fn = \"./nmf-features/nmf_61502_1174_{}\".format(valid_offset)\n",
    "    test_data_fn = \"./nmf-features/nmf_48744_1174_{}\".format(test_offset)\n",
    "    \n",
    "    if i == 0:\n",
    "        train_data_fn = train_data_fn.replace(\"246009\", \"246008\")\n",
    "        valid_data_fn = valid_data_fn.replace(\"61502\", \"61503\")\n",
    "    \n",
    "    gc.collect()\n",
    "\n",
    "    train_idx = np.load(train_idx_fn)\n",
    "    valid_idx = np.load(valid_idx_fn)\n",
    "    \n",
    "    print(train_idx_fn, valid_idx_fn)\n",
    "    print(train_idx.shape, valid_idx.shape)\n",
    "    \n",
    "    save_dataframe32(train_data_fn, data.loc[train_idx])\n",
    "    save_dataframe32(valid_data_fn, data.loc[valid_idx])\n",
    "    save_dataframe32(test_data_fn, test)"
   ]
  }
 ],
 "metadata": {
  "anaconda-cloud": {},
  "kernelspec": {
   "display_name": "Python [conda env:python3]",
   "language": "python",
   "name": "conda-env-python3-py"
  },
  "language_info": {
   "codemirror_mode": {
    "name": "ipython",
    "version": 3
   },
   "file_extension": ".py",
   "mimetype": "text/x-python",
   "name": "python",
   "nbconvert_exporter": "python",
   "pygments_lexer": "ipython3",
   "version": "3.6.6"
  },
  "toc": {
   "nav_menu": {
    "height": "87px",
    "width": "252px"
   },
   "navigate_menu": true,
   "number_sections": true,
   "sideBar": true,
   "threshold": 4,
   "toc_cell": false,
   "toc_section_display": "block",
   "toc_window_display": true
  }
 },
 "nbformat": 4,
 "nbformat_minor": 2
}
